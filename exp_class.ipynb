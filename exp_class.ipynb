{
 "cells": [
  {
   "cell_type": "markdown",
   "id": "c087c301",
   "metadata": {},
   "source": [
    "# Supervised Experiment (Classification)\n",
    "\n",
    "- RandomForestClassifier\n",
    "- DecisionTreeClassifier\n",
    "- ForestBasedTree (FBT)\n",
    "- PrevPaperClassifier (as a baseline from the paper)\n",
    "\n",
    "Results will be saved to CSV, and we will display the “mean ± std” summary in Markdown form.\n"
   ]
  },
  {
   "cell_type": "code",
   "execution_count": null,
   "id": "c9337acc",
   "metadata": {},
   "outputs": [],
   "source": [
    "from sklearn.ensemble import RandomForestClassifier\n",
    "from sklearn.tree import DecisionTreeClassifier\n",
    "\n",
    "import pandas as pd\n",
    "\n",
    "# Our refactored Experiment, FitClass, and utility functions\n",
    "from src.experiments.supervised import Experiment, FitClass, average_class_metrics\n",
    "\n",
    "# FBT and paper‐baseline\n",
    "from src.xtrees.model.fbt import ForestBasedTree\n",
    "from src.experiments.exact_paper import PrevPaperClassifier, fit_paper_fbt\n",
    "\n",
    "SEED = 1\n"
   ]
  },
  {
   "cell_type": "markdown",
   "id": "cca3d1b3",
   "metadata": {},
   "source": [
    "### 1.1 Define Parameters & Models\n"
   ]
  },
  {
   "cell_type": "code",
   "execution_count": null,
   "id": "c255356e",
   "metadata": {},
   "outputs": [],
   "source": [
    "# Cell 2: Define `params` and model instances\n",
    "\n",
    "params = {\n",
    "    \"meta-params\": {\n",
    "        \"is_classification\": True,\n",
    "        \"random_state\": SEED,\n",
    "        \"use_cross_validation\": True,\n",
    "        \"cv_folds\": 3,\n",
    "    },\n",
    "    \"data-params\": [],\n",
    "    \"model-params\": {},\n",
    "}\n",
    "\n",
    "rf_class    = RandomForestClassifier(\n",
    "    random_state=params[\"meta-params\"][\"random_state\"],\n",
    "    n_estimators=10,\n",
    "    max_depth=5,\n",
    ")\n",
    "dt_class    = DecisionTreeClassifier(\n",
    "    random_state=params[\"meta-params\"][\"random_state\"]\n",
    ")\n",
    "fbt_class   = ForestBasedTree(random_state=params[\"meta-params\"][\"random_state\"], verbose=False)\n",
    "paper_class = PrevPaperClassifier()\n",
    "\n",
    "fitclass = FitClass(SEED)\n",
    "\n",
    "model_instances = [rf_class, dt_class, fbt_class, paper_class]\n",
    "fit_functions  = [\n",
    "    fitclass.fit_rf_classifier,\n",
    "    fitclass.tune_dt_classifier,\n",
    "    fitclass.fit_fbt_classifier,\n",
    "    fit_paper_fbt,\n",
    "]\n"
   ]
  },
  {
   "cell_type": "markdown",
   "id": "b27cc3d9",
   "metadata": {},
   "source": [
    "### 1.2 Run the Experiment & Save Results\n"
   ]
  },
  {
   "cell_type": "code",
   "execution_count": null,
   "id": "80078b06",
   "metadata": {},
   "outputs": [],
   "source": [
    "\n",
    "exp = Experiment(params)\n",
    "\n",
    "exp.perform_experiments(\n",
    "    num_datasets=1,\n",
    "    overall_size=\"medium\",\n",
    "    information=\"mixed\",\n",
    "    prediction=\"mixed\",\n",
    "    model_instances=model_instances,\n",
    "    fit_functions=fit_functions,\n",
    ")\n",
    "\n",
    "results_class_df = exp.assemble_results_dataframe()\n",
    "results_class_df.to_csv(f\"data/results/class_exp{SEED}.csv\", index=False)\n"
   ]
  },
  {
   "cell_type": "markdown",
   "id": "ca484fd8",
   "metadata": {},
   "source": [
    "### 1.3 Display Averaged Classification Metrics\n"
   ]
  },
  {
   "cell_type": "code",
   "execution_count": null,
   "id": "c5a12083",
   "metadata": {},
   "outputs": [],
   "source": [
    "avg_class_df = average_class_metrics(results_class_df)\n",
    "print(avg_class_df.to_markdown(index=False))\n"
   ]
  },
  {
   "cell_type": "code",
   "execution_count": null,
   "id": "df006713",
   "metadata": {},
   "outputs": [],
   "source": []
  }
 ],
 "metadata": {
  "kernelspec": {
   "display_name": "venv",
   "language": "python",
   "name": "python3"
  },
  "language_info": {
   "codemirror_mode": {
    "name": "ipython",
    "version": 3
   },
   "file_extension": ".py",
   "mimetype": "text/x-python",
   "name": "python",
   "nbconvert_exporter": "python",
   "pygments_lexer": "ipython3",
   "version": "3.10.12"
  }
 },
 "nbformat": 4,
 "nbformat_minor": 5
}
