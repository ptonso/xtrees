{
 "cells": [
  {
   "cell_type": "markdown",
   "metadata": {},
   "source": [
    "# Experiment everything"
   ]
  },
  {
   "cell_type": "markdown",
   "metadata": {},
   "source": [
    "# Setup"
   ]
  },
  {
   "cell_type": "markdown",
   "metadata": {},
   "source": [
    "## Importings"
   ]
  },
  {
   "cell_type": "code",
   "execution_count": 1,
   "metadata": {},
   "outputs": [],
   "source": [
    "from src.xtrees.VizTree import *\n",
    "from src.xtrees.TreePlot import *\n",
    "from src.xtrees.TreeDash import *\n",
    "from src.xtrees.ForestBasedTree import *\n",
    "\n",
    "import pandas as pd\n",
    "\n",
    "from jupyter_dash import JupyterDash\n",
    "\n",
    "from sklearn.ensemble import RandomForestClassifier, RandomForestRegressor\n",
    "from sklearn.tree import DecisionTreeClassifier, DecisionTreeRegressor\n",
    "\n",
    "from sklearn.datasets import load_iris, load_breast_cancer, fetch_california_housing\n",
    "from sklearn.model_selection import train_test_split\n",
    "from sklearn.metrics import accuracy_score, mean_squared_error\n",
    "\n",
    "seed = 42"
   ]
  },
  {
   "cell_type": "markdown",
   "metadata": {},
   "source": [
    "## Data loading"
   ]
  },
  {
   "cell_type": "code",
   "execution_count": 2,
   "metadata": {},
   "outputs": [],
   "source": [
    "iris_data = load_iris()\n",
    "# data = load_breast_cancer()\n",
    "iris_X = iris_data.data\n",
    "iris_y = iris_data.target\n",
    "\n",
    "iris_class_names = iris_data.target_names\n",
    "iris_feature_names = iris_data.feature_names\n",
    "iris_X = pd.DataFrame(iris_X, columns=iris_feature_names)\n",
    "\n",
    "iris_feature_types = pd.DataFrame(iris_data, columns=iris_feature_names).dtypes\n",
    "\n",
    "iris_X_train, iris_X_test, iris_y_train, iris_y_test = train_test_split(iris_X, iris_y, test_size=0.3, random_state=seed)\n"
   ]
  },
  {
   "cell_type": "code",
   "execution_count": 3,
   "metadata": {},
   "outputs": [],
   "source": [
    "cancer_data = load_breast_cancer()\n",
    "cancer_X = cancer_data.data\n",
    "cancer_y = cancer_data.target\n",
    "\n",
    "cancer_class_names = cancer_data.target_names\n",
    "cancer_feature_names = cancer_data.feature_names\n",
    "cancer_X = pd.DataFrame(cancer_X, columns=cancer_feature_names)\n",
    "\n",
    "cancer_feature_types = pd.DataFrame(cancer_X, columns=cancer_feature_names).dtypes\n",
    "\n",
    "cancer_X_train, cancer_X_test, cancer_y_train, cancer_y_test = train_test_split(cancer_X, cancer_y, test_size=0.3, random_state=seed)"
   ]
  },
  {
   "cell_type": "code",
   "execution_count": 4,
   "metadata": {},
   "outputs": [],
   "source": [
    "\n",
    "calif_data = fetch_california_housing()\n",
    "calif_X = calif_data.data\n",
    "calif_y = calif_data.target\n",
    "\n",
    "calif_feature_names = calif_data.feature_names\n",
    "calif_X = pd.DataFrame(calif_X, columns=calif_feature_names)\n",
    "\n",
    "calif_feature_types = pd.DataFrame(calif_X, columns=calif_feature_names).dtypes\n",
    "\n",
    "calif_X_train, calif_X_test, calif_y_train, calif_y_test = train_test_split(calif_X, calif_y, test_size=0.2, random_state=seed)\n"
   ]
  },
  {
   "cell_type": "markdown",
   "metadata": {},
   "source": [
    "## Model traning"
   ]
  },
  {
   "cell_type": "code",
   "execution_count": 5,
   "metadata": {},
   "outputs": [
    {
     "name": "stdout",
     "output_type": "stream",
     "text": [
      "   0_upper  0_lower  1_upper  1_lower  2_upper  2_lower  3_upper  3_lower  \\\n",
      "0     5.45     -inf      inf     -inf     2.50     -inf      0.7     -inf   \n",
      "1     5.45     -inf      inf     -inf     4.45     2.50      inf      0.8   \n",
      "2     5.75     5.45     2.95     -inf     4.30     2.50      inf      0.8   \n",
      "3     5.45     -inf      inf     -inf     4.85     4.45      inf      0.8   \n",
      "4     5.45     -inf     2.90     -inf     5.20     4.85      1.7      0.8   \n",
      "\n",
      "   number_of_samples  branch_probability                 probas    0       1  \\\n",
      "0           20.20610             0.02989        [1.0, 0.0, 0.0]  1.0  0.0000   \n",
      "1            7.42538             0.05753        [0.0, 1.0, 0.0]  0.0  1.0000   \n",
      "2            9.82285             0.00785        [0.0, 1.0, 0.0]  0.0  1.0000   \n",
      "3            4.96565             0.02531    [0.0, 0.875, 0.125]  0.0  0.8750   \n",
      "4            3.13017             0.00526  [0.0, 0.8125, 0.1875]  0.0  0.8125   \n",
      "\n",
      "        2  \n",
      "0  0.0000  \n",
      "1  0.0000  \n",
      "2  0.0000  \n",
      "3  0.1250  \n",
      "4  0.1875  \n"
     ]
    }
   ],
   "source": [
    "# rf parameters\n",
    "num_of_estimators = 20\n",
    "max_depth = 5\n",
    "min_sample_leaf = max(1, int(0.02 * len(iris_X_train)))\n",
    "\n",
    "iris_rf = RandomForestClassifier(n_estimators=num_of_estimators, max_depth=max_depth, min_samples_leaf=min_sample_leaf, random_state=seed)\n",
    "iris_rf.fit(iris_X_train, iris_y_train)\n",
    "\n",
    "minimal_forest_size=10\n",
    "max_number_of_branches=50\n",
    "exclusion_threshold=0.8\n",
    "\n",
    "iris_fbt = ForestBasedTree(random_state=seed)\n",
    "iris_fbt.fit(iris_rf, iris_X_train, iris_y_train, iris_feature_types, iris_feature_names, \n",
    "        minimal_forest_size=minimal_forest_size, amount_of_branches_threshold=max_number_of_branches, exclusion_threshold=exclusion_threshold)\n",
    "\n",
    "print(iris_fbt.cs_df.head())\n"
   ]
  },
  {
   "cell_type": "code",
   "execution_count": 6,
   "metadata": {},
   "outputs": [
    {
     "name": "stdout",
     "output_type": "stream",
     "text": [
      "   0_upper  0_lower  1_upper  1_lower  2_upper  2_lower  3_upper  3_lower  \\\n",
      "0      inf     -inf    19.36     -inf      inf     -inf      inf     -inf   \n",
      "1      inf     -inf    19.36     -inf      inf     -inf      inf     -inf   \n",
      "2      inf     -inf    19.36     -inf      inf     -inf      inf     -inf   \n",
      "3      inf     -inf    19.36     -inf      inf     -inf      inf     -inf   \n",
      "4      inf     -inf    19.36     -inf      inf     -inf      inf     -inf   \n",
      "\n",
      "   4_upper  4_lower  ...  27_lower  28_upper  28_lower  29_upper  29_lower  \\\n",
      "0      inf     -inf  ...      -inf       inf      -inf       inf      -inf   \n",
      "1      inf     -inf  ...      -inf       inf      -inf       inf      -inf   \n",
      "2      inf     -inf  ...      -inf       inf      -inf       inf      -inf   \n",
      "3      inf     -inf  ...      -inf       inf      -inf       inf      -inf   \n",
      "4      inf     -inf  ...      -inf       inf      -inf       inf      -inf   \n",
      "\n",
      "   number_of_samples  branch_probability  \\\n",
      "0           97.85811             0.01994   \n",
      "1           42.29613             0.01543   \n",
      "2           32.43965             0.00597   \n",
      "3           27.14096             0.00743   \n",
      "4           27.14096             0.00830   \n",
      "\n",
      "                                      probas         0         1  \n",
      "0                                 [0.0, 1.0]  0.000000  1.000000  \n",
      "1                                 [0.0, 1.0]  0.000000  1.000000  \n",
      "2  [0.06666666666666667, 0.9333333333333333]  0.066667  0.933333  \n",
      "3  [0.05555555555555555, 0.9444444444444444]  0.055556  0.944444  \n",
      "4  [0.19444444444444445, 0.8055555555555556]  0.194444  0.805556  \n",
      "\n",
      "[5 rows x 65 columns]\n"
     ]
    }
   ],
   "source": [
    "\n",
    "# rf parameters\n",
    "num_of_estimators = 20\n",
    "max_depth = 5\n",
    "min_sample_leaf = max(1,int(0.02*len(cancer_X_train)))\n",
    "\n",
    "cancer_rf = RandomForestClassifier(n_estimators=num_of_estimators,max_depth=max_depth,min_samples_leaf=min_sample_leaf,random_state=seed)\n",
    "cancer_rf.fit(cancer_X_train, cancer_y_train)\n",
    "\n",
    "minimal_forest_size=10\n",
    "max_number_of_branches=50\n",
    "exclusion_threshold=0.8\n",
    "\n",
    "cancer_fbt = ForestBasedTree(random_state=seed)\n",
    "cancer_fbt.fit(cancer_rf, cancer_X_train, cancer_y_train, cancer_feature_types, cancer_feature_names, \n",
    "        minimal_forest_size=minimal_forest_size, amount_of_branches_threshold=max_number_of_branches, exclusion_threshold=exclusion_threshold)\n",
    "\n",
    "\n",
    "print(cancer_fbt.cs_df.head())\n"
   ]
  },
  {
   "cell_type": "code",
   "execution_count": 7,
   "metadata": {},
   "outputs": [
    {
     "name": "stdout",
     "output_type": "stream",
     "text": [
      "   0_upper  0_lower  1_upper  1_lower  2_upper  2_lower  3_upper  3_lower  \\\n",
      "0  3.07415     -inf      inf     -inf  4.20698     -inf      inf     -inf   \n",
      "1  1.95400     -inf      inf     -inf  4.20698     -inf      inf     -inf   \n",
      "2  2.15150  1.95400      inf     -inf  4.20698     -inf      inf     -inf   \n",
      "3  3.07415  2.19195      inf     -inf  4.20698     -inf      inf     -inf   \n",
      "4  2.31775     -inf      inf     -inf      inf  4.31419      inf     -inf   \n",
      "\n",
      "   4_upper  4_lower  5_upper  5_lower  6_upper  6_lower  7_upper  7_lower  \\\n",
      "0      inf     -inf  2.44150     -inf      inf     -inf      inf     -inf   \n",
      "1      inf     -inf      inf  2.51066      inf     -inf      inf     -inf   \n",
      "2      inf     -inf      inf  2.51066      inf     -inf      inf     -inf   \n",
      "3      inf     -inf      inf  2.51066      inf     -inf      inf     -inf   \n",
      "4      inf     -inf  2.43244     -inf   35.295     -inf      inf     -inf   \n",
      "\n",
      "   number_of_samples  branch_probability  regressions  \n",
      "0          490.84034             0.01800      2.05679  \n",
      "1          550.34010             0.01399      1.27884  \n",
      "2          620.02976             0.00536      1.37149  \n",
      "3          566.09152             0.02807      1.66259  \n",
      "4          356.72307             0.02098      1.15995  \n"
     ]
    }
   ],
   "source": [
    "feature_names = calif_feature_names\n",
    "feature_types = calif_feature_types\n",
    "\n",
    "# rf parameters\n",
    "num_of_estimators = 20\n",
    "max_depth = 5\n",
    "min_sample_leaf = max(1, int(0.02 * len(calif_X_train)))\n",
    "\n",
    "calif_rf = RandomForestRegressor(n_estimators=num_of_estimators, max_depth=max_depth, \n",
    "                                 min_samples_leaf=min_sample_leaf, random_state=seed)\n",
    "calif_rf.fit(calif_X_train, calif_y_train)\n",
    "\n",
    "\n",
    "minimal_forest_size=10\n",
    "max_number_of_branches=50\n",
    "exclusion_threshold=0.8\n",
    "\n",
    "calif_fbt = ForestBasedTree(random_state=seed)\n",
    "calif_fbt.fit(calif_rf, calif_X_train, calif_y_train, feature_types=feature_types, feature_names=feature_names, \n",
    "        minimal_forest_size=minimal_forest_size, amount_of_branches_threshold=max_number_of_branches, exclusion_threshold=exclusion_threshold)\n",
    "\n",
    "print(calif_fbt.cs_df.head())"
   ]
  },
  {
   "cell_type": "code",
   "execution_count": 8,
   "metadata": {},
   "outputs": [
    {
     "name": "stdout",
     "output_type": "stream",
     "text": [
      "Accuracy: 0.95\n"
     ]
    }
   ],
   "source": [
    "X_train = cancer_X_train\n",
    "X_test = cancer_X_test\n",
    "y_train = cancer_y_train\n",
    "y_test = cancer_y_test\n",
    "X = cancer_X\n",
    "class_names = cancer_class_names\n",
    "\n",
    "cancer_dt = DecisionTreeClassifier(max_depth=4).fit(X_train, y_train)\n",
    "\n",
    "y_pred = cancer_dt.predict(X_test)\n",
    "accuracy = accuracy_score(y_test, y_pred)\n",
    "\n",
    "print(f\"Accuracy: {accuracy:.2f}\")"
   ]
  },
  {
   "cell_type": "code",
   "execution_count": 9,
   "metadata": {},
   "outputs": [
    {
     "name": "stdout",
     "output_type": "stream",
     "text": [
      "Mean Squared Error: 0.50\n"
     ]
    }
   ],
   "source": [
    "X_train = calif_X_train\n",
    "X_test = calif_X_test\n",
    "y_train = calif_y_train\n",
    "y_test = calif_y_test\n",
    "X = calif_X\n",
    "\n",
    "calif_dt = DecisionTreeRegressor(random_state=42)\n",
    "calif_dt.fit(X_train, y_train)\n",
    "\n",
    "y_pred = calif_dt.predict(X_test)\n",
    "mse = mean_squared_error(y_test, y_pred)\n",
    "\n",
    "print(f\"Mean Squared Error: {mse:.2f}\")\n"
   ]
  },
  {
   "cell_type": "markdown",
   "metadata": {},
   "source": [
    "# Model evaluation"
   ]
  },
  {
   "cell_type": "code",
   "execution_count": 10,
   "metadata": {},
   "outputs": [
    {
     "name": "stdout",
     "output_type": "stream",
     "text": [
      "sepal length (cm)    float64\n",
      "sepal width (cm)     float64\n",
      "petal length (cm)    float64\n",
      "petal width (cm)     float64\n",
      "dtype: object\n"
     ]
    }
   ],
   "source": [
    "X_test = iris_X_test\n",
    "\n",
    "print(X_test.dtypes)"
   ]
  },
  {
   "cell_type": "code",
   "execution_count": 11,
   "metadata": {},
   "outputs": [
    {
     "name": "stdout",
     "output_type": "stream",
     "text": [
      "Accuracy: 0.9778\n"
     ]
    }
   ],
   "source": [
    "X_train = iris_X_train\n",
    "X_test = iris_X_test\n",
    "y_train = iris_y_train\n",
    "y_test = iris_y_test\n",
    "X = iris_X\n",
    "class_names = iris_class_names\n",
    "\n",
    "fbt_ypred = iris_fbt.predict(X_test)\n",
    "\n",
    "accuracy = accuracy_score(y_test, fbt_ypred)\n",
    "print(f\"Accuracy: {accuracy:.4f}\")\n"
   ]
  },
  {
   "cell_type": "code",
   "execution_count": 12,
   "metadata": {},
   "outputs": [
    {
     "name": "stdout",
     "output_type": "stream",
     "text": [
      "True\n",
      "\n",
      "\n",
      "node 0\n",
      "id                  : 0\n",
      "feature             : 2\n",
      "threshold           : 4.75\n",
      "value               : [0.19839816 0.44701505 0.35458679]\n",
      "parent              : None\n",
      "is_left             : None\n",
      "left                : 1\n",
      "right               : 22\n",
      "n_train             : 0\n",
      "n_samples           : 0\n",
      "\n",
      "node 1\n",
      "id                  : 1\n",
      "feature             : 0\n",
      "threshold           : 5.45\n",
      "value               : [0.3286967  0.59428994 0.07701335]\n",
      "parent              : 0\n",
      "is_left             : True\n",
      "left                : 2\n",
      "right               : 11\n",
      "n_train             : 0\n",
      "n_samples           : 0\n",
      "\n",
      "node 2\n",
      "id                  : 2\n",
      "feature             : 2\n",
      "threshold           : 2.5\n",
      "value               : [0.36360677 0.52282263 0.1135706 ]\n",
      "parent              : 1\n",
      "is_left             : True\n",
      "left                : 3\n",
      "right               : 8\n",
      "n_train             : 0\n",
      "n_samples           : 0\n",
      "\n",
      "node 3\n",
      "id                  : 3\n",
      "feature             : 3\n",
      "threshold           : 1.75\n",
      "value               : [0.34695871 0.51706659 0.1359747 ]\n",
      "parent              : 2\n",
      "is_left             : True\n",
      "left                : 4\n",
      "right               : 7\n",
      "n_train             : 0\n",
      "n_samples           : 0\n",
      "\n",
      "node 4\n",
      "id                  : 4\n",
      "feature             : 3\n",
      "threshold           : 0.8\n",
      "value               : [0.37988281 0.59971788 0.02039931]\n",
      "parent              : 3\n",
      "is_left             : True\n",
      "left                : 5\n",
      "right               : 6\n",
      "n_train             : 0\n",
      "n_samples           : 0\n",
      "\n",
      "node 5\n",
      "id                  : 5\n",
      "feature             : None\n",
      "threshold           : None\n",
      "value               : [1. 0. 0.]\n",
      "parent              : 4\n",
      "is_left             : True\n",
      "left                : None\n",
      "right               : None\n",
      "n_train             : 0\n",
      "n_samples           : 0\n",
      "\n",
      "node 6\n",
      "id                  : 6\n",
      "feature             : None\n",
      "threshold           : None\n",
      "value               : [0.25585938 0.71966146 0.02447917]\n",
      "parent              : 4\n",
      "is_left             : False\n",
      "left                : None\n",
      "right               : None\n",
      "n_train             : 0\n",
      "n_samples           : 0\n",
      "\n",
      "node 7\n",
      "id                  : 7\n",
      "feature             : None\n",
      "threshold           : None\n",
      "value               : [0.32226562 0.45507812 0.22265625]\n",
      "parent              : 3\n",
      "is_left             : False\n",
      "left                : None\n",
      "right               : None\n",
      "n_train             : 0\n",
      "n_samples           : 0\n",
      "\n",
      "node 8\n",
      "id                  : 8\n",
      "feature             : 3\n",
      "threshold           : 0.7\n",
      "value               : [0.421875   0.54296875 0.03515625]\n",
      "parent              : 2\n",
      "is_left             : False\n",
      "left                : 9\n",
      "right               : 10\n",
      "n_train             : 0\n",
      "n_samples           : 0\n",
      "\n",
      "node 9\n",
      "id                  : 9\n",
      "feature             : None\n",
      "threshold           : None\n",
      "value               : [0.84375   0.1484375 0.0078125]\n",
      "parent              : 8\n",
      "is_left             : True\n",
      "left                : None\n",
      "right               : None\n",
      "n_train             : 0\n",
      "n_samples           : 0\n",
      "\n",
      "node 10\n",
      "id                  : 10\n",
      "feature             : None\n",
      "threshold           : None\n",
      "value               : [0.     0.9375 0.0625]\n",
      "parent              : 8\n",
      "is_left             : False\n",
      "left                : None\n",
      "right               : None\n",
      "n_train             : 0\n",
      "n_samples           : 0\n",
      "\n",
      "node 11\n",
      "id                  : 11\n",
      "feature             : 3\n",
      "threshold           : 0.7\n",
      "value               : [0.30842634 0.6357871  0.05578656]\n",
      "parent              : 1\n",
      "is_left             : False\n",
      "left                : 12\n",
      "right               : 21\n",
      "n_train             : 0\n",
      "n_samples           : 0\n",
      "\n",
      "node 12\n",
      "id                  : 12\n",
      "feature             : 2\n",
      "threshold           : 2.5\n",
      "value               : [0.59114583 0.40085565 0.00799851]\n",
      "parent              : 11\n",
      "is_left             : True\n",
      "left                : 13\n",
      "right               : 14\n",
      "n_train             : 0\n",
      "n_samples           : 0\n",
      "\n",
      "node 13\n",
      "id                  : 13\n",
      "feature             : None\n",
      "threshold           : None\n",
      "value               : [0.8359375 0.1640625 0.       ]\n",
      "parent              : 12\n",
      "is_left             : True\n",
      "left                : None\n",
      "right               : None\n",
      "n_train             : 0\n",
      "n_samples           : 0\n",
      "\n",
      "node 14\n",
      "id                  : 14\n",
      "feature             : 1\n",
      "threshold           : 3.6\n",
      "value               : [0.46875    0.51925223 0.01199777]\n",
      "parent              : 12\n",
      "is_left             : False\n",
      "left                : 15\n",
      "right               : 20\n",
      "n_train             : 0\n",
      "n_samples           : 0\n",
      "\n",
      "node 15\n",
      "id                  : 15\n",
      "feature             : 0\n",
      "threshold           : 5.75\n",
      "value               : [0.35416667 0.6343006  0.01153274]\n",
      "parent              : 14\n",
      "is_left             : True\n",
      "left                : 16\n",
      "right               : 19\n",
      "n_train             : 0\n",
      "n_samples           : 0\n",
      "\n",
      "node 16\n",
      "id                  : 16\n",
      "feature             : 1\n",
      "threshold           : 2.95\n",
      "value               : [0.58333333 0.41145833 0.00520833]\n",
      "parent              : 15\n",
      "is_left             : True\n",
      "left                : 17\n",
      "right               : 18\n",
      "n_train             : 0\n",
      "n_samples           : 0\n",
      "\n",
      "node 17\n",
      "id                  : 17\n",
      "feature             : None\n",
      "threshold           : None\n",
      "value               : [0.125 0.875 0.   ]\n",
      "parent              : 16\n",
      "is_left             : True\n",
      "left                : None\n",
      "right               : None\n",
      "n_train             : 0\n",
      "n_samples           : 0\n",
      "\n",
      "node 18\n",
      "id                  : 18\n",
      "feature             : None\n",
      "threshold           : None\n",
      "value               : [0.8125    0.1796875 0.0078125]\n",
      "parent              : 16\n",
      "is_left             : False\n",
      "left                : None\n",
      "right               : None\n",
      "n_train             : 0\n",
      "n_samples           : 0\n",
      "\n",
      "node 19\n",
      "id                  : 19\n",
      "feature             : None\n",
      "threshold           : None\n",
      "value               : [0.125      0.85714286 0.01785714]\n",
      "parent              : 15\n",
      "is_left             : False\n",
      "left                : None\n",
      "right               : None\n",
      "n_train             : 0\n",
      "n_samples           : 0\n",
      "\n",
      "node 20\n",
      "id                  : 20\n",
      "feature             : None\n",
      "threshold           : None\n",
      "value               : [0.8125     0.17410714 0.01339286]\n",
      "parent              : 14\n",
      "is_left             : False\n",
      "left                : None\n",
      "right               : None\n",
      "n_train             : 0\n",
      "n_samples           : 0\n",
      "\n",
      "node 21\n",
      "id                  : 21\n",
      "feature             : None\n",
      "threshold           : None\n",
      "value               : [0.16092052 0.75836002 0.08071946]\n",
      "parent              : 11\n",
      "is_left             : False\n",
      "left                : None\n",
      "right               : None\n",
      "n_train             : 0\n",
      "n_samples           : 0\n",
      "\n",
      "node 22\n",
      "id                  : 22\n",
      "feature             : 3\n",
      "threshold           : 1.55\n",
      "value               : [0.1109375 0.3481593 0.5409032]\n",
      "parent              : 0\n",
      "is_left             : False\n",
      "left                : 23\n",
      "right               : 24\n",
      "n_train             : 0\n",
      "n_samples           : 0\n",
      "\n",
      "node 23\n",
      "id                  : 23\n",
      "feature             : None\n",
      "threshold           : None\n",
      "value               : [0.16645784 0.36386806 0.46967409]\n",
      "parent              : 22\n",
      "is_left             : True\n",
      "left                : None\n",
      "right               : None\n",
      "n_train             : 0\n",
      "n_samples           : 0\n",
      "\n",
      "node 24\n",
      "id                  : 24\n",
      "feature             : 2\n",
      "threshold           : 4.85\n",
      "value               : [0.00195313 0.31732356 0.68072331]\n",
      "parent              : 22\n",
      "is_left             : False\n",
      "left                : 25\n",
      "right               : 26\n",
      "n_train             : 0\n",
      "n_samples           : 0\n",
      "\n",
      "node 25\n",
      "id                  : 25\n",
      "feature             : None\n",
      "threshold           : None\n",
      "value               : [0.    0.875 0.125]\n",
      "parent              : 24\n",
      "is_left             : True\n",
      "left                : None\n",
      "right               : None\n",
      "n_train             : 0\n",
      "n_samples           : 0\n",
      "\n",
      "node 26\n",
      "id                  : 26\n",
      "feature             : 2\n",
      "threshold           : 5.2\n",
      "value               : [0.00202825 0.29587447 0.70209728]\n",
      "parent              : 24\n",
      "is_left             : False\n",
      "left                : 27\n",
      "right               : 40\n",
      "n_train             : 0\n",
      "n_samples           : 0\n",
      "\n",
      "node 27\n",
      "id                  : 27\n",
      "feature             : 1\n",
      "threshold           : 2.9\n",
      "value               : [0.00260417 0.39676339 0.60063244]\n",
      "parent              : 26\n",
      "is_left             : True\n",
      "left                : 28\n",
      "right               : 31\n",
      "n_train             : 0\n",
      "n_samples           : 0\n",
      "\n",
      "node 28\n",
      "id                  : 28\n",
      "feature             : 3\n",
      "threshold           : 1.75\n",
      "value               : [0.        0.3203125 0.6796875]\n",
      "parent              : 27\n",
      "is_left             : True\n",
      "left                : 29\n",
      "right               : 30\n",
      "n_train             : 0\n",
      "n_samples           : 0\n",
      "\n",
      "node 29\n",
      "id                  : 29\n",
      "feature             : None\n",
      "threshold           : None\n",
      "value               : [0.     0.8125 0.1875]\n",
      "parent              : 28\n",
      "is_left             : True\n",
      "left                : None\n",
      "right               : None\n",
      "n_train             : 0\n",
      "n_samples           : 0\n",
      "\n",
      "node 30\n",
      "id                  : 30\n",
      "feature             : None\n",
      "threshold           : None\n",
      "value               : [0.      0.15625 0.84375]\n",
      "parent              : 28\n",
      "is_left             : False\n",
      "left                : None\n",
      "right               : None\n",
      "n_train             : 0\n",
      "n_samples           : 0\n",
      "\n",
      "node 31\n",
      "id                  : 31\n",
      "feature             : 0\n",
      "threshold           : 5.45\n",
      "value               : [0.00390625 0.43498884 0.56110491]\n",
      "parent              : 27\n",
      "is_left             : False\n",
      "left                : 32\n",
      "right               : 33\n",
      "n_train             : 0\n",
      "n_samples           : 0\n",
      "\n",
      "node 32\n",
      "id                  : 32\n",
      "feature             : None\n",
      "threshold           : None\n",
      "value               : [0.    0.875 0.125]\n",
      "parent              : 31\n",
      "is_left             : True\n",
      "left                : None\n",
      "right               : None\n",
      "n_train             : 0\n",
      "n_samples           : 0\n",
      "\n",
      "node 33\n",
      "id                  : 33\n",
      "feature             : 0\n",
      "threshold           : 5.75\n",
      "value               : [0.00446429 0.3721301  0.62340561]\n",
      "parent              : 31\n",
      "is_left             : False\n",
      "left                : 34\n",
      "right               : 35\n",
      "n_train             : 0\n",
      "n_samples           : 0\n",
      "\n",
      "node 34\n",
      "id                  : 34\n",
      "feature             : None\n",
      "threshold           : None\n",
      "value               : [0.015625  0.1015625 0.8828125]\n",
      "parent              : 33\n",
      "is_left             : True\n",
      "left                : None\n",
      "right               : None\n",
      "n_train             : 0\n",
      "n_samples           : 0\n",
      "\n",
      "node 35\n",
      "id                  : 35\n",
      "feature             : 1\n",
      "threshold           : 3.05\n",
      "value               : [0.         0.48035714 0.51964286]\n",
      "parent              : 33\n",
      "is_left             : False\n",
      "left                : 36\n",
      "right               : 37\n",
      "n_train             : 0\n",
      "n_samples           : 0\n",
      "\n",
      "node 36\n",
      "id                  : 36\n",
      "feature             : None\n",
      "threshold           : None\n",
      "value               : [0.         0.16071429 0.83928571]\n",
      "parent              : 35\n",
      "is_left             : True\n",
      "left                : None\n",
      "right               : None\n",
      "n_train             : 0\n",
      "n_samples           : 0\n",
      "\n",
      "node 37\n",
      "id                  : 37\n",
      "feature             : 2\n",
      "threshold           : 5.05\n",
      "value               : [0.         0.69345238 0.30654762]\n",
      "parent              : 35\n",
      "is_left             : False\n",
      "left                : 38\n",
      "right               : 39\n",
      "n_train             : 0\n",
      "n_samples           : 0\n",
      "\n",
      "node 38\n",
      "id                  : 38\n",
      "feature             : None\n",
      "threshold           : None\n",
      "value               : [0.         0.94642857 0.05357143]\n",
      "parent              : 37\n",
      "is_left             : True\n",
      "left                : None\n",
      "right               : None\n",
      "n_train             : 0\n",
      "n_samples           : 0\n",
      "\n",
      "node 39\n",
      "id                  : 39\n",
      "feature             : None\n",
      "threshold           : None\n",
      "value               : [0.     0.1875 0.8125]\n",
      "parent              : 37\n",
      "is_left             : False\n",
      "left                : None\n",
      "right               : None\n",
      "n_train             : 0\n",
      "n_samples           : 0\n",
      "\n",
      "node 40\n",
      "id                  : 40\n",
      "feature             : 0\n",
      "threshold           : 5.45\n",
      "value               : [0.0015346  0.20939825 0.78906715]\n",
      "parent              : 26\n",
      "is_left             : False\n",
      "left                : 41\n",
      "right               : 46\n",
      "n_train             : 0\n",
      "n_samples           : 0\n",
      "\n",
      "node 41\n",
      "id                  : 41\n",
      "feature             : 3\n",
      "threshold           : 1.65\n",
      "value               : [0.         0.29633789 0.70366211]\n",
      "parent              : 40\n",
      "is_left             : True\n",
      "left                : 42\n",
      "right               : 45\n",
      "n_train             : 0\n",
      "n_samples           : 0\n",
      "\n",
      "node 42\n",
      "id                  : 42\n",
      "feature             : 0\n",
      "threshold           : 5.05\n",
      "value               : [0.         0.53108724 0.46891276]\n",
      "parent              : 41\n",
      "is_left             : True\n",
      "left                : 43\n",
      "right               : 44\n",
      "n_train             : 0\n",
      "n_samples           : 0\n",
      "\n",
      "node 43\n",
      "id                  : 43\n",
      "feature             : None\n",
      "threshold           : None\n",
      "value               : [0.         0.24576823 0.75423177]\n",
      "parent              : 42\n",
      "is_left             : True\n",
      "left                : None\n",
      "right               : None\n",
      "n_train             : 0\n",
      "n_samples           : 0\n",
      "\n",
      "node 44\n",
      "id                  : 44\n",
      "feature             : None\n",
      "threshold           : None\n",
      "value               : [0.         0.81640625 0.18359375]\n",
      "parent              : 42\n",
      "is_left             : False\n",
      "left                : None\n",
      "right               : None\n",
      "n_train             : 0\n",
      "n_samples           : 0\n",
      "\n",
      "node 45\n",
      "id                  : 45\n",
      "feature             : None\n",
      "threshold           : None\n",
      "value               : [0.         0.21808811 0.78191189]\n",
      "parent              : 41\n",
      "is_left             : False\n",
      "left                : None\n",
      "right               : None\n",
      "n_train             : 0\n",
      "n_samples           : 0\n",
      "\n",
      "node 46\n",
      "id                  : 46\n",
      "feature             : None\n",
      "threshold           : None\n",
      "value               : [0.00358073 0.09347873 0.90294054]\n",
      "parent              : 40\n",
      "is_left             : False\n",
      "left                : None\n",
      "right               : None\n",
      "n_train             : 0\n",
      "n_samples           : 0\n"
     ]
    }
   ],
   "source": [
    "iris_fbt_viz = VizTree(iris_fbt, class_names=class_names)\n",
    "print(iris_fbt_viz.is_classifier)\n",
    "iris_fbt_viz.print_nodes()"
   ]
  },
  {
   "cell_type": "markdown",
   "metadata": {},
   "source": [
    "## Viz trees"
   ]
  },
  {
   "cell_type": "code",
   "execution_count": 13,
   "metadata": {},
   "outputs": [
    {
     "name": "stdout",
     "output_type": "stream",
     "text": [
      "[1 0 2 1 2 0 1 2 1 1 2 0 0 0 0 1 2 1 1 2 0 2 0 2 2 2 2 2 0 0 0 0 1 0 0 2 1\n",
      " 0 0 0 2 1 1 0 0]\n",
      "Accuracy:  0.9778\n",
      "before number predict\n",
      "\n",
      "node 0\n",
      "id                  : 0\n",
      "feature             : 2\n",
      "threshold           : 4.75\n",
      "value               : [0.37602945 0.31327576 0.3106948 ]\n",
      "parent              : None\n",
      "is_left             : None\n",
      "left                : 1\n",
      "right               : 22\n",
      "n_train             : 150\n",
      "n_samples           : 0\n",
      "\n",
      "node 1\n",
      "id                  : 1\n",
      "feature             : 0\n",
      "threshold           : 5.45\n",
      "value               : [0.58204913 0.38105782 0.03689305]\n",
      "parent              : 0\n",
      "is_left             : True\n",
      "left                : 2\n",
      "right               : 11\n",
      "n_train             : 95\n",
      "n_samples           : 0\n",
      "\n",
      "node 2\n",
      "id                  : 2\n",
      "feature             : 2\n",
      "threshold           : 2.5\n",
      "value               : [0.86538462 0.12620192 0.00841346]\n",
      "parent              : 1\n",
      "is_left             : True\n",
      "left                : 3\n",
      "right               : 8\n",
      "n_train             : 52\n",
      "n_samples           : 0\n",
      "\n",
      "node 3\n",
      "id                  : 3\n",
      "feature             : None\n",
      "threshold           : None\n",
      "value               : [1. 0. 0.]\n",
      "parent              : 2\n",
      "is_left             : True\n",
      "left                : None\n",
      "right               : None\n",
      "n_train             : 45\n",
      "n_samples           : 0\n",
      "\n",
      "node 4\n",
      "id                  : 4\n",
      "feature             : None\n",
      "threshold           : None\n",
      "value               : [1. 0. 0.]\n",
      "parent              : 3\n",
      "is_left             : True\n",
      "left                : None\n",
      "right               : None\n",
      "n_train             : 45\n",
      "n_samples           : 0\n",
      "\n",
      "node 5\n",
      "id                  : 5\n",
      "feature             : None\n",
      "threshold           : None\n",
      "value               : [1. 0. 0.]\n",
      "parent              : 4\n",
      "is_left             : True\n",
      "left                : None\n",
      "right               : None\n",
      "n_train             : 45\n",
      "n_samples           : 0\n",
      "\n",
      "node 8\n",
      "id                  : 8\n",
      "feature             : None\n",
      "threshold           : None\n",
      "value               : [0.     0.9375 0.0625]\n",
      "parent              : 2\n",
      "is_left             : False\n",
      "left                : None\n",
      "right               : None\n",
      "n_train             : 7\n",
      "n_samples           : 0\n",
      "\n",
      "node 10\n",
      "id                  : 10\n",
      "feature             : None\n",
      "threshold           : None\n",
      "value               : [0.     0.9375 0.0625]\n",
      "parent              : 8\n",
      "is_left             : False\n",
      "left                : None\n",
      "right               : None\n",
      "n_train             : 7\n",
      "n_samples           : 0\n",
      "\n",
      "node 11\n",
      "id                  : 11\n",
      "feature             : 3\n",
      "threshold           : 0.7\n",
      "value               : [0.23941086 0.68925566 0.07133348]\n",
      "parent              : 1\n",
      "is_left             : False\n",
      "left                : 12\n",
      "right               : 21\n",
      "n_train             : 43\n",
      "n_samples           : 0\n",
      "\n",
      "node 12\n",
      "id                  : 12\n",
      "feature             : None\n",
      "threshold           : None\n",
      "value               : [0.8359375 0.1640625 0.       ]\n",
      "parent              : 11\n",
      "is_left             : True\n",
      "left                : None\n",
      "right               : None\n",
      "n_train             : 5\n",
      "n_samples           : 0\n",
      "\n",
      "node 13\n",
      "id                  : 13\n",
      "feature             : None\n",
      "threshold           : None\n",
      "value               : [0.8359375 0.1640625 0.       ]\n",
      "parent              : 12\n",
      "is_left             : True\n",
      "left                : None\n",
      "right               : None\n",
      "n_train             : 5\n",
      "n_samples           : 0\n",
      "\n",
      "node 21\n",
      "id                  : 21\n",
      "feature             : None\n",
      "threshold           : None\n",
      "value               : [0.16092052 0.75836002 0.08071946]\n",
      "parent              : 11\n",
      "is_left             : False\n",
      "left                : None\n",
      "right               : None\n",
      "n_train             : 38\n",
      "n_samples           : 0\n",
      "\n",
      "node 22\n",
      "id                  : 22\n",
      "feature             : 3\n",
      "threshold           : 1.55\n",
      "value               : [0.02017727 0.19619765 0.78362509]\n",
      "parent              : 0\n",
      "is_left             : False\n",
      "left                : 23\n",
      "right               : 24\n",
      "n_train             : 55\n",
      "n_samples           : 0\n",
      "\n",
      "node 23\n",
      "id                  : 23\n",
      "feature             : None\n",
      "threshold           : None\n",
      "value               : [0.16645784 0.36386806 0.46967409]\n",
      "parent              : 22\n",
      "is_left             : True\n",
      "left                : None\n",
      "right               : None\n",
      "n_train             : 6\n",
      "n_samples           : 0\n",
      "\n",
      "node 24\n",
      "id                  : 24\n",
      "feature             : 2\n",
      "threshold           : 4.85\n",
      "value               : [0.00226536 0.17566657 0.82206807]\n",
      "parent              : 22\n",
      "is_left             : False\n",
      "left                : 25\n",
      "right               : 26\n",
      "n_train             : 49\n",
      "n_samples           : 0\n",
      "\n",
      "node 25\n",
      "id                  : 25\n",
      "feature             : None\n",
      "threshold           : None\n",
      "value               : [0.    0.875 0.125]\n",
      "parent              : 24\n",
      "is_left             : True\n",
      "left                : None\n",
      "right               : None\n",
      "n_train             : 3\n",
      "n_samples           : 0\n",
      "\n",
      "node 26\n",
      "id                  : 26\n",
      "feature             : 2\n",
      "threshold           : 5.2\n",
      "value               : [0.0024131  0.13005787 0.86752903]\n",
      "parent              : 24\n",
      "is_left             : False\n",
      "left                : 27\n",
      "right               : 40\n",
      "n_train             : 46\n",
      "n_samples           : 0\n",
      "\n",
      "node 27\n",
      "id                  : 27\n",
      "feature             : 1\n",
      "threshold           : 2.9\n",
      "value               : [0.         0.20565476 0.79434524]\n",
      "parent              : 26\n",
      "is_left             : True\n",
      "left                : 28\n",
      "right               : 31\n",
      "n_train             : 15\n",
      "n_samples           : 0\n",
      "\n",
      "node 28\n",
      "id                  : 28\n",
      "feature             : 3\n",
      "threshold           : 1.75\n",
      "value               : [0.         0.23828125 0.76171875]\n",
      "parent              : 27\n",
      "is_left             : True\n",
      "left                : 29\n",
      "right               : 30\n",
      "n_train             : 8\n",
      "n_samples           : 0\n",
      "\n",
      "node 29\n",
      "id                  : 29\n",
      "feature             : None\n",
      "threshold           : None\n",
      "value               : [0.     0.8125 0.1875]\n",
      "parent              : 28\n",
      "is_left             : True\n",
      "left                : None\n",
      "right               : None\n",
      "n_train             : 1\n",
      "n_samples           : 0\n",
      "\n",
      "node 30\n",
      "id                  : 30\n",
      "feature             : None\n",
      "threshold           : None\n",
      "value               : [0.      0.15625 0.84375]\n",
      "parent              : 28\n",
      "is_left             : False\n",
      "left                : None\n",
      "right               : None\n",
      "n_train             : 7\n",
      "n_samples           : 0\n",
      "\n",
      "node 31\n",
      "id                  : 31\n",
      "feature             : None\n",
      "threshold           : None\n",
      "value               : [0.         0.16836735 0.83163265]\n",
      "parent              : 27\n",
      "is_left             : False\n",
      "left                : None\n",
      "right               : None\n",
      "n_train             : 7\n",
      "n_samples           : 0\n",
      "\n",
      "node 33\n",
      "id                  : 33\n",
      "feature             : None\n",
      "threshold           : None\n",
      "value               : [0.         0.16836735 0.83163265]\n",
      "parent              : 31\n",
      "is_left             : False\n",
      "left                : None\n",
      "right               : None\n",
      "n_train             : 7\n",
      "n_samples           : 0\n",
      "\n",
      "node 35\n",
      "id                  : 35\n",
      "feature             : None\n",
      "threshold           : None\n",
      "value               : [0.         0.16836735 0.83163265]\n",
      "parent              : 33\n",
      "is_left             : False\n",
      "left                : None\n",
      "right               : None\n",
      "n_train             : 7\n",
      "n_samples           : 0\n",
      "\n",
      "node 36\n",
      "id                  : 36\n",
      "feature             : None\n",
      "threshold           : None\n",
      "value               : [0.         0.16071429 0.83928571]\n",
      "parent              : 35\n",
      "is_left             : True\n",
      "left                : None\n",
      "right               : None\n",
      "n_train             : 5\n",
      "n_samples           : 0\n",
      "\n",
      "node 37\n",
      "id                  : 37\n",
      "feature             : None\n",
      "threshold           : None\n",
      "value               : [0.     0.1875 0.8125]\n",
      "parent              : 35\n",
      "is_left             : False\n",
      "left                : None\n",
      "right               : None\n",
      "n_train             : 2\n",
      "n_samples           : 0\n",
      "\n",
      "node 39\n",
      "id                  : 39\n",
      "feature             : None\n",
      "threshold           : None\n",
      "value               : [0.     0.1875 0.8125]\n",
      "parent              : 37\n",
      "is_left             : False\n",
      "left                : None\n",
      "right               : None\n",
      "n_train             : 2\n",
      "n_samples           : 0\n",
      "\n",
      "node 40\n",
      "id                  : 40\n",
      "feature             : None\n",
      "threshold           : None\n",
      "value               : [0.00358073 0.09347873 0.90294054]\n",
      "parent              : 26\n",
      "is_left             : False\n",
      "left                : None\n",
      "right               : None\n",
      "n_train             : 31\n",
      "n_samples           : 0\n",
      "\n",
      "node 46\n",
      "id                  : 46\n",
      "feature             : None\n",
      "threshold           : None\n",
      "value               : [0.00358073 0.09347873 0.90294054]\n",
      "parent              : 40\n",
      "is_left             : False\n",
      "left                : None\n",
      "right               : None\n",
      "n_train             : 31\n",
      "n_samples           : 0\n"
     ]
    }
   ],
   "source": [
    "iris_fbt_viz = VizTree(iris_fbt, X, class_names)\n",
    "\n",
    "fbtviz_ypred = iris_fbt_viz.predict(X_test)\n",
    "\n",
    "print(fbtviz_ypred)\n",
    "accuracy = accuracy_score(y_test, fbtviz_ypred)\n",
    "print(f\"Accuracy:  {accuracy:.4f}\")\n",
    "\n",
    "iris_fbt_viz.print_nodes('before number predict')"
   ]
  },
  {
   "cell_type": "code",
   "execution_count": 14,
   "metadata": {},
   "outputs": [
    {
     "name": "stdout",
     "output_type": "stream",
     "text": [
      "Accuracy:  0.9591\n",
      "before number predict\n",
      "\n",
      "node 0\n",
      "id                  : 0\n",
      "feature             : 27\n",
      "threshold           : 0.1563\n",
      "value               : [0.36137104 0.63862896]\n",
      "parent              : None\n",
      "is_left             : None\n",
      "left                : 1\n",
      "right               : 8\n",
      "n_train             : 569\n",
      "n_samples           : 0\n",
      "\n",
      "node 1\n",
      "id                  : 1\n",
      "feature             : 20\n",
      "threshold           : 16.83\n",
      "value               : [0.17661913 0.82338087]\n",
      "parent              : 0\n",
      "is_left             : True\n",
      "left                : 2\n",
      "right               : 3\n",
      "n_train             : 414\n",
      "n_samples           : 0\n",
      "\n",
      "node 2\n",
      "id                  : 2\n",
      "feature             : None\n",
      "threshold           : None\n",
      "value               : [0.10154501 0.89845499]\n",
      "parent              : 1\n",
      "is_left             : True\n",
      "left                : None\n",
      "right               : None\n",
      "n_train             : 357\n",
      "n_samples           : 0\n",
      "\n",
      "node 3\n",
      "id                  : 3\n",
      "feature             : 13\n",
      "threshold           : 31.245\n",
      "value               : [0.64682018 0.35317982]\n",
      "parent              : 1\n",
      "is_left             : False\n",
      "left                : 4\n",
      "right               : 5\n",
      "n_train             : 57\n",
      "n_samples           : 0\n",
      "\n",
      "node 4\n",
      "id                  : 4\n",
      "feature             : None\n",
      "threshold           : None\n",
      "value               : [0.13794643 0.86205357]\n",
      "parent              : 3\n",
      "is_left             : True\n",
      "left                : None\n",
      "right               : None\n",
      "n_train             : 14\n",
      "n_samples           : 0\n",
      "\n",
      "node 5\n",
      "id                  : 5\n",
      "feature             : None\n",
      "threshold           : None\n",
      "value               : [0.8125 0.1875]\n",
      "parent              : 3\n",
      "is_left             : False\n",
      "left                : None\n",
      "right               : None\n",
      "n_train             : 43\n",
      "n_samples           : 0\n",
      "\n",
      "node 7\n",
      "id                  : 7\n",
      "feature             : None\n",
      "threshold           : None\n",
      "value               : [0.8125 0.1875]\n",
      "parent              : 5\n",
      "is_left             : False\n",
      "left                : None\n",
      "right               : None\n",
      "n_train             : 43\n",
      "n_samples           : 0\n",
      "\n",
      "node 8\n",
      "id                  : 8\n",
      "feature             : 7\n",
      "threshold           : 0.05128\n",
      "value               : [0.85483745 0.14516255]\n",
      "parent              : 0\n",
      "is_left             : False\n",
      "left                : 9\n",
      "right               : 40\n",
      "n_train             : 155\n",
      "n_samples           : 0\n",
      "\n",
      "node 9\n",
      "id                  : 9\n",
      "feature             : None\n",
      "threshold           : None\n",
      "value               : [0.1461959 0.8538041]\n",
      "parent              : 8\n",
      "is_left             : True\n",
      "left                : None\n",
      "right               : None\n",
      "n_train             : 1\n",
      "n_samples           : 0\n",
      "\n",
      "node 10\n",
      "id                  : 10\n",
      "feature             : None\n",
      "threshold           : None\n",
      "value               : [0.1461959 0.8538041]\n",
      "parent              : 9\n",
      "is_left             : True\n",
      "left                : None\n",
      "right               : None\n",
      "n_train             : 1\n",
      "n_samples           : 0\n",
      "\n",
      "node 11\n",
      "id                  : 11\n",
      "feature             : None\n",
      "threshold           : None\n",
      "value               : [0.1461959 0.8538041]\n",
      "parent              : 10\n",
      "is_left             : True\n",
      "left                : None\n",
      "right               : None\n",
      "n_train             : 1\n",
      "n_samples           : 0\n",
      "\n",
      "node 40\n",
      "id                  : 40\n",
      "feature             : 23\n",
      "threshold           : 686.20001\n",
      "value               : [0.85943902 0.14056098]\n",
      "parent              : 8\n",
      "is_left             : False\n",
      "left                : 41\n",
      "right               : 64\n",
      "n_train             : 154\n",
      "n_samples           : 0\n",
      "\n",
      "node 41\n",
      "id                  : 41\n",
      "feature             : None\n",
      "threshold           : None\n",
      "value               : [0.81966488 0.18033512]\n",
      "parent              : 40\n",
      "is_left             : True\n",
      "left                : None\n",
      "right               : None\n",
      "n_train             : 5\n",
      "n_samples           : 0\n",
      "\n",
      "node 42\n",
      "id                  : 42\n",
      "feature             : None\n",
      "threshold           : None\n",
      "value               : [0.81966488 0.18033512]\n",
      "parent              : 41\n",
      "is_left             : True\n",
      "left                : None\n",
      "right               : None\n",
      "n_train             : 5\n",
      "n_samples           : 0\n",
      "\n",
      "node 43\n",
      "id                  : 43\n",
      "feature             : None\n",
      "threshold           : None\n",
      "value               : [0.74644739 0.25355261]\n",
      "parent              : 42\n",
      "is_left             : True\n",
      "left                : None\n",
      "right               : None\n",
      "n_train             : 1\n",
      "n_samples           : 0\n",
      "\n",
      "node 44\n",
      "id                  : 44\n",
      "feature             : None\n",
      "threshold           : None\n",
      "value               : [0.74644739 0.25355261]\n",
      "parent              : 43\n",
      "is_left             : True\n",
      "left                : None\n",
      "right               : None\n",
      "n_train             : 1\n",
      "n_samples           : 0\n",
      "\n",
      "node 46\n",
      "id                  : 46\n",
      "feature             : None\n",
      "threshold           : None\n",
      "value               : [0.74644739 0.25355261]\n",
      "parent              : 44\n",
      "is_left             : False\n",
      "left                : None\n",
      "right               : None\n",
      "n_train             : 1\n",
      "n_samples           : 0\n",
      "\n",
      "node 48\n",
      "id                  : 48\n",
      "feature             : None\n",
      "threshold           : None\n",
      "value               : [0.83796926 0.16203074]\n",
      "parent              : 42\n",
      "is_left             : False\n",
      "left                : None\n",
      "right               : None\n",
      "n_train             : 4\n",
      "n_samples           : 0\n",
      "\n",
      "node 54\n",
      "id                  : 54\n",
      "feature             : None\n",
      "threshold           : None\n",
      "value               : [0.83796926 0.16203074]\n",
      "parent              : 48\n",
      "is_left             : False\n",
      "left                : None\n",
      "right               : None\n",
      "n_train             : 4\n",
      "n_samples           : 0\n",
      "\n",
      "node 64\n",
      "id                  : 64\n",
      "feature             : 13\n",
      "threshold           : 31.245\n",
      "value               : [0.86077372 0.13922628]\n",
      "parent              : 40\n",
      "is_left             : False\n",
      "left                : 65\n",
      "right               : 80\n",
      "n_train             : 149\n",
      "n_samples           : 0\n",
      "\n",
      "node 65\n",
      "id                  : 65\n",
      "feature             : 22\n",
      "threshold           : 101.3\n",
      "value               : [0.64707702 0.35292298]\n",
      "parent              : 64\n",
      "is_left             : True\n",
      "left                : 66\n",
      "right               : 77\n",
      "n_train             : 21\n",
      "n_samples           : 0\n",
      "\n",
      "node 66\n",
      "id                  : 66\n",
      "feature             : None\n",
      "threshold           : None\n",
      "value               : [0.85798414 0.14201586]\n",
      "parent              : 65\n",
      "is_left             : True\n",
      "left                : None\n",
      "right               : None\n",
      "n_train             : 1\n",
      "n_samples           : 0\n",
      "\n",
      "node 72\n",
      "id                  : 72\n",
      "feature             : None\n",
      "threshold           : None\n",
      "value               : [0.85798414 0.14201586]\n",
      "parent              : 66\n",
      "is_left             : False\n",
      "left                : None\n",
      "right               : None\n",
      "n_train             : 1\n",
      "n_samples           : 0\n",
      "\n",
      "node 76\n",
      "id                  : 76\n",
      "feature             : None\n",
      "threshold           : None\n",
      "value               : [0.85798414 0.14201586]\n",
      "parent              : 72\n",
      "is_left             : False\n",
      "left                : None\n",
      "right               : None\n",
      "n_train             : 1\n",
      "n_samples           : 0\n",
      "\n",
      "node 77\n",
      "id                  : 77\n",
      "feature             : 6\n",
      "threshold           : 0.09789\n",
      "value               : [0.63653166 0.36346834]\n",
      "parent              : 65\n",
      "is_left             : False\n",
      "left                : 78\n",
      "right               : 79\n",
      "n_train             : 20\n",
      "n_samples           : 0\n",
      "\n",
      "node 78\n",
      "id                  : 78\n",
      "feature             : None\n",
      "threshold           : None\n",
      "value               : [0.23653166 0.76346834]\n",
      "parent              : 77\n",
      "is_left             : True\n",
      "left                : None\n",
      "right               : None\n",
      "n_train             : 4\n",
      "n_samples           : 0\n",
      "\n",
      "node 79\n",
      "id                  : 79\n",
      "feature             : None\n",
      "threshold           : None\n",
      "value               : [0.73653166 0.26346834]\n",
      "parent              : 77\n",
      "is_left             : False\n",
      "left                : None\n",
      "right               : None\n",
      "n_train             : 16\n",
      "n_samples           : 0\n",
      "\n",
      "node 80\n",
      "id                  : 80\n",
      "feature             : None\n",
      "threshold           : None\n",
      "value               : [0.89583333 0.10416667]\n",
      "parent              : 64\n",
      "is_left             : False\n",
      "left                : None\n",
      "right               : None\n",
      "n_train             : 128\n",
      "n_samples           : 0\n"
     ]
    }
   ],
   "source": [
    "X_train = cancer_X_train\n",
    "X_test = cancer_X_test\n",
    "y_train = cancer_y_train\n",
    "y_test = cancer_y_test\n",
    "X = cancer_X\n",
    "class_names = cancer_class_names\n",
    "\n",
    "cancer_fbt_viz = VizTree(cancer_fbt, X, class_names)\n",
    "\n",
    "fbtviz_ypred = cancer_fbt_viz.predict(X_test)\n",
    "accuracy = accuracy_score(y_test, fbtviz_ypred)\n",
    "print(f\"Accuracy:  {accuracy:.4f}\")\n",
    "\n",
    "cancer_fbt_viz.print_nodes('before number predict')\n",
    "\n"
   ]
  },
  {
   "cell_type": "code",
   "execution_count": 15,
   "metadata": {},
   "outputs": [
    {
     "name": "stdout",
     "output_type": "stream",
     "text": [
      "Accuracy:  0.9532\n",
      "before number predict\n",
      "\n",
      "node 0\n",
      "id                  : 0\n",
      "feature             : 27\n",
      "threshold           : 0.1563\n",
      "value               : [0.36137104 0.63862896]\n",
      "parent              : None\n",
      "is_left             : None\n",
      "left                : 1\n",
      "right               : 8\n",
      "n_train             : 569\n",
      "n_samples           : 0\n",
      "\n",
      "node 1\n",
      "id                  : 1\n",
      "feature             : 20\n",
      "threshold           : 16.83\n",
      "value               : [0.17661913 0.82338087]\n",
      "parent              : 0\n",
      "is_left             : True\n",
      "left                : 2\n",
      "right               : 3\n",
      "n_train             : 414\n",
      "n_samples           : 0\n",
      "\n",
      "node 2\n",
      "id                  : 2\n",
      "feature             : None\n",
      "threshold           : None\n",
      "value               : [0.10154501 0.89845499]\n",
      "parent              : 1\n",
      "is_left             : True\n",
      "left                : None\n",
      "right               : None\n",
      "n_train             : 357\n",
      "n_samples           : 0\n",
      "\n",
      "node 3\n",
      "id                  : 3\n",
      "feature             : 13\n",
      "threshold           : 31.245\n",
      "value               : [0.64682018 0.35317982]\n",
      "parent              : 1\n",
      "is_left             : False\n",
      "left                : 4\n",
      "right               : 5\n",
      "n_train             : 57\n",
      "n_samples           : 0\n",
      "\n",
      "node 4\n",
      "id                  : 4\n",
      "feature             : None\n",
      "threshold           : None\n",
      "value               : [0.13794643 0.86205357]\n",
      "parent              : 3\n",
      "is_left             : True\n",
      "left                : None\n",
      "right               : None\n",
      "n_train             : 14\n",
      "n_samples           : 0\n",
      "\n",
      "node 5\n",
      "id                  : 5\n",
      "feature             : None\n",
      "threshold           : None\n",
      "value               : [0.8125 0.1875]\n",
      "parent              : 3\n",
      "is_left             : False\n",
      "left                : None\n",
      "right               : None\n",
      "n_train             : 43\n",
      "n_samples           : 0\n",
      "\n",
      "node 7\n",
      "id                  : 7\n",
      "feature             : None\n",
      "threshold           : None\n",
      "value               : [0.8125 0.1875]\n",
      "parent              : 5\n",
      "is_left             : False\n",
      "left                : None\n",
      "right               : None\n",
      "n_train             : 43\n",
      "n_samples           : 0\n",
      "\n",
      "node 8\n",
      "id                  : 8\n",
      "feature             : 7\n",
      "threshold           : 0.05128\n",
      "value               : [0.85483745 0.14516255]\n",
      "parent              : 0\n",
      "is_left             : False\n",
      "left                : 9\n",
      "right               : 40\n",
      "n_train             : 155\n",
      "n_samples           : 0\n",
      "\n",
      "node 9\n",
      "id                  : 9\n",
      "feature             : None\n",
      "threshold           : None\n",
      "value               : [0.1461959 0.8538041]\n",
      "parent              : 8\n",
      "is_left             : True\n",
      "left                : None\n",
      "right               : None\n",
      "n_train             : 1\n",
      "n_samples           : 0\n",
      "\n",
      "node 10\n",
      "id                  : 10\n",
      "feature             : None\n",
      "threshold           : None\n",
      "value               : [0.1461959 0.8538041]\n",
      "parent              : 9\n",
      "is_left             : True\n",
      "left                : None\n",
      "right               : None\n",
      "n_train             : 1\n",
      "n_samples           : 0\n",
      "\n",
      "node 11\n",
      "id                  : 11\n",
      "feature             : None\n",
      "threshold           : None\n",
      "value               : [0.1461959 0.8538041]\n",
      "parent              : 10\n",
      "is_left             : True\n",
      "left                : None\n",
      "right               : None\n",
      "n_train             : 1\n",
      "n_samples           : 0\n",
      "\n",
      "node 40\n",
      "id                  : 40\n",
      "feature             : 23\n",
      "threshold           : 686.20001\n",
      "value               : [0.85943902 0.14056098]\n",
      "parent              : 8\n",
      "is_left             : False\n",
      "left                : 41\n",
      "right               : 64\n",
      "n_train             : 154\n",
      "n_samples           : 0\n",
      "\n",
      "node 41\n",
      "id                  : 41\n",
      "feature             : None\n",
      "threshold           : None\n",
      "value               : [0.81966488 0.18033512]\n",
      "parent              : 40\n",
      "is_left             : True\n",
      "left                : None\n",
      "right               : None\n",
      "n_train             : 5\n",
      "n_samples           : 0\n",
      "\n",
      "node 42\n",
      "id                  : 42\n",
      "feature             : None\n",
      "threshold           : None\n",
      "value               : [0.81966488 0.18033512]\n",
      "parent              : 41\n",
      "is_left             : True\n",
      "left                : None\n",
      "right               : None\n",
      "n_train             : 5\n",
      "n_samples           : 0\n",
      "\n",
      "node 43\n",
      "id                  : 43\n",
      "feature             : None\n",
      "threshold           : None\n",
      "value               : [0.74644739 0.25355261]\n",
      "parent              : 42\n",
      "is_left             : True\n",
      "left                : None\n",
      "right               : None\n",
      "n_train             : 1\n",
      "n_samples           : 0\n",
      "\n",
      "node 44\n",
      "id                  : 44\n",
      "feature             : None\n",
      "threshold           : None\n",
      "value               : [0.74644739 0.25355261]\n",
      "parent              : 43\n",
      "is_left             : True\n",
      "left                : None\n",
      "right               : None\n",
      "n_train             : 1\n",
      "n_samples           : 0\n",
      "\n",
      "node 46\n",
      "id                  : 46\n",
      "feature             : None\n",
      "threshold           : None\n",
      "value               : [0.74644739 0.25355261]\n",
      "parent              : 44\n",
      "is_left             : False\n",
      "left                : None\n",
      "right               : None\n",
      "n_train             : 1\n",
      "n_samples           : 0\n",
      "\n",
      "node 48\n",
      "id                  : 48\n",
      "feature             : None\n",
      "threshold           : None\n",
      "value               : [0.83796926 0.16203074]\n",
      "parent              : 42\n",
      "is_left             : False\n",
      "left                : None\n",
      "right               : None\n",
      "n_train             : 4\n",
      "n_samples           : 0\n",
      "\n",
      "node 54\n",
      "id                  : 54\n",
      "feature             : None\n",
      "threshold           : None\n",
      "value               : [0.83796926 0.16203074]\n",
      "parent              : 48\n",
      "is_left             : False\n",
      "left                : None\n",
      "right               : None\n",
      "n_train             : 4\n",
      "n_samples           : 0\n",
      "\n",
      "node 64\n",
      "id                  : 64\n",
      "feature             : 13\n",
      "threshold           : 31.245\n",
      "value               : [0.86077372 0.13922628]\n",
      "parent              : 40\n",
      "is_left             : False\n",
      "left                : 65\n",
      "right               : 80\n",
      "n_train             : 149\n",
      "n_samples           : 0\n",
      "\n",
      "node 65\n",
      "id                  : 65\n",
      "feature             : 22\n",
      "threshold           : 101.3\n",
      "value               : [0.64707702 0.35292298]\n",
      "parent              : 64\n",
      "is_left             : True\n",
      "left                : 66\n",
      "right               : 77\n",
      "n_train             : 21\n",
      "n_samples           : 0\n",
      "\n",
      "node 66\n",
      "id                  : 66\n",
      "feature             : None\n",
      "threshold           : None\n",
      "value               : [0.85798414 0.14201586]\n",
      "parent              : 65\n",
      "is_left             : True\n",
      "left                : None\n",
      "right               : None\n",
      "n_train             : 1\n",
      "n_samples           : 0\n",
      "\n",
      "node 72\n",
      "id                  : 72\n",
      "feature             : None\n",
      "threshold           : None\n",
      "value               : [0.85798414 0.14201586]\n",
      "parent              : 66\n",
      "is_left             : False\n",
      "left                : None\n",
      "right               : None\n",
      "n_train             : 1\n",
      "n_samples           : 0\n",
      "\n",
      "node 76\n",
      "id                  : 76\n",
      "feature             : None\n",
      "threshold           : None\n",
      "value               : [0.85798414 0.14201586]\n",
      "parent              : 72\n",
      "is_left             : False\n",
      "left                : None\n",
      "right               : None\n",
      "n_train             : 1\n",
      "n_samples           : 0\n",
      "\n",
      "node 77\n",
      "id                  : 77\n",
      "feature             : 6\n",
      "threshold           : 0.09789\n",
      "value               : [0.63653166 0.36346834]\n",
      "parent              : 65\n",
      "is_left             : False\n",
      "left                : 78\n",
      "right               : 79\n",
      "n_train             : 20\n",
      "n_samples           : 0\n",
      "\n",
      "node 78\n",
      "id                  : 78\n",
      "feature             : None\n",
      "threshold           : None\n",
      "value               : [0.23653166 0.76346834]\n",
      "parent              : 77\n",
      "is_left             : True\n",
      "left                : None\n",
      "right               : None\n",
      "n_train             : 4\n",
      "n_samples           : 0\n",
      "\n",
      "node 79\n",
      "id                  : 79\n",
      "feature             : None\n",
      "threshold           : None\n",
      "value               : [0.73653166 0.26346834]\n",
      "parent              : 77\n",
      "is_left             : False\n",
      "left                : None\n",
      "right               : None\n",
      "n_train             : 16\n",
      "n_samples           : 0\n",
      "\n",
      "node 80\n",
      "id                  : 80\n",
      "feature             : None\n",
      "threshold           : None\n",
      "value               : [0.89583333 0.10416667]\n",
      "parent              : 64\n",
      "is_left             : False\n",
      "left                : None\n",
      "right               : None\n",
      "n_train             : 128\n",
      "n_samples           : 0\n"
     ]
    }
   ],
   "source": [
    "cancer_dt_viz = VizTree(cancer_dt, X, class_names)\n",
    "\n",
    "dtviz_ypred = cancer_dt_viz.predict(X_test)\n",
    "accuracy = accuracy_score(y_test, dtviz_ypred)\n",
    "print(f\"Accuracy:  {accuracy:.4f}\")\n",
    "\n",
    "cancer_fbt_viz.print_nodes('before number predict')\n"
   ]
  },
  {
   "cell_type": "markdown",
   "metadata": {},
   "source": [
    "# Visualization"
   ]
  },
  {
   "cell_type": "code",
   "execution_count": 16,
   "metadata": {},
   "outputs": [
    {
     "data": {
      "application/vnd.plotly.v1+json": {
       "config": {
        "plotlyServerURL": "https://plot.ly"
       },
       "data": [
        {
         "link": {
          "hovertemplate": "<b style \"font-size:14px;\">n_train:</b> %{value}<extra></extra>",
          "label": [
           "414",
           "357",
           "57",
           "14",
           "43",
           "155",
           "1",
           "154",
           "5",
           "149",
           "21",
           "1",
           "20",
           "4",
           "16",
           "128"
          ],
          "source": [
           0,
           1,
           1,
           3,
           3,
           0,
           6,
           6,
           8,
           8,
           10,
           11,
           11,
           13,
           13,
           10
          ],
          "target": [
           1,
           2,
           3,
           4,
           5,
           6,
           7,
           8,
           9,
           10,
           11,
           12,
           13,
           14,
           15,
           16
          ],
          "value": [
           414,
           357,
           57,
           14,
           43,
           155,
           1,
           154,
           5,
           149,
           21,
           1,
           20,
           4,
           16,
           128
          ]
         },
         "node": {
          "color": [
           "#EF553B",
           "#EF553B",
           "#EF553B",
           "#636EFA",
           "#EF553B",
           "#636EFA",
           "#636EFA",
           "#EF553B",
           "#636EFA",
           "#636EFA",
           "#636EFA",
           "#636EFA",
           "#636EFA",
           "#636EFA",
           "#EF553B",
           "#636EFA",
           "#636EFA"
          ],
          "customdata": [
           [
            "worst concave points<br>≤ 0.16",
            "[0.36 0.64]"
           ],
           [
            "worst radius<br>≤ 16.83",
            "[0.18 0.82]"
           ],
           [
            "",
            "[0.1 0.9]"
           ],
           [
            "area error<br>≤ 31.25",
            "[0.65 0.35]"
           ],
           [
            "",
            "[0.14 0.86]"
           ],
           [
            "",
            "[0.81 0.19]"
           ],
           [
            "mean concave points<br>≤ 0.05",
            "[0.85 0.15]"
           ],
           [
            "",
            "[0.15 0.85]"
           ],
           [
            "worst area<br>≤ 686.20",
            "[0.86 0.14]"
           ],
           [
            "",
            "[0.82 0.18]"
           ],
           [
            "area error<br>≤ 31.25",
            "[0.86 0.14]"
           ],
           [
            "worst perimeter<br>≤ 101.30",
            "[0.65 0.35]"
           ],
           [
            "",
            "[0.86 0.14]"
           ],
           [
            "mean concavity<br>≤ 0.10",
            "[0.64 0.36]"
           ],
           [
            "",
            "[0.24 0.76]"
           ],
           [
            "",
            "[0.74 0.26]"
           ],
           [
            "",
            "[0.9 0.1]"
           ]
          ],
          "hovertemplate": "<b style=\"font-size:14px;\">%{customdata[0]}</b><br><b style=\"font-size:14px;\">n_train:</b> %{value}<br><b style=\"font-size:14px;\">Value:</b> %{customdata[1]}<extra></extra>",
          "label": [
           "worst <br>≤ 0.16",
           "worst <br>≤ 16.83",
           "benign",
           "area e<br>≤ 31.25",
           "benign",
           "malignant",
           "mean c<br>≤ 0.05",
           "benign",
           "worst <br>≤ 686.20",
           "malignant",
           "area e<br>≤ 31.25",
           "worst <br>≤ 101.30",
           "malignant",
           "mean c<br>≤ 0.10",
           "benign",
           "malignant",
           "malignant"
          ],
          "line": {
           "color": "black",
           "width": 0.5
          },
          "pad": 15,
          "thickness": 20,
          "x": [
           0,
           0.16666666666666666,
           0.3333333333333333,
           0.3333333333333333,
           0.5,
           0.5,
           0.16666666666666666,
           0.3333333333333333,
           0.3333333333333333,
           0.5,
           0.5,
           0.6666666666666666,
           0.8333333333333334,
           0.8333333333333334,
           1,
           1,
           0.6666666666666666
          ],
          "y": [
           0.5,
           0.7209136793063284,
           0.8555498037185626,
           0.5862775548940944,
           0.6697367096616482,
           0.5028184001265404,
           0.2790863206936715,
           0.4062738162000489,
           0.1518988251872942,
           0.2381476208964238,
           0.06565002947816459,
           0.13130005895632918,
           0.18304142760594164,
           0.07955869030671671,
           0.12615755719482907,
           0.03295982341860435,
           0
          ]
         },
         "type": "sankey"
        }
       ],
       "layout": {
        "font": {
         "color": "black",
         "family": "Courier New",
         "size": 14
        },
        "template": {
         "data": {
          "bar": [
           {
            "error_x": {
             "color": "#2a3f5f"
            },
            "error_y": {
             "color": "#2a3f5f"
            },
            "marker": {
             "line": {
              "color": "#E5ECF6",
              "width": 0.5
             },
             "pattern": {
              "fillmode": "overlay",
              "size": 10,
              "solidity": 0.2
             }
            },
            "type": "bar"
           }
          ],
          "barpolar": [
           {
            "marker": {
             "line": {
              "color": "#E5ECF6",
              "width": 0.5
             },
             "pattern": {
              "fillmode": "overlay",
              "size": 10,
              "solidity": 0.2
             }
            },
            "type": "barpolar"
           }
          ],
          "carpet": [
           {
            "aaxis": {
             "endlinecolor": "#2a3f5f",
             "gridcolor": "white",
             "linecolor": "white",
             "minorgridcolor": "white",
             "startlinecolor": "#2a3f5f"
            },
            "baxis": {
             "endlinecolor": "#2a3f5f",
             "gridcolor": "white",
             "linecolor": "white",
             "minorgridcolor": "white",
             "startlinecolor": "#2a3f5f"
            },
            "type": "carpet"
           }
          ],
          "choropleth": [
           {
            "colorbar": {
             "outlinewidth": 0,
             "ticks": ""
            },
            "type": "choropleth"
           }
          ],
          "contour": [
           {
            "colorbar": {
             "outlinewidth": 0,
             "ticks": ""
            },
            "colorscale": [
             [
              0,
              "#0d0887"
             ],
             [
              0.1111111111111111,
              "#46039f"
             ],
             [
              0.2222222222222222,
              "#7201a8"
             ],
             [
              0.3333333333333333,
              "#9c179e"
             ],
             [
              0.4444444444444444,
              "#bd3786"
             ],
             [
              0.5555555555555556,
              "#d8576b"
             ],
             [
              0.6666666666666666,
              "#ed7953"
             ],
             [
              0.7777777777777778,
              "#fb9f3a"
             ],
             [
              0.8888888888888888,
              "#fdca26"
             ],
             [
              1,
              "#f0f921"
             ]
            ],
            "type": "contour"
           }
          ],
          "contourcarpet": [
           {
            "colorbar": {
             "outlinewidth": 0,
             "ticks": ""
            },
            "type": "contourcarpet"
           }
          ],
          "heatmap": [
           {
            "colorbar": {
             "outlinewidth": 0,
             "ticks": ""
            },
            "colorscale": [
             [
              0,
              "#0d0887"
             ],
             [
              0.1111111111111111,
              "#46039f"
             ],
             [
              0.2222222222222222,
              "#7201a8"
             ],
             [
              0.3333333333333333,
              "#9c179e"
             ],
             [
              0.4444444444444444,
              "#bd3786"
             ],
             [
              0.5555555555555556,
              "#d8576b"
             ],
             [
              0.6666666666666666,
              "#ed7953"
             ],
             [
              0.7777777777777778,
              "#fb9f3a"
             ],
             [
              0.8888888888888888,
              "#fdca26"
             ],
             [
              1,
              "#f0f921"
             ]
            ],
            "type": "heatmap"
           }
          ],
          "heatmapgl": [
           {
            "colorbar": {
             "outlinewidth": 0,
             "ticks": ""
            },
            "colorscale": [
             [
              0,
              "#0d0887"
             ],
             [
              0.1111111111111111,
              "#46039f"
             ],
             [
              0.2222222222222222,
              "#7201a8"
             ],
             [
              0.3333333333333333,
              "#9c179e"
             ],
             [
              0.4444444444444444,
              "#bd3786"
             ],
             [
              0.5555555555555556,
              "#d8576b"
             ],
             [
              0.6666666666666666,
              "#ed7953"
             ],
             [
              0.7777777777777778,
              "#fb9f3a"
             ],
             [
              0.8888888888888888,
              "#fdca26"
             ],
             [
              1,
              "#f0f921"
             ]
            ],
            "type": "heatmapgl"
           }
          ],
          "histogram": [
           {
            "marker": {
             "pattern": {
              "fillmode": "overlay",
              "size": 10,
              "solidity": 0.2
             }
            },
            "type": "histogram"
           }
          ],
          "histogram2d": [
           {
            "colorbar": {
             "outlinewidth": 0,
             "ticks": ""
            },
            "colorscale": [
             [
              0,
              "#0d0887"
             ],
             [
              0.1111111111111111,
              "#46039f"
             ],
             [
              0.2222222222222222,
              "#7201a8"
             ],
             [
              0.3333333333333333,
              "#9c179e"
             ],
             [
              0.4444444444444444,
              "#bd3786"
             ],
             [
              0.5555555555555556,
              "#d8576b"
             ],
             [
              0.6666666666666666,
              "#ed7953"
             ],
             [
              0.7777777777777778,
              "#fb9f3a"
             ],
             [
              0.8888888888888888,
              "#fdca26"
             ],
             [
              1,
              "#f0f921"
             ]
            ],
            "type": "histogram2d"
           }
          ],
          "histogram2dcontour": [
           {
            "colorbar": {
             "outlinewidth": 0,
             "ticks": ""
            },
            "colorscale": [
             [
              0,
              "#0d0887"
             ],
             [
              0.1111111111111111,
              "#46039f"
             ],
             [
              0.2222222222222222,
              "#7201a8"
             ],
             [
              0.3333333333333333,
              "#9c179e"
             ],
             [
              0.4444444444444444,
              "#bd3786"
             ],
             [
              0.5555555555555556,
              "#d8576b"
             ],
             [
              0.6666666666666666,
              "#ed7953"
             ],
             [
              0.7777777777777778,
              "#fb9f3a"
             ],
             [
              0.8888888888888888,
              "#fdca26"
             ],
             [
              1,
              "#f0f921"
             ]
            ],
            "type": "histogram2dcontour"
           }
          ],
          "mesh3d": [
           {
            "colorbar": {
             "outlinewidth": 0,
             "ticks": ""
            },
            "type": "mesh3d"
           }
          ],
          "parcoords": [
           {
            "line": {
             "colorbar": {
              "outlinewidth": 0,
              "ticks": ""
             }
            },
            "type": "parcoords"
           }
          ],
          "pie": [
           {
            "automargin": true,
            "type": "pie"
           }
          ],
          "scatter": [
           {
            "fillpattern": {
             "fillmode": "overlay",
             "size": 10,
             "solidity": 0.2
            },
            "type": "scatter"
           }
          ],
          "scatter3d": [
           {
            "line": {
             "colorbar": {
              "outlinewidth": 0,
              "ticks": ""
             }
            },
            "marker": {
             "colorbar": {
              "outlinewidth": 0,
              "ticks": ""
             }
            },
            "type": "scatter3d"
           }
          ],
          "scattercarpet": [
           {
            "marker": {
             "colorbar": {
              "outlinewidth": 0,
              "ticks": ""
             }
            },
            "type": "scattercarpet"
           }
          ],
          "scattergeo": [
           {
            "marker": {
             "colorbar": {
              "outlinewidth": 0,
              "ticks": ""
             }
            },
            "type": "scattergeo"
           }
          ],
          "scattergl": [
           {
            "marker": {
             "colorbar": {
              "outlinewidth": 0,
              "ticks": ""
             }
            },
            "type": "scattergl"
           }
          ],
          "scattermapbox": [
           {
            "marker": {
             "colorbar": {
              "outlinewidth": 0,
              "ticks": ""
             }
            },
            "type": "scattermapbox"
           }
          ],
          "scatterpolar": [
           {
            "marker": {
             "colorbar": {
              "outlinewidth": 0,
              "ticks": ""
             }
            },
            "type": "scatterpolar"
           }
          ],
          "scatterpolargl": [
           {
            "marker": {
             "colorbar": {
              "outlinewidth": 0,
              "ticks": ""
             }
            },
            "type": "scatterpolargl"
           }
          ],
          "scatterternary": [
           {
            "marker": {
             "colorbar": {
              "outlinewidth": 0,
              "ticks": ""
             }
            },
            "type": "scatterternary"
           }
          ],
          "surface": [
           {
            "colorbar": {
             "outlinewidth": 0,
             "ticks": ""
            },
            "colorscale": [
             [
              0,
              "#0d0887"
             ],
             [
              0.1111111111111111,
              "#46039f"
             ],
             [
              0.2222222222222222,
              "#7201a8"
             ],
             [
              0.3333333333333333,
              "#9c179e"
             ],
             [
              0.4444444444444444,
              "#bd3786"
             ],
             [
              0.5555555555555556,
              "#d8576b"
             ],
             [
              0.6666666666666666,
              "#ed7953"
             ],
             [
              0.7777777777777778,
              "#fb9f3a"
             ],
             [
              0.8888888888888888,
              "#fdca26"
             ],
             [
              1,
              "#f0f921"
             ]
            ],
            "type": "surface"
           }
          ],
          "table": [
           {
            "cells": {
             "fill": {
              "color": "#EBF0F8"
             },
             "line": {
              "color": "white"
             }
            },
            "header": {
             "fill": {
              "color": "#C8D4E3"
             },
             "line": {
              "color": "white"
             }
            },
            "type": "table"
           }
          ]
         },
         "layout": {
          "annotationdefaults": {
           "arrowcolor": "#2a3f5f",
           "arrowhead": 0,
           "arrowwidth": 1
          },
          "autotypenumbers": "strict",
          "coloraxis": {
           "colorbar": {
            "outlinewidth": 0,
            "ticks": ""
           }
          },
          "colorscale": {
           "diverging": [
            [
             0,
             "#8e0152"
            ],
            [
             0.1,
             "#c51b7d"
            ],
            [
             0.2,
             "#de77ae"
            ],
            [
             0.3,
             "#f1b6da"
            ],
            [
             0.4,
             "#fde0ef"
            ],
            [
             0.5,
             "#f7f7f7"
            ],
            [
             0.6,
             "#e6f5d0"
            ],
            [
             0.7,
             "#b8e186"
            ],
            [
             0.8,
             "#7fbc41"
            ],
            [
             0.9,
             "#4d9221"
            ],
            [
             1,
             "#276419"
            ]
           ],
           "sequential": [
            [
             0,
             "#0d0887"
            ],
            [
             0.1111111111111111,
             "#46039f"
            ],
            [
             0.2222222222222222,
             "#7201a8"
            ],
            [
             0.3333333333333333,
             "#9c179e"
            ],
            [
             0.4444444444444444,
             "#bd3786"
            ],
            [
             0.5555555555555556,
             "#d8576b"
            ],
            [
             0.6666666666666666,
             "#ed7953"
            ],
            [
             0.7777777777777778,
             "#fb9f3a"
            ],
            [
             0.8888888888888888,
             "#fdca26"
            ],
            [
             1,
             "#f0f921"
            ]
           ],
           "sequentialminus": [
            [
             0,
             "#0d0887"
            ],
            [
             0.1111111111111111,
             "#46039f"
            ],
            [
             0.2222222222222222,
             "#7201a8"
            ],
            [
             0.3333333333333333,
             "#9c179e"
            ],
            [
             0.4444444444444444,
             "#bd3786"
            ],
            [
             0.5555555555555556,
             "#d8576b"
            ],
            [
             0.6666666666666666,
             "#ed7953"
            ],
            [
             0.7777777777777778,
             "#fb9f3a"
            ],
            [
             0.8888888888888888,
             "#fdca26"
            ],
            [
             1,
             "#f0f921"
            ]
           ]
          },
          "colorway": [
           "#636efa",
           "#EF553B",
           "#00cc96",
           "#ab63fa",
           "#FFA15A",
           "#19d3f3",
           "#FF6692",
           "#B6E880",
           "#FF97FF",
           "#FECB52"
          ],
          "font": {
           "color": "#2a3f5f"
          },
          "geo": {
           "bgcolor": "white",
           "lakecolor": "white",
           "landcolor": "#E5ECF6",
           "showlakes": true,
           "showland": true,
           "subunitcolor": "white"
          },
          "hoverlabel": {
           "align": "left"
          },
          "hovermode": "closest",
          "mapbox": {
           "style": "light"
          },
          "paper_bgcolor": "white",
          "plot_bgcolor": "#E5ECF6",
          "polar": {
           "angularaxis": {
            "gridcolor": "white",
            "linecolor": "white",
            "ticks": ""
           },
           "bgcolor": "#E5ECF6",
           "radialaxis": {
            "gridcolor": "white",
            "linecolor": "white",
            "ticks": ""
           }
          },
          "scene": {
           "xaxis": {
            "backgroundcolor": "#E5ECF6",
            "gridcolor": "white",
            "gridwidth": 2,
            "linecolor": "white",
            "showbackground": true,
            "ticks": "",
            "zerolinecolor": "white"
           },
           "yaxis": {
            "backgroundcolor": "#E5ECF6",
            "gridcolor": "white",
            "gridwidth": 2,
            "linecolor": "white",
            "showbackground": true,
            "ticks": "",
            "zerolinecolor": "white"
           },
           "zaxis": {
            "backgroundcolor": "#E5ECF6",
            "gridcolor": "white",
            "gridwidth": 2,
            "linecolor": "white",
            "showbackground": true,
            "ticks": "",
            "zerolinecolor": "white"
           }
          },
          "shapedefaults": {
           "line": {
            "color": "#2a3f5f"
           }
          },
          "ternary": {
           "aaxis": {
            "gridcolor": "white",
            "linecolor": "white",
            "ticks": ""
           },
           "baxis": {
            "gridcolor": "white",
            "linecolor": "white",
            "ticks": ""
           },
           "bgcolor": "#E5ECF6",
           "caxis": {
            "gridcolor": "white",
            "linecolor": "white",
            "ticks": ""
           }
          },
          "title": {
           "x": 0.05
          },
          "xaxis": {
           "automargin": true,
           "gridcolor": "white",
           "linecolor": "white",
           "ticks": "",
           "title": {
            "standoff": 15
           },
           "zerolinecolor": "white",
           "zerolinewidth": 2
          },
          "yaxis": {
           "automargin": true,
           "gridcolor": "white",
           "linecolor": "white",
           "ticks": "",
           "title": {
            "standoff": 15
           },
           "zerolinecolor": "white",
           "zerolinewidth": 2
          }
         }
        }
       }
      }
     },
     "metadata": {},
     "output_type": "display_data"
    }
   ],
   "source": [
    "pruned_fbt = cancer_fbt_viz.prune(10)\n",
    "fbt_sankey = SankeyTreePlot(pruned_fbt)\n",
    "\n",
    "fbt_sankey.show()"
   ]
  },
  {
   "cell_type": "code",
   "execution_count": 17,
   "metadata": {},
   "outputs": [
    {
     "data": {
      "application/vnd.plotly.v1+json": {
       "config": {
        "plotlyServerURL": "https://plot.ly"
       },
       "data": [
        {
         "link": {
          "hovertemplate": "<b style \"font-size:14px;\">n_train:</b> %{value}<extra></extra>",
          "label": [
           "414",
           "357",
           "57",
           "14",
           "43",
           "155",
           "1",
           "154",
           "5",
           "149",
           "21",
           "1",
           "20",
           "4",
           "16",
           "128"
          ],
          "source": [
           0,
           1,
           1,
           3,
           3,
           0,
           6,
           6,
           8,
           8,
           10,
           11,
           11,
           13,
           13,
           10
          ],
          "target": [
           1,
           2,
           3,
           4,
           5,
           6,
           7,
           8,
           9,
           10,
           11,
           12,
           13,
           14,
           15,
           16
          ],
          "value": [
           414,
           357,
           57,
           14,
           43,
           155,
           1,
           154,
           5,
           149,
           21,
           1,
           20,
           4,
           16,
           128
          ]
         },
         "node": {
          "color": [
           "#EF553B",
           "#EF553B",
           "#EF553B",
           "#636EFA",
           "#EF553B",
           "#636EFA",
           "#636EFA",
           "#EF553B",
           "#636EFA",
           "#636EFA",
           "#636EFA",
           "#636EFA",
           "#636EFA",
           "#636EFA",
           "#EF553B",
           "#636EFA",
           "#636EFA"
          ],
          "customdata": [
           [
            "worst concave points<br>≤ 0.16",
            "[0.36 0.64]"
           ],
           [
            "worst radius<br>≤ 16.83",
            "[0.18 0.82]"
           ],
           [
            "",
            "[0.1 0.9]"
           ],
           [
            "area error<br>≤ 31.25",
            "[0.65 0.35]"
           ],
           [
            "",
            "[0.14 0.86]"
           ],
           [
            "",
            "[0.81 0.19]"
           ],
           [
            "mean concave points<br>≤ 0.05",
            "[0.85 0.15]"
           ],
           [
            "",
            "[0.15 0.85]"
           ],
           [
            "worst area<br>≤ 686.20",
            "[0.86 0.14]"
           ],
           [
            "",
            "[0.82 0.18]"
           ],
           [
            "area error<br>≤ 31.25",
            "[0.86 0.14]"
           ],
           [
            "worst perimeter<br>≤ 101.30",
            "[0.65 0.35]"
           ],
           [
            "",
            "[0.86 0.14]"
           ],
           [
            "mean concavity<br>≤ 0.10",
            "[0.64 0.36]"
           ],
           [
            "",
            "[0.24 0.76]"
           ],
           [
            "",
            "[0.74 0.26]"
           ],
           [
            "",
            "[0.9 0.1]"
           ]
          ],
          "hovertemplate": "<b style=\"font-size:14px;\">%{customdata[0]}</b><br><b style=\"font-size:14px;\">n_train:</b> %{value}<br><b style=\"font-size:14px;\">Value:</b> %{customdata[1]}<extra></extra>",
          "label": [
           "worst <br>≤ 0.16",
           "worst <br>≤ 16.83",
           "benign",
           "area e<br>≤ 31.25",
           "benign",
           "malignant",
           "mean c<br>≤ 0.05",
           "benign",
           "worst <br>≤ 686.20",
           "malignant",
           "area e<br>≤ 31.25",
           "worst <br>≤ 101.30",
           "malignant",
           "mean c<br>≤ 0.10",
           "benign",
           "malignant",
           "malignant"
          ],
          "line": {
           "color": "black",
           "width": 0.5
          },
          "pad": 15,
          "thickness": 20,
          "x": [
           0,
           0.16666666666666666,
           0.3333333333333333,
           0.3333333333333333,
           0.5,
           0.5,
           0.16666666666666666,
           0.3333333333333333,
           0.3333333333333333,
           0.5,
           0.5,
           0.6666666666666666,
           0.8333333333333334,
           0.8333333333333334,
           1,
           1,
           0.6666666666666666
          ],
          "y": [
           0.5,
           0.7209136793063284,
           0.8555498037185626,
           0.5862775548940944,
           0.6697367096616482,
           0.5028184001265404,
           0.2790863206936715,
           0.4062738162000489,
           0.1518988251872942,
           0.2381476208964238,
           0.06565002947816459,
           0.13130005895632918,
           0.18304142760594164,
           0.07955869030671671,
           0.12615755719482907,
           0.03295982341860435,
           0
          ]
         },
         "type": "sankey"
        }
       ],
       "layout": {
        "font": {
         "color": "black",
         "family": "Courier New",
         "size": 14
        },
        "template": {
         "data": {
          "bar": [
           {
            "error_x": {
             "color": "#2a3f5f"
            },
            "error_y": {
             "color": "#2a3f5f"
            },
            "marker": {
             "line": {
              "color": "#E5ECF6",
              "width": 0.5
             },
             "pattern": {
              "fillmode": "overlay",
              "size": 10,
              "solidity": 0.2
             }
            },
            "type": "bar"
           }
          ],
          "barpolar": [
           {
            "marker": {
             "line": {
              "color": "#E5ECF6",
              "width": 0.5
             },
             "pattern": {
              "fillmode": "overlay",
              "size": 10,
              "solidity": 0.2
             }
            },
            "type": "barpolar"
           }
          ],
          "carpet": [
           {
            "aaxis": {
             "endlinecolor": "#2a3f5f",
             "gridcolor": "white",
             "linecolor": "white",
             "minorgridcolor": "white",
             "startlinecolor": "#2a3f5f"
            },
            "baxis": {
             "endlinecolor": "#2a3f5f",
             "gridcolor": "white",
             "linecolor": "white",
             "minorgridcolor": "white",
             "startlinecolor": "#2a3f5f"
            },
            "type": "carpet"
           }
          ],
          "choropleth": [
           {
            "colorbar": {
             "outlinewidth": 0,
             "ticks": ""
            },
            "type": "choropleth"
           }
          ],
          "contour": [
           {
            "colorbar": {
             "outlinewidth": 0,
             "ticks": ""
            },
            "colorscale": [
             [
              0,
              "#0d0887"
             ],
             [
              0.1111111111111111,
              "#46039f"
             ],
             [
              0.2222222222222222,
              "#7201a8"
             ],
             [
              0.3333333333333333,
              "#9c179e"
             ],
             [
              0.4444444444444444,
              "#bd3786"
             ],
             [
              0.5555555555555556,
              "#d8576b"
             ],
             [
              0.6666666666666666,
              "#ed7953"
             ],
             [
              0.7777777777777778,
              "#fb9f3a"
             ],
             [
              0.8888888888888888,
              "#fdca26"
             ],
             [
              1,
              "#f0f921"
             ]
            ],
            "type": "contour"
           }
          ],
          "contourcarpet": [
           {
            "colorbar": {
             "outlinewidth": 0,
             "ticks": ""
            },
            "type": "contourcarpet"
           }
          ],
          "heatmap": [
           {
            "colorbar": {
             "outlinewidth": 0,
             "ticks": ""
            },
            "colorscale": [
             [
              0,
              "#0d0887"
             ],
             [
              0.1111111111111111,
              "#46039f"
             ],
             [
              0.2222222222222222,
              "#7201a8"
             ],
             [
              0.3333333333333333,
              "#9c179e"
             ],
             [
              0.4444444444444444,
              "#bd3786"
             ],
             [
              0.5555555555555556,
              "#d8576b"
             ],
             [
              0.6666666666666666,
              "#ed7953"
             ],
             [
              0.7777777777777778,
              "#fb9f3a"
             ],
             [
              0.8888888888888888,
              "#fdca26"
             ],
             [
              1,
              "#f0f921"
             ]
            ],
            "type": "heatmap"
           }
          ],
          "heatmapgl": [
           {
            "colorbar": {
             "outlinewidth": 0,
             "ticks": ""
            },
            "colorscale": [
             [
              0,
              "#0d0887"
             ],
             [
              0.1111111111111111,
              "#46039f"
             ],
             [
              0.2222222222222222,
              "#7201a8"
             ],
             [
              0.3333333333333333,
              "#9c179e"
             ],
             [
              0.4444444444444444,
              "#bd3786"
             ],
             [
              0.5555555555555556,
              "#d8576b"
             ],
             [
              0.6666666666666666,
              "#ed7953"
             ],
             [
              0.7777777777777778,
              "#fb9f3a"
             ],
             [
              0.8888888888888888,
              "#fdca26"
             ],
             [
              1,
              "#f0f921"
             ]
            ],
            "type": "heatmapgl"
           }
          ],
          "histogram": [
           {
            "marker": {
             "pattern": {
              "fillmode": "overlay",
              "size": 10,
              "solidity": 0.2
             }
            },
            "type": "histogram"
           }
          ],
          "histogram2d": [
           {
            "colorbar": {
             "outlinewidth": 0,
             "ticks": ""
            },
            "colorscale": [
             [
              0,
              "#0d0887"
             ],
             [
              0.1111111111111111,
              "#46039f"
             ],
             [
              0.2222222222222222,
              "#7201a8"
             ],
             [
              0.3333333333333333,
              "#9c179e"
             ],
             [
              0.4444444444444444,
              "#bd3786"
             ],
             [
              0.5555555555555556,
              "#d8576b"
             ],
             [
              0.6666666666666666,
              "#ed7953"
             ],
             [
              0.7777777777777778,
              "#fb9f3a"
             ],
             [
              0.8888888888888888,
              "#fdca26"
             ],
             [
              1,
              "#f0f921"
             ]
            ],
            "type": "histogram2d"
           }
          ],
          "histogram2dcontour": [
           {
            "colorbar": {
             "outlinewidth": 0,
             "ticks": ""
            },
            "colorscale": [
             [
              0,
              "#0d0887"
             ],
             [
              0.1111111111111111,
              "#46039f"
             ],
             [
              0.2222222222222222,
              "#7201a8"
             ],
             [
              0.3333333333333333,
              "#9c179e"
             ],
             [
              0.4444444444444444,
              "#bd3786"
             ],
             [
              0.5555555555555556,
              "#d8576b"
             ],
             [
              0.6666666666666666,
              "#ed7953"
             ],
             [
              0.7777777777777778,
              "#fb9f3a"
             ],
             [
              0.8888888888888888,
              "#fdca26"
             ],
             [
              1,
              "#f0f921"
             ]
            ],
            "type": "histogram2dcontour"
           }
          ],
          "mesh3d": [
           {
            "colorbar": {
             "outlinewidth": 0,
             "ticks": ""
            },
            "type": "mesh3d"
           }
          ],
          "parcoords": [
           {
            "line": {
             "colorbar": {
              "outlinewidth": 0,
              "ticks": ""
             }
            },
            "type": "parcoords"
           }
          ],
          "pie": [
           {
            "automargin": true,
            "type": "pie"
           }
          ],
          "scatter": [
           {
            "fillpattern": {
             "fillmode": "overlay",
             "size": 10,
             "solidity": 0.2
            },
            "type": "scatter"
           }
          ],
          "scatter3d": [
           {
            "line": {
             "colorbar": {
              "outlinewidth": 0,
              "ticks": ""
             }
            },
            "marker": {
             "colorbar": {
              "outlinewidth": 0,
              "ticks": ""
             }
            },
            "type": "scatter3d"
           }
          ],
          "scattercarpet": [
           {
            "marker": {
             "colorbar": {
              "outlinewidth": 0,
              "ticks": ""
             }
            },
            "type": "scattercarpet"
           }
          ],
          "scattergeo": [
           {
            "marker": {
             "colorbar": {
              "outlinewidth": 0,
              "ticks": ""
             }
            },
            "type": "scattergeo"
           }
          ],
          "scattergl": [
           {
            "marker": {
             "colorbar": {
              "outlinewidth": 0,
              "ticks": ""
             }
            },
            "type": "scattergl"
           }
          ],
          "scattermapbox": [
           {
            "marker": {
             "colorbar": {
              "outlinewidth": 0,
              "ticks": ""
             }
            },
            "type": "scattermapbox"
           }
          ],
          "scatterpolar": [
           {
            "marker": {
             "colorbar": {
              "outlinewidth": 0,
              "ticks": ""
             }
            },
            "type": "scatterpolar"
           }
          ],
          "scatterpolargl": [
           {
            "marker": {
             "colorbar": {
              "outlinewidth": 0,
              "ticks": ""
             }
            },
            "type": "scatterpolargl"
           }
          ],
          "scatterternary": [
           {
            "marker": {
             "colorbar": {
              "outlinewidth": 0,
              "ticks": ""
             }
            },
            "type": "scatterternary"
           }
          ],
          "surface": [
           {
            "colorbar": {
             "outlinewidth": 0,
             "ticks": ""
            },
            "colorscale": [
             [
              0,
              "#0d0887"
             ],
             [
              0.1111111111111111,
              "#46039f"
             ],
             [
              0.2222222222222222,
              "#7201a8"
             ],
             [
              0.3333333333333333,
              "#9c179e"
             ],
             [
              0.4444444444444444,
              "#bd3786"
             ],
             [
              0.5555555555555556,
              "#d8576b"
             ],
             [
              0.6666666666666666,
              "#ed7953"
             ],
             [
              0.7777777777777778,
              "#fb9f3a"
             ],
             [
              0.8888888888888888,
              "#fdca26"
             ],
             [
              1,
              "#f0f921"
             ]
            ],
            "type": "surface"
           }
          ],
          "table": [
           {
            "cells": {
             "fill": {
              "color": "#EBF0F8"
             },
             "line": {
              "color": "white"
             }
            },
            "header": {
             "fill": {
              "color": "#C8D4E3"
             },
             "line": {
              "color": "white"
             }
            },
            "type": "table"
           }
          ]
         },
         "layout": {
          "annotationdefaults": {
           "arrowcolor": "#2a3f5f",
           "arrowhead": 0,
           "arrowwidth": 1
          },
          "autotypenumbers": "strict",
          "coloraxis": {
           "colorbar": {
            "outlinewidth": 0,
            "ticks": ""
           }
          },
          "colorscale": {
           "diverging": [
            [
             0,
             "#8e0152"
            ],
            [
             0.1,
             "#c51b7d"
            ],
            [
             0.2,
             "#de77ae"
            ],
            [
             0.3,
             "#f1b6da"
            ],
            [
             0.4,
             "#fde0ef"
            ],
            [
             0.5,
             "#f7f7f7"
            ],
            [
             0.6,
             "#e6f5d0"
            ],
            [
             0.7,
             "#b8e186"
            ],
            [
             0.8,
             "#7fbc41"
            ],
            [
             0.9,
             "#4d9221"
            ],
            [
             1,
             "#276419"
            ]
           ],
           "sequential": [
            [
             0,
             "#0d0887"
            ],
            [
             0.1111111111111111,
             "#46039f"
            ],
            [
             0.2222222222222222,
             "#7201a8"
            ],
            [
             0.3333333333333333,
             "#9c179e"
            ],
            [
             0.4444444444444444,
             "#bd3786"
            ],
            [
             0.5555555555555556,
             "#d8576b"
            ],
            [
             0.6666666666666666,
             "#ed7953"
            ],
            [
             0.7777777777777778,
             "#fb9f3a"
            ],
            [
             0.8888888888888888,
             "#fdca26"
            ],
            [
             1,
             "#f0f921"
            ]
           ],
           "sequentialminus": [
            [
             0,
             "#0d0887"
            ],
            [
             0.1111111111111111,
             "#46039f"
            ],
            [
             0.2222222222222222,
             "#7201a8"
            ],
            [
             0.3333333333333333,
             "#9c179e"
            ],
            [
             0.4444444444444444,
             "#bd3786"
            ],
            [
             0.5555555555555556,
             "#d8576b"
            ],
            [
             0.6666666666666666,
             "#ed7953"
            ],
            [
             0.7777777777777778,
             "#fb9f3a"
            ],
            [
             0.8888888888888888,
             "#fdca26"
            ],
            [
             1,
             "#f0f921"
            ]
           ]
          },
          "colorway": [
           "#636efa",
           "#EF553B",
           "#00cc96",
           "#ab63fa",
           "#FFA15A",
           "#19d3f3",
           "#FF6692",
           "#B6E880",
           "#FF97FF",
           "#FECB52"
          ],
          "font": {
           "color": "#2a3f5f"
          },
          "geo": {
           "bgcolor": "white",
           "lakecolor": "white",
           "landcolor": "#E5ECF6",
           "showlakes": true,
           "showland": true,
           "subunitcolor": "white"
          },
          "hoverlabel": {
           "align": "left"
          },
          "hovermode": "closest",
          "mapbox": {
           "style": "light"
          },
          "paper_bgcolor": "white",
          "plot_bgcolor": "#E5ECF6",
          "polar": {
           "angularaxis": {
            "gridcolor": "white",
            "linecolor": "white",
            "ticks": ""
           },
           "bgcolor": "#E5ECF6",
           "radialaxis": {
            "gridcolor": "white",
            "linecolor": "white",
            "ticks": ""
           }
          },
          "scene": {
           "xaxis": {
            "backgroundcolor": "#E5ECF6",
            "gridcolor": "white",
            "gridwidth": 2,
            "linecolor": "white",
            "showbackground": true,
            "ticks": "",
            "zerolinecolor": "white"
           },
           "yaxis": {
            "backgroundcolor": "#E5ECF6",
            "gridcolor": "white",
            "gridwidth": 2,
            "linecolor": "white",
            "showbackground": true,
            "ticks": "",
            "zerolinecolor": "white"
           },
           "zaxis": {
            "backgroundcolor": "#E5ECF6",
            "gridcolor": "white",
            "gridwidth": 2,
            "linecolor": "white",
            "showbackground": true,
            "ticks": "",
            "zerolinecolor": "white"
           }
          },
          "shapedefaults": {
           "line": {
            "color": "#2a3f5f"
           }
          },
          "ternary": {
           "aaxis": {
            "gridcolor": "white",
            "linecolor": "white",
            "ticks": ""
           },
           "baxis": {
            "gridcolor": "white",
            "linecolor": "white",
            "ticks": ""
           },
           "bgcolor": "#E5ECF6",
           "caxis": {
            "gridcolor": "white",
            "linecolor": "white",
            "ticks": ""
           }
          },
          "title": {
           "x": 0.05
          },
          "xaxis": {
           "automargin": true,
           "gridcolor": "white",
           "linecolor": "white",
           "ticks": "",
           "title": {
            "standoff": 15
           },
           "zerolinecolor": "white",
           "zerolinewidth": 2
          },
          "yaxis": {
           "automargin": true,
           "gridcolor": "white",
           "linecolor": "white",
           "ticks": "",
           "title": {
            "standoff": 15
           },
           "zerolinecolor": "white",
           "zerolinewidth": 2
          }
         }
        }
       }
      }
     },
     "metadata": {},
     "output_type": "display_data"
    }
   ],
   "source": [
    "fbt_sankey = SankeyTreePlot(pruned_fbt)\n",
    "fbt_sankey.show()\n"
   ]
  },
  {
   "cell_type": "code",
   "execution_count": 18,
   "metadata": {},
   "outputs": [
    {
     "data": {
      "text/html": [
       "\n",
       "        <iframe\n",
       "            width=\"100%\"\n",
       "            height=\"650\"\n",
       "            src=\"http://127.0.0.1:8060/\"\n",
       "            frameborder=\"0\"\n",
       "            allowfullscreen\n",
       "            \n",
       "        ></iframe>\n",
       "        "
      ],
      "text/plain": [
       "<IPython.lib.display.IFrame at 0x7efe70875780>"
      ]
     },
     "metadata": {},
     "output_type": "display_data"
    }
   ],
   "source": [
    "X_test = iris_X_test\n",
    "y_test = iris_y_test\n",
    "\n",
    "pruned_fbt = iris_fbt_viz.prune(100)\n",
    "fbt_dash = VizTreeDashboard(pruned_fbt, X_test, y_test)\n",
    "fbt_dash.run(port=8060)"
   ]
  },
  {
   "cell_type": "code",
   "execution_count": 19,
   "metadata": {},
   "outputs": [
    {
     "name": "stdout",
     "output_type": "stream",
     "text": [
      "Original Tree:\n"
     ]
    },
    {
     "data": {
      "application/vnd.plotly.v1+json": {
       "config": {
        "plotlyServerURL": "https://plot.ly"
       },
       "data": [
        {
         "link": {
          "hovertemplate": "<b style \"font-size:14px;\">n_train:</b> %{value}<extra></extra>",
          "label": [
           "349",
           "328",
           "325",
           "323",
           "2",
           "3",
           "1",
           "2",
           "21",
           "6",
           "15",
           "3",
           "12",
           "220",
           "24",
           "17",
           "7",
           "196",
           "17",
           "9",
           "8",
           "179"
          ],
          "source": [
           0,
           1,
           2,
           3,
           3,
           2,
           6,
           6,
           1,
           9,
           9,
           11,
           11,
           0,
           14,
           15,
           15,
           14,
           18,
           19,
           19,
           18
          ],
          "target": [
           1,
           2,
           3,
           4,
           5,
           6,
           7,
           8,
           9,
           10,
           11,
           12,
           13,
           14,
           15,
           16,
           17,
           18,
           19,
           20,
           21,
           22
          ],
          "value": [
           349,
           328,
           325,
           323,
           2,
           3,
           1,
           2,
           21,
           6,
           15,
           3,
           12,
           220,
           24,
           17,
           7,
           196,
           17,
           9,
           8,
           179
          ]
         },
         "node": {
          "color": [
           "#EF553B",
           "#EF553B",
           "#EF553B",
           "#EF553B",
           "#EF553B",
           "#636EFA",
           "#636EFA",
           "#EF553B",
           "#636EFA",
           "#636EFA",
           "#EF553B",
           "#636EFA",
           "#EF553B",
           "#636EFA",
           "#636EFA",
           "#EF553B",
           "#EF553B",
           "#636EFA",
           "#636EFA",
           "#EF553B",
           "#EF553B",
           "#636EFA",
           "#636EFA"
          ],
          "customdata": [
           [
            "mean concave points<br>≤ 0.05",
            "[0.37 0.63]"
           ],
           [
            "worst radius<br>≤ 16.83",
            "[0.05 0.95]"
           ],
           [
            "area error<br>≤ 48.70",
            "[0.02 0.98]"
           ],
           [
            "worst smoothness<br>≤ 0.18",
            "[0.01 0.99]"
           ],
           [
            "",
            "[0.01 0.99]"
           ],
           [
            "",
            "[1. 0.]"
           ],
           [
            "texture error<br>≤ 1.93",
            "[0.67 0.33]"
           ],
           [
            "",
            "[0. 1.]"
           ],
           [
            "",
            "[1. 0.]"
           ],
           [
            "worst texture<br>≤ 19.91",
            "[0.57 0.43]"
           ],
           [
            "",
            "[0. 1.]"
           ],
           [
            "worst fractal dimension<br>≤ 0.06",
            "[0.8 0.2]"
           ],
           [
            "",
            "[0. 1.]"
           ],
           [
            "",
            "[1. 0.]"
           ],
           [
            "worst texture<br>≤ 20.40",
            "[0.88 0.12]"
           ],
           [
            "worst area<br>≤ 1012.40",
            "[0.29 0.71]"
           ],
           [
            "",
            "[0. 1.]"
           ],
           [
            "",
            "[1. 0.]"
           ],
           [
            "worst area<br>≤ 718.65",
            "[0.95 0.05]"
           ],
           [
            "worst texture<br>≤ 25.92",
            "[0.47 0.53]"
           ],
           [
            "",
            "[0. 1.]"
           ],
           [
            "",
            "[1. 0.]"
           ],
           [
            "",
            "[1. 0.]"
           ]
          ],
          "hovertemplate": "<b style=\"font-size:14px;\">%{customdata[0]}</b><br><b style=\"font-size:14px;\">n_train:</b> %{value}<br><b style=\"font-size:14px;\">Value:</b> %{customdata[1]}<extra></extra>",
          "label": [
           "mean c<br>≤ 0.05",
           "worst <br>≤ 16.83",
           "area e<br>≤ 48.70",
           "worst <br>≤ 0.18",
           "benign",
           "malignant",
           "textur<br>≤ 1.93",
           "benign",
           "malignant",
           "worst <br>≤ 19.91",
           "benign",
           "worst <br>≤ 0.06",
           "benign",
           "malignant",
           "worst <br>≤ 20.40",
           "worst <br>≤ 1012.40",
           "benign",
           "malignant",
           "worst <br>≤ 718.65",
           "worst <br>≤ 25.92",
           "benign",
           "malignant",
           "malignant"
          ],
          "line": {
           "color": "black",
           "width": 0.5
          },
          "pad": 15,
          "thickness": 20,
          "x": [
           0,
           0.25,
           0.5,
           0.75,
           1,
           1,
           0.75,
           1,
           1,
           0.5,
           0.75,
           0.75,
           1,
           1,
           0.25,
           0.5,
           0.75,
           0.75,
           0.5,
           0.75,
           1,
           1,
           0.75
          ],
          "y": [
           0.5,
           0.6919950775582308,
           0.8187876502287545,
           0.9165120133382293,
           1,
           0.8330240266764586,
           0.7210632871192799,
           0.791768804025287,
           0.6503577702132727,
           0.5652025048877067,
           0.6507398549070591,
           0.4796651548683545,
           0.5508470371068745,
           0.40848327262983436,
           0.3080049224417693,
           0.42967656778777924,
           0.5153330091402598,
           0.34402012643529867,
           0.18633327709575936,
           0.2788176215475919,
           0.35007889800819747,
           0.2075563450869863,
           0.09384893264392687
          ]
         },
         "type": "sankey"
        }
       ],
       "layout": {
        "font": {
         "color": "black",
         "family": "Courier New",
         "size": 14
        },
        "template": {
         "data": {
          "bar": [
           {
            "error_x": {
             "color": "#2a3f5f"
            },
            "error_y": {
             "color": "#2a3f5f"
            },
            "marker": {
             "line": {
              "color": "#E5ECF6",
              "width": 0.5
             },
             "pattern": {
              "fillmode": "overlay",
              "size": 10,
              "solidity": 0.2
             }
            },
            "type": "bar"
           }
          ],
          "barpolar": [
           {
            "marker": {
             "line": {
              "color": "#E5ECF6",
              "width": 0.5
             },
             "pattern": {
              "fillmode": "overlay",
              "size": 10,
              "solidity": 0.2
             }
            },
            "type": "barpolar"
           }
          ],
          "carpet": [
           {
            "aaxis": {
             "endlinecolor": "#2a3f5f",
             "gridcolor": "white",
             "linecolor": "white",
             "minorgridcolor": "white",
             "startlinecolor": "#2a3f5f"
            },
            "baxis": {
             "endlinecolor": "#2a3f5f",
             "gridcolor": "white",
             "linecolor": "white",
             "minorgridcolor": "white",
             "startlinecolor": "#2a3f5f"
            },
            "type": "carpet"
           }
          ],
          "choropleth": [
           {
            "colorbar": {
             "outlinewidth": 0,
             "ticks": ""
            },
            "type": "choropleth"
           }
          ],
          "contour": [
           {
            "colorbar": {
             "outlinewidth": 0,
             "ticks": ""
            },
            "colorscale": [
             [
              0,
              "#0d0887"
             ],
             [
              0.1111111111111111,
              "#46039f"
             ],
             [
              0.2222222222222222,
              "#7201a8"
             ],
             [
              0.3333333333333333,
              "#9c179e"
             ],
             [
              0.4444444444444444,
              "#bd3786"
             ],
             [
              0.5555555555555556,
              "#d8576b"
             ],
             [
              0.6666666666666666,
              "#ed7953"
             ],
             [
              0.7777777777777778,
              "#fb9f3a"
             ],
             [
              0.8888888888888888,
              "#fdca26"
             ],
             [
              1,
              "#f0f921"
             ]
            ],
            "type": "contour"
           }
          ],
          "contourcarpet": [
           {
            "colorbar": {
             "outlinewidth": 0,
             "ticks": ""
            },
            "type": "contourcarpet"
           }
          ],
          "heatmap": [
           {
            "colorbar": {
             "outlinewidth": 0,
             "ticks": ""
            },
            "colorscale": [
             [
              0,
              "#0d0887"
             ],
             [
              0.1111111111111111,
              "#46039f"
             ],
             [
              0.2222222222222222,
              "#7201a8"
             ],
             [
              0.3333333333333333,
              "#9c179e"
             ],
             [
              0.4444444444444444,
              "#bd3786"
             ],
             [
              0.5555555555555556,
              "#d8576b"
             ],
             [
              0.6666666666666666,
              "#ed7953"
             ],
             [
              0.7777777777777778,
              "#fb9f3a"
             ],
             [
              0.8888888888888888,
              "#fdca26"
             ],
             [
              1,
              "#f0f921"
             ]
            ],
            "type": "heatmap"
           }
          ],
          "heatmapgl": [
           {
            "colorbar": {
             "outlinewidth": 0,
             "ticks": ""
            },
            "colorscale": [
             [
              0,
              "#0d0887"
             ],
             [
              0.1111111111111111,
              "#46039f"
             ],
             [
              0.2222222222222222,
              "#7201a8"
             ],
             [
              0.3333333333333333,
              "#9c179e"
             ],
             [
              0.4444444444444444,
              "#bd3786"
             ],
             [
              0.5555555555555556,
              "#d8576b"
             ],
             [
              0.6666666666666666,
              "#ed7953"
             ],
             [
              0.7777777777777778,
              "#fb9f3a"
             ],
             [
              0.8888888888888888,
              "#fdca26"
             ],
             [
              1,
              "#f0f921"
             ]
            ],
            "type": "heatmapgl"
           }
          ],
          "histogram": [
           {
            "marker": {
             "pattern": {
              "fillmode": "overlay",
              "size": 10,
              "solidity": 0.2
             }
            },
            "type": "histogram"
           }
          ],
          "histogram2d": [
           {
            "colorbar": {
             "outlinewidth": 0,
             "ticks": ""
            },
            "colorscale": [
             [
              0,
              "#0d0887"
             ],
             [
              0.1111111111111111,
              "#46039f"
             ],
             [
              0.2222222222222222,
              "#7201a8"
             ],
             [
              0.3333333333333333,
              "#9c179e"
             ],
             [
              0.4444444444444444,
              "#bd3786"
             ],
             [
              0.5555555555555556,
              "#d8576b"
             ],
             [
              0.6666666666666666,
              "#ed7953"
             ],
             [
              0.7777777777777778,
              "#fb9f3a"
             ],
             [
              0.8888888888888888,
              "#fdca26"
             ],
             [
              1,
              "#f0f921"
             ]
            ],
            "type": "histogram2d"
           }
          ],
          "histogram2dcontour": [
           {
            "colorbar": {
             "outlinewidth": 0,
             "ticks": ""
            },
            "colorscale": [
             [
              0,
              "#0d0887"
             ],
             [
              0.1111111111111111,
              "#46039f"
             ],
             [
              0.2222222222222222,
              "#7201a8"
             ],
             [
              0.3333333333333333,
              "#9c179e"
             ],
             [
              0.4444444444444444,
              "#bd3786"
             ],
             [
              0.5555555555555556,
              "#d8576b"
             ],
             [
              0.6666666666666666,
              "#ed7953"
             ],
             [
              0.7777777777777778,
              "#fb9f3a"
             ],
             [
              0.8888888888888888,
              "#fdca26"
             ],
             [
              1,
              "#f0f921"
             ]
            ],
            "type": "histogram2dcontour"
           }
          ],
          "mesh3d": [
           {
            "colorbar": {
             "outlinewidth": 0,
             "ticks": ""
            },
            "type": "mesh3d"
           }
          ],
          "parcoords": [
           {
            "line": {
             "colorbar": {
              "outlinewidth": 0,
              "ticks": ""
             }
            },
            "type": "parcoords"
           }
          ],
          "pie": [
           {
            "automargin": true,
            "type": "pie"
           }
          ],
          "scatter": [
           {
            "fillpattern": {
             "fillmode": "overlay",
             "size": 10,
             "solidity": 0.2
            },
            "type": "scatter"
           }
          ],
          "scatter3d": [
           {
            "line": {
             "colorbar": {
              "outlinewidth": 0,
              "ticks": ""
             }
            },
            "marker": {
             "colorbar": {
              "outlinewidth": 0,
              "ticks": ""
             }
            },
            "type": "scatter3d"
           }
          ],
          "scattercarpet": [
           {
            "marker": {
             "colorbar": {
              "outlinewidth": 0,
              "ticks": ""
             }
            },
            "type": "scattercarpet"
           }
          ],
          "scattergeo": [
           {
            "marker": {
             "colorbar": {
              "outlinewidth": 0,
              "ticks": ""
             }
            },
            "type": "scattergeo"
           }
          ],
          "scattergl": [
           {
            "marker": {
             "colorbar": {
              "outlinewidth": 0,
              "ticks": ""
             }
            },
            "type": "scattergl"
           }
          ],
          "scattermapbox": [
           {
            "marker": {
             "colorbar": {
              "outlinewidth": 0,
              "ticks": ""
             }
            },
            "type": "scattermapbox"
           }
          ],
          "scatterpolar": [
           {
            "marker": {
             "colorbar": {
              "outlinewidth": 0,
              "ticks": ""
             }
            },
            "type": "scatterpolar"
           }
          ],
          "scatterpolargl": [
           {
            "marker": {
             "colorbar": {
              "outlinewidth": 0,
              "ticks": ""
             }
            },
            "type": "scatterpolargl"
           }
          ],
          "scatterternary": [
           {
            "marker": {
             "colorbar": {
              "outlinewidth": 0,
              "ticks": ""
             }
            },
            "type": "scatterternary"
           }
          ],
          "surface": [
           {
            "colorbar": {
             "outlinewidth": 0,
             "ticks": ""
            },
            "colorscale": [
             [
              0,
              "#0d0887"
             ],
             [
              0.1111111111111111,
              "#46039f"
             ],
             [
              0.2222222222222222,
              "#7201a8"
             ],
             [
              0.3333333333333333,
              "#9c179e"
             ],
             [
              0.4444444444444444,
              "#bd3786"
             ],
             [
              0.5555555555555556,
              "#d8576b"
             ],
             [
              0.6666666666666666,
              "#ed7953"
             ],
             [
              0.7777777777777778,
              "#fb9f3a"
             ],
             [
              0.8888888888888888,
              "#fdca26"
             ],
             [
              1,
              "#f0f921"
             ]
            ],
            "type": "surface"
           }
          ],
          "table": [
           {
            "cells": {
             "fill": {
              "color": "#EBF0F8"
             },
             "line": {
              "color": "white"
             }
            },
            "header": {
             "fill": {
              "color": "#C8D4E3"
             },
             "line": {
              "color": "white"
             }
            },
            "type": "table"
           }
          ]
         },
         "layout": {
          "annotationdefaults": {
           "arrowcolor": "#2a3f5f",
           "arrowhead": 0,
           "arrowwidth": 1
          },
          "autotypenumbers": "strict",
          "coloraxis": {
           "colorbar": {
            "outlinewidth": 0,
            "ticks": ""
           }
          },
          "colorscale": {
           "diverging": [
            [
             0,
             "#8e0152"
            ],
            [
             0.1,
             "#c51b7d"
            ],
            [
             0.2,
             "#de77ae"
            ],
            [
             0.3,
             "#f1b6da"
            ],
            [
             0.4,
             "#fde0ef"
            ],
            [
             0.5,
             "#f7f7f7"
            ],
            [
             0.6,
             "#e6f5d0"
            ],
            [
             0.7,
             "#b8e186"
            ],
            [
             0.8,
             "#7fbc41"
            ],
            [
             0.9,
             "#4d9221"
            ],
            [
             1,
             "#276419"
            ]
           ],
           "sequential": [
            [
             0,
             "#0d0887"
            ],
            [
             0.1111111111111111,
             "#46039f"
            ],
            [
             0.2222222222222222,
             "#7201a8"
            ],
            [
             0.3333333333333333,
             "#9c179e"
            ],
            [
             0.4444444444444444,
             "#bd3786"
            ],
            [
             0.5555555555555556,
             "#d8576b"
            ],
            [
             0.6666666666666666,
             "#ed7953"
            ],
            [
             0.7777777777777778,
             "#fb9f3a"
            ],
            [
             0.8888888888888888,
             "#fdca26"
            ],
            [
             1,
             "#f0f921"
            ]
           ],
           "sequentialminus": [
            [
             0,
             "#0d0887"
            ],
            [
             0.1111111111111111,
             "#46039f"
            ],
            [
             0.2222222222222222,
             "#7201a8"
            ],
            [
             0.3333333333333333,
             "#9c179e"
            ],
            [
             0.4444444444444444,
             "#bd3786"
            ],
            [
             0.5555555555555556,
             "#d8576b"
            ],
            [
             0.6666666666666666,
             "#ed7953"
            ],
            [
             0.7777777777777778,
             "#fb9f3a"
            ],
            [
             0.8888888888888888,
             "#fdca26"
            ],
            [
             1,
             "#f0f921"
            ]
           ]
          },
          "colorway": [
           "#636efa",
           "#EF553B",
           "#00cc96",
           "#ab63fa",
           "#FFA15A",
           "#19d3f3",
           "#FF6692",
           "#B6E880",
           "#FF97FF",
           "#FECB52"
          ],
          "font": {
           "color": "#2a3f5f"
          },
          "geo": {
           "bgcolor": "white",
           "lakecolor": "white",
           "landcolor": "#E5ECF6",
           "showlakes": true,
           "showland": true,
           "subunitcolor": "white"
          },
          "hoverlabel": {
           "align": "left"
          },
          "hovermode": "closest",
          "mapbox": {
           "style": "light"
          },
          "paper_bgcolor": "white",
          "plot_bgcolor": "#E5ECF6",
          "polar": {
           "angularaxis": {
            "gridcolor": "white",
            "linecolor": "white",
            "ticks": ""
           },
           "bgcolor": "#E5ECF6",
           "radialaxis": {
            "gridcolor": "white",
            "linecolor": "white",
            "ticks": ""
           }
          },
          "scene": {
           "xaxis": {
            "backgroundcolor": "#E5ECF6",
            "gridcolor": "white",
            "gridwidth": 2,
            "linecolor": "white",
            "showbackground": true,
            "ticks": "",
            "zerolinecolor": "white"
           },
           "yaxis": {
            "backgroundcolor": "#E5ECF6",
            "gridcolor": "white",
            "gridwidth": 2,
            "linecolor": "white",
            "showbackground": true,
            "ticks": "",
            "zerolinecolor": "white"
           },
           "zaxis": {
            "backgroundcolor": "#E5ECF6",
            "gridcolor": "white",
            "gridwidth": 2,
            "linecolor": "white",
            "showbackground": true,
            "ticks": "",
            "zerolinecolor": "white"
           }
          },
          "shapedefaults": {
           "line": {
            "color": "#2a3f5f"
           }
          },
          "ternary": {
           "aaxis": {
            "gridcolor": "white",
            "linecolor": "white",
            "ticks": ""
           },
           "baxis": {
            "gridcolor": "white",
            "linecolor": "white",
            "ticks": ""
           },
           "bgcolor": "#E5ECF6",
           "caxis": {
            "gridcolor": "white",
            "linecolor": "white",
            "ticks": ""
           }
          },
          "title": {
           "x": 0.05
          },
          "xaxis": {
           "automargin": true,
           "gridcolor": "white",
           "linecolor": "white",
           "ticks": "",
           "title": {
            "standoff": 15
           },
           "zerolinecolor": "white",
           "zerolinewidth": 2
          },
          "yaxis": {
           "automargin": true,
           "gridcolor": "white",
           "linecolor": "white",
           "ticks": "",
           "title": {
            "standoff": 15
           },
           "zerolinecolor": "white",
           "zerolinewidth": 2
          }
         }
        }
       }
      }
     },
     "metadata": {},
     "output_type": "display_data"
    }
   ],
   "source": [
    "print(\"Original Tree:\")\n",
    "tree_plot = SankeyTreePlot(cancer_dt_viz)\n",
    "tree_plot.show()"
   ]
  },
  {
   "cell_type": "code",
   "execution_count": 20,
   "metadata": {},
   "outputs": [
    {
     "data": {
      "text/html": [
       "\n",
       "        <iframe\n",
       "            width=\"100%\"\n",
       "            height=\"650\"\n",
       "            src=\"http://127.0.0.1:8061/\"\n",
       "            frameborder=\"0\"\n",
       "            allowfullscreen\n",
       "            \n",
       "        ></iframe>\n",
       "        "
      ],
      "text/plain": [
       "<IPython.lib.display.IFrame at 0x7efe7071d450>"
      ]
     },
     "metadata": {},
     "output_type": "display_data"
    }
   ],
   "source": [
    "viz_tree = cancer_dt_viz\n",
    "X_test = cancer_X_test\n",
    "y_test = cancer_y_test\n",
    "\n",
    "tree_dash = VizTreeDashboard(viz_tree, X_test, y_test)\n",
    "tree_dash.run(port=8061)\n"
   ]
  },
  {
   "cell_type": "markdown",
   "metadata": {},
   "source": [
    "# Random forest dash"
   ]
  },
  {
   "cell_type": "code",
   "execution_count": 21,
   "metadata": {},
   "outputs": [
    {
     "data": {
      "text/html": [
       "<style>#sk-container-id-1 {\n",
       "  /* Definition of color scheme common for light and dark mode */\n",
       "  --sklearn-color-text: black;\n",
       "  --sklearn-color-line: gray;\n",
       "  /* Definition of color scheme for unfitted estimators */\n",
       "  --sklearn-color-unfitted-level-0: #fff5e6;\n",
       "  --sklearn-color-unfitted-level-1: #f6e4d2;\n",
       "  --sklearn-color-unfitted-level-2: #ffe0b3;\n",
       "  --sklearn-color-unfitted-level-3: chocolate;\n",
       "  /* Definition of color scheme for fitted estimators */\n",
       "  --sklearn-color-fitted-level-0: #f0f8ff;\n",
       "  --sklearn-color-fitted-level-1: #d4ebff;\n",
       "  --sklearn-color-fitted-level-2: #b3dbfd;\n",
       "  --sklearn-color-fitted-level-3: cornflowerblue;\n",
       "\n",
       "  /* Specific color for light theme */\n",
       "  --sklearn-color-text-on-default-background: var(--sg-text-color, var(--theme-code-foreground, var(--jp-content-font-color1, black)));\n",
       "  --sklearn-color-background: var(--sg-background-color, var(--theme-background, var(--jp-layout-color0, white)));\n",
       "  --sklearn-color-border-box: var(--sg-text-color, var(--theme-code-foreground, var(--jp-content-font-color1, black)));\n",
       "  --sklearn-color-icon: #696969;\n",
       "\n",
       "  @media (prefers-color-scheme: dark) {\n",
       "    /* Redefinition of color scheme for dark theme */\n",
       "    --sklearn-color-text-on-default-background: var(--sg-text-color, var(--theme-code-foreground, var(--jp-content-font-color1, white)));\n",
       "    --sklearn-color-background: var(--sg-background-color, var(--theme-background, var(--jp-layout-color0, #111)));\n",
       "    --sklearn-color-border-box: var(--sg-text-color, var(--theme-code-foreground, var(--jp-content-font-color1, white)));\n",
       "    --sklearn-color-icon: #878787;\n",
       "  }\n",
       "}\n",
       "\n",
       "#sk-container-id-1 {\n",
       "  color: var(--sklearn-color-text);\n",
       "}\n",
       "\n",
       "#sk-container-id-1 pre {\n",
       "  padding: 0;\n",
       "}\n",
       "\n",
       "#sk-container-id-1 input.sk-hidden--visually {\n",
       "  border: 0;\n",
       "  clip: rect(1px 1px 1px 1px);\n",
       "  clip: rect(1px, 1px, 1px, 1px);\n",
       "  height: 1px;\n",
       "  margin: -1px;\n",
       "  overflow: hidden;\n",
       "  padding: 0;\n",
       "  position: absolute;\n",
       "  width: 1px;\n",
       "}\n",
       "\n",
       "#sk-container-id-1 div.sk-dashed-wrapped {\n",
       "  border: 1px dashed var(--sklearn-color-line);\n",
       "  margin: 0 0.4em 0.5em 0.4em;\n",
       "  box-sizing: border-box;\n",
       "  padding-bottom: 0.4em;\n",
       "  background-color: var(--sklearn-color-background);\n",
       "}\n",
       "\n",
       "#sk-container-id-1 div.sk-container {\n",
       "  /* jupyter's `normalize.less` sets `[hidden] { display: none; }`\n",
       "     but bootstrap.min.css set `[hidden] { display: none !important; }`\n",
       "     so we also need the `!important` here to be able to override the\n",
       "     default hidden behavior on the sphinx rendered scikit-learn.org.\n",
       "     See: https://github.com/scikit-learn/scikit-learn/issues/21755 */\n",
       "  display: inline-block !important;\n",
       "  position: relative;\n",
       "}\n",
       "\n",
       "#sk-container-id-1 div.sk-text-repr-fallback {\n",
       "  display: none;\n",
       "}\n",
       "\n",
       "div.sk-parallel-item,\n",
       "div.sk-serial,\n",
       "div.sk-item {\n",
       "  /* draw centered vertical line to link estimators */\n",
       "  background-image: linear-gradient(var(--sklearn-color-text-on-default-background), var(--sklearn-color-text-on-default-background));\n",
       "  background-size: 2px 100%;\n",
       "  background-repeat: no-repeat;\n",
       "  background-position: center center;\n",
       "}\n",
       "\n",
       "/* Parallel-specific style estimator block */\n",
       "\n",
       "#sk-container-id-1 div.sk-parallel-item::after {\n",
       "  content: \"\";\n",
       "  width: 100%;\n",
       "  border-bottom: 2px solid var(--sklearn-color-text-on-default-background);\n",
       "  flex-grow: 1;\n",
       "}\n",
       "\n",
       "#sk-container-id-1 div.sk-parallel {\n",
       "  display: flex;\n",
       "  align-items: stretch;\n",
       "  justify-content: center;\n",
       "  background-color: var(--sklearn-color-background);\n",
       "  position: relative;\n",
       "}\n",
       "\n",
       "#sk-container-id-1 div.sk-parallel-item {\n",
       "  display: flex;\n",
       "  flex-direction: column;\n",
       "}\n",
       "\n",
       "#sk-container-id-1 div.sk-parallel-item:first-child::after {\n",
       "  align-self: flex-end;\n",
       "  width: 50%;\n",
       "}\n",
       "\n",
       "#sk-container-id-1 div.sk-parallel-item:last-child::after {\n",
       "  align-self: flex-start;\n",
       "  width: 50%;\n",
       "}\n",
       "\n",
       "#sk-container-id-1 div.sk-parallel-item:only-child::after {\n",
       "  width: 0;\n",
       "}\n",
       "\n",
       "/* Serial-specific style estimator block */\n",
       "\n",
       "#sk-container-id-1 div.sk-serial {\n",
       "  display: flex;\n",
       "  flex-direction: column;\n",
       "  align-items: center;\n",
       "  background-color: var(--sklearn-color-background);\n",
       "  padding-right: 1em;\n",
       "  padding-left: 1em;\n",
       "}\n",
       "\n",
       "\n",
       "/* Toggleable style: style used for estimator/Pipeline/ColumnTransformer box that is\n",
       "clickable and can be expanded/collapsed.\n",
       "- Pipeline and ColumnTransformer use this feature and define the default style\n",
       "- Estimators will overwrite some part of the style using the `sk-estimator` class\n",
       "*/\n",
       "\n",
       "/* Pipeline and ColumnTransformer style (default) */\n",
       "\n",
       "#sk-container-id-1 div.sk-toggleable {\n",
       "  /* Default theme specific background. It is overwritten whether we have a\n",
       "  specific estimator or a Pipeline/ColumnTransformer */\n",
       "  background-color: var(--sklearn-color-background);\n",
       "}\n",
       "\n",
       "/* Toggleable label */\n",
       "#sk-container-id-1 label.sk-toggleable__label {\n",
       "  cursor: pointer;\n",
       "  display: block;\n",
       "  width: 100%;\n",
       "  margin-bottom: 0;\n",
       "  padding: 0.5em;\n",
       "  box-sizing: border-box;\n",
       "  text-align: center;\n",
       "}\n",
       "\n",
       "#sk-container-id-1 label.sk-toggleable__label-arrow:before {\n",
       "  /* Arrow on the left of the label */\n",
       "  content: \"▸\";\n",
       "  float: left;\n",
       "  margin-right: 0.25em;\n",
       "  color: var(--sklearn-color-icon);\n",
       "}\n",
       "\n",
       "#sk-container-id-1 label.sk-toggleable__label-arrow:hover:before {\n",
       "  color: var(--sklearn-color-text);\n",
       "}\n",
       "\n",
       "/* Toggleable content - dropdown */\n",
       "\n",
       "#sk-container-id-1 div.sk-toggleable__content {\n",
       "  max-height: 0;\n",
       "  max-width: 0;\n",
       "  overflow: hidden;\n",
       "  text-align: left;\n",
       "  /* unfitted */\n",
       "  background-color: var(--sklearn-color-unfitted-level-0);\n",
       "}\n",
       "\n",
       "#sk-container-id-1 div.sk-toggleable__content.fitted {\n",
       "  /* fitted */\n",
       "  background-color: var(--sklearn-color-fitted-level-0);\n",
       "}\n",
       "\n",
       "#sk-container-id-1 div.sk-toggleable__content pre {\n",
       "  margin: 0.2em;\n",
       "  border-radius: 0.25em;\n",
       "  color: var(--sklearn-color-text);\n",
       "  /* unfitted */\n",
       "  background-color: var(--sklearn-color-unfitted-level-0);\n",
       "}\n",
       "\n",
       "#sk-container-id-1 div.sk-toggleable__content.fitted pre {\n",
       "  /* unfitted */\n",
       "  background-color: var(--sklearn-color-fitted-level-0);\n",
       "}\n",
       "\n",
       "#sk-container-id-1 input.sk-toggleable__control:checked~div.sk-toggleable__content {\n",
       "  /* Expand drop-down */\n",
       "  max-height: 200px;\n",
       "  max-width: 100%;\n",
       "  overflow: auto;\n",
       "}\n",
       "\n",
       "#sk-container-id-1 input.sk-toggleable__control:checked~label.sk-toggleable__label-arrow:before {\n",
       "  content: \"▾\";\n",
       "}\n",
       "\n",
       "/* Pipeline/ColumnTransformer-specific style */\n",
       "\n",
       "#sk-container-id-1 div.sk-label input.sk-toggleable__control:checked~label.sk-toggleable__label {\n",
       "  color: var(--sklearn-color-text);\n",
       "  background-color: var(--sklearn-color-unfitted-level-2);\n",
       "}\n",
       "\n",
       "#sk-container-id-1 div.sk-label.fitted input.sk-toggleable__control:checked~label.sk-toggleable__label {\n",
       "  background-color: var(--sklearn-color-fitted-level-2);\n",
       "}\n",
       "\n",
       "/* Estimator-specific style */\n",
       "\n",
       "/* Colorize estimator box */\n",
       "#sk-container-id-1 div.sk-estimator input.sk-toggleable__control:checked~label.sk-toggleable__label {\n",
       "  /* unfitted */\n",
       "  background-color: var(--sklearn-color-unfitted-level-2);\n",
       "}\n",
       "\n",
       "#sk-container-id-1 div.sk-estimator.fitted input.sk-toggleable__control:checked~label.sk-toggleable__label {\n",
       "  /* fitted */\n",
       "  background-color: var(--sklearn-color-fitted-level-2);\n",
       "}\n",
       "\n",
       "#sk-container-id-1 div.sk-label label.sk-toggleable__label,\n",
       "#sk-container-id-1 div.sk-label label {\n",
       "  /* The background is the default theme color */\n",
       "  color: var(--sklearn-color-text-on-default-background);\n",
       "}\n",
       "\n",
       "/* On hover, darken the color of the background */\n",
       "#sk-container-id-1 div.sk-label:hover label.sk-toggleable__label {\n",
       "  color: var(--sklearn-color-text);\n",
       "  background-color: var(--sklearn-color-unfitted-level-2);\n",
       "}\n",
       "\n",
       "/* Label box, darken color on hover, fitted */\n",
       "#sk-container-id-1 div.sk-label.fitted:hover label.sk-toggleable__label.fitted {\n",
       "  color: var(--sklearn-color-text);\n",
       "  background-color: var(--sklearn-color-fitted-level-2);\n",
       "}\n",
       "\n",
       "/* Estimator label */\n",
       "\n",
       "#sk-container-id-1 div.sk-label label {\n",
       "  font-family: monospace;\n",
       "  font-weight: bold;\n",
       "  display: inline-block;\n",
       "  line-height: 1.2em;\n",
       "}\n",
       "\n",
       "#sk-container-id-1 div.sk-label-container {\n",
       "  text-align: center;\n",
       "}\n",
       "\n",
       "/* Estimator-specific */\n",
       "#sk-container-id-1 div.sk-estimator {\n",
       "  font-family: monospace;\n",
       "  border: 1px dotted var(--sklearn-color-border-box);\n",
       "  border-radius: 0.25em;\n",
       "  box-sizing: border-box;\n",
       "  margin-bottom: 0.5em;\n",
       "  /* unfitted */\n",
       "  background-color: var(--sklearn-color-unfitted-level-0);\n",
       "}\n",
       "\n",
       "#sk-container-id-1 div.sk-estimator.fitted {\n",
       "  /* fitted */\n",
       "  background-color: var(--sklearn-color-fitted-level-0);\n",
       "}\n",
       "\n",
       "/* on hover */\n",
       "#sk-container-id-1 div.sk-estimator:hover {\n",
       "  /* unfitted */\n",
       "  background-color: var(--sklearn-color-unfitted-level-2);\n",
       "}\n",
       "\n",
       "#sk-container-id-1 div.sk-estimator.fitted:hover {\n",
       "  /* fitted */\n",
       "  background-color: var(--sklearn-color-fitted-level-2);\n",
       "}\n",
       "\n",
       "/* Specification for estimator info (e.g. \"i\" and \"?\") */\n",
       "\n",
       "/* Common style for \"i\" and \"?\" */\n",
       "\n",
       ".sk-estimator-doc-link,\n",
       "a:link.sk-estimator-doc-link,\n",
       "a:visited.sk-estimator-doc-link {\n",
       "  float: right;\n",
       "  font-size: smaller;\n",
       "  line-height: 1em;\n",
       "  font-family: monospace;\n",
       "  background-color: var(--sklearn-color-background);\n",
       "  border-radius: 1em;\n",
       "  height: 1em;\n",
       "  width: 1em;\n",
       "  text-decoration: none !important;\n",
       "  margin-left: 1ex;\n",
       "  /* unfitted */\n",
       "  border: var(--sklearn-color-unfitted-level-1) 1pt solid;\n",
       "  color: var(--sklearn-color-unfitted-level-1);\n",
       "}\n",
       "\n",
       ".sk-estimator-doc-link.fitted,\n",
       "a:link.sk-estimator-doc-link.fitted,\n",
       "a:visited.sk-estimator-doc-link.fitted {\n",
       "  /* fitted */\n",
       "  border: var(--sklearn-color-fitted-level-1) 1pt solid;\n",
       "  color: var(--sklearn-color-fitted-level-1);\n",
       "}\n",
       "\n",
       "/* On hover */\n",
       "div.sk-estimator:hover .sk-estimator-doc-link:hover,\n",
       ".sk-estimator-doc-link:hover,\n",
       "div.sk-label-container:hover .sk-estimator-doc-link:hover,\n",
       ".sk-estimator-doc-link:hover {\n",
       "  /* unfitted */\n",
       "  background-color: var(--sklearn-color-unfitted-level-3);\n",
       "  color: var(--sklearn-color-background);\n",
       "  text-decoration: none;\n",
       "}\n",
       "\n",
       "div.sk-estimator.fitted:hover .sk-estimator-doc-link.fitted:hover,\n",
       ".sk-estimator-doc-link.fitted:hover,\n",
       "div.sk-label-container:hover .sk-estimator-doc-link.fitted:hover,\n",
       ".sk-estimator-doc-link.fitted:hover {\n",
       "  /* fitted */\n",
       "  background-color: var(--sklearn-color-fitted-level-3);\n",
       "  color: var(--sklearn-color-background);\n",
       "  text-decoration: none;\n",
       "}\n",
       "\n",
       "/* Span, style for the box shown on hovering the info icon */\n",
       ".sk-estimator-doc-link span {\n",
       "  display: none;\n",
       "  z-index: 9999;\n",
       "  position: relative;\n",
       "  font-weight: normal;\n",
       "  right: .2ex;\n",
       "  padding: .5ex;\n",
       "  margin: .5ex;\n",
       "  width: min-content;\n",
       "  min-width: 20ex;\n",
       "  max-width: 50ex;\n",
       "  color: var(--sklearn-color-text);\n",
       "  box-shadow: 2pt 2pt 4pt #999;\n",
       "  /* unfitted */\n",
       "  background: var(--sklearn-color-unfitted-level-0);\n",
       "  border: .5pt solid var(--sklearn-color-unfitted-level-3);\n",
       "}\n",
       "\n",
       ".sk-estimator-doc-link.fitted span {\n",
       "  /* fitted */\n",
       "  background: var(--sklearn-color-fitted-level-0);\n",
       "  border: var(--sklearn-color-fitted-level-3);\n",
       "}\n",
       "\n",
       ".sk-estimator-doc-link:hover span {\n",
       "  display: block;\n",
       "}\n",
       "\n",
       "/* \"?\"-specific style due to the `<a>` HTML tag */\n",
       "\n",
       "#sk-container-id-1 a.estimator_doc_link {\n",
       "  float: right;\n",
       "  font-size: 1rem;\n",
       "  line-height: 1em;\n",
       "  font-family: monospace;\n",
       "  background-color: var(--sklearn-color-background);\n",
       "  border-radius: 1rem;\n",
       "  height: 1rem;\n",
       "  width: 1rem;\n",
       "  text-decoration: none;\n",
       "  /* unfitted */\n",
       "  color: var(--sklearn-color-unfitted-level-1);\n",
       "  border: var(--sklearn-color-unfitted-level-1) 1pt solid;\n",
       "}\n",
       "\n",
       "#sk-container-id-1 a.estimator_doc_link.fitted {\n",
       "  /* fitted */\n",
       "  border: var(--sklearn-color-fitted-level-1) 1pt solid;\n",
       "  color: var(--sklearn-color-fitted-level-1);\n",
       "}\n",
       "\n",
       "/* On hover */\n",
       "#sk-container-id-1 a.estimator_doc_link:hover {\n",
       "  /* unfitted */\n",
       "  background-color: var(--sklearn-color-unfitted-level-3);\n",
       "  color: var(--sklearn-color-background);\n",
       "  text-decoration: none;\n",
       "}\n",
       "\n",
       "#sk-container-id-1 a.estimator_doc_link.fitted:hover {\n",
       "  /* fitted */\n",
       "  background-color: var(--sklearn-color-fitted-level-3);\n",
       "}\n",
       "</style><div id=\"sk-container-id-1\" class=\"sk-top-container\"><div class=\"sk-text-repr-fallback\"><pre>RandomForestClassifier(max_depth=10, min_samples_leaf=7, n_estimators=20)</pre><b>In a Jupyter environment, please rerun this cell to show the HTML representation or trust the notebook. <br />On GitHub, the HTML representation is unable to render, please try loading this page with nbviewer.org.</b></div><div class=\"sk-container\" hidden><div class=\"sk-item\"><div class=\"sk-estimator fitted sk-toggleable\"><input class=\"sk-toggleable__control sk-hidden--visually\" id=\"sk-estimator-id-1\" type=\"checkbox\" checked><label for=\"sk-estimator-id-1\" class=\"sk-toggleable__label fitted sk-toggleable__label-arrow fitted\">&nbsp;&nbsp;RandomForestClassifier<a class=\"sk-estimator-doc-link fitted\" rel=\"noreferrer\" target=\"_blank\" href=\"https://scikit-learn.org/1.5/modules/generated/sklearn.ensemble.RandomForestClassifier.html\">?<span>Documentation for RandomForestClassifier</span></a><span class=\"sk-estimator-doc-link fitted\">i<span>Fitted</span></span></label><div class=\"sk-toggleable__content fitted\"><pre>RandomForestClassifier(max_depth=10, min_samples_leaf=7, n_estimators=20)</pre></div> </div></div></div></div>"
      ],
      "text/plain": [
       "RandomForestClassifier(max_depth=10, min_samples_leaf=7, n_estimators=20)"
      ]
     },
     "execution_count": 21,
     "metadata": {},
     "output_type": "execute_result"
    }
   ],
   "source": [
    "X_train = cancer_X_train\n",
    "X_test = cancer_X_test\n",
    "y_train = cancer_y_train\n",
    "y_test = cancer_y_test\n",
    "X = cancer_X\n",
    "class_names = cancer_class_names\n",
    "\n",
    "# rf parameters\n",
    "num_of_estimators = 20\n",
    "max_depth = 10\n",
    "min_sample_leaf = max(1,int(0.02*len(X_train)))\n",
    "\n",
    "cancer_rf = RandomForestClassifier(n_estimators=num_of_estimators,max_depth=max_depth,min_samples_leaf=min_sample_leaf)\n",
    "cancer_rf.fit(cancer_X_train, cancer_y_train)\n"
   ]
  },
  {
   "cell_type": "code",
   "execution_count": 22,
   "metadata": {},
   "outputs": [
    {
     "data": {
      "text/html": [
       "\n",
       "        <iframe\n",
       "            width=\"100%\"\n",
       "            height=\"650\"\n",
       "            src=\"http://127.0.0.1:8062/\"\n",
       "            frameborder=\"0\"\n",
       "            allowfullscreen\n",
       "            \n",
       "        ></iframe>\n",
       "        "
      ],
      "text/plain": [
       "<IPython.lib.display.IFrame at 0x7efe7078e4d0>"
      ]
     },
     "metadata": {},
     "output_type": "display_data"
    }
   ],
   "source": [
    "rf = cancer_rf\n",
    "\n",
    "rf_dash = RFDashboard(X, X_test, y_test, rf, class_names)\n",
    "rf_dash.run(port=8062)"
   ]
  },
  {
   "cell_type": "code",
   "execution_count": 23,
   "metadata": {},
   "outputs": [
    {
     "data": {
      "text/html": [
       "\n",
       "        <iframe\n",
       "            width=\"100%\"\n",
       "            height=\"650\"\n",
       "            src=\"http://127.0.0.1:8063/\"\n",
       "            frameborder=\"0\"\n",
       "            allowfullscreen\n",
       "            \n",
       "        ></iframe>\n",
       "        "
      ],
      "text/plain": [
       "<IPython.lib.display.IFrame at 0x7efe6ddfdfc0>"
      ]
     },
     "metadata": {},
     "output_type": "display_data"
    }
   ],
   "source": [
    "\n",
    "\n",
    "X_train = iris_X_train\n",
    "X_test = iris_X_test\n",
    "y_train = iris_y_train\n",
    "y_test = iris_y_test\n",
    "X = iris_X\n",
    "class_names = iris_class_names\n",
    "\n",
    "# Example usage\n",
    "combined_dashboard = CombinedDashboard(iris_fbt_viz, X_test, y_test, X, iris_rf, class_names)\n",
    "combined_dashboard.run(port=8063)\n"
   ]
  },
  {
   "cell_type": "markdown",
   "metadata": {},
   "source": [
    "# Regression generalization"
   ]
  },
  {
   "cell_type": "code",
   "execution_count": 24,
   "metadata": {},
   "outputs": [],
   "source": [
    "calif_dt_viz = VizTree(calif_dt, calif_X)\n"
   ]
  },
  {
   "cell_type": "code",
   "execution_count": 25,
   "metadata": {},
   "outputs": [
    {
     "data": {
      "application/vnd.plotly.v1+json": {
       "config": {
        "plotlyServerURL": "https://plot.ly"
       },
       "data": [
        {
         "link": {
          "hovertemplate": "<b style \"font-size:14px;\">n_train:</b> %{value}<extra></extra>",
          "label": [
           "16437",
           "7860",
           "3317",
           "1753",
           "1564",
           "4543",
           "2290",
           "2253",
           "8577",
           "2217",
           "1905",
           "312",
           "6360",
           "3822",
           "2538",
           "4203",
           "2929",
           "1035",
           "318",
           "717",
           "1894",
           "932",
           "962",
           "1274",
           "496",
           "302",
           "194",
           "778",
           "353",
           "425"
          ],
          "source": [
           0,
           1,
           2,
           3,
           3,
           2,
           6,
           6,
           1,
           9,
           10,
           10,
           9,
           13,
           13,
           0,
           16,
           17,
           18,
           18,
           17,
           21,
           21,
           16,
           24,
           25,
           25,
           24,
           28,
           28
          ],
          "target": [
           1,
           2,
           3,
           4,
           5,
           6,
           7,
           8,
           9,
           10,
           11,
           12,
           13,
           14,
           15,
           16,
           17,
           18,
           19,
           20,
           21,
           22,
           23,
           24,
           25,
           26,
           27,
           28,
           29,
           30
          ],
          "value": [
           16437,
           7860,
           3317,
           1753,
           1564,
           4543,
           2290,
           2253,
           8577,
           2217,
           1905,
           312,
           6360,
           3822,
           2538,
           4203,
           2929,
           1035,
           318,
           717,
           1894,
           932,
           962,
           1274,
           496,
           302,
           194,
           778,
           353,
           425
          ]
         },
         "node": {
          "color": [
           "rgba(43, 118, 142, 0.8)",
           "rgba(50, 101, 142, 0.8)",
           "rgba(60, 79, 138, 0.8)",
           "rgba(53, 96, 141, 0.8)",
           "rgba(60, 79, 138, 0.8)",
           "rgba(47, 109, 142, 0.8)",
           "rgba(64, 67, 134, 0.8)",
           "rgba(67, 55, 128, 0.8)",
           "rgba(60, 79, 138, 0.8)",
           "rgba(43, 118, 142, 0.8)",
           "rgba(32, 153, 138, 0.8)",
           "rgba(33, 160, 136, 0.8)",
           "rgba(49, 104, 142, 0.8)",
           "rgba(47, 109, 142, 0.8)",
           "rgba(51, 98, 141, 0.8)",
           "rgba(42, 121, 142, 0.8)",
           "rgba(51, 181, 122, 0.8)",
           "rgba(35, 163, 134, 0.8)",
           "rgba(63, 187, 115, 0.8)",
           "rgba(35, 163, 134, 0.8)",
           "rgba(89, 198, 100, 0.8)",
           "rgba(34, 145, 139, 0.8)",
           "rgba(37, 133, 142, 0.8)",
           "rgba(33, 160, 136, 0.8)",
           "rgba(155, 216, 59, 0.8)",
           "rgba(94, 200, 97, 0.8)",
           "rgba(58, 185, 118, 0.8)",
           "rgba(149, 215, 63, 0.8)",
           "rgba(194, 224, 42, 0.8)",
           "rgba(155, 216, 59, 0.8)",
           "rgba(220, 227, 40, 0.8)"
          ],
          "customdata": [
           [
            "MedInc<br>≤ 5.09",
            "2.0732"
           ],
           [
            "MedInc<br>≤ 3.07",
            "1.7472"
           ],
           [
            "AveRooms<br>≤ 4.31",
            "1.3598"
           ],
           [
            "MedInc<br>≤ 2.21",
            "1.6212"
           ],
           [
            "",
            "1.3709"
           ],
           [
            "",
            "1.9016"
           ],
           [
            "MedInc<br>≤ 2.42",
            "1.1689"
           ],
           [
            "",
            "0.9681"
           ],
           [
            "",
            "1.3730"
           ],
           [
            "AveOccup<br>≤ 2.42",
            "2.1022"
           ],
           [
            "Latitude<br>≤ 37.93",
            "2.7512"
           ],
           [
            "",
            "2.9051"
           ],
           [
            "",
            "1.8120"
           ],
           [
            "MedInc<br>≤ 4.12",
            "1.8759"
           ],
           [
            "",
            "1.7117"
           ],
           [
            "",
            "2.1233"
           ],
           [
            "MedInc<br>≤ 6.89",
            "3.3485"
           ],
           [
            "AveOccup<br>≤ 2.67",
            "2.9485"
           ],
           [
            "HouseAge<br>≤ 21.50",
            "3.4997"
           ],
           [
            "",
            "2.9660"
           ],
           [
            "",
            "3.7364"
           ],
           [
            "MedInc<br>≤ 5.74",
            "2.6473"
           ],
           [
            "",
            "2.3561"
           ],
           [
            "",
            "2.9293"
           ],
           [
            "MedInc<br>≤ 7.82",
            "4.2681"
           ],
           [
            "HouseAge<br>≤ 26.50",
            "3.7764"
           ],
           [
            "",
            "3.4760"
           ],
           [
            "",
            "4.2442"
           ],
           [
            "MedInc<br>≤ 8.87",
            "4.5816"
           ],
           [
            "",
            "4.3139"
           ],
           [
            "",
            "4.8039"
           ]
          ],
          "hovertemplate": "<b style=\"font-size:14px;\">%{customdata[0]}</b><br><b style=\"font-size:14px;\">n_train:</b> %{value}<br><b style=\"font-size:14px;\">Value:</b> %{customdata[1]}<extra></extra>",
          "label": [
           "",
           "",
           "",
           "",
           "",
           "",
           "",
           "",
           "",
           "",
           "",
           "",
           "",
           "",
           "",
           "",
           "",
           "",
           "",
           "",
           "",
           "",
           "",
           "",
           "",
           "",
           "",
           "",
           "",
           "",
           ""
          ],
          "line": {
           "color": "black",
           "width": 0.5
          },
          "pad": 15,
          "thickness": 20,
          "x": [
           0,
           0.25,
           0.5,
           0.75,
           1,
           1,
           0.75,
           1,
           1,
           0.5,
           0.75,
           1,
           1,
           0.75,
           1,
           1,
           0.25,
           0.5,
           0.75,
           1,
           1,
           0.75,
           1,
           1,
           0.5,
           0.75,
           1,
           1,
           0.75,
           1,
           1
          ],
          "y": [
           0.5,
           0.6957362870798878,
           0.8292138416704972,
           0.9243373929497449,
           1,
           0.84867478589949,
           0.7340902903912494,
           0.8111207308202092,
           0.6570598499622897,
           0.5622587324892783,
           0.658182232000607,
           0.7326175823489247,
           0.5837468816522892,
           0.4663352329779496,
           0.5453928783409275,
           0.38727758761497166,
           0.30426371292011223,
           0.4240919416093574,
           0.5137140358001936,
           0.5868306430378843,
           0.44059742856250306,
           0.33446984741852126,
           0.4085448305716338,
           0.26039486426540875,
           0.18443548423086703,
           0.27221111492924305,
           0.3447263663829844,
           0.19969586347550172,
           0.096659853532491,
           0.16948972897709264,
           0.023829978087889316
          ]
         },
         "type": "sankey"
        }
       ],
       "layout": {
        "font": {
         "color": "black",
         "family": "Courier New",
         "size": 14
        },
        "template": {
         "data": {
          "bar": [
           {
            "error_x": {
             "color": "#2a3f5f"
            },
            "error_y": {
             "color": "#2a3f5f"
            },
            "marker": {
             "line": {
              "color": "#E5ECF6",
              "width": 0.5
             },
             "pattern": {
              "fillmode": "overlay",
              "size": 10,
              "solidity": 0.2
             }
            },
            "type": "bar"
           }
          ],
          "barpolar": [
           {
            "marker": {
             "line": {
              "color": "#E5ECF6",
              "width": 0.5
             },
             "pattern": {
              "fillmode": "overlay",
              "size": 10,
              "solidity": 0.2
             }
            },
            "type": "barpolar"
           }
          ],
          "carpet": [
           {
            "aaxis": {
             "endlinecolor": "#2a3f5f",
             "gridcolor": "white",
             "linecolor": "white",
             "minorgridcolor": "white",
             "startlinecolor": "#2a3f5f"
            },
            "baxis": {
             "endlinecolor": "#2a3f5f",
             "gridcolor": "white",
             "linecolor": "white",
             "minorgridcolor": "white",
             "startlinecolor": "#2a3f5f"
            },
            "type": "carpet"
           }
          ],
          "choropleth": [
           {
            "colorbar": {
             "outlinewidth": 0,
             "ticks": ""
            },
            "type": "choropleth"
           }
          ],
          "contour": [
           {
            "colorbar": {
             "outlinewidth": 0,
             "ticks": ""
            },
            "colorscale": [
             [
              0,
              "#0d0887"
             ],
             [
              0.1111111111111111,
              "#46039f"
             ],
             [
              0.2222222222222222,
              "#7201a8"
             ],
             [
              0.3333333333333333,
              "#9c179e"
             ],
             [
              0.4444444444444444,
              "#bd3786"
             ],
             [
              0.5555555555555556,
              "#d8576b"
             ],
             [
              0.6666666666666666,
              "#ed7953"
             ],
             [
              0.7777777777777778,
              "#fb9f3a"
             ],
             [
              0.8888888888888888,
              "#fdca26"
             ],
             [
              1,
              "#f0f921"
             ]
            ],
            "type": "contour"
           }
          ],
          "contourcarpet": [
           {
            "colorbar": {
             "outlinewidth": 0,
             "ticks": ""
            },
            "type": "contourcarpet"
           }
          ],
          "heatmap": [
           {
            "colorbar": {
             "outlinewidth": 0,
             "ticks": ""
            },
            "colorscale": [
             [
              0,
              "#0d0887"
             ],
             [
              0.1111111111111111,
              "#46039f"
             ],
             [
              0.2222222222222222,
              "#7201a8"
             ],
             [
              0.3333333333333333,
              "#9c179e"
             ],
             [
              0.4444444444444444,
              "#bd3786"
             ],
             [
              0.5555555555555556,
              "#d8576b"
             ],
             [
              0.6666666666666666,
              "#ed7953"
             ],
             [
              0.7777777777777778,
              "#fb9f3a"
             ],
             [
              0.8888888888888888,
              "#fdca26"
             ],
             [
              1,
              "#f0f921"
             ]
            ],
            "type": "heatmap"
           }
          ],
          "heatmapgl": [
           {
            "colorbar": {
             "outlinewidth": 0,
             "ticks": ""
            },
            "colorscale": [
             [
              0,
              "#0d0887"
             ],
             [
              0.1111111111111111,
              "#46039f"
             ],
             [
              0.2222222222222222,
              "#7201a8"
             ],
             [
              0.3333333333333333,
              "#9c179e"
             ],
             [
              0.4444444444444444,
              "#bd3786"
             ],
             [
              0.5555555555555556,
              "#d8576b"
             ],
             [
              0.6666666666666666,
              "#ed7953"
             ],
             [
              0.7777777777777778,
              "#fb9f3a"
             ],
             [
              0.8888888888888888,
              "#fdca26"
             ],
             [
              1,
              "#f0f921"
             ]
            ],
            "type": "heatmapgl"
           }
          ],
          "histogram": [
           {
            "marker": {
             "pattern": {
              "fillmode": "overlay",
              "size": 10,
              "solidity": 0.2
             }
            },
            "type": "histogram"
           }
          ],
          "histogram2d": [
           {
            "colorbar": {
             "outlinewidth": 0,
             "ticks": ""
            },
            "colorscale": [
             [
              0,
              "#0d0887"
             ],
             [
              0.1111111111111111,
              "#46039f"
             ],
             [
              0.2222222222222222,
              "#7201a8"
             ],
             [
              0.3333333333333333,
              "#9c179e"
             ],
             [
              0.4444444444444444,
              "#bd3786"
             ],
             [
              0.5555555555555556,
              "#d8576b"
             ],
             [
              0.6666666666666666,
              "#ed7953"
             ],
             [
              0.7777777777777778,
              "#fb9f3a"
             ],
             [
              0.8888888888888888,
              "#fdca26"
             ],
             [
              1,
              "#f0f921"
             ]
            ],
            "type": "histogram2d"
           }
          ],
          "histogram2dcontour": [
           {
            "colorbar": {
             "outlinewidth": 0,
             "ticks": ""
            },
            "colorscale": [
             [
              0,
              "#0d0887"
             ],
             [
              0.1111111111111111,
              "#46039f"
             ],
             [
              0.2222222222222222,
              "#7201a8"
             ],
             [
              0.3333333333333333,
              "#9c179e"
             ],
             [
              0.4444444444444444,
              "#bd3786"
             ],
             [
              0.5555555555555556,
              "#d8576b"
             ],
             [
              0.6666666666666666,
              "#ed7953"
             ],
             [
              0.7777777777777778,
              "#fb9f3a"
             ],
             [
              0.8888888888888888,
              "#fdca26"
             ],
             [
              1,
              "#f0f921"
             ]
            ],
            "type": "histogram2dcontour"
           }
          ],
          "mesh3d": [
           {
            "colorbar": {
             "outlinewidth": 0,
             "ticks": ""
            },
            "type": "mesh3d"
           }
          ],
          "parcoords": [
           {
            "line": {
             "colorbar": {
              "outlinewidth": 0,
              "ticks": ""
             }
            },
            "type": "parcoords"
           }
          ],
          "pie": [
           {
            "automargin": true,
            "type": "pie"
           }
          ],
          "scatter": [
           {
            "fillpattern": {
             "fillmode": "overlay",
             "size": 10,
             "solidity": 0.2
            },
            "type": "scatter"
           }
          ],
          "scatter3d": [
           {
            "line": {
             "colorbar": {
              "outlinewidth": 0,
              "ticks": ""
             }
            },
            "marker": {
             "colorbar": {
              "outlinewidth": 0,
              "ticks": ""
             }
            },
            "type": "scatter3d"
           }
          ],
          "scattercarpet": [
           {
            "marker": {
             "colorbar": {
              "outlinewidth": 0,
              "ticks": ""
             }
            },
            "type": "scattercarpet"
           }
          ],
          "scattergeo": [
           {
            "marker": {
             "colorbar": {
              "outlinewidth": 0,
              "ticks": ""
             }
            },
            "type": "scattergeo"
           }
          ],
          "scattergl": [
           {
            "marker": {
             "colorbar": {
              "outlinewidth": 0,
              "ticks": ""
             }
            },
            "type": "scattergl"
           }
          ],
          "scattermapbox": [
           {
            "marker": {
             "colorbar": {
              "outlinewidth": 0,
              "ticks": ""
             }
            },
            "type": "scattermapbox"
           }
          ],
          "scatterpolar": [
           {
            "marker": {
             "colorbar": {
              "outlinewidth": 0,
              "ticks": ""
             }
            },
            "type": "scatterpolar"
           }
          ],
          "scatterpolargl": [
           {
            "marker": {
             "colorbar": {
              "outlinewidth": 0,
              "ticks": ""
             }
            },
            "type": "scatterpolargl"
           }
          ],
          "scatterternary": [
           {
            "marker": {
             "colorbar": {
              "outlinewidth": 0,
              "ticks": ""
             }
            },
            "type": "scatterternary"
           }
          ],
          "surface": [
           {
            "colorbar": {
             "outlinewidth": 0,
             "ticks": ""
            },
            "colorscale": [
             [
              0,
              "#0d0887"
             ],
             [
              0.1111111111111111,
              "#46039f"
             ],
             [
              0.2222222222222222,
              "#7201a8"
             ],
             [
              0.3333333333333333,
              "#9c179e"
             ],
             [
              0.4444444444444444,
              "#bd3786"
             ],
             [
              0.5555555555555556,
              "#d8576b"
             ],
             [
              0.6666666666666666,
              "#ed7953"
             ],
             [
              0.7777777777777778,
              "#fb9f3a"
             ],
             [
              0.8888888888888888,
              "#fdca26"
             ],
             [
              1,
              "#f0f921"
             ]
            ],
            "type": "surface"
           }
          ],
          "table": [
           {
            "cells": {
             "fill": {
              "color": "#EBF0F8"
             },
             "line": {
              "color": "white"
             }
            },
            "header": {
             "fill": {
              "color": "#C8D4E3"
             },
             "line": {
              "color": "white"
             }
            },
            "type": "table"
           }
          ]
         },
         "layout": {
          "annotationdefaults": {
           "arrowcolor": "#2a3f5f",
           "arrowhead": 0,
           "arrowwidth": 1
          },
          "autotypenumbers": "strict",
          "coloraxis": {
           "colorbar": {
            "outlinewidth": 0,
            "ticks": ""
           }
          },
          "colorscale": {
           "diverging": [
            [
             0,
             "#8e0152"
            ],
            [
             0.1,
             "#c51b7d"
            ],
            [
             0.2,
             "#de77ae"
            ],
            [
             0.3,
             "#f1b6da"
            ],
            [
             0.4,
             "#fde0ef"
            ],
            [
             0.5,
             "#f7f7f7"
            ],
            [
             0.6,
             "#e6f5d0"
            ],
            [
             0.7,
             "#b8e186"
            ],
            [
             0.8,
             "#7fbc41"
            ],
            [
             0.9,
             "#4d9221"
            ],
            [
             1,
             "#276419"
            ]
           ],
           "sequential": [
            [
             0,
             "#0d0887"
            ],
            [
             0.1111111111111111,
             "#46039f"
            ],
            [
             0.2222222222222222,
             "#7201a8"
            ],
            [
             0.3333333333333333,
             "#9c179e"
            ],
            [
             0.4444444444444444,
             "#bd3786"
            ],
            [
             0.5555555555555556,
             "#d8576b"
            ],
            [
             0.6666666666666666,
             "#ed7953"
            ],
            [
             0.7777777777777778,
             "#fb9f3a"
            ],
            [
             0.8888888888888888,
             "#fdca26"
            ],
            [
             1,
             "#f0f921"
            ]
           ],
           "sequentialminus": [
            [
             0,
             "#0d0887"
            ],
            [
             0.1111111111111111,
             "#46039f"
            ],
            [
             0.2222222222222222,
             "#7201a8"
            ],
            [
             0.3333333333333333,
             "#9c179e"
            ],
            [
             0.4444444444444444,
             "#bd3786"
            ],
            [
             0.5555555555555556,
             "#d8576b"
            ],
            [
             0.6666666666666666,
             "#ed7953"
            ],
            [
             0.7777777777777778,
             "#fb9f3a"
            ],
            [
             0.8888888888888888,
             "#fdca26"
            ],
            [
             1,
             "#f0f921"
            ]
           ]
          },
          "colorway": [
           "#636efa",
           "#EF553B",
           "#00cc96",
           "#ab63fa",
           "#FFA15A",
           "#19d3f3",
           "#FF6692",
           "#B6E880",
           "#FF97FF",
           "#FECB52"
          ],
          "font": {
           "color": "#2a3f5f"
          },
          "geo": {
           "bgcolor": "white",
           "lakecolor": "white",
           "landcolor": "#E5ECF6",
           "showlakes": true,
           "showland": true,
           "subunitcolor": "white"
          },
          "hoverlabel": {
           "align": "left"
          },
          "hovermode": "closest",
          "mapbox": {
           "style": "light"
          },
          "paper_bgcolor": "white",
          "plot_bgcolor": "#E5ECF6",
          "polar": {
           "angularaxis": {
            "gridcolor": "white",
            "linecolor": "white",
            "ticks": ""
           },
           "bgcolor": "#E5ECF6",
           "radialaxis": {
            "gridcolor": "white",
            "linecolor": "white",
            "ticks": ""
           }
          },
          "scene": {
           "xaxis": {
            "backgroundcolor": "#E5ECF6",
            "gridcolor": "white",
            "gridwidth": 2,
            "linecolor": "white",
            "showbackground": true,
            "ticks": "",
            "zerolinecolor": "white"
           },
           "yaxis": {
            "backgroundcolor": "#E5ECF6",
            "gridcolor": "white",
            "gridwidth": 2,
            "linecolor": "white",
            "showbackground": true,
            "ticks": "",
            "zerolinecolor": "white"
           },
           "zaxis": {
            "backgroundcolor": "#E5ECF6",
            "gridcolor": "white",
            "gridwidth": 2,
            "linecolor": "white",
            "showbackground": true,
            "ticks": "",
            "zerolinecolor": "white"
           }
          },
          "shapedefaults": {
           "line": {
            "color": "#2a3f5f"
           }
          },
          "ternary": {
           "aaxis": {
            "gridcolor": "white",
            "linecolor": "white",
            "ticks": ""
           },
           "baxis": {
            "gridcolor": "white",
            "linecolor": "white",
            "ticks": ""
           },
           "bgcolor": "#E5ECF6",
           "caxis": {
            "gridcolor": "white",
            "linecolor": "white",
            "ticks": ""
           }
          },
          "title": {
           "x": 0.05
          },
          "xaxis": {
           "automargin": true,
           "gridcolor": "white",
           "linecolor": "white",
           "ticks": "",
           "title": {
            "standoff": 15
           },
           "zerolinecolor": "white",
           "zerolinewidth": 2
          },
          "yaxis": {
           "automargin": true,
           "gridcolor": "white",
           "linecolor": "white",
           "ticks": "",
           "title": {
            "standoff": 15
           },
           "zerolinecolor": "white",
           "zerolinewidth": 2
          }
         }
        }
       }
      }
     },
     "metadata": {},
     "output_type": "display_data"
    }
   ],
   "source": [
    "pruned_calif_viz = calif_dt_viz.prune(4)\n",
    "\n",
    "calif_sankey = SankeyTreePlot(pruned_calif_viz, show_text=False)\n",
    "calif_sankey.show()"
   ]
  },
  {
   "cell_type": "code",
   "execution_count": 26,
   "metadata": {},
   "outputs": [
    {
     "data": {
      "text/html": [
       "\n",
       "        <iframe\n",
       "            width=\"100%\"\n",
       "            height=\"650\"\n",
       "            src=\"http://127.0.0.1:8064/\"\n",
       "            frameborder=\"0\"\n",
       "            allowfullscreen\n",
       "            \n",
       "        ></iframe>\n",
       "        "
      ],
      "text/plain": [
       "<IPython.lib.display.IFrame at 0x7efe4f13f7c0>"
      ]
     },
     "metadata": {},
     "output_type": "display_data"
    }
   ],
   "source": [
    "\n",
    "X_train = calif_X_train\n",
    "X_test = calif_X_test\n",
    "y_train = calif_y_train\n",
    "y_test = calif_y_test\n",
    "X = calif_X\n",
    "\n",
    "calif_fbt_viz = VizTree(calif_fbt, X)\n",
    "\n",
    "# Example usage\n",
    "combined_dashboard = CombinedDashboard(calif_fbt_viz, X_test, y_test, X, calif_rf, class_names)\n",
    "combined_dashboard.run(port=8064)\n"
   ]
  }
 ],
 "metadata": {
  "kernelspec": {
   "display_name": "venv",
   "language": "python",
   "name": "python3"
  },
  "language_info": {
   "codemirror_mode": {
    "name": "ipython",
    "version": 3
   },
   "file_extension": ".py",
   "mimetype": "text/x-python",
   "name": "python",
   "nbconvert_exporter": "python",
   "pygments_lexer": "ipython3",
   "version": "3.10.12"
  }
 },
 "nbformat": 4,
 "nbformat_minor": 2
}
