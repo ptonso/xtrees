{
 "cells": [
  {
   "cell_type": "markdown",
   "id": "531a804c",
   "metadata": {},
   "source": [
    "# All‐Together: XTREES Exploration & Debug\n",
    "\n",
    "This notebook imports and sets up all key modules for XTREES (VizTree, TreePlot, TreeDash, ForestBasedTree, etc.) so you can experimentation and example demonstration. \n",
    "\n",
    "Below, the first code cell pulls in everything needed—feel free to run each section step by step to verify functionality.\n"
   ]
  },
  {
   "cell_type": "markdown",
   "id": "c4187e94",
   "metadata": {},
   "source": [
    "## Setup"
   ]
  },
  {
   "cell_type": "code",
   "execution_count": 1,
   "id": "a2cd0980",
   "metadata": {},
   "outputs": [],
   "source": [
    "from src.xtrees.dash import *\n",
    "from src.xtrees.model.fbt import *\n",
    "from src.utils import _fmt, show_df\n",
    "from src.xtrees.dash.vis_tree import VisTree\n",
    "\n",
    "import pandas as pd\n",
    "\n",
    "from jupyter_dash import JupyterDash\n",
    "\n",
    "from sklearn.ensemble import RandomForestClassifier, RandomForestRegressor\n",
    "from sklearn.tree import DecisionTreeClassifier, DecisionTreeRegressor\n",
    "\n",
    "from sklearn.datasets import load_iris, load_breast_cancer, fetch_california_housing\n",
    "from sklearn.model_selection import train_test_split\n",
    "from sklearn.metrics import accuracy_score, mean_squared_error\n",
    "\n",
    "seed = 42\n"
   ]
  },
  {
   "cell_type": "markdown",
   "id": "49681ca2",
   "metadata": {},
   "source": [
    "## Data Loading & Splitting\n",
    "\n",
    "Load the Iris, Breast Cancer, and California Housing datasets, convert them to pandas DataFrames, infer feature types, and split each into training and test sets.\n"
   ]
  },
  {
   "cell_type": "code",
   "execution_count": 2,
   "id": "535f8b3e",
   "metadata": {},
   "outputs": [],
   "source": [
    "# --------------------\n",
    "# Iris Dataset\n",
    "# --------------------\n",
    "iris_data = load_iris()\n",
    "iris_X = iris_data.data\n",
    "iris_y = iris_data.target\n",
    "\n",
    "iris_class_names = iris_data.target_names\n",
    "iris_feature_names = iris_data.feature_names\n",
    "iris_X = pd.DataFrame(iris_X, columns=iris_feature_names)\n",
    "\n",
    "iris_feature_types = pd.DataFrame(iris_X, columns=iris_feature_names).dtypes\n",
    "\n",
    "iris_X_train, iris_X_test, iris_y_train, iris_y_test = train_test_split(\n",
    "    iris_X, iris_y, test_size=0.3, random_state=seed\n",
    ")\n",
    "\n",
    "\n",
    "# --------------------\n",
    "# Breast Cancer Dataset\n",
    "# --------------------\n",
    "bc_data = load_breast_cancer()\n",
    "bc_X = bc_data.data\n",
    "bc_y = bc_data.target\n",
    "\n",
    "bc_class_names = bc_data.target_names\n",
    "bc_feature_names = bc_data.feature_names\n",
    "bc_X = pd.DataFrame(bc_X, columns=bc_feature_names)\n",
    "\n",
    "bc_feature_types = pd.DataFrame(bc_X, columns=bc_feature_names).dtypes\n",
    "\n",
    "bc_X_train, bc_X_test, bc_y_train, bc_y_test = train_test_split(\n",
    "    bc_X, bc_y, test_size=0.3, random_state=seed\n",
    ")\n",
    "\n",
    "\n",
    "# --------------------\n",
    "# California Housing Dataset\n",
    "# --------------------\n",
    "calif_data = fetch_california_housing()\n",
    "calif_X = calif_data.data\n",
    "calif_y = calif_data.target\n",
    "\n",
    "calif_feature_names = calif_data.feature_names\n",
    "calif_X = pd.DataFrame(calif_X, columns=calif_feature_names)\n",
    "\n",
    "calif_feature_types = pd.DataFrame(calif_X, columns=calif_feature_names).dtypes\n",
    "\n",
    "calif_X_train, calif_X_test, calif_y_train, calif_y_test = train_test_split(\n",
    "    calif_X, calif_y, test_size=0.2, random_state=seed\n",
    ")\n"
   ]
  },
  {
   "cell_type": "markdown",
   "id": "7453e4d7",
   "metadata": {},
   "source": [
    "## Train Models"
   ]
  },
  {
   "cell_type": "markdown",
   "id": "74801a19",
   "metadata": {},
   "source": [
    "### on Iris (0.6s)\n",
    "\n",
    "Train a RandomForestClassifier on the Iris training set, then build and fit a ForestBasedTree (FBT) with specified parameters. Finally, display the head of the conjunction-set DataFrame.\n"
   ]
  },
  {
   "cell_type": "code",
   "execution_count": 3,
   "id": "e93b1145",
   "metadata": {},
   "outputs": [
    {
     "name": "stdout",
     "output_type": "stream",
     "text": [
      "  0_upper 0_lower 1_upper 1_lower 2_upper 2_lower 3_upper 3_lower n_samples branch_prob              probas     0     1     2\n",
      "0    5.45    -inf     inf    -inf    2.45    -inf    0.70    -inf        18        0.03  [1.00, 0.00, 0.00]  1.00  0.00  0.00\n",
      "1    5.75    5.45    2.95    -inf    2.50    -inf    0.70    -inf        16        0.01  [0.81, 0.19, 0.00]  0.81  0.19  0.00\n",
      "2    5.75    5.45    3.60    2.95    2.50    -inf    0.70    -inf        15        0.01  [0.84, 0.16, 0.00]  0.84  0.16  0.00\n",
      "3     inf    5.75    3.60    -inf    2.50    -inf    0.70    -inf        16        0.04  [0.81, 0.19, 0.00]  0.81  0.19  0.00\n",
      "4    5.45    -inf     inf    -inf    2.45    -inf    1.35    0.80        16        0.02  [0.16, 0.84, 0.00]  0.16  0.84  0.00\n",
      "--------------------------------------------------\n",
      "RandomForest Accuracy: 1.00\n",
      "ForestBasedTree Accuracy: 1.00\n",
      "Decision Tree Accuracy:   1.00\n"
     ]
    }
   ],
   "source": [
    "# RandomForest parameters for Iris\n",
    "num_of_estimators = 20\n",
    "max_depth = 5\n",
    "min_sample_leaf = max(1, int(0.02 * len(iris_X_train)))\n",
    "\n",
    "iris_rf = RandomForestClassifier(\n",
    "    n_estimators=num_of_estimators,\n",
    "    max_depth=max_depth,\n",
    "    min_samples_leaf=min_sample_leaf,\n",
    "    random_state=seed\n",
    ")\n",
    "iris_rf.fit(iris_X_train, iris_y_train)\n",
    "\n",
    "\n",
    "# ForestBasedTree parameters\n",
    "minimal_forest_size = 10\n",
    "max_number_of_branches = 50\n",
    "exclusion_threshold = 0.8\n",
    "\n",
    "iris_fbt = ForestBasedTree(random_state=seed)\n",
    "iris_fbt.fit(\n",
    "    iris_rf,\n",
    "    iris_X_train,\n",
    "    iris_y_train,\n",
    "    iris_feature_types,\n",
    "    iris_feature_names,\n",
    "    minimal_forest_size=minimal_forest_size,\n",
    "    amount_of_branches_threshold=max_number_of_branches,\n",
    "    exclusion_threshold=exclusion_threshold\n",
    ")\n",
    "\n",
    "cs_df = iris_fbt.cs_df.copy()\n",
    "\n",
    "h = show_df(cs_df)\n",
    "\n",
    "print(\"-\"*50)\n",
    "\n",
    "\n",
    "iris_y_pred_rf = iris_rf.predict(iris_X_test)\n",
    "rf_accuracy = accuracy_score(iris_y_test, iris_y_pred_rf)\n",
    "\n",
    "\n",
    "iris_y_pred_fbt = iris_fbt.predict(iris_X_test)\n",
    "fbt_accuracy = accuracy_score(iris_y_test, iris_y_pred_fbt)\n",
    "\n",
    "\n",
    "iris_dt = DecisionTreeClassifier(max_depth=4, random_state=seed)\n",
    "iris_dt.fit(iris_X_train, iris_y_train)\n",
    "\n",
    "iris_y_pred_dt = iris_dt.predict(iris_X_test)\n",
    "dt_accuracy = accuracy_score(iris_y_test, iris_y_pred_dt)\n",
    "\n",
    "\n",
    "print(f\"RandomForest Accuracy: {rf_accuracy:.2f}\")\n",
    "print(f\"ForestBasedTree Accuracy: {fbt_accuracy:.2f}\")\n",
    "print(f\"Decision Tree Accuracy:   {dt_accuracy:.2f}\")\n"
   ]
  },
  {
   "cell_type": "markdown",
   "id": "0b62fba7",
   "metadata": {},
   "source": [
    "### on Breast Cancer (4.5s)\n",
    "\n",
    "Train a RandomForestClassifier on the Breast Cancer training set, then build and fit a ForestBasedTree (FBT) with the same parameters. Display the head of the resulting conjunction-set DataFrame.\n"
   ]
  },
  {
   "cell_type": "code",
   "execution_count": 4,
   "id": "841fe156",
   "metadata": {},
   "outputs": [
    {
     "name": "stdout",
     "output_type": "stream",
     "text": [
      "  0_upper 0_lower 1_upper 1_lower 2_upper 2_lower 3_upper 3_lower 4_upper 4_lower 5_upper 5_lower 6_upper 6_lower 7_upper 7_lower 8_upper 8_lower 9_upper 9_lower 10_upper 10_lower 11_upper 11_lower 12_upper 12_lower 13_upper 13_lower 14_upper 14_lower 15_upper 15_lower 16_upper 16_lower 17_upper 17_lower 18_upper 18_lower 19_upper 19_lower 20_upper 20_lower 21_upper 21_lower 22_upper 22_lower 23_upper 23_lower 24_upper 24_lower 25_upper 25_lower 26_upper 26_lower 27_upper 27_lower 28_upper 28_lower 29_upper 29_lower n_samples branch_prob        probas     0     1\n",
      "0   14.15    -inf   19.36    -inf     inf    -inf  690.50    -inf     inf    -inf     inf    -inf     inf    -inf    0.05    -inf     inf    -inf     inf    -inf     0.38     -inf     1.37     -inf     2.81     -inf    31.25     -inf      inf     -inf      inf     -inf      inf     -inf      inf     -inf      inf     -inf      inf     -inf    14.48     -inf    29.80     -inf   101.85     -inf      inf     -inf      inf     -inf      inf     -inf     0.21     -inf     0.13     -inf      inf     -inf      inf     -inf       110        0.00  [0.00, 1.00]  0.00  1.00\n",
      "1   14.15    -inf   19.36    -inf     inf    -inf  690.50    -inf     inf    -inf     inf    -inf     inf    -inf    0.05    -inf     inf    0.17     inf    -inf     0.38     -inf      inf     -inf      inf     2.81    31.25     -inf      inf     -inf      inf     -inf      inf     -inf      inf     -inf      inf     -inf      inf     -inf    14.48     -inf    29.80     -inf   101.85     -inf      inf     -inf      inf     -inf      inf     -inf     0.21     -inf     0.13     -inf      inf     -inf      inf     -inf        59        0.00  [0.00, 1.00]  0.00  1.00\n",
      "2     inf   14.15   19.36    -inf     inf    -inf  690.50    -inf     inf    -inf     inf    -inf     inf    -inf    0.05    -inf     inf    -inf     inf    -inf     0.38     -inf      inf     -inf      inf     -inf    31.25     -inf      inf     -inf      inf     -inf      inf     -inf      inf     -inf      inf     -inf      inf     -inf    14.48     -inf    23.59     -inf   101.85     -inf   953.70     -inf      inf     -inf      inf     -inf     0.21     -inf     0.13     -inf      inf     -inf      inf     -inf        67        0.00  [0.00, 1.00]  0.00  1.00\n",
      "3     inf   14.15   19.36    -inf     inf    -inf  690.50    -inf     inf    -inf     inf    -inf     inf    -inf    0.05    -inf     inf    -inf     inf    -inf     0.38     -inf      inf     -inf      inf     -inf    31.25     -inf      inf     -inf      inf     -inf      inf     -inf      inf     -inf      inf     -inf      inf     -inf    14.48     -inf    29.80    23.59   101.85     -inf   953.70     -inf      inf     -inf      inf     -inf     0.21     -inf     0.13     -inf      inf     -inf      inf     -inf        57        0.00  [0.12, 0.88]  0.12  0.88\n",
      "4   14.15    -inf   19.36    -inf     inf    -inf     inf  693.05     inf    -inf     inf    -inf     inf    -inf    0.05    -inf     inf    -inf     inf    -inf     0.38     -inf     1.37     -inf     2.81     -inf    31.25     -inf      inf     -inf      inf     -inf      inf     -inf      inf     -inf      inf     -inf      inf     -inf    14.48     -inf    29.80     -inf   101.85     -inf      inf     -inf      inf     -inf      inf     -inf     0.21     -inf     0.14     -inf      inf     -inf      inf     -inf        19        0.00  [0.19, 0.81]  0.19  0.81\n",
      "--------------------------------------------------\n",
      "RandomForest Accuracy: 0.97\n",
      "ForestBasedTree Accuracy: 0.65\n",
      "Decision Tree Accuracy:   0.95\n"
     ]
    }
   ],
   "source": [
    "# RandomForest parameters for Breast Cancer\n",
    "num_of_estimators = 20\n",
    "max_depth = 5\n",
    "min_sample_leaf = max(1, int(0.02 * len(bc_X_train)))\n",
    "\n",
    "bc_rf = RandomForestClassifier(\n",
    "    n_estimators=num_of_estimators,\n",
    "    max_depth=max_depth,\n",
    "    min_samples_leaf=min_sample_leaf,\n",
    "    random_state=seed\n",
    ")\n",
    "bc_rf.fit(bc_X_train, bc_y_train)\n",
    "\n",
    "# ForestBasedTree parameters\n",
    "minimal_forest_size = 10\n",
    "max_number_of_branches = 50\n",
    "exclusion_threshold = 0.8\n",
    "\n",
    "bc_fbt = ForestBasedTree(random_state=seed)\n",
    "bc_fbt.fit(\n",
    "    bc_rf,\n",
    "    bc_X_train,\n",
    "    bc_y_train,\n",
    "    bc_feature_types,\n",
    "    bc_feature_names,\n",
    "    minimal_forest_size=minimal_forest_size,\n",
    "    amount_of_branches_threshold=max_number_of_branches,\n",
    "    exclusion_threshold=exclusion_threshold\n",
    ")\n",
    "\n",
    "h = show_df(bc_fbt.cs_df)\n",
    "\n",
    "print(\"-\"*50)\n",
    "\n",
    "bc_y_pred_rf = bc_rf.predict(bc_X_test)\n",
    "rf_accuracy = accuracy_score(bc_y_test, bc_y_pred_rf)\n",
    "\n",
    "\n",
    "bc_y_pred_fbt = bc_fbt.predict(bc_X_test)\n",
    "fbt_accuracy = accuracy_score(bc_y_test, bc_y_pred_fbt)\n",
    "\n",
    "\n",
    "bc_dt = DecisionTreeClassifier(max_depth=4, random_state=seed)\n",
    "bc_dt.fit(bc_X_train, bc_y_train)\n",
    "\n",
    "bc_y_pred_dt = bc_dt.predict(bc_X_test)\n",
    "dt_accuracy = accuracy_score(bc_y_test, bc_y_pred_dt)\n",
    "\n",
    "\n",
    "print(f\"RandomForest Accuracy: {rf_accuracy:.2f}\")\n",
    "print(f\"ForestBasedTree Accuracy: {fbt_accuracy:.2f}\")\n",
    "print(f\"Decision Tree Accuracy:   {dt_accuracy:.2f}\")\n"
   ]
  },
  {
   "cell_type": "markdown",
   "id": "21539f1e",
   "metadata": {},
   "source": [
    "### on California Housing (28s)\n",
    "\n",
    "Train a RandomForestRegressor on the California Housing training set, then fit a ForestBasedTree. Display the head of the resulting conjunction-set DataFrame.\n"
   ]
  },
  {
   "cell_type": "code",
   "execution_count": 5,
   "id": "4ea3ba9f",
   "metadata": {},
   "outputs": [
    {
     "name": "stdout",
     "output_type": "stream",
     "text": [
      "  0_upper 0_lower 1_upper 1_lower 2_upper 2_lower 3_upper 3_lower 4_upper 4_lower 5_upper 5_lower 6_upper 6_lower 7_upper 7_lower n_samples branch_prob regressions\n",
      "0    3.06    2.20     inf    -inf    3.90    -inf     inf    -inf     inf    -inf    2.44    -inf     inf    -inf     inf    -inf       453        0.01        2.17\n",
      "1    3.06    2.20     inf    -inf    3.90    -inf     inf    -inf     inf    -inf    2.91    2.51     inf    -inf     inf    -inf       460        0.01        2.11\n",
      "2    3.06    2.20     inf    -inf    3.90    -inf     inf    -inf     inf    -inf     inf    3.11     inf    -inf     inf    -inf       423        0.01        1.57\n",
      "3    3.06    2.46     inf    -inf    4.21    3.90     inf    -inf     inf    -inf     inf    3.01     inf    -inf     inf    -inf       413        0.00        1.62\n",
      "4    2.32    -inf     inf    -inf     inf    4.31     inf    -inf     inf    -inf    2.43    -inf   34.52    -inf     inf    -inf       390        0.02        1.15\n",
      "--------------------------------------------------\n",
      "RandomForest Mean Squared Error: 0.52\n",
      "ForestBasedTree Mean Squared Error: 0.58\n",
      "Decision Tree Mean Squared Error:   0.50\n"
     ]
    }
   ],
   "source": [
    "feature_names = calif_feature_names\n",
    "feature_types = calif_feature_types\n",
    "\n",
    "num_of_estimators = 20\n",
    "max_depth = 5\n",
    "min_sample_leaf = max(1, int(0.02 * len(calif_X_train)))\n",
    "\n",
    "calif_rf = RandomForestRegressor(\n",
    "    n_estimators=num_of_estimators,\n",
    "    max_depth=max_depth,\n",
    "    min_samples_leaf=min_sample_leaf,\n",
    "    random_state=seed\n",
    ")\n",
    "calif_rf.fit(calif_X_train, calif_y_train)\n",
    "\n",
    "minimal_forest_size = 10\n",
    "max_number_of_branches = 50\n",
    "exclusion_threshold = 0.8\n",
    "\n",
    "calif_fbt = ForestBasedTree(random_state=seed)\n",
    "calif_fbt.fit(\n",
    "    calif_rf,\n",
    "    calif_X_train,\n",
    "    calif_y_train,\n",
    "    feature_types=feature_types,\n",
    "    feature_names=feature_names,\n",
    "    minimal_forest_size=minimal_forest_size,\n",
    "    amount_of_branches_threshold=max_number_of_branches,\n",
    "    exclusion_threshold=exclusion_threshold\n",
    ")\n",
    "\n",
    "\n",
    "h = show_df(calif_fbt.cs_df)\n",
    "\n",
    "print(\"-\"*50)\n",
    "\n",
    "\n",
    "calif_y_pred_rf = calif_rf.predict(calif_X_test)\n",
    "rf_mse = mean_squared_error(calif_y_test, calif_y_pred_rf)\n",
    "\n",
    "\n",
    "\n",
    "calif_y_pred_fbt = calif_fbt.predict(calif_X_test)\n",
    "fbt_mse = mean_squared_error(calif_y_test, calif_y_pred_fbt)\n",
    "\n",
    "\n",
    "calif_dt = DecisionTreeRegressor(random_state=seed)\n",
    "calif_dt.fit(calif_X_train, calif_y_train)\n",
    "\n",
    "calif_y_pred_dt = calif_dt.predict(calif_X_test)\n",
    "dt_mse = mean_squared_error(calif_y_test, calif_y_pred_dt)\n",
    "\n",
    "\n",
    "print(f\"RandomForest Mean Squared Error: {rf_mse:.2f}\")\n",
    "print(f\"ForestBasedTree Mean Squared Error: {fbt_mse:.2f}\")\n",
    "print(f\"Decision Tree Mean Squared Error:   {dt_mse:.2f}\")\n"
   ]
  },
  {
   "cell_type": "markdown",
   "id": "b6858f61",
   "metadata": {},
   "source": [
    "## Predictions\n"
   ]
  },
  {
   "cell_type": "markdown",
   "id": "9e677a54",
   "metadata": {},
   "source": [
    "### on Iris\n",
    "\n",
    "Use the already-fitted ForestBasedTree (`iris_fbt`) to predict on the Iris test set, compute accuracy, then build a VizTree from `iris_fbt`, inspect its attributes, and verify that VizTree’s predictions match the ForestBasedTree predictions.\n"
   ]
  },
  {
   "cell_type": "code",
   "execution_count": 6,
   "id": "cae36b98",
   "metadata": {},
   "outputs": [
    {
     "name": "stdout",
     "output_type": "stream",
     "text": [
      "ForestBasedTree Accuracy: 1.0000\n",
      "VisTree is_classifier flag: True\n",
      "==================================================\n",
      "VisTree Predictions: [1 0 2 1 1 0 1 2 1 1 2 0 0 0 0 1 2 1 1 2 0 2 0 2 2 2 2 2 0 0 0 0 1 0 0 2 1\n",
      " 0 0 0 2 1 1 0 0]\n",
      "==================================================\n",
      "VisTree Accuracy: 1.0000\n",
      "==================================================\n",
      "Node 0 (parent=None, is_left=None) | value=[0.27, 0.39, 0.34] | n_train=150\n",
      "  feature:   petal length (cm)\n",
      "  threshold: 5.05\n",
      "  left_id:   1\n",
      "  right_id:  30\n",
      "  n_samples: 0\n",
      "  Node 1 (parent=0, is_left=True) | value=[0.37, 0.49, 0.14] | n_train=108\n",
      "    feature:   petal width (cm)\n",
      "    threshold: 0.70\n",
      "    left_id:   2\n",
      "    right_id:  13\n",
      "    n_samples: 0\n",
      "    Node 2 (parent=1, is_left=True) | value=[0.80, 0.12, 0.08] | n_train=50\n",
      "      feature:   sepal length (cm)\n",
      "      threshold: 5.75\n",
      "      left_id:   3\n",
      "      right_id:  4\n",
      "      n_samples: 0\n",
      "      Leaf 3 (parent=2, is_left=True) | value=[0.80, 0.12, 0.08] | n_train=49\n",
      "      Node 4 (parent=2, is_left=False) | value=[0.81, 0.19, 0.00] | n_train=1\n",
      "        feature:   petal length (cm)\n",
      "        threshold: 2.50\n",
      "        left_id:   5\n",
      "        right_id:  6\n",
      "        n_samples: 0\n",
      "        Leaf 5 (parent=4, is_left=True) | value=[0.81, 0.19, 0.00] | n_train=1\n",
      "        Node 6 (parent=4, is_left=False) | value=[0.00, 0.00, 0.00] | n_train=0\n",
      "          feature:   sepal length (cm)\n",
      "          threshold: 6.40\n",
      "          left_id:   7\n",
      "          right_id:  12\n",
      "          n_samples: 0\n",
      "          Node 7 (parent=6, is_left=True) | value=[0.00, 0.00, 0.00] | n_train=0\n",
      "            feature:   petal length (cm)\n",
      "            threshold: 4.45\n",
      "            left_id:   8\n",
      "            right_id:  11\n",
      "            n_samples: 0\n",
      "            Node 8 (parent=7, is_left=True) | value=[0.00, 0.00, 0.00] | n_train=0\n",
      "              feature:   sepal length (cm)\n",
      "              threshold: 6.15\n",
      "              left_id:   9\n",
      "              right_id:  10\n",
      "              n_samples: 0\n",
      "              Leaf 9 (parent=8, is_left=True) | value=[0.18, 0.82, 0.00] | n_train=0\n",
      "              Leaf 10 (parent=8, is_left=False) | value=[0.55, 0.37, 0.08] | n_train=0\n",
      "            Leaf 11 (parent=7, is_left=False) | value=[0.57, 0.20, 0.23] | n_train=0\n",
      "          Leaf 12 (parent=6, is_left=False) | value=[0.20, 0.80, 0.00] | n_train=0\n",
      "    Node 13 (parent=1, is_left=False) | value=[0.00, 0.81, 0.19] | n_train=58\n",
      "      feature:   petal length (cm)\n",
      "      threshold: 2.50\n",
      "      left_id:   14\n",
      "      right_id:  19\n",
      "      n_samples: 0\n",
      "      Node 14 (parent=13, is_left=True) | value=[0.00, 0.00, 0.00] | n_train=0\n",
      "        feature:   petal width (cm)\n",
      "        threshold: 1.55\n",
      "        left_id:   15\n",
      "        right_id:  16\n",
      "        n_samples: 0\n",
      "        Leaf 15 (parent=14, is_left=True) | value=[0.21, 0.71, 0.08] | n_train=0\n",
      "        Node 16 (parent=14, is_left=False) | value=[0.00, 0.00, 0.00] | n_train=0\n",
      "          feature:   petal length (cm)\n",
      "          threshold: 2.45\n",
      "          left_id:   17\n",
      "          right_id:  18\n",
      "          n_samples: 0\n",
      "          Leaf 17 (parent=16, is_left=True) | value=[0.32, 0.47, 0.21] | n_train=0\n",
      "          Leaf 18 (parent=16, is_left=False) | value=[0.02, 0.13, 0.84] | n_train=0\n",
      "      Node 19 (parent=13, is_left=False) | value=[0.00, 0.81, 0.19] | n_train=58\n",
      "        feature:   petal width (cm)\n",
      "        threshold: 1.75\n",
      "        left_id:   20\n",
      "        right_id:  21\n",
      "        n_samples: 0\n",
      "        Leaf 20 (parent=19, is_left=True) | value=[0.00, 0.91, 0.09] | n_train=50\n",
      "        Node 21 (parent=19, is_left=False) | value=[0.00, 0.13, 0.87] | n_train=8\n",
      "          feature:   sepal length (cm)\n",
      "          threshold: 6.40\n",
      "          left_id:   22\n",
      "          right_id:  29\n",
      "          n_samples: 0\n",
      "          Node 22 (parent=21, is_left=True) | value=[0.00, 0.13, 0.87] | n_train=8\n",
      "            feature:   petal width (cm)\n",
      "            threshold: 1.85\n",
      "            left_id:   23\n",
      "            right_id:  28\n",
      "            n_samples: 0\n",
      "            Node 23 (parent=22, is_left=True) | value=[0.00, 0.12, 0.88] | n_train=5\n",
      "              feature:   sepal length (cm)\n",
      "              threshold: 5.05\n",
      "              left_id:   24\n",
      "              right_id:  25\n",
      "              n_samples: 0\n",
      "              Leaf 24 (parent=23, is_left=True) | value=[0.00, 0.70, 0.30] | n_train=0\n",
      "              Leaf 25 (parent=23, is_left=False) | value=[0.00, 0.12, 0.88] | n_train=5\n",
      "            Leaf 28 (parent=22, is_left=False) | value=[0.00, 0.15, 0.85] | n_train=3\n",
      "          Leaf 29 (parent=21, is_left=False) | value=[0.00, 0.12, 0.88] | n_train=0\n",
      "  Node 30 (parent=0, is_left=False) | value=[0.00, 0.14, 0.86] | n_train=42\n",
      "    feature:   petal width (cm)\n",
      "    threshold: 0.80\n",
      "    left_id:   31\n",
      "    right_id:  38\n",
      "    n_samples: 0\n",
      "    Node 31 (parent=30, is_left=True) | value=[0.00, 0.00, 0.00] | n_train=0\n",
      "      feature:   sepal length (cm)\n",
      "      threshold: 5.75\n",
      "      left_id:   32\n",
      "      right_id:  37\n",
      "      n_samples: 0\n",
      "      Node 32 (parent=31, is_left=True) | value=[0.00, 0.00, 0.00] | n_train=0\n",
      "        feature:   sepal length (cm)\n",
      "        threshold: 5.45\n",
      "        left_id:   33\n",
      "        right_id:  34\n",
      "        n_samples: 0\n",
      "        Leaf 33 (parent=32, is_left=True) | value=[0.84, 0.14, 0.02] | n_train=0\n",
      "        Node 34 (parent=32, is_left=False) | value=[0.00, 0.00, 0.00] | n_train=0\n",
      "          feature:   sepal width (cm)\n",
      "          threshold: 2.95\n",
      "          left_id:   35\n",
      "          right_id:  36\n",
      "          n_samples: 0\n",
      "          Leaf 35 (parent=34, is_left=True) | value=[0.11, 0.27, 0.62] | n_train=0\n",
      "          Leaf 36 (parent=34, is_left=False) | value=[0.81, 0.07, 0.12] | n_train=0\n",
      "      Leaf 37 (parent=31, is_left=False) | value=[0.06, 0.16, 0.78] | n_train=0\n",
      "    Node 38 (parent=30, is_left=False) | value=[0.00, 0.14, 0.86] | n_train=42\n",
      "      feature:   sepal length (cm)\n",
      "      threshold: 5.95\n",
      "      left_id:   39\n",
      "      right_id:  44\n",
      "      n_samples: 0\n",
      "      Node 39 (parent=38, is_left=True) | value=[0.00, 0.26, 0.74] | n_train=4\n",
      "        feature:   petal width (cm)\n",
      "        threshold: 1.55\n",
      "        left_id:   40\n",
      "        right_id:  43\n",
      "        n_samples: 0\n",
      "        Node 40 (parent=39, is_left=True) | value=[0.00, 0.00, 0.00] | n_train=0\n",
      "          feature:   sepal length (cm)\n",
      "          threshold: 5.55\n",
      "          left_id:   41\n",
      "          right_id:  42\n",
      "          n_samples: 0\n",
      "          Leaf 41 (parent=40, is_left=True) | value=[0.00, 0.85, 0.14] | n_train=0\n",
      "          Leaf 42 (parent=40, is_left=False) | value=[0.00, 0.27, 0.73] | n_train=0\n",
      "        Leaf 43 (parent=39, is_left=False) | value=[0.00, 0.26, 0.74] | n_train=4\n",
      "      Leaf 44 (parent=38, is_left=False) | value=[0.00, 0.13, 0.87] | n_train=38\n"
     ]
    }
   ],
   "source": [
    "X_train = iris_X_train\n",
    "X_test = iris_X_test\n",
    "y_train = iris_y_train\n",
    "y_test = iris_y_test\n",
    "class_names = iris_class_names\n",
    "\n",
    "fbt_ypred = iris_fbt.predict(X_test)\n",
    "accuracy = accuracy_score(y_test, fbt_ypred)\n",
    "print(f\"ForestBasedTree Accuracy: {accuracy:.4f}\")\n",
    "\n",
    "\n",
    "iris_fbt_viz = VisTree(iris_fbt, X=iris_X, class_names=class_names)\n",
    "print(\"VisTree is_classifier flag:\", iris_fbt_viz.is_classifier)\n",
    "\n",
    "print(\"=\"*50)\n",
    "fbtviz_ypred = iris_fbt_viz.predict(X_test)\n",
    "print(\"VisTree Predictions:\", fbtviz_ypred)\n",
    "print(\"=\"*50)\n",
    "\n",
    "accuracy = accuracy_score(y_test, fbtviz_ypred)\n",
    "print(f\"VisTree Accuracy: {accuracy:.4f}\")\n",
    "print(\"=\"*50)\n",
    "iris_fbt_viz.print_nodes()\n",
    "\n"
   ]
  },
  {
   "cell_type": "markdown",
   "id": "c5a89a33",
   "metadata": {},
   "source": [
    "### on Breast Cancer\n",
    "\n",
    "Use the already-fitted ForestBasedTree (`bc_fbt`) to predict on the Breast Cancer test set, compute accuracy, then build a VizTree from `bc_fbt`, inspect its attributes, and verify that VizTree’s predictions match the ForestBasedTree predictions.\n",
    "\n"
   ]
  },
  {
   "cell_type": "code",
   "execution_count": 7,
   "id": "cf56e399",
   "metadata": {},
   "outputs": [
    {
     "name": "stdout",
     "output_type": "stream",
     "text": [
      "ForestBasedTree Accuracy: 0.6491\n",
      "VisTree is_classifier flag: True\n",
      "==================================================\n",
      "VisTree Predictions: [1 1 1 1 1 1 1 1 1 1 1 1 1 1 1 1 1 1 1 1 1 1 1 1 1 1 1 1 1 1 1 1 1 1 1 1 1\n",
      " 1 1 1 1 1 1 1 1 1 1 1 1 1 1 1 1 0 1 1 1 1 1 1 1 1 1 1 1 1 1 1 1 1 0 1 1 1\n",
      " 1 1 1 1 1 1 1 1 1 1 1 1 1 1 1 1 1 1 1 1 1 1 1 0 1 1 1 1 1 1 1 1 1 1 1 1 1\n",
      " 1 1 1 1 1 1 1 1 1 1 1 1 1 1 1 1 1 1 1 1 1 1 1 1 1 1 1 1 1 1 1 1 1 0 1 1 1\n",
      " 1 1 1 1 1 1 1 1 1 1 1 1 1 1 1 1 1 1 1 1 1 0 1]\n",
      "==================================================\n",
      "VisTree Accuracy: 0.6491\n",
      "==================================================\n",
      "Node 0 (parent=None, is_left=None) | value=[0.14, 0.86] | n_train=569\n",
      "  feature:   area error\n",
      "  threshold: 31.25\n",
      "  left_id:   1\n",
      "  right_id:  60\n",
      "  n_samples: 0\n",
      "  Node 1 (parent=0, is_left=True) | value=[0.14, 0.86] | n_train=358\n",
      "    feature:   mean concave points\n",
      "    threshold: 0.05\n",
      "    left_id:   2\n",
      "    right_id:  3\n",
      "    n_samples: 0\n",
      "    Leaf 2 (parent=1, is_left=True) | value=[0.12, 0.88] | n_train=314\n",
      "    Node 3 (parent=1, is_left=False) | value=[0.25, 0.75] | n_train=44\n",
      "      feature:   mean radius\n",
      "      threshold: 15.23\n",
      "      left_id:   4\n",
      "      right_id:  59\n",
      "      n_samples: 0\n",
      "      Node 4 (parent=3, is_left=True) | value=[0.14, 0.86] | n_train=37\n",
      "        feature:   worst perimeter\n",
      "        threshold: 101.30\n",
      "        left_id:   5\n",
      "        right_id:  58\n",
      "        n_samples: 0\n",
      "        Node 5 (parent=4, is_left=True) | value=[0.15, 0.85] | n_train=15\n",
      "          feature:   mean concave points\n",
      "          threshold: 0.05\n",
      "          left_id:   6\n",
      "          right_id:  7\n",
      "          n_samples: 0\n",
      "          Leaf 6 (parent=5, is_left=True) | value=[0.14, 0.86] | n_train=3\n",
      "          Node 7 (parent=5, is_left=False) | value=[0.16, 0.84] | n_train=12\n",
      "            feature:   worst area\n",
      "            threshold: 882.40\n",
      "            left_id:   8\n",
      "            right_id:  41\n",
      "            n_samples: 0\n",
      "            Node 8 (parent=7, is_left=True) | value=[0.16, 0.84] | n_train=12\n",
      "              feature:   mean compactness\n",
      "              threshold: 0.10\n",
      "              left_id:   9\n",
      "              right_id:  16\n",
      "              n_samples: 0\n",
      "              Node 9 (parent=8, is_left=True) | value=[0.00, 0.00] | n_train=0\n",
      "                feature:   worst concave points\n",
      "                threshold: 0.12\n",
      "                left_id:   10\n",
      "                right_id:  11\n",
      "                n_samples: 0\n",
      "                Leaf 10 (parent=9, is_left=True) | value=[0.18, 0.82] | n_train=0\n",
      "                Node 11 (parent=9, is_left=False) | value=[0.00, 0.00] | n_train=0\n",
      "                  feature:   mean area\n",
      "                  threshold: 721.55\n",
      "                  left_id:   12\n",
      "                  right_id:  13\n",
      "                  n_samples: 0\n",
      "                  Leaf 12 (parent=11, is_left=True) | value=[0.20, 0.80] | n_train=0\n",
      "                  Node 13 (parent=11, is_left=False) | value=[0.00, 0.00] | n_train=0\n",
      "                    feature:   mean concave points\n",
      "                    threshold: 0.06\n",
      "                    left_id:   14\n",
      "                    right_id:  15\n",
      "                    n_samples: 0\n",
      "                    Leaf 14 (parent=13, is_left=True) | value=[0.28, 0.72] | n_train=0\n",
      "                    Leaf 15 (parent=13, is_left=False) | value=[0.54, 0.46] | n_train=0\n",
      "              Leaf 16 (parent=8, is_left=False) | value=[1.01, 4.99] | n_train=12\n",
      "            Node 41 (parent=7, is_left=False) | value=[0.00, 0.00] | n_train=0\n",
      "              feature:   worst concave points\n",
      "              threshold: 0.12\n",
      "              left_id:   42\n",
      "              right_id:  53\n",
      "              n_samples: 0\n",
      "              Leaf 42 (parent=41, is_left=True) | value=[0.37, 0.63] | n_train=0\n",
      "              Node 53 (parent=41, is_left=False) | value=[0.00, 0.00] | n_train=0\n",
      "                feature:   mean area\n",
      "                threshold: 721.55\n",
      "                left_id:   54\n",
      "                right_id:  55\n",
      "                n_samples: 0\n",
      "                Leaf 54 (parent=53, is_left=True) | value=[0.19, 0.81] | n_train=0\n",
      "                Node 55 (parent=53, is_left=False) | value=[0.00, 0.00] | n_train=0\n",
      "                  feature:   mean concave points\n",
      "                  threshold: 0.06\n",
      "                  left_id:   56\n",
      "                  right_id:  57\n",
      "                  n_samples: 0\n",
      "                  Leaf 56 (parent=55, is_left=True) | value=[0.27, 0.73] | n_train=0\n",
      "                  Leaf 57 (parent=55, is_left=False) | value=[0.53, 0.47] | n_train=0\n",
      "        Leaf 58 (parent=4, is_left=False) | value=[0.13, 0.87] | n_train=22\n",
      "      Leaf 59 (parent=3, is_left=False) | value=[0.85, 0.15] | n_train=7\n",
      "  Node 60 (parent=0, is_left=False) | value=[0.15, 0.85] | n_train=211\n",
      "    feature:   mean radius\n",
      "    threshold: 14.15\n",
      "    left_id:   61\n",
      "    right_id:  160\n",
      "    n_samples: 0\n",
      "    Node 61 (parent=60, is_left=True) | value=[0.30, 0.70] | n_train=36\n",
      "      feature:   mean concave points\n",
      "      threshold: 0.05\n",
      "      left_id:   62\n",
      "      right_id:  63\n",
      "      n_samples: 0\n",
      "      Leaf 62 (parent=61, is_left=True) | value=[0.08, 0.92] | n_train=22\n",
      "      Node 63 (parent=61, is_left=False) | value=[0.64, 0.36] | n_train=14\n",
      "        feature:   mean compactness\n",
      "        threshold: 0.10\n",
      "        left_id:   64\n",
      "        right_id:  123\n",
      "        n_samples: 0\n",
      "        Node 64 (parent=63, is_left=True) | value=[0.52, 0.48] | n_train=2\n",
      "          feature:   worst symmetry\n",
      "          threshold: 0.31\n",
      "          left_id:   65\n",
      "          right_id:  106\n",
      "          n_samples: 0\n",
      "          Node 65 (parent=64, is_left=True) | value=[0.52, 0.48] | n_train=2\n",
      "            feature:   worst perimeter\n",
      "            threshold: 101.30\n",
      "            left_id:   66\n",
      "            right_id:  81\n",
      "            n_samples: 0\n",
      "            Node 66 (parent=65, is_left=True) | value=[0.52, 0.48] | n_train=2\n",
      "              feature:   mean area\n",
      "              threshold: 721.55\n",
      "              left_id:   67\n",
      "              right_id:  78\n",
      "              n_samples: 0\n",
      "              Node 67 (parent=66, is_left=True) | value=[0.52, 0.48] | n_train=2\n",
      "                feature:   mean concavity\n",
      "                threshold: 0.10\n",
      "                left_id:   68\n",
      "                right_id:  77\n",
      "                n_samples: 0\n",
      "                Leaf 68 (parent=67, is_left=True) | value=[0.77, 1.23] | n_train=1\n",
      "                Leaf 77 (parent=67, is_left=False) | value=[0.77, 0.23] | n_train=1\n",
      "              Node 78 (parent=66, is_left=False) | value=[0.00, 0.00] | n_train=0\n",
      "                feature:   mean concave points\n",
      "                threshold: 0.06\n",
      "                left_id:   79\n",
      "                right_id:  80\n",
      "                n_samples: 0\n",
      "                Leaf 79 (parent=78, is_left=True) | value=[0.42, 0.58] | n_train=0\n",
      "                Leaf 80 (parent=78, is_left=False) | value=[0.68, 0.32] | n_train=0\n",
      "            Node 81 (parent=65, is_left=False) | value=[0.00, 0.00] | n_train=0\n",
      "              feature:   worst concavity\n",
      "              threshold: 0.26\n",
      "              left_id:   82\n",
      "              right_id:  97\n",
      "              n_samples: 0\n",
      "              Node 82 (parent=81, is_left=True) | value=[0.00, 0.00] | n_train=0\n",
      "                feature:   mean area\n",
      "                threshold: 721.55\n",
      "                left_id:   83\n",
      "                right_id:  94\n",
      "                n_samples: 0\n",
      "                Node 83 (parent=82, is_left=True) | value=[0.00, 0.00] | n_train=0\n",
      "                  feature:   mean concavity\n",
      "                  threshold: 0.10\n",
      "                  left_id:   84\n",
      "                  right_id:  93\n",
      "                  n_samples: 0\n",
      "                  Leaf 84 (parent=83, is_left=True) | value=[0.37, 0.63] | n_train=0\n",
      "                  Leaf 93 (parent=83, is_left=False) | value=[0.75, 0.25] | n_train=0\n",
      "                Node 94 (parent=82, is_left=False) | value=[0.00, 0.00] | n_train=0\n",
      "                  feature:   mean concave points\n",
      "                  threshold: 0.06\n",
      "                  left_id:   95\n",
      "                  right_id:  96\n",
      "                  n_samples: 0\n",
      "                  Leaf 95 (parent=94, is_left=True) | value=[0.40, 0.60] | n_train=0\n",
      "                  Leaf 96 (parent=94, is_left=False) | value=[0.70, 0.30] | n_train=0\n",
      "              Node 97 (parent=81, is_left=False) | value=[0.00, 0.00] | n_train=0\n",
      "                feature:   concavity error\n",
      "                threshold: 0.03\n",
      "                left_id:   98\n",
      "                right_id:  99\n",
      "                n_samples: 0\n",
      "                Leaf 98 (parent=97, is_left=True) | value=[0.85, 0.15] | n_train=0\n",
      "                Node 99 (parent=97, is_left=False) | value=[0.00, 0.00] | n_train=0\n",
      "                  feature:   mean area\n",
      "                  threshold: 721.55\n",
      "                  left_id:   100\n",
      "                  right_id:  103\n",
      "                  n_samples: 0\n",
      "                  Node 100 (parent=99, is_left=True) | value=[0.00, 0.00] | n_train=0\n",
      "                    feature:   mean concavity\n",
      "                    threshold: 0.10\n",
      "                    left_id:   101\n",
      "                    right_id:  102\n",
      "                    n_samples: 0\n",
      "                    Leaf 101 (parent=100, is_left=True) | value=[0.38, 0.62] | n_train=0\n",
      "                    Leaf 102 (parent=100, is_left=False) | value=[0.77, 0.23] | n_train=0\n",
      "                  Node 103 (parent=99, is_left=False) | value=[0.00, 0.00] | n_train=0\n",
      "                    feature:   mean concave points\n",
      "                    threshold: 0.06\n",
      "                    left_id:   104\n",
      "                    right_id:  105\n",
      "                    n_samples: 0\n",
      "                    Leaf 104 (parent=103, is_left=True) | value=[0.42, 0.58] | n_train=0\n",
      "                    Leaf 105 (parent=103, is_left=False) | value=[0.73, 0.27] | n_train=0\n",
      "          Node 106 (parent=64, is_left=False) | value=[0.00, 0.00] | n_train=0\n",
      "            feature:   worst concavity\n",
      "            threshold: 0.26\n",
      "            left_id:   107\n",
      "            right_id:  122\n",
      "            n_samples: 0\n",
      "            Node 107 (parent=106, is_left=True) | value=[0.00, 0.00] | n_train=0\n",
      "              feature:   mean area\n",
      "              threshold: 721.55\n",
      "              left_id:   108\n",
      "              right_id:  117\n",
      "              n_samples: 0\n",
      "              Node 108 (parent=107, is_left=True) | value=[0.00, 0.00] | n_train=0\n",
      "                feature:   mean concavity\n",
      "                threshold: 0.10\n",
      "                left_id:   109\n",
      "                right_id:  116\n",
      "                n_samples: 0\n",
      "                Leaf 109 (parent=108, is_left=True) | value=[0.45, 0.55] | n_train=0\n",
      "                Leaf 116 (parent=108, is_left=False) | value=[0.84, 0.16] | n_train=0\n",
      "              Node 117 (parent=107, is_left=False) | value=[0.00, 0.00] | n_train=0\n",
      "                feature:   mean concave points\n",
      "                threshold: 0.06\n",
      "                left_id:   118\n",
      "                right_id:  121\n",
      "                n_samples: 0\n",
      "                Node 118 (parent=117, is_left=True) | value=[0.00, 0.00] | n_train=0\n",
      "                  feature:   worst perimeter\n",
      "                  threshold: 101.30\n",
      "                  left_id:   119\n",
      "                  right_id:  120\n",
      "                  n_samples: 0\n",
      "                  Leaf 119 (parent=118, is_left=True) | value=[0.50, 0.50] | n_train=0\n",
      "                  Leaf 120 (parent=118, is_left=False) | value=[0.48, 0.52] | n_train=0\n",
      "                Leaf 121 (parent=117, is_left=False) | value=[0.78, 0.22] | n_train=0\n",
      "            Leaf 122 (parent=106, is_left=False) | value=[0.86, 0.14] | n_train=0\n",
      "        Node 123 (parent=63, is_left=False) | value=[0.66, 0.34] | n_train=12\n",
      "          feature:   mean concavity\n",
      "          threshold: 0.10\n",
      "          left_id:   124\n",
      "          right_id:  149\n",
      "          n_samples: 0\n",
      "          Node 124 (parent=123, is_left=True) | value=[0.29, 0.71] | n_train=4\n",
      "            feature:   worst perimeter\n",
      "            threshold: 101.30\n",
      "            left_id:   125\n",
      "            right_id:  140\n",
      "            n_samples: 0\n",
      "            Node 125 (parent=124, is_left=True) | value=[0.30, 0.70] | n_train=3\n",
      "              feature:   mean area\n",
      "              threshold: 721.55\n",
      "              left_id:   126\n",
      "              right_id:  137\n",
      "              n_samples: 0\n",
      "              Node 126 (parent=125, is_left=True) | value=[0.30, 0.70] | n_train=3\n",
      "                feature:   mean concavity\n",
      "                threshold: 0.10\n",
      "                left_id:   127\n",
      "                right_id:  136\n",
      "                n_samples: 0\n",
      "                Leaf 127 (parent=126, is_left=True) | value=[0.72, 1.28] | n_train=3\n",
      "                Leaf 136 (parent=126, is_left=False) | value=[0.77, 0.23] | n_train=0\n",
      "              Node 137 (parent=125, is_left=False) | value=[0.00, 0.00] | n_train=0\n",
      "                feature:   mean concave points\n",
      "                threshold: 0.06\n",
      "                left_id:   138\n",
      "                right_id:  139\n",
      "                n_samples: 0\n",
      "                Leaf 138 (parent=137, is_left=True) | value=[0.42, 0.58] | n_train=0\n",
      "                Leaf 139 (parent=137, is_left=False) | value=[0.68, 0.32] | n_train=0\n",
      "            Node 140 (parent=124, is_left=False) | value=[0.29, 0.71] | n_train=1\n",
      "              feature:   mean texture\n",
      "              threshold: 16.38\n",
      "              left_id:   141\n",
      "              right_id:  142\n",
      "              n_samples: 0\n",
      "              Leaf 141 (parent=140, is_left=True) | value=[0.13, 0.87] | n_train=0\n",
      "              Node 142 (parent=140, is_left=False) | value=[0.29, 0.71] | n_train=1\n",
      "                feature:   mean area\n",
      "                threshold: 721.55\n",
      "                left_id:   143\n",
      "                right_id:  146\n",
      "                n_samples: 0\n",
      "                Node 143 (parent=142, is_left=True) | value=[0.29, 0.71] | n_train=1\n",
      "                  feature:   mean concavity\n",
      "                  threshold: 0.10\n",
      "                  left_id:   144\n",
      "                  right_id:  145\n",
      "                  n_samples: 0\n",
      "                  Leaf 144 (parent=143, is_left=True) | value=[0.29, 0.71] | n_train=1\n",
      "                  Leaf 145 (parent=143, is_left=False) | value=[0.71, 0.29] | n_train=0\n",
      "                Node 146 (parent=142, is_left=False) | value=[0.00, 0.00] | n_train=0\n",
      "                  feature:   mean concave points\n",
      "                  threshold: 0.06\n",
      "                  left_id:   147\n",
      "                  right_id:  148\n",
      "                  n_samples: 0\n",
      "                  Leaf 147 (parent=146, is_left=True) | value=[0.36, 0.64] | n_train=0\n",
      "                  Leaf 148 (parent=146, is_left=False) | value=[0.67, 0.33] | n_train=0\n",
      "          Node 149 (parent=123, is_left=False) | value=[0.85, 0.15] | n_train=8\n",
      "            feature:   worst symmetry\n",
      "            threshold: 0.31\n",
      "            left_id:   150\n",
      "            right_id:  159\n",
      "            n_samples: 0\n",
      "            Node 150 (parent=149, is_left=True) | value=[0.76, 0.24] | n_train=2\n",
      "              feature:   mean area\n",
      "              threshold: 721.55\n",
      "              left_id:   151\n",
      "              right_id:  152\n",
      "              n_samples: 0\n",
      "              Leaf 151 (parent=150, is_left=True) | value=[0.76, 0.24] | n_train=2\n",
      "              Node 152 (parent=150, is_left=False) | value=[0.00, 0.00] | n_train=0\n",
      "                feature:   worst symmetry\n",
      "                threshold: 0.29\n",
      "                left_id:   153\n",
      "                right_id:  156\n",
      "                n_samples: 0\n",
      "                Node 153 (parent=152, is_left=True) | value=[0.00, 0.00] | n_train=0\n",
      "                  feature:   mean concave points\n",
      "                  threshold: 0.06\n",
      "                  left_id:   154\n",
      "                  right_id:  155\n",
      "                  n_samples: 0\n",
      "                  Leaf 154 (parent=153, is_left=True) | value=[0.37, 0.63] | n_train=0\n",
      "                  Leaf 155 (parent=153, is_left=False) | value=[0.66, 0.34] | n_train=0\n",
      "                Node 156 (parent=152, is_left=False) | value=[0.00, 0.00] | n_train=0\n",
      "                  feature:   mean concave points\n",
      "                  threshold: 0.06\n",
      "                  left_id:   157\n",
      "                  right_id:  158\n",
      "                  n_samples: 0\n",
      "                  Leaf 157 (parent=156, is_left=True) | value=[0.49, 0.51] | n_train=0\n",
      "                  Leaf 158 (parent=156, is_left=False) | value=[0.74, 0.26] | n_train=0\n",
      "            Leaf 159 (parent=149, is_left=False) | value=[0.88, 0.12] | n_train=6\n",
      "    Leaf 160 (parent=60, is_left=False) | value=[0.12, 0.88] | n_train=175\n"
     ]
    }
   ],
   "source": [
    "X_train = bc_X_train\n",
    "X_test  = bc_X_test\n",
    "y_train = bc_y_train\n",
    "y_test  = bc_y_test\n",
    "class_names = bc_class_names\n",
    "\n",
    "cancer_fbt_viz = VisTree(bc_fbt, bc_X, class_names)\n",
    "\n",
    "fbt_ypred = bc_fbt.predict(X_test)\n",
    "accuracy = accuracy_score(y_test, fbt_ypred)\n",
    "print(f\"ForestBasedTree Accuracy: {accuracy:.4f}\")\n",
    "\n",
    "from src.xtrees.dash.vis_tree import VisTree\n",
    "\n",
    "bc_fbt_viz = VisTree(bc_fbt, X=bc_X, class_names=class_names)\n",
    "print(\"VisTree is_classifier flag:\", bc_fbt_viz.is_classifier)\n",
    "\n",
    "print(\"=\"*50)\n",
    "fbtviz_ypred = bc_fbt_viz.predict(X_test)\n",
    "print(\"VisTree Predictions:\", fbtviz_ypred)\n",
    "print(\"=\"*50)\n",
    "\n",
    "accuracy = accuracy_score(y_test, fbtviz_ypred)\n",
    "print(f\"VisTree Accuracy: {accuracy:.4f}\")\n",
    "print(\"=\"*50)\n",
    "bc_fbt_viz.print_nodes()\n",
    "\n"
   ]
  },
  {
   "cell_type": "code",
   "execution_count": 8,
   "id": "15f23f08",
   "metadata": {},
   "outputs": [],
   "source": [
    "# !python3 -m src.xtrees.dash.vis_tree\n"
   ]
  },
  {
   "cell_type": "markdown",
   "id": "0b1db66a",
   "metadata": {},
   "source": [
    "## Visualization\n",
    "\n",
    "Below, we demonstrate various interactive visualizations for:\n",
    "1. The pruned ForestBasedTree (FBT) as a Sankey plot.\n",
    "2. An interactive Dash app for the pruned FBT on the Iris test set.\n",
    "3. The original decision tree (DT) for the breast‐cancer dataset, both as a Sankey plot and a Dash app.\n",
    "4. An interactive RandomForest Dashboard.\n",
    "5. A combined FBT + RF dashboard for Iris.\n",
    "6. A Sankey plot of a pruned regression tree on the California housing dataset.\n",
    "7. A combined FBT + RF dashboard for California.\n"
   ]
  },
  {
   "cell_type": "code",
   "execution_count": 9,
   "id": "a46253e2",
   "metadata": {},
   "outputs": [],
   "source": [
    "from src.xtrees.dash.tree_dash import *\n",
    "from src.xtrees.dash.tree_plot import *\n",
    "from src.xtrees.dash.vis_tree import *\n"
   ]
  },
  {
   "cell_type": "code",
   "execution_count": 10,
   "id": "1a4a2823",
   "metadata": {},
   "outputs": [
    {
     "data": {
      "application/vnd.plotly.v1+json": {
       "config": {
        "plotlyServerURL": "https://plot.ly"
       },
       "data": [
        {
         "link": {
          "hovertemplate": "<b style=\"font-size:14px;\">n_train:</b> %{value}<extra></extra>",
          "label": [
           "358",
           "314",
           "44",
           "37",
           "15",
           "3",
           "12",
           "12",
           "0",
           "0",
           "0",
           "0",
           "0",
           "0",
           "0",
           "12",
           "0",
           "0",
           "0",
           "0",
           "0",
           "0",
           "0",
           "22",
           "7",
           "211",
           "36",
           "22",
           "14",
           "2",
           "2",
           "2",
           "2",
           "1",
           "1",
           "0",
           "0",
           "0",
           "0",
           "0",
           "0",
           "0",
           "0",
           "0",
           "0",
           "0",
           "0",
           "0",
           "0",
           "0",
           "0",
           "0",
           "0",
           "0",
           "0",
           "0",
           "0",
           "0",
           "0",
           "0",
           "0",
           "0",
           "0",
           "0",
           "0",
           "0",
           "12",
           "4",
           "3",
           "3",
           "3",
           "0",
           "0",
           "0",
           "0",
           "1",
           "0",
           "1",
           "1",
           "1",
           "0",
           "0",
           "0",
           "0",
           "8",
           "2",
           "2",
           "0",
           "0",
           "0",
           "0",
           "0",
           "0",
           "0",
           "6",
           "175"
          ],
          "source": [
           0,
           1,
           1,
           3,
           4,
           5,
           5,
           7,
           8,
           9,
           9,
           11,
           11,
           13,
           13,
           8,
           7,
           17,
           17,
           19,
           19,
           21,
           21,
           4,
           3,
           0,
           26,
           27,
           27,
           29,
           30,
           31,
           32,
           33,
           33,
           32,
           36,
           36,
           31,
           39,
           40,
           41,
           41,
           40,
           44,
           44,
           39,
           47,
           47,
           49,
           50,
           50,
           49,
           53,
           53,
           30,
           56,
           57,
           58,
           58,
           57,
           61,
           62,
           62,
           61,
           56,
           29,
           67,
           68,
           69,
           70,
           70,
           69,
           73,
           73,
           68,
           76,
           76,
           78,
           79,
           79,
           78,
           82,
           82,
           67,
           85,
           86,
           86,
           88,
           89,
           89,
           88,
           92,
           92,
           85,
           26
          ],
          "target": [
           1,
           2,
           3,
           4,
           5,
           6,
           7,
           8,
           9,
           10,
           11,
           12,
           13,
           14,
           15,
           16,
           17,
           18,
           19,
           20,
           21,
           22,
           23,
           24,
           25,
           26,
           27,
           28,
           29,
           30,
           31,
           32,
           33,
           34,
           35,
           36,
           37,
           38,
           39,
           40,
           41,
           42,
           43,
           44,
           45,
           46,
           47,
           48,
           49,
           50,
           51,
           52,
           53,
           54,
           55,
           56,
           57,
           58,
           59,
           60,
           61,
           62,
           63,
           64,
           65,
           66,
           67,
           68,
           69,
           70,
           71,
           72,
           73,
           74,
           75,
           76,
           77,
           78,
           79,
           80,
           81,
           82,
           83,
           84,
           85,
           86,
           87,
           88,
           89,
           90,
           91,
           92,
           93,
           94,
           95,
           96
          ],
          "value": [
           358,
           314,
           44,
           37,
           15,
           3,
           12,
           12,
           0,
           0,
           0,
           0,
           0,
           0,
           0,
           12,
           0,
           0,
           0,
           0,
           0,
           0,
           0,
           22,
           7,
           211,
           36,
           22,
           14,
           2,
           2,
           2,
           2,
           1,
           1,
           0,
           0,
           0,
           0,
           0,
           0,
           0,
           0,
           0,
           0,
           0,
           0,
           0,
           0,
           0,
           0,
           0,
           0,
           0,
           0,
           0,
           0,
           0,
           0,
           0,
           0,
           0,
           0,
           0,
           0,
           0,
           12,
           4,
           3,
           3,
           3,
           0,
           0,
           0,
           0,
           1,
           0,
           1,
           1,
           1,
           0,
           0,
           0,
           0,
           8,
           2,
           2,
           0,
           0,
           0,
           0,
           0,
           0,
           0,
           6,
           175
          ]
         },
         "node": {
          "color": [
           "#EF553B",
           "#EF553B",
           "#EF553B",
           "#EF553B",
           "#EF553B",
           "#EF553B",
           "#EF553B",
           "#EF553B",
           "#EF553B",
           "#636EFA",
           "#EF553B",
           "#636EFA",
           "#EF553B",
           "#636EFA",
           "#EF553B",
           "#636EFA",
           "#EF553B",
           "#636EFA",
           "#EF553B",
           "#636EFA",
           "#EF553B",
           "#636EFA",
           "#EF553B",
           "#636EFA",
           "#EF553B",
           "#636EFA",
           "#EF553B",
           "#EF553B",
           "#EF553B",
           "#636EFA",
           "#636EFA",
           "#636EFA",
           "#636EFA",
           "#636EFA",
           "#EF553B",
           "#636EFA",
           "#636EFA",
           "#EF553B",
           "#636EFA",
           "#636EFA",
           "#636EFA",
           "#636EFA",
           "#EF553B",
           "#636EFA",
           "#636EFA",
           "#EF553B",
           "#636EFA",
           "#636EFA",
           "#636EFA",
           "#636EFA",
           "#636EFA",
           "#EF553B",
           "#636EFA",
           "#636EFA",
           "#EF553B",
           "#636EFA",
           "#636EFA",
           "#636EFA",
           "#636EFA",
           "#EF553B",
           "#636EFA",
           "#636EFA",
           "#636EFA",
           "#636EFA",
           "#EF553B",
           "#636EFA",
           "#636EFA",
           "#636EFA",
           "#EF553B",
           "#EF553B",
           "#EF553B",
           "#EF553B",
           "#636EFA",
           "#636EFA",
           "#EF553B",
           "#636EFA",
           "#EF553B",
           "#EF553B",
           "#EF553B",
           "#EF553B",
           "#EF553B",
           "#636EFA",
           "#636EFA",
           "#EF553B",
           "#636EFA",
           "#636EFA",
           "#636EFA",
           "#636EFA",
           "#636EFA",
           "#636EFA",
           "#EF553B",
           "#636EFA",
           "#636EFA",
           "#EF553B",
           "#636EFA",
           "#636EFA",
           "#EF553B"
          ],
          "customdata": [
           [
            "area error<br>≤ 31.25",
            "[0.14 0.86]"
           ],
           [
            "mean concave points<br>≤ 0.05",
            "[0.14 0.86]"
           ],
           [
            "",
            "[0.12 0.88]"
           ],
           [
            "mean radius<br>≤ 15.23",
            "[0.25 0.75]"
           ],
           [
            "worst perimeter<br>≤ 101.30",
            "[0.14 0.86]"
           ],
           [
            "mean concave points<br>≤ 0.05",
            "[0.15 0.85]"
           ],
           [
            "",
            "[0.14 0.86]"
           ],
           [
            "worst area<br>≤ 882.40",
            "[0.16 0.84]"
           ],
           [
            "mean compactness<br>≤ 0.10",
            "[0.16 0.84]"
           ],
           [
            "worst concave points<br>≤ 0.12",
            "[0. 0.]"
           ],
           [
            "",
            "[0.18 0.82]"
           ],
           [
            "mean area<br>≤ 721.55",
            "[0. 0.]"
           ],
           [
            "",
            "[0.2 0.8]"
           ],
           [
            "mean concave points<br>≤ 0.06",
            "[0. 0.]"
           ],
           [
            "",
            "[0.28 0.72]"
           ],
           [
            "",
            "[0.54 0.46]"
           ],
           [
            "",
            "[1.01 4.99]"
           ],
           [
            "worst concave points<br>≤ 0.12",
            "[0. 0.]"
           ],
           [
            "",
            "[0.37 0.63]"
           ],
           [
            "mean area<br>≤ 721.55",
            "[0. 0.]"
           ],
           [
            "",
            "[0.19 0.81]"
           ],
           [
            "mean concave points<br>≤ 0.06",
            "[0. 0.]"
           ],
           [
            "",
            "[0.27 0.73]"
           ],
           [
            "",
            "[0.53 0.47]"
           ],
           [
            "",
            "[0.13 0.87]"
           ],
           [
            "",
            "[0.85 0.15]"
           ],
           [
            "mean radius<br>≤ 14.15",
            "[0.15 0.85]"
           ],
           [
            "mean concave points<br>≤ 0.05",
            "[0.3 0.7]"
           ],
           [
            "",
            "[0.08 0.92]"
           ],
           [
            "mean compactness<br>≤ 0.10",
            "[0.64 0.36]"
           ],
           [
            "worst symmetry<br>≤ 0.31",
            "[0.52 0.48]"
           ],
           [
            "worst perimeter<br>≤ 101.30",
            "[0.52 0.48]"
           ],
           [
            "mean area<br>≤ 721.55",
            "[0.52 0.48]"
           ],
           [
            "mean concavity<br>≤ 0.10",
            "[0.52 0.48]"
           ],
           [
            "",
            "[0.77 1.23]"
           ],
           [
            "",
            "[0.77 0.23]"
           ],
           [
            "mean concave points<br>≤ 0.06",
            "[0. 0.]"
           ],
           [
            "",
            "[0.42 0.58]"
           ],
           [
            "",
            "[0.68 0.32]"
           ],
           [
            "worst concavity<br>≤ 0.26",
            "[0. 0.]"
           ],
           [
            "mean area<br>≤ 721.55",
            "[0. 0.]"
           ],
           [
            "mean concavity<br>≤ 0.10",
            "[0. 0.]"
           ],
           [
            "",
            "[0.37 0.63]"
           ],
           [
            "",
            "[0.75 0.25]"
           ],
           [
            "mean concave points<br>≤ 0.06",
            "[0. 0.]"
           ],
           [
            "",
            "[0.4 0.6]"
           ],
           [
            "",
            "[0.7 0.3]"
           ],
           [
            "concavity error<br>≤ 0.03",
            "[0. 0.]"
           ],
           [
            "",
            "[0.85 0.15]"
           ],
           [
            "mean area<br>≤ 721.55",
            "[0. 0.]"
           ],
           [
            "mean concavity<br>≤ 0.10",
            "[0. 0.]"
           ],
           [
            "",
            "[0.38 0.62]"
           ],
           [
            "",
            "[0.77 0.23]"
           ],
           [
            "mean concave points<br>≤ 0.06",
            "[0. 0.]"
           ],
           [
            "",
            "[0.42 0.58]"
           ],
           [
            "",
            "[0.73 0.27]"
           ],
           [
            "worst concavity<br>≤ 0.26",
            "[0. 0.]"
           ],
           [
            "mean area<br>≤ 721.55",
            "[0. 0.]"
           ],
           [
            "mean concavity<br>≤ 0.10",
            "[0. 0.]"
           ],
           [
            "",
            "[0.45 0.55]"
           ],
           [
            "",
            "[0.84 0.16]"
           ],
           [
            "mean concave points<br>≤ 0.06",
            "[0. 0.]"
           ],
           [
            "worst perimeter<br>≤ 101.30",
            "[0. 0.]"
           ],
           [
            "",
            "[0.5 0.5]"
           ],
           [
            "",
            "[0.48 0.52]"
           ],
           [
            "",
            "[0.78 0.22]"
           ],
           [
            "",
            "[0.86 0.14]"
           ],
           [
            "mean concavity<br>≤ 0.10",
            "[0.66 0.34]"
           ],
           [
            "worst perimeter<br>≤ 101.30",
            "[0.29 0.71]"
           ],
           [
            "mean area<br>≤ 721.55",
            "[0.3 0.7]"
           ],
           [
            "mean concavity<br>≤ 0.10",
            "[0.3 0.7]"
           ],
           [
            "",
            "[0.72 1.28]"
           ],
           [
            "",
            "[0.77 0.23]"
           ],
           [
            "mean concave points<br>≤ 0.06",
            "[0. 0.]"
           ],
           [
            "",
            "[0.42 0.58]"
           ],
           [
            "",
            "[0.68 0.32]"
           ],
           [
            "mean texture<br>≤ 16.38",
            "[0.29 0.71]"
           ],
           [
            "",
            "[0.13 0.87]"
           ],
           [
            "mean area<br>≤ 721.55",
            "[0.29 0.71]"
           ],
           [
            "mean concavity<br>≤ 0.10",
            "[0.29 0.71]"
           ],
           [
            "",
            "[0.29 0.71]"
           ],
           [
            "",
            "[0.71 0.29]"
           ],
           [
            "mean concave points<br>≤ 0.06",
            "[0. 0.]"
           ],
           [
            "",
            "[0.36 0.64]"
           ],
           [
            "",
            "[0.67 0.33]"
           ],
           [
            "worst symmetry<br>≤ 0.31",
            "[0.85 0.15]"
           ],
           [
            "mean area<br>≤ 721.55",
            "[0.76 0.24]"
           ],
           [
            "",
            "[0.76 0.24]"
           ],
           [
            "worst symmetry<br>≤ 0.29",
            "[0. 0.]"
           ],
           [
            "mean concave points<br>≤ 0.06",
            "[0. 0.]"
           ],
           [
            "",
            "[0.37 0.63]"
           ],
           [
            "",
            "[0.66 0.34]"
           ],
           [
            "mean concave points<br>≤ 0.06",
            "[0. 0.]"
           ],
           [
            "",
            "[0.49 0.51]"
           ],
           [
            "",
            "[0.74 0.26]"
           ],
           [
            "",
            "[0.88 0.12]"
           ],
           [
            "",
            "[0.12 0.88]"
           ]
          ],
          "hovertemplate": "<b style=\"font-size:14px;\">%{customdata[0]}</b><br><b style=\"font-size:14px;\">n_train:</b> %{value}<br><b style=\"font-size:14px;\">Value:</b> %{customdata[1]}<extra></extra>",
          "label": [
           "area e<br>≤ 31.25",
           "mean c<br>≤ 0.05",
           "benign",
           "mean r<br>≤ 15.23",
           "worst <br>≤ 101.30",
           "mean c<br>≤ 0.05",
           "benign",
           "worst <br>≤ 882.40",
           "mean c<br>≤ 0.10",
           "worst <br>≤ 0.12",
           "benign",
           "mean a<br>≤ 721.55",
           "benign",
           "mean c<br>≤ 0.06",
           "benign",
           "malignant",
           "benign",
           "worst <br>≤ 0.12",
           "benign",
           "mean a<br>≤ 721.55",
           "benign",
           "mean c<br>≤ 0.06",
           "benign",
           "malignant",
           "benign",
           "malignant",
           "mean r<br>≤ 14.15",
           "mean c<br>≤ 0.05",
           "benign",
           "mean c<br>≤ 0.10",
           "worst <br>≤ 0.31",
           "worst <br>≤ 101.30",
           "mean a<br>≤ 721.55",
           "mean c<br>≤ 0.10",
           "benign",
           "malignant",
           "mean c<br>≤ 0.06",
           "benign",
           "malignant",
           "worst <br>≤ 0.26",
           "mean a<br>≤ 721.55",
           "mean c<br>≤ 0.10",
           "benign",
           "malignant",
           "mean c<br>≤ 0.06",
           "benign",
           "malignant",
           "concav<br>≤ 0.03",
           "malignant",
           "mean a<br>≤ 721.55",
           "mean c<br>≤ 0.10",
           "benign",
           "malignant",
           "mean c<br>≤ 0.06",
           "benign",
           "malignant",
           "worst <br>≤ 0.26",
           "mean a<br>≤ 721.55",
           "mean c<br>≤ 0.10",
           "benign",
           "malignant",
           "mean c<br>≤ 0.06",
           "worst <br>≤ 101.30",
           "malignant",
           "benign",
           "malignant",
           "malignant",
           "mean c<br>≤ 0.10",
           "worst <br>≤ 101.30",
           "mean a<br>≤ 721.55",
           "mean c<br>≤ 0.10",
           "benign",
           "malignant",
           "mean c<br>≤ 0.06",
           "benign",
           "malignant",
           "mean t<br>≤ 16.38",
           "benign",
           "mean a<br>≤ 721.55",
           "mean c<br>≤ 0.10",
           "benign",
           "malignant",
           "mean c<br>≤ 0.06",
           "benign",
           "malignant",
           "worst <br>≤ 0.31",
           "mean a<br>≤ 721.55",
           "malignant",
           "worst <br>≤ 0.29",
           "mean c<br>≤ 0.06",
           "benign",
           "malignant",
           "mean c<br>≤ 0.06",
           "benign",
           "malignant",
           "malignant",
           "benign"
          ],
          "line": {
           "color": "black",
           "width": 0.5
          },
          "pad": 15,
          "thickness": 20,
          "x": [
           0,
           0.1,
           0.2,
           0.2,
           0.3,
           0.4,
           0.5,
           0.5,
           0.6,
           0.7,
           0.8,
           0.8,
           0.9,
           0.9,
           1,
           1,
           0.7,
           0.6,
           0.7,
           0.7,
           0.8,
           0.8,
           0.9,
           0.9,
           0.4,
           0.3,
           0.1,
           0.2,
           0.3,
           0.3,
           0.4,
           0.5,
           0.6,
           0.7,
           0.8,
           0.8,
           0.7,
           0.8,
           0.8,
           0.6,
           0.7,
           0.8,
           0.9,
           0.9,
           0.8,
           0.9,
           0.9,
           0.7,
           0.8,
           0.8,
           0.9,
           1,
           1,
           0.9,
           1,
           1,
           0.5,
           0.6,
           0.7,
           0.8,
           0.8,
           0.7,
           0.8,
           0.9,
           0.9,
           0.8,
           0.6,
           0.4,
           0.5,
           0.6,
           0.7,
           0.8,
           0.8,
           0.7,
           0.8,
           0.8,
           0.6,
           0.7,
           0.7,
           0.8,
           0.9,
           0.9,
           0.8,
           0.9,
           0.9,
           0.5,
           0.6,
           0.7,
           0.7,
           0.8,
           0.9,
           0.9,
           0.8,
           0.9,
           0.9,
           0.6,
           0.2
          ],
          "y": [
           0.5,
           0.8264335830343954,
           1,
           0.6528671660687908,
           0.7472502110149819,
           0.804019835408314,
           0.8417387634522051,
           0.7663009073644229,
           0.7945999947246255,
           0.8182089443975523,
           0.8393145639902934,
           0.7971033248048112,
           0.8170364099757333,
           0.7771702396338891,
           0.7965170575939017,
           0.7578234216738764,
           0.7709910450516987,
           0.7380018200042202,
           0.7614525084405992,
           0.7145511315678412,
           0.7356567511605824,
           0.6934455119751002,
           0.7133785971460224,
           0.6735124268041781,
           0.69048058662165,
           0.5584841211225997,
           0.1735664169656046,
           0.34519413378349867,
           0.439471671238658,
           0.25091659632833935,
           0.3073828866849546,
           0.344930365055919,
           0.37309756805233174,
           0.3965746333614687,
           0.41770662982696766,
           0.3754426368959697,
           0.3496205027431948,
           0.3707261223359359,
           0.3285148831504537,
           0.3167631620595062,
           0.3402138504958852,
           0.3613194700886263,
           0.38125255525954843,
           0.3413863849177041,
           0.3191082309031441,
           0.33904131607406623,
           0.29917514573222204,
           0.2933124736231273,
           0.31441809321586833,
           0.2722068540303862,
           0.2921399392013083,
           0.31148675716132096,
           0.2727931212412957,
           0.25227376885946406,
           0.2716205868194767,
           0.2329269508994514,
           0.26983540831399033,
           0.2979762344376451,
           0.3214269228740241,
           0.3425325424667652,
           0.300321303281283,
           0.2745255460012661,
           0.2956311655940072,
           0.31556425076492933,
           0.2756980804230851,
           0.253419926408525,
           0.24169458219033554,
           0.194450305971724,
           0.23212966870647816,
           0.26032324857564887,
           0.2838135023211648,
           0.3049586872230428,
           0.26266831741928676,
           0.23683299483013293,
           0.257938614422874,
           0.21572737523739183,
           0.20393608883730746,
           0.22739996571006543,
           0.1804722119645495,
           0.20159101999366957,
           0.2215372936009707,
           0.18164474638636843,
           0.15935340393542943,
           0.17928648910635156,
           0.1394203187645073,
           0.1567709432369698,
           0.18501727685165642,
           0.20849434216079335,
           0.16154021154251944,
           0.1826458311352605,
           0.20257891630618266,
           0.16271274596433838,
           0.14043459194977834,
           0.1603676771207005,
           0.12050150677885621,
           0.12852460962228318,
           0.0019387001477105226
          ]
         },
         "type": "sankey"
        }
       ],
       "layout": {
        "font": {
         "color": "black",
         "family": "Courier New",
         "size": 14
        },
        "template": {
         "data": {
          "bar": [
           {
            "error_x": {
             "color": "#2a3f5f"
            },
            "error_y": {
             "color": "#2a3f5f"
            },
            "marker": {
             "line": {
              "color": "#E5ECF6",
              "width": 0.5
             },
             "pattern": {
              "fillmode": "overlay",
              "size": 10,
              "solidity": 0.2
             }
            },
            "type": "bar"
           }
          ],
          "barpolar": [
           {
            "marker": {
             "line": {
              "color": "#E5ECF6",
              "width": 0.5
             },
             "pattern": {
              "fillmode": "overlay",
              "size": 10,
              "solidity": 0.2
             }
            },
            "type": "barpolar"
           }
          ],
          "carpet": [
           {
            "aaxis": {
             "endlinecolor": "#2a3f5f",
             "gridcolor": "white",
             "linecolor": "white",
             "minorgridcolor": "white",
             "startlinecolor": "#2a3f5f"
            },
            "baxis": {
             "endlinecolor": "#2a3f5f",
             "gridcolor": "white",
             "linecolor": "white",
             "minorgridcolor": "white",
             "startlinecolor": "#2a3f5f"
            },
            "type": "carpet"
           }
          ],
          "choropleth": [
           {
            "colorbar": {
             "outlinewidth": 0,
             "ticks": ""
            },
            "type": "choropleth"
           }
          ],
          "contour": [
           {
            "colorbar": {
             "outlinewidth": 0,
             "ticks": ""
            },
            "colorscale": [
             [
              0,
              "#0d0887"
             ],
             [
              0.1111111111111111,
              "#46039f"
             ],
             [
              0.2222222222222222,
              "#7201a8"
             ],
             [
              0.3333333333333333,
              "#9c179e"
             ],
             [
              0.4444444444444444,
              "#bd3786"
             ],
             [
              0.5555555555555556,
              "#d8576b"
             ],
             [
              0.6666666666666666,
              "#ed7953"
             ],
             [
              0.7777777777777778,
              "#fb9f3a"
             ],
             [
              0.8888888888888888,
              "#fdca26"
             ],
             [
              1,
              "#f0f921"
             ]
            ],
            "type": "contour"
           }
          ],
          "contourcarpet": [
           {
            "colorbar": {
             "outlinewidth": 0,
             "ticks": ""
            },
            "type": "contourcarpet"
           }
          ],
          "heatmap": [
           {
            "colorbar": {
             "outlinewidth": 0,
             "ticks": ""
            },
            "colorscale": [
             [
              0,
              "#0d0887"
             ],
             [
              0.1111111111111111,
              "#46039f"
             ],
             [
              0.2222222222222222,
              "#7201a8"
             ],
             [
              0.3333333333333333,
              "#9c179e"
             ],
             [
              0.4444444444444444,
              "#bd3786"
             ],
             [
              0.5555555555555556,
              "#d8576b"
             ],
             [
              0.6666666666666666,
              "#ed7953"
             ],
             [
              0.7777777777777778,
              "#fb9f3a"
             ],
             [
              0.8888888888888888,
              "#fdca26"
             ],
             [
              1,
              "#f0f921"
             ]
            ],
            "type": "heatmap"
           }
          ],
          "heatmapgl": [
           {
            "colorbar": {
             "outlinewidth": 0,
             "ticks": ""
            },
            "colorscale": [
             [
              0,
              "#0d0887"
             ],
             [
              0.1111111111111111,
              "#46039f"
             ],
             [
              0.2222222222222222,
              "#7201a8"
             ],
             [
              0.3333333333333333,
              "#9c179e"
             ],
             [
              0.4444444444444444,
              "#bd3786"
             ],
             [
              0.5555555555555556,
              "#d8576b"
             ],
             [
              0.6666666666666666,
              "#ed7953"
             ],
             [
              0.7777777777777778,
              "#fb9f3a"
             ],
             [
              0.8888888888888888,
              "#fdca26"
             ],
             [
              1,
              "#f0f921"
             ]
            ],
            "type": "heatmapgl"
           }
          ],
          "histogram": [
           {
            "marker": {
             "pattern": {
              "fillmode": "overlay",
              "size": 10,
              "solidity": 0.2
             }
            },
            "type": "histogram"
           }
          ],
          "histogram2d": [
           {
            "colorbar": {
             "outlinewidth": 0,
             "ticks": ""
            },
            "colorscale": [
             [
              0,
              "#0d0887"
             ],
             [
              0.1111111111111111,
              "#46039f"
             ],
             [
              0.2222222222222222,
              "#7201a8"
             ],
             [
              0.3333333333333333,
              "#9c179e"
             ],
             [
              0.4444444444444444,
              "#bd3786"
             ],
             [
              0.5555555555555556,
              "#d8576b"
             ],
             [
              0.6666666666666666,
              "#ed7953"
             ],
             [
              0.7777777777777778,
              "#fb9f3a"
             ],
             [
              0.8888888888888888,
              "#fdca26"
             ],
             [
              1,
              "#f0f921"
             ]
            ],
            "type": "histogram2d"
           }
          ],
          "histogram2dcontour": [
           {
            "colorbar": {
             "outlinewidth": 0,
             "ticks": ""
            },
            "colorscale": [
             [
              0,
              "#0d0887"
             ],
             [
              0.1111111111111111,
              "#46039f"
             ],
             [
              0.2222222222222222,
              "#7201a8"
             ],
             [
              0.3333333333333333,
              "#9c179e"
             ],
             [
              0.4444444444444444,
              "#bd3786"
             ],
             [
              0.5555555555555556,
              "#d8576b"
             ],
             [
              0.6666666666666666,
              "#ed7953"
             ],
             [
              0.7777777777777778,
              "#fb9f3a"
             ],
             [
              0.8888888888888888,
              "#fdca26"
             ],
             [
              1,
              "#f0f921"
             ]
            ],
            "type": "histogram2dcontour"
           }
          ],
          "mesh3d": [
           {
            "colorbar": {
             "outlinewidth": 0,
             "ticks": ""
            },
            "type": "mesh3d"
           }
          ],
          "parcoords": [
           {
            "line": {
             "colorbar": {
              "outlinewidth": 0,
              "ticks": ""
             }
            },
            "type": "parcoords"
           }
          ],
          "pie": [
           {
            "automargin": true,
            "type": "pie"
           }
          ],
          "scatter": [
           {
            "fillpattern": {
             "fillmode": "overlay",
             "size": 10,
             "solidity": 0.2
            },
            "type": "scatter"
           }
          ],
          "scatter3d": [
           {
            "line": {
             "colorbar": {
              "outlinewidth": 0,
              "ticks": ""
             }
            },
            "marker": {
             "colorbar": {
              "outlinewidth": 0,
              "ticks": ""
             }
            },
            "type": "scatter3d"
           }
          ],
          "scattercarpet": [
           {
            "marker": {
             "colorbar": {
              "outlinewidth": 0,
              "ticks": ""
             }
            },
            "type": "scattercarpet"
           }
          ],
          "scattergeo": [
           {
            "marker": {
             "colorbar": {
              "outlinewidth": 0,
              "ticks": ""
             }
            },
            "type": "scattergeo"
           }
          ],
          "scattergl": [
           {
            "marker": {
             "colorbar": {
              "outlinewidth": 0,
              "ticks": ""
             }
            },
            "type": "scattergl"
           }
          ],
          "scattermapbox": [
           {
            "marker": {
             "colorbar": {
              "outlinewidth": 0,
              "ticks": ""
             }
            },
            "type": "scattermapbox"
           }
          ],
          "scatterpolar": [
           {
            "marker": {
             "colorbar": {
              "outlinewidth": 0,
              "ticks": ""
             }
            },
            "type": "scatterpolar"
           }
          ],
          "scatterpolargl": [
           {
            "marker": {
             "colorbar": {
              "outlinewidth": 0,
              "ticks": ""
             }
            },
            "type": "scatterpolargl"
           }
          ],
          "scatterternary": [
           {
            "marker": {
             "colorbar": {
              "outlinewidth": 0,
              "ticks": ""
             }
            },
            "type": "scatterternary"
           }
          ],
          "surface": [
           {
            "colorbar": {
             "outlinewidth": 0,
             "ticks": ""
            },
            "colorscale": [
             [
              0,
              "#0d0887"
             ],
             [
              0.1111111111111111,
              "#46039f"
             ],
             [
              0.2222222222222222,
              "#7201a8"
             ],
             [
              0.3333333333333333,
              "#9c179e"
             ],
             [
              0.4444444444444444,
              "#bd3786"
             ],
             [
              0.5555555555555556,
              "#d8576b"
             ],
             [
              0.6666666666666666,
              "#ed7953"
             ],
             [
              0.7777777777777778,
              "#fb9f3a"
             ],
             [
              0.8888888888888888,
              "#fdca26"
             ],
             [
              1,
              "#f0f921"
             ]
            ],
            "type": "surface"
           }
          ],
          "table": [
           {
            "cells": {
             "fill": {
              "color": "#EBF0F8"
             },
             "line": {
              "color": "white"
             }
            },
            "header": {
             "fill": {
              "color": "#C8D4E3"
             },
             "line": {
              "color": "white"
             }
            },
            "type": "table"
           }
          ]
         },
         "layout": {
          "annotationdefaults": {
           "arrowcolor": "#2a3f5f",
           "arrowhead": 0,
           "arrowwidth": 1
          },
          "autotypenumbers": "strict",
          "coloraxis": {
           "colorbar": {
            "outlinewidth": 0,
            "ticks": ""
           }
          },
          "colorscale": {
           "diverging": [
            [
             0,
             "#8e0152"
            ],
            [
             0.1,
             "#c51b7d"
            ],
            [
             0.2,
             "#de77ae"
            ],
            [
             0.3,
             "#f1b6da"
            ],
            [
             0.4,
             "#fde0ef"
            ],
            [
             0.5,
             "#f7f7f7"
            ],
            [
             0.6,
             "#e6f5d0"
            ],
            [
             0.7,
             "#b8e186"
            ],
            [
             0.8,
             "#7fbc41"
            ],
            [
             0.9,
             "#4d9221"
            ],
            [
             1,
             "#276419"
            ]
           ],
           "sequential": [
            [
             0,
             "#0d0887"
            ],
            [
             0.1111111111111111,
             "#46039f"
            ],
            [
             0.2222222222222222,
             "#7201a8"
            ],
            [
             0.3333333333333333,
             "#9c179e"
            ],
            [
             0.4444444444444444,
             "#bd3786"
            ],
            [
             0.5555555555555556,
             "#d8576b"
            ],
            [
             0.6666666666666666,
             "#ed7953"
            ],
            [
             0.7777777777777778,
             "#fb9f3a"
            ],
            [
             0.8888888888888888,
             "#fdca26"
            ],
            [
             1,
             "#f0f921"
            ]
           ],
           "sequentialminus": [
            [
             0,
             "#0d0887"
            ],
            [
             0.1111111111111111,
             "#46039f"
            ],
            [
             0.2222222222222222,
             "#7201a8"
            ],
            [
             0.3333333333333333,
             "#9c179e"
            ],
            [
             0.4444444444444444,
             "#bd3786"
            ],
            [
             0.5555555555555556,
             "#d8576b"
            ],
            [
             0.6666666666666666,
             "#ed7953"
            ],
            [
             0.7777777777777778,
             "#fb9f3a"
            ],
            [
             0.8888888888888888,
             "#fdca26"
            ],
            [
             1,
             "#f0f921"
            ]
           ]
          },
          "colorway": [
           "#636efa",
           "#EF553B",
           "#00cc96",
           "#ab63fa",
           "#FFA15A",
           "#19d3f3",
           "#FF6692",
           "#B6E880",
           "#FF97FF",
           "#FECB52"
          ],
          "font": {
           "color": "#2a3f5f"
          },
          "geo": {
           "bgcolor": "white",
           "lakecolor": "white",
           "landcolor": "#E5ECF6",
           "showlakes": true,
           "showland": true,
           "subunitcolor": "white"
          },
          "hoverlabel": {
           "align": "left"
          },
          "hovermode": "closest",
          "mapbox": {
           "style": "light"
          },
          "paper_bgcolor": "white",
          "plot_bgcolor": "#E5ECF6",
          "polar": {
           "angularaxis": {
            "gridcolor": "white",
            "linecolor": "white",
            "ticks": ""
           },
           "bgcolor": "#E5ECF6",
           "radialaxis": {
            "gridcolor": "white",
            "linecolor": "white",
            "ticks": ""
           }
          },
          "scene": {
           "xaxis": {
            "backgroundcolor": "#E5ECF6",
            "gridcolor": "white",
            "gridwidth": 2,
            "linecolor": "white",
            "showbackground": true,
            "ticks": "",
            "zerolinecolor": "white"
           },
           "yaxis": {
            "backgroundcolor": "#E5ECF6",
            "gridcolor": "white",
            "gridwidth": 2,
            "linecolor": "white",
            "showbackground": true,
            "ticks": "",
            "zerolinecolor": "white"
           },
           "zaxis": {
            "backgroundcolor": "#E5ECF6",
            "gridcolor": "white",
            "gridwidth": 2,
            "linecolor": "white",
            "showbackground": true,
            "ticks": "",
            "zerolinecolor": "white"
           }
          },
          "shapedefaults": {
           "line": {
            "color": "#2a3f5f"
           }
          },
          "ternary": {
           "aaxis": {
            "gridcolor": "white",
            "linecolor": "white",
            "ticks": ""
           },
           "baxis": {
            "gridcolor": "white",
            "linecolor": "white",
            "ticks": ""
           },
           "bgcolor": "#E5ECF6",
           "caxis": {
            "gridcolor": "white",
            "linecolor": "white",
            "ticks": ""
           }
          },
          "title": {
           "x": 0.05
          },
          "xaxis": {
           "automargin": true,
           "gridcolor": "white",
           "linecolor": "white",
           "ticks": "",
           "title": {
            "standoff": 15
           },
           "zerolinecolor": "white",
           "zerolinewidth": 2
          },
          "yaxis": {
           "automargin": true,
           "gridcolor": "white",
           "linecolor": "white",
           "ticks": "",
           "title": {
            "standoff": 15
           },
           "zerolinecolor": "white",
           "zerolinewidth": 2
          }
         }
        }
       }
      }
     },
     "metadata": {},
     "output_type": "display_data"
    }
   ],
   "source": [
    "# 1) Pruned FBT Sankey plot for breast‐cancer\n",
    "\n",
    "# Rename variables: use bc_ prefix for breast-cancer objects\n",
    "pruned_bc_fbt = bc_fbt_viz.prune(max_depth=10)  \n",
    "bc_fbt_sankey = SankeyTreePlot(pruned_bc_fbt)\n",
    "\n",
    "# Show the interactive Sankey plot of the pruned FBT\n",
    "bc_fbt_sankey.show()\n"
   ]
  },
  {
   "cell_type": "markdown",
   "id": "84577936",
   "metadata": {},
   "source": [
    "*Explanation:*  \n",
    "We prune the FBT built on the breast‐cancer RandomForest down to depth 10, then pass it into `SankeyTreePlot`.  \n",
    "The `.show()` call renders an interactive Sankey diagram of all leaf‐to‐root flows (branch importances → values).\n"
   ]
  },
  {
   "cell_type": "code",
   "execution_count": 11,
   "id": "bfa36061",
   "metadata": {},
   "outputs": [
    {
     "data": {
      "text/html": [
       "\n",
       "        <iframe\n",
       "            width=\"100%\"\n",
       "            height=\"650\"\n",
       "            src=\"http://127.0.0.1:8060/\"\n",
       "            frameborder=\"0\"\n",
       "            allowfullscreen\n",
       "            \n",
       "        ></iframe>\n",
       "        "
      ],
      "text/plain": [
       "<IPython.lib.display.IFrame at 0x7f20ae7022f0>"
      ]
     },
     "metadata": {},
     "output_type": "display_data"
    }
   ],
   "source": [
    "# 2) FBT Dash app for Iris test set\n",
    "\n",
    "# Prune the Iris FBT to a large depth to keep all nodes\n",
    "pruned_iris_fbt = iris_fbt_viz.prune(max_depth=100)  \n",
    "iris_fbt_dash = VisTreeDashboard(pruned_iris_fbt, iris_X_test, iris_y_test)\n",
    "\n",
    "# Launch at port 8060\n",
    "iris_fbt_dash.run(port=8060)\n"
   ]
  },
  {
   "cell_type": "markdown",
   "id": "a5e15e6a",
   "metadata": {},
   "source": [
    "*Explanation:*  \n",
    "This cell creates a Dash dashboard (`VisTreeDashboard`) for the pruned Iris FBT.  \n",
    "It will spin up a local web app (http://localhost:8060) where you can interactively explore how each test sample flows through the FBT and inspect leaf‐value predictions.\n"
   ]
  },
  {
   "cell_type": "code",
   "execution_count": 12,
   "id": "66644335",
   "metadata": {},
   "outputs": [
    {
     "data": {
      "application/vnd.plotly.v1+json": {
       "config": {
        "plotlyServerURL": "https://plot.ly"
       },
       "data": [
        {
         "link": {
          "hovertemplate": "<b style=\"font-size:14px;\">n_train:</b> %{value}<extra></extra>",
          "label": [
           "349",
           "328",
           "325",
           "323",
           "2",
           "3",
           "1",
           "2",
           "21",
           "6",
           "15",
           "3",
           "12",
           "220",
           "24",
           "17",
           "7",
           "196",
           "17",
           "9",
           "8",
           "179"
          ],
          "source": [
           0,
           1,
           2,
           3,
           3,
           2,
           6,
           6,
           1,
           9,
           9,
           11,
           11,
           0,
           14,
           15,
           15,
           14,
           18,
           19,
           19,
           18
          ],
          "target": [
           1,
           2,
           3,
           4,
           5,
           6,
           7,
           8,
           9,
           10,
           11,
           12,
           13,
           14,
           15,
           16,
           17,
           18,
           19,
           20,
           21,
           22
          ],
          "value": [
           349,
           328,
           325,
           323,
           2,
           3,
           1,
           2,
           21,
           6,
           15,
           3,
           12,
           220,
           24,
           17,
           7,
           196,
           17,
           9,
           8,
           179
          ]
         },
         "node": {
          "color": [
           "#EF553B",
           "#EF553B",
           "#EF553B",
           "#EF553B",
           "#EF553B",
           "#636EFA",
           "#636EFA",
           "#EF553B",
           "#636EFA",
           "#636EFA",
           "#EF553B",
           "#636EFA",
           "#EF553B",
           "#636EFA",
           "#636EFA",
           "#EF553B",
           "#EF553B",
           "#636EFA",
           "#636EFA",
           "#EF553B",
           "#EF553B",
           "#636EFA",
           "#636EFA"
          ],
          "customdata": [
           [
            "mean concave points<br>≤ 0.05",
            "[0.37 0.63]"
           ],
           [
            "worst radius<br>≤ 16.83",
            "[0.05 0.95]"
           ],
           [
            "area error<br>≤ 48.70",
            "[0.02 0.98]"
           ],
           [
            "worst smoothness<br>≤ 0.18",
            "[0.01 0.99]"
           ],
           [
            "",
            "[0.01 0.99]"
           ],
           [
            "",
            "[1. 0.]"
           ],
           [
            "texture error<br>≤ 1.93",
            "[0.67 0.33]"
           ],
           [
            "",
            "[0. 1.]"
           ],
           [
            "",
            "[1. 0.]"
           ],
           [
            "worst texture<br>≤ 19.91",
            "[0.57 0.43]"
           ],
           [
            "",
            "[0. 1.]"
           ],
           [
            "worst fractal dimension<br>≤ 0.06",
            "[0.8 0.2]"
           ],
           [
            "",
            "[0. 1.]"
           ],
           [
            "",
            "[1. 0.]"
           ],
           [
            "worst texture<br>≤ 20.40",
            "[0.88 0.12]"
           ],
           [
            "worst area<br>≤ 1012.40",
            "[0.29 0.71]"
           ],
           [
            "",
            "[0. 1.]"
           ],
           [
            "",
            "[1. 0.]"
           ],
           [
            "worst area<br>≤ 718.65",
            "[0.95 0.05]"
           ],
           [
            "worst texture<br>≤ 25.92",
            "[0.47 0.53]"
           ],
           [
            "",
            "[0. 1.]"
           ],
           [
            "",
            "[1. 0.]"
           ],
           [
            "",
            "[1. 0.]"
           ]
          ],
          "hovertemplate": "<b style=\"font-size:14px;\">%{customdata[0]}</b><br><b style=\"font-size:14px;\">n_train:</b> %{value}<br><b style=\"font-size:14px;\">Value:</b> %{customdata[1]}<extra></extra>",
          "label": [
           "mean c<br>≤ 0.05",
           "worst <br>≤ 16.83",
           "area e<br>≤ 48.70",
           "worst <br>≤ 0.18",
           "benign",
           "malignant",
           "textur<br>≤ 1.93",
           "benign",
           "malignant",
           "worst <br>≤ 19.91",
           "benign",
           "worst <br>≤ 0.06",
           "benign",
           "malignant",
           "worst <br>≤ 20.40",
           "worst <br>≤ 1012.40",
           "benign",
           "malignant",
           "worst <br>≤ 718.65",
           "worst <br>≤ 25.92",
           "benign",
           "malignant",
           "malignant"
          ],
          "line": {
           "color": "black",
           "width": 0.5
          },
          "pad": 15,
          "thickness": 20,
          "x": [
           0,
           0.25,
           0.5,
           0.75,
           1,
           1,
           0.75,
           1,
           1,
           0.5,
           0.75,
           0.75,
           1,
           1,
           0.25,
           0.5,
           0.75,
           0.75,
           0.5,
           0.75,
           1,
           1,
           0.75
          ],
          "y": [
           0.5,
           0.6919950775582308,
           0.8187876502287545,
           0.9165120133382293,
           1,
           0.8330240266764586,
           0.7210632871192799,
           0.791768804025287,
           0.6503577702132727,
           0.5652025048877067,
           0.6507398549070591,
           0.4796651548683545,
           0.5508470371068745,
           0.40848327262983436,
           0.3080049224417693,
           0.42967656778777924,
           0.5153330091402598,
           0.34402012643529867,
           0.18633327709575936,
           0.2788176215475919,
           0.35007889800819747,
           0.2075563450869863,
           0.09384893264392687
          ]
         },
         "type": "sankey"
        }
       ],
       "layout": {
        "font": {
         "color": "black",
         "family": "Courier New",
         "size": 14
        },
        "template": {
         "data": {
          "bar": [
           {
            "error_x": {
             "color": "#2a3f5f"
            },
            "error_y": {
             "color": "#2a3f5f"
            },
            "marker": {
             "line": {
              "color": "#E5ECF6",
              "width": 0.5
             },
             "pattern": {
              "fillmode": "overlay",
              "size": 10,
              "solidity": 0.2
             }
            },
            "type": "bar"
           }
          ],
          "barpolar": [
           {
            "marker": {
             "line": {
              "color": "#E5ECF6",
              "width": 0.5
             },
             "pattern": {
              "fillmode": "overlay",
              "size": 10,
              "solidity": 0.2
             }
            },
            "type": "barpolar"
           }
          ],
          "carpet": [
           {
            "aaxis": {
             "endlinecolor": "#2a3f5f",
             "gridcolor": "white",
             "linecolor": "white",
             "minorgridcolor": "white",
             "startlinecolor": "#2a3f5f"
            },
            "baxis": {
             "endlinecolor": "#2a3f5f",
             "gridcolor": "white",
             "linecolor": "white",
             "minorgridcolor": "white",
             "startlinecolor": "#2a3f5f"
            },
            "type": "carpet"
           }
          ],
          "choropleth": [
           {
            "colorbar": {
             "outlinewidth": 0,
             "ticks": ""
            },
            "type": "choropleth"
           }
          ],
          "contour": [
           {
            "colorbar": {
             "outlinewidth": 0,
             "ticks": ""
            },
            "colorscale": [
             [
              0,
              "#0d0887"
             ],
             [
              0.1111111111111111,
              "#46039f"
             ],
             [
              0.2222222222222222,
              "#7201a8"
             ],
             [
              0.3333333333333333,
              "#9c179e"
             ],
             [
              0.4444444444444444,
              "#bd3786"
             ],
             [
              0.5555555555555556,
              "#d8576b"
             ],
             [
              0.6666666666666666,
              "#ed7953"
             ],
             [
              0.7777777777777778,
              "#fb9f3a"
             ],
             [
              0.8888888888888888,
              "#fdca26"
             ],
             [
              1,
              "#f0f921"
             ]
            ],
            "type": "contour"
           }
          ],
          "contourcarpet": [
           {
            "colorbar": {
             "outlinewidth": 0,
             "ticks": ""
            },
            "type": "contourcarpet"
           }
          ],
          "heatmap": [
           {
            "colorbar": {
             "outlinewidth": 0,
             "ticks": ""
            },
            "colorscale": [
             [
              0,
              "#0d0887"
             ],
             [
              0.1111111111111111,
              "#46039f"
             ],
             [
              0.2222222222222222,
              "#7201a8"
             ],
             [
              0.3333333333333333,
              "#9c179e"
             ],
             [
              0.4444444444444444,
              "#bd3786"
             ],
             [
              0.5555555555555556,
              "#d8576b"
             ],
             [
              0.6666666666666666,
              "#ed7953"
             ],
             [
              0.7777777777777778,
              "#fb9f3a"
             ],
             [
              0.8888888888888888,
              "#fdca26"
             ],
             [
              1,
              "#f0f921"
             ]
            ],
            "type": "heatmap"
           }
          ],
          "heatmapgl": [
           {
            "colorbar": {
             "outlinewidth": 0,
             "ticks": ""
            },
            "colorscale": [
             [
              0,
              "#0d0887"
             ],
             [
              0.1111111111111111,
              "#46039f"
             ],
             [
              0.2222222222222222,
              "#7201a8"
             ],
             [
              0.3333333333333333,
              "#9c179e"
             ],
             [
              0.4444444444444444,
              "#bd3786"
             ],
             [
              0.5555555555555556,
              "#d8576b"
             ],
             [
              0.6666666666666666,
              "#ed7953"
             ],
             [
              0.7777777777777778,
              "#fb9f3a"
             ],
             [
              0.8888888888888888,
              "#fdca26"
             ],
             [
              1,
              "#f0f921"
             ]
            ],
            "type": "heatmapgl"
           }
          ],
          "histogram": [
           {
            "marker": {
             "pattern": {
              "fillmode": "overlay",
              "size": 10,
              "solidity": 0.2
             }
            },
            "type": "histogram"
           }
          ],
          "histogram2d": [
           {
            "colorbar": {
             "outlinewidth": 0,
             "ticks": ""
            },
            "colorscale": [
             [
              0,
              "#0d0887"
             ],
             [
              0.1111111111111111,
              "#46039f"
             ],
             [
              0.2222222222222222,
              "#7201a8"
             ],
             [
              0.3333333333333333,
              "#9c179e"
             ],
             [
              0.4444444444444444,
              "#bd3786"
             ],
             [
              0.5555555555555556,
              "#d8576b"
             ],
             [
              0.6666666666666666,
              "#ed7953"
             ],
             [
              0.7777777777777778,
              "#fb9f3a"
             ],
             [
              0.8888888888888888,
              "#fdca26"
             ],
             [
              1,
              "#f0f921"
             ]
            ],
            "type": "histogram2d"
           }
          ],
          "histogram2dcontour": [
           {
            "colorbar": {
             "outlinewidth": 0,
             "ticks": ""
            },
            "colorscale": [
             [
              0,
              "#0d0887"
             ],
             [
              0.1111111111111111,
              "#46039f"
             ],
             [
              0.2222222222222222,
              "#7201a8"
             ],
             [
              0.3333333333333333,
              "#9c179e"
             ],
             [
              0.4444444444444444,
              "#bd3786"
             ],
             [
              0.5555555555555556,
              "#d8576b"
             ],
             [
              0.6666666666666666,
              "#ed7953"
             ],
             [
              0.7777777777777778,
              "#fb9f3a"
             ],
             [
              0.8888888888888888,
              "#fdca26"
             ],
             [
              1,
              "#f0f921"
             ]
            ],
            "type": "histogram2dcontour"
           }
          ],
          "mesh3d": [
           {
            "colorbar": {
             "outlinewidth": 0,
             "ticks": ""
            },
            "type": "mesh3d"
           }
          ],
          "parcoords": [
           {
            "line": {
             "colorbar": {
              "outlinewidth": 0,
              "ticks": ""
             }
            },
            "type": "parcoords"
           }
          ],
          "pie": [
           {
            "automargin": true,
            "type": "pie"
           }
          ],
          "scatter": [
           {
            "fillpattern": {
             "fillmode": "overlay",
             "size": 10,
             "solidity": 0.2
            },
            "type": "scatter"
           }
          ],
          "scatter3d": [
           {
            "line": {
             "colorbar": {
              "outlinewidth": 0,
              "ticks": ""
             }
            },
            "marker": {
             "colorbar": {
              "outlinewidth": 0,
              "ticks": ""
             }
            },
            "type": "scatter3d"
           }
          ],
          "scattercarpet": [
           {
            "marker": {
             "colorbar": {
              "outlinewidth": 0,
              "ticks": ""
             }
            },
            "type": "scattercarpet"
           }
          ],
          "scattergeo": [
           {
            "marker": {
             "colorbar": {
              "outlinewidth": 0,
              "ticks": ""
             }
            },
            "type": "scattergeo"
           }
          ],
          "scattergl": [
           {
            "marker": {
             "colorbar": {
              "outlinewidth": 0,
              "ticks": ""
             }
            },
            "type": "scattergl"
           }
          ],
          "scattermapbox": [
           {
            "marker": {
             "colorbar": {
              "outlinewidth": 0,
              "ticks": ""
             }
            },
            "type": "scattermapbox"
           }
          ],
          "scatterpolar": [
           {
            "marker": {
             "colorbar": {
              "outlinewidth": 0,
              "ticks": ""
             }
            },
            "type": "scatterpolar"
           }
          ],
          "scatterpolargl": [
           {
            "marker": {
             "colorbar": {
              "outlinewidth": 0,
              "ticks": ""
             }
            },
            "type": "scatterpolargl"
           }
          ],
          "scatterternary": [
           {
            "marker": {
             "colorbar": {
              "outlinewidth": 0,
              "ticks": ""
             }
            },
            "type": "scatterternary"
           }
          ],
          "surface": [
           {
            "colorbar": {
             "outlinewidth": 0,
             "ticks": ""
            },
            "colorscale": [
             [
              0,
              "#0d0887"
             ],
             [
              0.1111111111111111,
              "#46039f"
             ],
             [
              0.2222222222222222,
              "#7201a8"
             ],
             [
              0.3333333333333333,
              "#9c179e"
             ],
             [
              0.4444444444444444,
              "#bd3786"
             ],
             [
              0.5555555555555556,
              "#d8576b"
             ],
             [
              0.6666666666666666,
              "#ed7953"
             ],
             [
              0.7777777777777778,
              "#fb9f3a"
             ],
             [
              0.8888888888888888,
              "#fdca26"
             ],
             [
              1,
              "#f0f921"
             ]
            ],
            "type": "surface"
           }
          ],
          "table": [
           {
            "cells": {
             "fill": {
              "color": "#EBF0F8"
             },
             "line": {
              "color": "white"
             }
            },
            "header": {
             "fill": {
              "color": "#C8D4E3"
             },
             "line": {
              "color": "white"
             }
            },
            "type": "table"
           }
          ]
         },
         "layout": {
          "annotationdefaults": {
           "arrowcolor": "#2a3f5f",
           "arrowhead": 0,
           "arrowwidth": 1
          },
          "autotypenumbers": "strict",
          "coloraxis": {
           "colorbar": {
            "outlinewidth": 0,
            "ticks": ""
           }
          },
          "colorscale": {
           "diverging": [
            [
             0,
             "#8e0152"
            ],
            [
             0.1,
             "#c51b7d"
            ],
            [
             0.2,
             "#de77ae"
            ],
            [
             0.3,
             "#f1b6da"
            ],
            [
             0.4,
             "#fde0ef"
            ],
            [
             0.5,
             "#f7f7f7"
            ],
            [
             0.6,
             "#e6f5d0"
            ],
            [
             0.7,
             "#b8e186"
            ],
            [
             0.8,
             "#7fbc41"
            ],
            [
             0.9,
             "#4d9221"
            ],
            [
             1,
             "#276419"
            ]
           ],
           "sequential": [
            [
             0,
             "#0d0887"
            ],
            [
             0.1111111111111111,
             "#46039f"
            ],
            [
             0.2222222222222222,
             "#7201a8"
            ],
            [
             0.3333333333333333,
             "#9c179e"
            ],
            [
             0.4444444444444444,
             "#bd3786"
            ],
            [
             0.5555555555555556,
             "#d8576b"
            ],
            [
             0.6666666666666666,
             "#ed7953"
            ],
            [
             0.7777777777777778,
             "#fb9f3a"
            ],
            [
             0.8888888888888888,
             "#fdca26"
            ],
            [
             1,
             "#f0f921"
            ]
           ],
           "sequentialminus": [
            [
             0,
             "#0d0887"
            ],
            [
             0.1111111111111111,
             "#46039f"
            ],
            [
             0.2222222222222222,
             "#7201a8"
            ],
            [
             0.3333333333333333,
             "#9c179e"
            ],
            [
             0.4444444444444444,
             "#bd3786"
            ],
            [
             0.5555555555555556,
             "#d8576b"
            ],
            [
             0.6666666666666666,
             "#ed7953"
            ],
            [
             0.7777777777777778,
             "#fb9f3a"
            ],
            [
             0.8888888888888888,
             "#fdca26"
            ],
            [
             1,
             "#f0f921"
            ]
           ]
          },
          "colorway": [
           "#636efa",
           "#EF553B",
           "#00cc96",
           "#ab63fa",
           "#FFA15A",
           "#19d3f3",
           "#FF6692",
           "#B6E880",
           "#FF97FF",
           "#FECB52"
          ],
          "font": {
           "color": "#2a3f5f"
          },
          "geo": {
           "bgcolor": "white",
           "lakecolor": "white",
           "landcolor": "#E5ECF6",
           "showlakes": true,
           "showland": true,
           "subunitcolor": "white"
          },
          "hoverlabel": {
           "align": "left"
          },
          "hovermode": "closest",
          "mapbox": {
           "style": "light"
          },
          "paper_bgcolor": "white",
          "plot_bgcolor": "#E5ECF6",
          "polar": {
           "angularaxis": {
            "gridcolor": "white",
            "linecolor": "white",
            "ticks": ""
           },
           "bgcolor": "#E5ECF6",
           "radialaxis": {
            "gridcolor": "white",
            "linecolor": "white",
            "ticks": ""
           }
          },
          "scene": {
           "xaxis": {
            "backgroundcolor": "#E5ECF6",
            "gridcolor": "white",
            "gridwidth": 2,
            "linecolor": "white",
            "showbackground": true,
            "ticks": "",
            "zerolinecolor": "white"
           },
           "yaxis": {
            "backgroundcolor": "#E5ECF6",
            "gridcolor": "white",
            "gridwidth": 2,
            "linecolor": "white",
            "showbackground": true,
            "ticks": "",
            "zerolinecolor": "white"
           },
           "zaxis": {
            "backgroundcolor": "#E5ECF6",
            "gridcolor": "white",
            "gridwidth": 2,
            "linecolor": "white",
            "showbackground": true,
            "ticks": "",
            "zerolinecolor": "white"
           }
          },
          "shapedefaults": {
           "line": {
            "color": "#2a3f5f"
           }
          },
          "ternary": {
           "aaxis": {
            "gridcolor": "white",
            "linecolor": "white",
            "ticks": ""
           },
           "baxis": {
            "gridcolor": "white",
            "linecolor": "white",
            "ticks": ""
           },
           "bgcolor": "#E5ECF6",
           "caxis": {
            "gridcolor": "white",
            "linecolor": "white",
            "ticks": ""
           }
          },
          "title": {
           "x": 0.05
          },
          "xaxis": {
           "automargin": true,
           "gridcolor": "white",
           "linecolor": "white",
           "ticks": "",
           "title": {
            "standoff": 15
           },
           "zerolinecolor": "white",
           "zerolinewidth": 2
          },
          "yaxis": {
           "automargin": true,
           "gridcolor": "white",
           "linecolor": "white",
           "ticks": "",
           "title": {
            "standoff": 15
           },
           "zerolinecolor": "white",
           "zerolinewidth": 2
          }
         }
        }
       }
      }
     },
     "metadata": {},
     "output_type": "display_data"
    }
   ],
   "source": [
    "# 3) Original Decision Tree Sankey plot for breast‐cancer\n",
    "\n",
    "# Build a Sankey plot of the original breast‐cancer decision tree\n",
    "bc_dt_viz = VisTree(\n",
    "    model=bc_dt,\n",
    "    X=bc_X,\n",
    "    class_names=bc_class_names\n",
    ")\n",
    "\n",
    "bc_dt_sankey = SankeyTreePlot(bc_dt_viz)\n",
    "bc_dt_sankey.show()\n"
   ]
  },
  {
   "cell_type": "markdown",
   "id": "a552807b",
   "metadata": {},
   "source": [
    "*Explanation:*  \n",
    "We take the original `VisTree` object for the breast‐cancer decision tree (`bc_dt_viz`) and visualize it as a Sankey plot.  \n",
    "Each node’s probability distribution is shown, and flows highlight how training samples split at each threshold.\n"
   ]
  },
  {
   "cell_type": "code",
   "execution_count": 13,
   "id": "b0e9dda5",
   "metadata": {},
   "outputs": [
    {
     "data": {
      "text/html": [
       "\n",
       "        <iframe\n",
       "            width=\"100%\"\n",
       "            height=\"650\"\n",
       "            src=\"http://127.0.0.1:8061/\"\n",
       "            frameborder=\"0\"\n",
       "            allowfullscreen\n",
       "            \n",
       "        ></iframe>\n",
       "        "
      ],
      "text/plain": [
       "<IPython.lib.display.IFrame at 0x7f20ae684a90>"
      ]
     },
     "metadata": {},
     "output_type": "display_data"
    }
   ],
   "source": [
    "# 4) Original Decision Tree Dash app for breast‐cancer\n",
    "\n",
    "bc_tree_dash = VisTreeDashboard(bc_dt_viz, bc_X_test, bc_y_test)\n",
    "bc_tree_dash.run(port=8061)\n"
   ]
  },
  {
   "cell_type": "markdown",
   "id": "67861784",
   "metadata": {},
   "source": [
    "*Explanation:*  \n",
    "This launches an interactive Dash app (http://localhost:8061) for the breast‐cancer DT (`bc_dt_viz`).  \n",
    "You can hover over nodes to see split conditions, inspect leaf probabilities, and see how test samples travel through the tree.\n"
   ]
  },
  {
   "cell_type": "code",
   "execution_count": 14,
   "id": "c28c3527",
   "metadata": {},
   "outputs": [
    {
     "data": {
      "application/vnd.plotly.v1+json": {
       "config": {
        "plotlyServerURL": "https://plot.ly"
       },
       "data": [
        {
         "link": {
          "hovertemplate": "<b style=\"font-size:14px;\">n_train:</b> %{value}<extra></extra>",
          "label": [
           "358",
           "314",
           "44",
           "37",
           "15",
           "3",
           "12",
           "12",
           "0",
           "0",
           "0",
           "0",
           "0",
           "0",
           "0",
           "12",
           "0",
           "0",
           "0",
           "0",
           "0",
           "0",
           "0",
           "22",
           "7",
           "211",
           "36",
           "22",
           "14",
           "2",
           "2",
           "2",
           "2",
           "1",
           "1",
           "0",
           "0",
           "0",
           "0",
           "0",
           "0",
           "0",
           "0",
           "0",
           "0",
           "0",
           "0",
           "0",
           "0",
           "0",
           "0",
           "0",
           "0",
           "0",
           "0",
           "0",
           "0",
           "0",
           "0",
           "0",
           "0",
           "0",
           "0",
           "0",
           "0",
           "0",
           "12",
           "4",
           "3",
           "3",
           "3",
           "0",
           "0",
           "0",
           "0",
           "1",
           "0",
           "1",
           "1",
           "1",
           "0",
           "0",
           "0",
           "0",
           "8",
           "2",
           "2",
           "0",
           "0",
           "0",
           "0",
           "0",
           "0",
           "0",
           "6",
           "175"
          ],
          "source": [
           0,
           1,
           1,
           3,
           4,
           5,
           5,
           7,
           8,
           9,
           9,
           11,
           11,
           13,
           13,
           8,
           7,
           17,
           17,
           19,
           19,
           21,
           21,
           4,
           3,
           0,
           26,
           27,
           27,
           29,
           30,
           31,
           32,
           33,
           33,
           32,
           36,
           36,
           31,
           39,
           40,
           41,
           41,
           40,
           44,
           44,
           39,
           47,
           47,
           49,
           50,
           50,
           49,
           53,
           53,
           30,
           56,
           57,
           58,
           58,
           57,
           61,
           62,
           62,
           61,
           56,
           29,
           67,
           68,
           69,
           70,
           70,
           69,
           73,
           73,
           68,
           76,
           76,
           78,
           79,
           79,
           78,
           82,
           82,
           67,
           85,
           86,
           86,
           88,
           89,
           89,
           88,
           92,
           92,
           85,
           26
          ],
          "target": [
           1,
           2,
           3,
           4,
           5,
           6,
           7,
           8,
           9,
           10,
           11,
           12,
           13,
           14,
           15,
           16,
           17,
           18,
           19,
           20,
           21,
           22,
           23,
           24,
           25,
           26,
           27,
           28,
           29,
           30,
           31,
           32,
           33,
           34,
           35,
           36,
           37,
           38,
           39,
           40,
           41,
           42,
           43,
           44,
           45,
           46,
           47,
           48,
           49,
           50,
           51,
           52,
           53,
           54,
           55,
           56,
           57,
           58,
           59,
           60,
           61,
           62,
           63,
           64,
           65,
           66,
           67,
           68,
           69,
           70,
           71,
           72,
           73,
           74,
           75,
           76,
           77,
           78,
           79,
           80,
           81,
           82,
           83,
           84,
           85,
           86,
           87,
           88,
           89,
           90,
           91,
           92,
           93,
           94,
           95,
           96
          ],
          "value": [
           358,
           314,
           44,
           37,
           15,
           3,
           12,
           12,
           0,
           0,
           0,
           0,
           0,
           0,
           0,
           12,
           0,
           0,
           0,
           0,
           0,
           0,
           0,
           22,
           7,
           211,
           36,
           22,
           14,
           2,
           2,
           2,
           2,
           1,
           1,
           0,
           0,
           0,
           0,
           0,
           0,
           0,
           0,
           0,
           0,
           0,
           0,
           0,
           0,
           0,
           0,
           0,
           0,
           0,
           0,
           0,
           0,
           0,
           0,
           0,
           0,
           0,
           0,
           0,
           0,
           0,
           12,
           4,
           3,
           3,
           3,
           0,
           0,
           0,
           0,
           1,
           0,
           1,
           1,
           1,
           0,
           0,
           0,
           0,
           8,
           2,
           2,
           0,
           0,
           0,
           0,
           0,
           0,
           0,
           6,
           175
          ]
         },
         "node": {
          "color": [
           "#EF553B",
           "#EF553B",
           "#EF553B",
           "#EF553B",
           "#EF553B",
           "#EF553B",
           "#EF553B",
           "#EF553B",
           "#EF553B",
           "#636EFA",
           "#EF553B",
           "#636EFA",
           "#EF553B",
           "#636EFA",
           "#EF553B",
           "#636EFA",
           "#EF553B",
           "#636EFA",
           "#EF553B",
           "#636EFA",
           "#EF553B",
           "#636EFA",
           "#EF553B",
           "#636EFA",
           "#EF553B",
           "#636EFA",
           "#EF553B",
           "#EF553B",
           "#EF553B",
           "#636EFA",
           "#636EFA",
           "#636EFA",
           "#636EFA",
           "#636EFA",
           "#EF553B",
           "#636EFA",
           "#636EFA",
           "#EF553B",
           "#636EFA",
           "#636EFA",
           "#636EFA",
           "#636EFA",
           "#EF553B",
           "#636EFA",
           "#636EFA",
           "#EF553B",
           "#636EFA",
           "#636EFA",
           "#636EFA",
           "#636EFA",
           "#636EFA",
           "#EF553B",
           "#636EFA",
           "#636EFA",
           "#EF553B",
           "#636EFA",
           "#636EFA",
           "#636EFA",
           "#636EFA",
           "#EF553B",
           "#636EFA",
           "#636EFA",
           "#636EFA",
           "#636EFA",
           "#EF553B",
           "#636EFA",
           "#636EFA",
           "#636EFA",
           "#EF553B",
           "#EF553B",
           "#EF553B",
           "#EF553B",
           "#636EFA",
           "#636EFA",
           "#EF553B",
           "#636EFA",
           "#EF553B",
           "#EF553B",
           "#EF553B",
           "#EF553B",
           "#EF553B",
           "#636EFA",
           "#636EFA",
           "#EF553B",
           "#636EFA",
           "#636EFA",
           "#636EFA",
           "#636EFA",
           "#636EFA",
           "#636EFA",
           "#EF553B",
           "#636EFA",
           "#636EFA",
           "#EF553B",
           "#636EFA",
           "#636EFA",
           "#EF553B"
          ],
          "customdata": [
           [
            "area error<br>≤ 31.25",
            "[0.14 0.86]"
           ],
           [
            "mean concave points<br>≤ 0.05",
            "[0.14 0.86]"
           ],
           [
            "",
            "[0.12 0.88]"
           ],
           [
            "mean radius<br>≤ 15.23",
            "[0.25 0.75]"
           ],
           [
            "worst perimeter<br>≤ 101.30",
            "[0.14 0.86]"
           ],
           [
            "mean concave points<br>≤ 0.05",
            "[0.15 0.85]"
           ],
           [
            "",
            "[0.14 0.86]"
           ],
           [
            "worst area<br>≤ 882.40",
            "[0.16 0.84]"
           ],
           [
            "mean compactness<br>≤ 0.10",
            "[0.16 0.84]"
           ],
           [
            "worst concave points<br>≤ 0.12",
            "[0. 0.]"
           ],
           [
            "",
            "[0.18 0.82]"
           ],
           [
            "mean area<br>≤ 721.55",
            "[0. 0.]"
           ],
           [
            "",
            "[0.2 0.8]"
           ],
           [
            "mean concave points<br>≤ 0.06",
            "[0. 0.]"
           ],
           [
            "",
            "[0.28 0.72]"
           ],
           [
            "",
            "[0.54 0.46]"
           ],
           [
            "",
            "[1.01 4.99]"
           ],
           [
            "worst concave points<br>≤ 0.12",
            "[0. 0.]"
           ],
           [
            "",
            "[0.37 0.63]"
           ],
           [
            "mean area<br>≤ 721.55",
            "[0. 0.]"
           ],
           [
            "",
            "[0.19 0.81]"
           ],
           [
            "mean concave points<br>≤ 0.06",
            "[0. 0.]"
           ],
           [
            "",
            "[0.27 0.73]"
           ],
           [
            "",
            "[0.53 0.47]"
           ],
           [
            "",
            "[0.13 0.87]"
           ],
           [
            "",
            "[0.85 0.15]"
           ],
           [
            "mean radius<br>≤ 14.15",
            "[0.15 0.85]"
           ],
           [
            "mean concave points<br>≤ 0.05",
            "[0.3 0.7]"
           ],
           [
            "",
            "[0.08 0.92]"
           ],
           [
            "mean compactness<br>≤ 0.10",
            "[0.64 0.36]"
           ],
           [
            "worst symmetry<br>≤ 0.31",
            "[0.52 0.48]"
           ],
           [
            "worst perimeter<br>≤ 101.30",
            "[0.52 0.48]"
           ],
           [
            "mean area<br>≤ 721.55",
            "[0.52 0.48]"
           ],
           [
            "mean concavity<br>≤ 0.10",
            "[0.52 0.48]"
           ],
           [
            "",
            "[0.77 1.23]"
           ],
           [
            "",
            "[0.77 0.23]"
           ],
           [
            "mean concave points<br>≤ 0.06",
            "[0. 0.]"
           ],
           [
            "",
            "[0.42 0.58]"
           ],
           [
            "",
            "[0.68 0.32]"
           ],
           [
            "worst concavity<br>≤ 0.26",
            "[0. 0.]"
           ],
           [
            "mean area<br>≤ 721.55",
            "[0. 0.]"
           ],
           [
            "mean concavity<br>≤ 0.10",
            "[0. 0.]"
           ],
           [
            "",
            "[0.37 0.63]"
           ],
           [
            "",
            "[0.75 0.25]"
           ],
           [
            "mean concave points<br>≤ 0.06",
            "[0. 0.]"
           ],
           [
            "",
            "[0.4 0.6]"
           ],
           [
            "",
            "[0.7 0.3]"
           ],
           [
            "concavity error<br>≤ 0.03",
            "[0. 0.]"
           ],
           [
            "",
            "[0.85 0.15]"
           ],
           [
            "mean area<br>≤ 721.55",
            "[0. 0.]"
           ],
           [
            "mean concavity<br>≤ 0.10",
            "[0. 0.]"
           ],
           [
            "",
            "[0.38 0.62]"
           ],
           [
            "",
            "[0.77 0.23]"
           ],
           [
            "mean concave points<br>≤ 0.06",
            "[0. 0.]"
           ],
           [
            "",
            "[0.42 0.58]"
           ],
           [
            "",
            "[0.73 0.27]"
           ],
           [
            "worst concavity<br>≤ 0.26",
            "[0. 0.]"
           ],
           [
            "mean area<br>≤ 721.55",
            "[0. 0.]"
           ],
           [
            "mean concavity<br>≤ 0.10",
            "[0. 0.]"
           ],
           [
            "",
            "[0.45 0.55]"
           ],
           [
            "",
            "[0.84 0.16]"
           ],
           [
            "mean concave points<br>≤ 0.06",
            "[0. 0.]"
           ],
           [
            "worst perimeter<br>≤ 101.30",
            "[0. 0.]"
           ],
           [
            "",
            "[0.5 0.5]"
           ],
           [
            "",
            "[0.48 0.52]"
           ],
           [
            "",
            "[0.78 0.22]"
           ],
           [
            "",
            "[0.86 0.14]"
           ],
           [
            "mean concavity<br>≤ 0.10",
            "[0.66 0.34]"
           ],
           [
            "worst perimeter<br>≤ 101.30",
            "[0.29 0.71]"
           ],
           [
            "mean area<br>≤ 721.55",
            "[0.3 0.7]"
           ],
           [
            "mean concavity<br>≤ 0.10",
            "[0.3 0.7]"
           ],
           [
            "",
            "[0.72 1.28]"
           ],
           [
            "",
            "[0.77 0.23]"
           ],
           [
            "mean concave points<br>≤ 0.06",
            "[0. 0.]"
           ],
           [
            "",
            "[0.42 0.58]"
           ],
           [
            "",
            "[0.68 0.32]"
           ],
           [
            "mean texture<br>≤ 16.38",
            "[0.29 0.71]"
           ],
           [
            "",
            "[0.13 0.87]"
           ],
           [
            "mean area<br>≤ 721.55",
            "[0.29 0.71]"
           ],
           [
            "mean concavity<br>≤ 0.10",
            "[0.29 0.71]"
           ],
           [
            "",
            "[0.29 0.71]"
           ],
           [
            "",
            "[0.71 0.29]"
           ],
           [
            "mean concave points<br>≤ 0.06",
            "[0. 0.]"
           ],
           [
            "",
            "[0.36 0.64]"
           ],
           [
            "",
            "[0.67 0.33]"
           ],
           [
            "worst symmetry<br>≤ 0.31",
            "[0.85 0.15]"
           ],
           [
            "mean area<br>≤ 721.55",
            "[0.76 0.24]"
           ],
           [
            "",
            "[0.76 0.24]"
           ],
           [
            "worst symmetry<br>≤ 0.29",
            "[0. 0.]"
           ],
           [
            "mean concave points<br>≤ 0.06",
            "[0. 0.]"
           ],
           [
            "",
            "[0.37 0.63]"
           ],
           [
            "",
            "[0.66 0.34]"
           ],
           [
            "mean concave points<br>≤ 0.06",
            "[0. 0.]"
           ],
           [
            "",
            "[0.49 0.51]"
           ],
           [
            "",
            "[0.74 0.26]"
           ],
           [
            "",
            "[0.88 0.12]"
           ],
           [
            "",
            "[0.12 0.88]"
           ]
          ],
          "hovertemplate": "<b style=\"font-size:14px;\">%{customdata[0]}</b><br><b style=\"font-size:14px;\">n_train:</b> %{value}<br><b style=\"font-size:14px;\">Value:</b> %{customdata[1]}<extra></extra>",
          "label": [
           "area e<br>≤ 31.25",
           "mean c<br>≤ 0.05",
           "benign",
           "mean r<br>≤ 15.23",
           "worst <br>≤ 101.30",
           "mean c<br>≤ 0.05",
           "benign",
           "worst <br>≤ 882.40",
           "mean c<br>≤ 0.10",
           "worst <br>≤ 0.12",
           "benign",
           "mean a<br>≤ 721.55",
           "benign",
           "mean c<br>≤ 0.06",
           "benign",
           "malignant",
           "benign",
           "worst <br>≤ 0.12",
           "benign",
           "mean a<br>≤ 721.55",
           "benign",
           "mean c<br>≤ 0.06",
           "benign",
           "malignant",
           "benign",
           "malignant",
           "mean r<br>≤ 14.15",
           "mean c<br>≤ 0.05",
           "benign",
           "mean c<br>≤ 0.10",
           "worst <br>≤ 0.31",
           "worst <br>≤ 101.30",
           "mean a<br>≤ 721.55",
           "mean c<br>≤ 0.10",
           "benign",
           "malignant",
           "mean c<br>≤ 0.06",
           "benign",
           "malignant",
           "worst <br>≤ 0.26",
           "mean a<br>≤ 721.55",
           "mean c<br>≤ 0.10",
           "benign",
           "malignant",
           "mean c<br>≤ 0.06",
           "benign",
           "malignant",
           "concav<br>≤ 0.03",
           "malignant",
           "mean a<br>≤ 721.55",
           "mean c<br>≤ 0.10",
           "benign",
           "malignant",
           "mean c<br>≤ 0.06",
           "benign",
           "malignant",
           "worst <br>≤ 0.26",
           "mean a<br>≤ 721.55",
           "mean c<br>≤ 0.10",
           "benign",
           "malignant",
           "mean c<br>≤ 0.06",
           "worst <br>≤ 101.30",
           "malignant",
           "benign",
           "malignant",
           "malignant",
           "mean c<br>≤ 0.10",
           "worst <br>≤ 101.30",
           "mean a<br>≤ 721.55",
           "mean c<br>≤ 0.10",
           "benign",
           "malignant",
           "mean c<br>≤ 0.06",
           "benign",
           "malignant",
           "mean t<br>≤ 16.38",
           "benign",
           "mean a<br>≤ 721.55",
           "mean c<br>≤ 0.10",
           "benign",
           "malignant",
           "mean c<br>≤ 0.06",
           "benign",
           "malignant",
           "worst <br>≤ 0.31",
           "mean a<br>≤ 721.55",
           "malignant",
           "worst <br>≤ 0.29",
           "mean c<br>≤ 0.06",
           "benign",
           "malignant",
           "mean c<br>≤ 0.06",
           "benign",
           "malignant",
           "malignant",
           "benign"
          ],
          "line": {
           "color": "black",
           "width": 0.5
          },
          "pad": 15,
          "thickness": 20,
          "x": [
           0,
           0.1,
           0.2,
           0.2,
           0.3,
           0.4,
           0.5,
           0.5,
           0.6,
           0.7,
           0.8,
           0.8,
           0.9,
           0.9,
           1,
           1,
           0.7,
           0.6,
           0.7,
           0.7,
           0.8,
           0.8,
           0.9,
           0.9,
           0.4,
           0.3,
           0.1,
           0.2,
           0.3,
           0.3,
           0.4,
           0.5,
           0.6,
           0.7,
           0.8,
           0.8,
           0.7,
           0.8,
           0.8,
           0.6,
           0.7,
           0.8,
           0.9,
           0.9,
           0.8,
           0.9,
           0.9,
           0.7,
           0.8,
           0.8,
           0.9,
           1,
           1,
           0.9,
           1,
           1,
           0.5,
           0.6,
           0.7,
           0.8,
           0.8,
           0.7,
           0.8,
           0.9,
           0.9,
           0.8,
           0.6,
           0.4,
           0.5,
           0.6,
           0.7,
           0.8,
           0.8,
           0.7,
           0.8,
           0.8,
           0.6,
           0.7,
           0.7,
           0.8,
           0.9,
           0.9,
           0.8,
           0.9,
           0.9,
           0.5,
           0.6,
           0.7,
           0.7,
           0.8,
           0.9,
           0.9,
           0.8,
           0.9,
           0.9,
           0.6,
           0.2
          ],
          "y": [
           0.5,
           0.8264335830343954,
           1,
           0.6528671660687908,
           0.7472502110149819,
           0.804019835408314,
           0.8417387634522051,
           0.7663009073644229,
           0.7945999947246255,
           0.8182089443975523,
           0.8393145639902934,
           0.7971033248048112,
           0.8170364099757333,
           0.7771702396338891,
           0.7965170575939017,
           0.7578234216738764,
           0.7709910450516987,
           0.7380018200042202,
           0.7614525084405992,
           0.7145511315678412,
           0.7356567511605824,
           0.6934455119751002,
           0.7133785971460224,
           0.6735124268041781,
           0.69048058662165,
           0.5584841211225997,
           0.1735664169656046,
           0.34519413378349867,
           0.439471671238658,
           0.25091659632833935,
           0.3073828866849546,
           0.344930365055919,
           0.37309756805233174,
           0.3965746333614687,
           0.41770662982696766,
           0.3754426368959697,
           0.3496205027431948,
           0.3707261223359359,
           0.3285148831504537,
           0.3167631620595062,
           0.3402138504958852,
           0.3613194700886263,
           0.38125255525954843,
           0.3413863849177041,
           0.3191082309031441,
           0.33904131607406623,
           0.29917514573222204,
           0.2933124736231273,
           0.31441809321586833,
           0.2722068540303862,
           0.2921399392013083,
           0.31148675716132096,
           0.2727931212412957,
           0.25227376885946406,
           0.2716205868194767,
           0.2329269508994514,
           0.26983540831399033,
           0.2979762344376451,
           0.3214269228740241,
           0.3425325424667652,
           0.300321303281283,
           0.2745255460012661,
           0.2956311655940072,
           0.31556425076492933,
           0.2756980804230851,
           0.253419926408525,
           0.24169458219033554,
           0.194450305971724,
           0.23212966870647816,
           0.26032324857564887,
           0.2838135023211648,
           0.3049586872230428,
           0.26266831741928676,
           0.23683299483013293,
           0.257938614422874,
           0.21572737523739183,
           0.20393608883730746,
           0.22739996571006543,
           0.1804722119645495,
           0.20159101999366957,
           0.2215372936009707,
           0.18164474638636843,
           0.15935340393542943,
           0.17928648910635156,
           0.1394203187645073,
           0.1567709432369698,
           0.18501727685165642,
           0.20849434216079335,
           0.16154021154251944,
           0.1826458311352605,
           0.20257891630618266,
           0.16271274596433838,
           0.14043459194977834,
           0.1603676771207005,
           0.12050150677885621,
           0.12852460962228318,
           0.0019387001477105226
          ]
         },
         "type": "sankey"
        }
       ],
       "layout": {
        "font": {
         "color": "black",
         "family": "Courier New",
         "size": 14
        },
        "template": {
         "data": {
          "bar": [
           {
            "error_x": {
             "color": "#2a3f5f"
            },
            "error_y": {
             "color": "#2a3f5f"
            },
            "marker": {
             "line": {
              "color": "#E5ECF6",
              "width": 0.5
             },
             "pattern": {
              "fillmode": "overlay",
              "size": 10,
              "solidity": 0.2
             }
            },
            "type": "bar"
           }
          ],
          "barpolar": [
           {
            "marker": {
             "line": {
              "color": "#E5ECF6",
              "width": 0.5
             },
             "pattern": {
              "fillmode": "overlay",
              "size": 10,
              "solidity": 0.2
             }
            },
            "type": "barpolar"
           }
          ],
          "carpet": [
           {
            "aaxis": {
             "endlinecolor": "#2a3f5f",
             "gridcolor": "white",
             "linecolor": "white",
             "minorgridcolor": "white",
             "startlinecolor": "#2a3f5f"
            },
            "baxis": {
             "endlinecolor": "#2a3f5f",
             "gridcolor": "white",
             "linecolor": "white",
             "minorgridcolor": "white",
             "startlinecolor": "#2a3f5f"
            },
            "type": "carpet"
           }
          ],
          "choropleth": [
           {
            "colorbar": {
             "outlinewidth": 0,
             "ticks": ""
            },
            "type": "choropleth"
           }
          ],
          "contour": [
           {
            "colorbar": {
             "outlinewidth": 0,
             "ticks": ""
            },
            "colorscale": [
             [
              0,
              "#0d0887"
             ],
             [
              0.1111111111111111,
              "#46039f"
             ],
             [
              0.2222222222222222,
              "#7201a8"
             ],
             [
              0.3333333333333333,
              "#9c179e"
             ],
             [
              0.4444444444444444,
              "#bd3786"
             ],
             [
              0.5555555555555556,
              "#d8576b"
             ],
             [
              0.6666666666666666,
              "#ed7953"
             ],
             [
              0.7777777777777778,
              "#fb9f3a"
             ],
             [
              0.8888888888888888,
              "#fdca26"
             ],
             [
              1,
              "#f0f921"
             ]
            ],
            "type": "contour"
           }
          ],
          "contourcarpet": [
           {
            "colorbar": {
             "outlinewidth": 0,
             "ticks": ""
            },
            "type": "contourcarpet"
           }
          ],
          "heatmap": [
           {
            "colorbar": {
             "outlinewidth": 0,
             "ticks": ""
            },
            "colorscale": [
             [
              0,
              "#0d0887"
             ],
             [
              0.1111111111111111,
              "#46039f"
             ],
             [
              0.2222222222222222,
              "#7201a8"
             ],
             [
              0.3333333333333333,
              "#9c179e"
             ],
             [
              0.4444444444444444,
              "#bd3786"
             ],
             [
              0.5555555555555556,
              "#d8576b"
             ],
             [
              0.6666666666666666,
              "#ed7953"
             ],
             [
              0.7777777777777778,
              "#fb9f3a"
             ],
             [
              0.8888888888888888,
              "#fdca26"
             ],
             [
              1,
              "#f0f921"
             ]
            ],
            "type": "heatmap"
           }
          ],
          "heatmapgl": [
           {
            "colorbar": {
             "outlinewidth": 0,
             "ticks": ""
            },
            "colorscale": [
             [
              0,
              "#0d0887"
             ],
             [
              0.1111111111111111,
              "#46039f"
             ],
             [
              0.2222222222222222,
              "#7201a8"
             ],
             [
              0.3333333333333333,
              "#9c179e"
             ],
             [
              0.4444444444444444,
              "#bd3786"
             ],
             [
              0.5555555555555556,
              "#d8576b"
             ],
             [
              0.6666666666666666,
              "#ed7953"
             ],
             [
              0.7777777777777778,
              "#fb9f3a"
             ],
             [
              0.8888888888888888,
              "#fdca26"
             ],
             [
              1,
              "#f0f921"
             ]
            ],
            "type": "heatmapgl"
           }
          ],
          "histogram": [
           {
            "marker": {
             "pattern": {
              "fillmode": "overlay",
              "size": 10,
              "solidity": 0.2
             }
            },
            "type": "histogram"
           }
          ],
          "histogram2d": [
           {
            "colorbar": {
             "outlinewidth": 0,
             "ticks": ""
            },
            "colorscale": [
             [
              0,
              "#0d0887"
             ],
             [
              0.1111111111111111,
              "#46039f"
             ],
             [
              0.2222222222222222,
              "#7201a8"
             ],
             [
              0.3333333333333333,
              "#9c179e"
             ],
             [
              0.4444444444444444,
              "#bd3786"
             ],
             [
              0.5555555555555556,
              "#d8576b"
             ],
             [
              0.6666666666666666,
              "#ed7953"
             ],
             [
              0.7777777777777778,
              "#fb9f3a"
             ],
             [
              0.8888888888888888,
              "#fdca26"
             ],
             [
              1,
              "#f0f921"
             ]
            ],
            "type": "histogram2d"
           }
          ],
          "histogram2dcontour": [
           {
            "colorbar": {
             "outlinewidth": 0,
             "ticks": ""
            },
            "colorscale": [
             [
              0,
              "#0d0887"
             ],
             [
              0.1111111111111111,
              "#46039f"
             ],
             [
              0.2222222222222222,
              "#7201a8"
             ],
             [
              0.3333333333333333,
              "#9c179e"
             ],
             [
              0.4444444444444444,
              "#bd3786"
             ],
             [
              0.5555555555555556,
              "#d8576b"
             ],
             [
              0.6666666666666666,
              "#ed7953"
             ],
             [
              0.7777777777777778,
              "#fb9f3a"
             ],
             [
              0.8888888888888888,
              "#fdca26"
             ],
             [
              1,
              "#f0f921"
             ]
            ],
            "type": "histogram2dcontour"
           }
          ],
          "mesh3d": [
           {
            "colorbar": {
             "outlinewidth": 0,
             "ticks": ""
            },
            "type": "mesh3d"
           }
          ],
          "parcoords": [
           {
            "line": {
             "colorbar": {
              "outlinewidth": 0,
              "ticks": ""
             }
            },
            "type": "parcoords"
           }
          ],
          "pie": [
           {
            "automargin": true,
            "type": "pie"
           }
          ],
          "scatter": [
           {
            "fillpattern": {
             "fillmode": "overlay",
             "size": 10,
             "solidity": 0.2
            },
            "type": "scatter"
           }
          ],
          "scatter3d": [
           {
            "line": {
             "colorbar": {
              "outlinewidth": 0,
              "ticks": ""
             }
            },
            "marker": {
             "colorbar": {
              "outlinewidth": 0,
              "ticks": ""
             }
            },
            "type": "scatter3d"
           }
          ],
          "scattercarpet": [
           {
            "marker": {
             "colorbar": {
              "outlinewidth": 0,
              "ticks": ""
             }
            },
            "type": "scattercarpet"
           }
          ],
          "scattergeo": [
           {
            "marker": {
             "colorbar": {
              "outlinewidth": 0,
              "ticks": ""
             }
            },
            "type": "scattergeo"
           }
          ],
          "scattergl": [
           {
            "marker": {
             "colorbar": {
              "outlinewidth": 0,
              "ticks": ""
             }
            },
            "type": "scattergl"
           }
          ],
          "scattermapbox": [
           {
            "marker": {
             "colorbar": {
              "outlinewidth": 0,
              "ticks": ""
             }
            },
            "type": "scattermapbox"
           }
          ],
          "scatterpolar": [
           {
            "marker": {
             "colorbar": {
              "outlinewidth": 0,
              "ticks": ""
             }
            },
            "type": "scatterpolar"
           }
          ],
          "scatterpolargl": [
           {
            "marker": {
             "colorbar": {
              "outlinewidth": 0,
              "ticks": ""
             }
            },
            "type": "scatterpolargl"
           }
          ],
          "scatterternary": [
           {
            "marker": {
             "colorbar": {
              "outlinewidth": 0,
              "ticks": ""
             }
            },
            "type": "scatterternary"
           }
          ],
          "surface": [
           {
            "colorbar": {
             "outlinewidth": 0,
             "ticks": ""
            },
            "colorscale": [
             [
              0,
              "#0d0887"
             ],
             [
              0.1111111111111111,
              "#46039f"
             ],
             [
              0.2222222222222222,
              "#7201a8"
             ],
             [
              0.3333333333333333,
              "#9c179e"
             ],
             [
              0.4444444444444444,
              "#bd3786"
             ],
             [
              0.5555555555555556,
              "#d8576b"
             ],
             [
              0.6666666666666666,
              "#ed7953"
             ],
             [
              0.7777777777777778,
              "#fb9f3a"
             ],
             [
              0.8888888888888888,
              "#fdca26"
             ],
             [
              1,
              "#f0f921"
             ]
            ],
            "type": "surface"
           }
          ],
          "table": [
           {
            "cells": {
             "fill": {
              "color": "#EBF0F8"
             },
             "line": {
              "color": "white"
             }
            },
            "header": {
             "fill": {
              "color": "#C8D4E3"
             },
             "line": {
              "color": "white"
             }
            },
            "type": "table"
           }
          ]
         },
         "layout": {
          "annotationdefaults": {
           "arrowcolor": "#2a3f5f",
           "arrowhead": 0,
           "arrowwidth": 1
          },
          "autotypenumbers": "strict",
          "coloraxis": {
           "colorbar": {
            "outlinewidth": 0,
            "ticks": ""
           }
          },
          "colorscale": {
           "diverging": [
            [
             0,
             "#8e0152"
            ],
            [
             0.1,
             "#c51b7d"
            ],
            [
             0.2,
             "#de77ae"
            ],
            [
             0.3,
             "#f1b6da"
            ],
            [
             0.4,
             "#fde0ef"
            ],
            [
             0.5,
             "#f7f7f7"
            ],
            [
             0.6,
             "#e6f5d0"
            ],
            [
             0.7,
             "#b8e186"
            ],
            [
             0.8,
             "#7fbc41"
            ],
            [
             0.9,
             "#4d9221"
            ],
            [
             1,
             "#276419"
            ]
           ],
           "sequential": [
            [
             0,
             "#0d0887"
            ],
            [
             0.1111111111111111,
             "#46039f"
            ],
            [
             0.2222222222222222,
             "#7201a8"
            ],
            [
             0.3333333333333333,
             "#9c179e"
            ],
            [
             0.4444444444444444,
             "#bd3786"
            ],
            [
             0.5555555555555556,
             "#d8576b"
            ],
            [
             0.6666666666666666,
             "#ed7953"
            ],
            [
             0.7777777777777778,
             "#fb9f3a"
            ],
            [
             0.8888888888888888,
             "#fdca26"
            ],
            [
             1,
             "#f0f921"
            ]
           ],
           "sequentialminus": [
            [
             0,
             "#0d0887"
            ],
            [
             0.1111111111111111,
             "#46039f"
            ],
            [
             0.2222222222222222,
             "#7201a8"
            ],
            [
             0.3333333333333333,
             "#9c179e"
            ],
            [
             0.4444444444444444,
             "#bd3786"
            ],
            [
             0.5555555555555556,
             "#d8576b"
            ],
            [
             0.6666666666666666,
             "#ed7953"
            ],
            [
             0.7777777777777778,
             "#fb9f3a"
            ],
            [
             0.8888888888888888,
             "#fdca26"
            ],
            [
             1,
             "#f0f921"
            ]
           ]
          },
          "colorway": [
           "#636efa",
           "#EF553B",
           "#00cc96",
           "#ab63fa",
           "#FFA15A",
           "#19d3f3",
           "#FF6692",
           "#B6E880",
           "#FF97FF",
           "#FECB52"
          ],
          "font": {
           "color": "#2a3f5f"
          },
          "geo": {
           "bgcolor": "white",
           "lakecolor": "white",
           "landcolor": "#E5ECF6",
           "showlakes": true,
           "showland": true,
           "subunitcolor": "white"
          },
          "hoverlabel": {
           "align": "left"
          },
          "hovermode": "closest",
          "mapbox": {
           "style": "light"
          },
          "paper_bgcolor": "white",
          "plot_bgcolor": "#E5ECF6",
          "polar": {
           "angularaxis": {
            "gridcolor": "white",
            "linecolor": "white",
            "ticks": ""
           },
           "bgcolor": "#E5ECF6",
           "radialaxis": {
            "gridcolor": "white",
            "linecolor": "white",
            "ticks": ""
           }
          },
          "scene": {
           "xaxis": {
            "backgroundcolor": "#E5ECF6",
            "gridcolor": "white",
            "gridwidth": 2,
            "linecolor": "white",
            "showbackground": true,
            "ticks": "",
            "zerolinecolor": "white"
           },
           "yaxis": {
            "backgroundcolor": "#E5ECF6",
            "gridcolor": "white",
            "gridwidth": 2,
            "linecolor": "white",
            "showbackground": true,
            "ticks": "",
            "zerolinecolor": "white"
           },
           "zaxis": {
            "backgroundcolor": "#E5ECF6",
            "gridcolor": "white",
            "gridwidth": 2,
            "linecolor": "white",
            "showbackground": true,
            "ticks": "",
            "zerolinecolor": "white"
           }
          },
          "shapedefaults": {
           "line": {
            "color": "#2a3f5f"
           }
          },
          "ternary": {
           "aaxis": {
            "gridcolor": "white",
            "linecolor": "white",
            "ticks": ""
           },
           "baxis": {
            "gridcolor": "white",
            "linecolor": "white",
            "ticks": ""
           },
           "bgcolor": "#E5ECF6",
           "caxis": {
            "gridcolor": "white",
            "linecolor": "white",
            "ticks": ""
           }
          },
          "title": {
           "x": 0.05
          },
          "xaxis": {
           "automargin": true,
           "gridcolor": "white",
           "linecolor": "white",
           "ticks": "",
           "title": {
            "standoff": 15
           },
           "zerolinecolor": "white",
           "zerolinewidth": 2
          },
          "yaxis": {
           "automargin": true,
           "gridcolor": "white",
           "linecolor": "white",
           "ticks": "",
           "title": {
            "standoff": 15
           },
           "zerolinecolor": "white",
           "zerolinewidth": 2
          }
         }
        }
       }
      }
     },
     "metadata": {},
     "output_type": "display_data"
    }
   ],
   "source": [
    "pruned_fbt = cancer_fbt_viz.prune(10)\n",
    "fbt_sankey = SankeyTreePlot(pruned_fbt)\n",
    "\n",
    "fbt_sankey.show()"
   ]
  },
  {
   "cell_type": "markdown",
   "id": "a5bbb026",
   "metadata": {},
   "source": [
    "*Explanation:*  \n",
    "Here we create a `RFDashboard` for the breast‐cancer RandomForest (`bc_rf`).  \n",
    "It shows train vs. test metrics, feature importances, and allows you to inspect individual tree contributions.\n"
   ]
  },
  {
   "cell_type": "code",
   "execution_count": 15,
   "id": "e5a57c68",
   "metadata": {},
   "outputs": [
    {
     "data": {
      "text/html": [
       "\n",
       "        <iframe\n",
       "            width=\"100%\"\n",
       "            height=\"650\"\n",
       "            src=\"http://127.0.0.1:8063/\"\n",
       "            frameborder=\"0\"\n",
       "            allowfullscreen\n",
       "            \n",
       "        ></iframe>\n",
       "        "
      ],
      "text/plain": [
       "<IPython.lib.display.IFrame at 0x7f20ac417310>"
      ]
     },
     "metadata": {},
     "output_type": "display_data"
    }
   ],
   "source": [
    "# 6) Combined FBT + RF dashboard for Iris\n",
    "\n",
    "combined_iris_dash = CombinedDashboard(\n",
    "    iris_fbt_viz,       # the VisTree wrapper around the Iris FBT\n",
    "    iris_X_test,        # test‐set features\n",
    "    iris_y_test,        # test‐set labels\n",
    "    iris_X,             # full Iris data (for train visualization)\n",
    "    iris_rf,            # the RandomForestClassifier on Iris\n",
    "    iris_class_names    # class‐name labels\n",
    ")\n",
    "combined_iris_dash.run(port=8063)\n"
   ]
  },
  {
   "cell_type": "markdown",
   "id": "520a79bb",
   "metadata": {},
   "source": [
    "*Explanation:*  \n",
    "This combined dashboard (`CombinedDashboard`) lets you compare FBT and RF side by side on Iris.  \n",
    "It shows FBT‐based branches, test‐set accuracy, plus standard RF metrics and feature importances in one app at http://localhost:8063.\n"
   ]
  },
  {
   "cell_type": "code",
   "execution_count": 16,
   "id": "153f29b3",
   "metadata": {},
   "outputs": [
    {
     "data": {
      "application/vnd.plotly.v1+json": {
       "config": {
        "plotlyServerURL": "https://plot.ly"
       },
       "data": [
        {
         "link": {
          "hovertemplate": "<b style=\"font-size:14px;\">n_train:</b> %{value}<extra></extra>",
          "label": [
           "16437",
           "7860",
           "3317",
           "1753",
           "1564",
           "4543",
           "2290",
           "2253",
           "8577",
           "2217",
           "1905",
           "312",
           "6360",
           "3822",
           "2538",
           "4203",
           "2929",
           "1035",
           "318",
           "717",
           "1894",
           "932",
           "962",
           "1274",
           "496",
           "302",
           "194",
           "778",
           "353",
           "425"
          ],
          "source": [
           0,
           1,
           2,
           3,
           3,
           2,
           6,
           6,
           1,
           9,
           10,
           10,
           9,
           13,
           13,
           0,
           16,
           17,
           18,
           18,
           17,
           21,
           21,
           16,
           24,
           25,
           25,
           24,
           28,
           28
          ],
          "target": [
           1,
           2,
           3,
           4,
           5,
           6,
           7,
           8,
           9,
           10,
           11,
           12,
           13,
           14,
           15,
           16,
           17,
           18,
           19,
           20,
           21,
           22,
           23,
           24,
           25,
           26,
           27,
           28,
           29,
           30
          ],
          "value": [
           16437,
           7860,
           3317,
           1753,
           1564,
           4543,
           2290,
           2253,
           8577,
           2217,
           1905,
           312,
           6360,
           3822,
           2538,
           4203,
           2929,
           1035,
           318,
           717,
           1894,
           932,
           962,
           1274,
           496,
           302,
           194,
           778,
           353,
           425
          ]
         },
         "node": {
          "color": [
           "rgba(43, 118, 142, 0.8)",
           "rgba(50, 101, 142, 0.8)",
           "rgba(60, 79, 138, 0.8)",
           "rgba(53, 96, 141, 0.8)",
           "rgba(60, 79, 138, 0.8)",
           "rgba(47, 109, 142, 0.8)",
           "rgba(64, 67, 134, 0.8)",
           "rgba(67, 55, 128, 0.8)",
           "rgba(60, 79, 138, 0.8)",
           "rgba(43, 118, 142, 0.8)",
           "rgba(32, 153, 138, 0.8)",
           "rgba(33, 160, 136, 0.8)",
           "rgba(49, 104, 142, 0.8)",
           "rgba(47, 109, 142, 0.8)",
           "rgba(51, 98, 141, 0.8)",
           "rgba(42, 121, 142, 0.8)",
           "rgba(51, 181, 122, 0.8)",
           "rgba(35, 163, 134, 0.8)",
           "rgba(63, 187, 115, 0.8)",
           "rgba(35, 163, 134, 0.8)",
           "rgba(89, 198, 100, 0.8)",
           "rgba(34, 145, 139, 0.8)",
           "rgba(37, 133, 142, 0.8)",
           "rgba(33, 160, 136, 0.8)",
           "rgba(155, 216, 59, 0.8)",
           "rgba(94, 200, 97, 0.8)",
           "rgba(58, 185, 118, 0.8)",
           "rgba(149, 215, 63, 0.8)",
           "rgba(194, 224, 42, 0.8)",
           "rgba(155, 216, 59, 0.8)",
           "rgba(220, 227, 40, 0.8)"
          ],
          "customdata": [
           [
            "MedInc<br>≤ 5.09",
            "2.0732"
           ],
           [
            "MedInc<br>≤ 3.07",
            "1.7472"
           ],
           [
            "AveRooms<br>≤ 4.31",
            "1.3598"
           ],
           [
            "MedInc<br>≤ 2.21",
            "1.6212"
           ],
           [
            "",
            "1.3709"
           ],
           [
            "",
            "1.9016"
           ],
           [
            "MedInc<br>≤ 2.42",
            "1.1689"
           ],
           [
            "",
            "0.9681"
           ],
           [
            "",
            "1.3730"
           ],
           [
            "AveOccup<br>≤ 2.42",
            "2.1022"
           ],
           [
            "Latitude<br>≤ 37.93",
            "2.7512"
           ],
           [
            "",
            "2.9051"
           ],
           [
            "",
            "1.8120"
           ],
           [
            "MedInc<br>≤ 4.12",
            "1.8759"
           ],
           [
            "",
            "1.7117"
           ],
           [
            "",
            "2.1233"
           ],
           [
            "MedInc<br>≤ 6.89",
            "3.3485"
           ],
           [
            "AveOccup<br>≤ 2.67",
            "2.9485"
           ],
           [
            "HouseAge<br>≤ 21.50",
            "3.4997"
           ],
           [
            "",
            "2.9660"
           ],
           [
            "",
            "3.7364"
           ],
           [
            "MedInc<br>≤ 5.74",
            "2.6473"
           ],
           [
            "",
            "2.3561"
           ],
           [
            "",
            "2.9293"
           ],
           [
            "MedInc<br>≤ 7.82",
            "4.2681"
           ],
           [
            "HouseAge<br>≤ 26.50",
            "3.7764"
           ],
           [
            "",
            "3.4760"
           ],
           [
            "",
            "4.2442"
           ],
           [
            "MedInc<br>≤ 8.87",
            "4.5816"
           ],
           [
            "",
            "4.3139"
           ],
           [
            "",
            "4.8039"
           ]
          ],
          "hovertemplate": "<b style=\"font-size:14px;\">%{customdata[0]}</b><br><b style=\"font-size:14px;\">n_train:</b> %{value}<br><b style=\"font-size:14px;\">Value:</b> %{customdata[1]}<extra></extra>",
          "label": [
           "",
           "",
           "",
           "",
           "",
           "",
           "",
           "",
           "",
           "",
           "",
           "",
           "",
           "",
           "",
           "",
           "",
           "",
           "",
           "",
           "",
           "",
           "",
           "",
           "",
           "",
           "",
           "",
           "",
           "",
           ""
          ],
          "line": {
           "color": "black",
           "width": 0.5
          },
          "pad": 15,
          "thickness": 20,
          "x": [
           0,
           0.25,
           0.5,
           0.75,
           1,
           1,
           0.75,
           1,
           1,
           0.5,
           0.75,
           1,
           1,
           0.75,
           1,
           1,
           0.25,
           0.5,
           0.75,
           1,
           1,
           0.75,
           1,
           1,
           0.5,
           0.75,
           1,
           1,
           0.75,
           1,
           1
          ],
          "y": [
           0.5,
           0.6957362870798878,
           0.8292138416704972,
           0.9243373929497449,
           1,
           0.84867478589949,
           0.7340902903912494,
           0.8111207308202092,
           0.6570598499622897,
           0.5622587324892783,
           0.658182232000607,
           0.7326175823489247,
           0.5837468816522892,
           0.4663352329779496,
           0.5453928783409275,
           0.38727758761497166,
           0.30426371292011223,
           0.4240919416093574,
           0.5137140358001936,
           0.5868306430378843,
           0.44059742856250306,
           0.33446984741852126,
           0.4085448305716338,
           0.26039486426540875,
           0.18443548423086703,
           0.27221111492924305,
           0.3447263663829844,
           0.19969586347550172,
           0.096659853532491,
           0.16948972897709264,
           0.023829978087889316
          ]
         },
         "type": "sankey"
        }
       ],
       "layout": {
        "font": {
         "color": "black",
         "family": "Courier New",
         "size": 14
        },
        "template": {
         "data": {
          "bar": [
           {
            "error_x": {
             "color": "#2a3f5f"
            },
            "error_y": {
             "color": "#2a3f5f"
            },
            "marker": {
             "line": {
              "color": "#E5ECF6",
              "width": 0.5
             },
             "pattern": {
              "fillmode": "overlay",
              "size": 10,
              "solidity": 0.2
             }
            },
            "type": "bar"
           }
          ],
          "barpolar": [
           {
            "marker": {
             "line": {
              "color": "#E5ECF6",
              "width": 0.5
             },
             "pattern": {
              "fillmode": "overlay",
              "size": 10,
              "solidity": 0.2
             }
            },
            "type": "barpolar"
           }
          ],
          "carpet": [
           {
            "aaxis": {
             "endlinecolor": "#2a3f5f",
             "gridcolor": "white",
             "linecolor": "white",
             "minorgridcolor": "white",
             "startlinecolor": "#2a3f5f"
            },
            "baxis": {
             "endlinecolor": "#2a3f5f",
             "gridcolor": "white",
             "linecolor": "white",
             "minorgridcolor": "white",
             "startlinecolor": "#2a3f5f"
            },
            "type": "carpet"
           }
          ],
          "choropleth": [
           {
            "colorbar": {
             "outlinewidth": 0,
             "ticks": ""
            },
            "type": "choropleth"
           }
          ],
          "contour": [
           {
            "colorbar": {
             "outlinewidth": 0,
             "ticks": ""
            },
            "colorscale": [
             [
              0,
              "#0d0887"
             ],
             [
              0.1111111111111111,
              "#46039f"
             ],
             [
              0.2222222222222222,
              "#7201a8"
             ],
             [
              0.3333333333333333,
              "#9c179e"
             ],
             [
              0.4444444444444444,
              "#bd3786"
             ],
             [
              0.5555555555555556,
              "#d8576b"
             ],
             [
              0.6666666666666666,
              "#ed7953"
             ],
             [
              0.7777777777777778,
              "#fb9f3a"
             ],
             [
              0.8888888888888888,
              "#fdca26"
             ],
             [
              1,
              "#f0f921"
             ]
            ],
            "type": "contour"
           }
          ],
          "contourcarpet": [
           {
            "colorbar": {
             "outlinewidth": 0,
             "ticks": ""
            },
            "type": "contourcarpet"
           }
          ],
          "heatmap": [
           {
            "colorbar": {
             "outlinewidth": 0,
             "ticks": ""
            },
            "colorscale": [
             [
              0,
              "#0d0887"
             ],
             [
              0.1111111111111111,
              "#46039f"
             ],
             [
              0.2222222222222222,
              "#7201a8"
             ],
             [
              0.3333333333333333,
              "#9c179e"
             ],
             [
              0.4444444444444444,
              "#bd3786"
             ],
             [
              0.5555555555555556,
              "#d8576b"
             ],
             [
              0.6666666666666666,
              "#ed7953"
             ],
             [
              0.7777777777777778,
              "#fb9f3a"
             ],
             [
              0.8888888888888888,
              "#fdca26"
             ],
             [
              1,
              "#f0f921"
             ]
            ],
            "type": "heatmap"
           }
          ],
          "heatmapgl": [
           {
            "colorbar": {
             "outlinewidth": 0,
             "ticks": ""
            },
            "colorscale": [
             [
              0,
              "#0d0887"
             ],
             [
              0.1111111111111111,
              "#46039f"
             ],
             [
              0.2222222222222222,
              "#7201a8"
             ],
             [
              0.3333333333333333,
              "#9c179e"
             ],
             [
              0.4444444444444444,
              "#bd3786"
             ],
             [
              0.5555555555555556,
              "#d8576b"
             ],
             [
              0.6666666666666666,
              "#ed7953"
             ],
             [
              0.7777777777777778,
              "#fb9f3a"
             ],
             [
              0.8888888888888888,
              "#fdca26"
             ],
             [
              1,
              "#f0f921"
             ]
            ],
            "type": "heatmapgl"
           }
          ],
          "histogram": [
           {
            "marker": {
             "pattern": {
              "fillmode": "overlay",
              "size": 10,
              "solidity": 0.2
             }
            },
            "type": "histogram"
           }
          ],
          "histogram2d": [
           {
            "colorbar": {
             "outlinewidth": 0,
             "ticks": ""
            },
            "colorscale": [
             [
              0,
              "#0d0887"
             ],
             [
              0.1111111111111111,
              "#46039f"
             ],
             [
              0.2222222222222222,
              "#7201a8"
             ],
             [
              0.3333333333333333,
              "#9c179e"
             ],
             [
              0.4444444444444444,
              "#bd3786"
             ],
             [
              0.5555555555555556,
              "#d8576b"
             ],
             [
              0.6666666666666666,
              "#ed7953"
             ],
             [
              0.7777777777777778,
              "#fb9f3a"
             ],
             [
              0.8888888888888888,
              "#fdca26"
             ],
             [
              1,
              "#f0f921"
             ]
            ],
            "type": "histogram2d"
           }
          ],
          "histogram2dcontour": [
           {
            "colorbar": {
             "outlinewidth": 0,
             "ticks": ""
            },
            "colorscale": [
             [
              0,
              "#0d0887"
             ],
             [
              0.1111111111111111,
              "#46039f"
             ],
             [
              0.2222222222222222,
              "#7201a8"
             ],
             [
              0.3333333333333333,
              "#9c179e"
             ],
             [
              0.4444444444444444,
              "#bd3786"
             ],
             [
              0.5555555555555556,
              "#d8576b"
             ],
             [
              0.6666666666666666,
              "#ed7953"
             ],
             [
              0.7777777777777778,
              "#fb9f3a"
             ],
             [
              0.8888888888888888,
              "#fdca26"
             ],
             [
              1,
              "#f0f921"
             ]
            ],
            "type": "histogram2dcontour"
           }
          ],
          "mesh3d": [
           {
            "colorbar": {
             "outlinewidth": 0,
             "ticks": ""
            },
            "type": "mesh3d"
           }
          ],
          "parcoords": [
           {
            "line": {
             "colorbar": {
              "outlinewidth": 0,
              "ticks": ""
             }
            },
            "type": "parcoords"
           }
          ],
          "pie": [
           {
            "automargin": true,
            "type": "pie"
           }
          ],
          "scatter": [
           {
            "fillpattern": {
             "fillmode": "overlay",
             "size": 10,
             "solidity": 0.2
            },
            "type": "scatter"
           }
          ],
          "scatter3d": [
           {
            "line": {
             "colorbar": {
              "outlinewidth": 0,
              "ticks": ""
             }
            },
            "marker": {
             "colorbar": {
              "outlinewidth": 0,
              "ticks": ""
             }
            },
            "type": "scatter3d"
           }
          ],
          "scattercarpet": [
           {
            "marker": {
             "colorbar": {
              "outlinewidth": 0,
              "ticks": ""
             }
            },
            "type": "scattercarpet"
           }
          ],
          "scattergeo": [
           {
            "marker": {
             "colorbar": {
              "outlinewidth": 0,
              "ticks": ""
             }
            },
            "type": "scattergeo"
           }
          ],
          "scattergl": [
           {
            "marker": {
             "colorbar": {
              "outlinewidth": 0,
              "ticks": ""
             }
            },
            "type": "scattergl"
           }
          ],
          "scattermapbox": [
           {
            "marker": {
             "colorbar": {
              "outlinewidth": 0,
              "ticks": ""
             }
            },
            "type": "scattermapbox"
           }
          ],
          "scatterpolar": [
           {
            "marker": {
             "colorbar": {
              "outlinewidth": 0,
              "ticks": ""
             }
            },
            "type": "scatterpolar"
           }
          ],
          "scatterpolargl": [
           {
            "marker": {
             "colorbar": {
              "outlinewidth": 0,
              "ticks": ""
             }
            },
            "type": "scatterpolargl"
           }
          ],
          "scatterternary": [
           {
            "marker": {
             "colorbar": {
              "outlinewidth": 0,
              "ticks": ""
             }
            },
            "type": "scatterternary"
           }
          ],
          "surface": [
           {
            "colorbar": {
             "outlinewidth": 0,
             "ticks": ""
            },
            "colorscale": [
             [
              0,
              "#0d0887"
             ],
             [
              0.1111111111111111,
              "#46039f"
             ],
             [
              0.2222222222222222,
              "#7201a8"
             ],
             [
              0.3333333333333333,
              "#9c179e"
             ],
             [
              0.4444444444444444,
              "#bd3786"
             ],
             [
              0.5555555555555556,
              "#d8576b"
             ],
             [
              0.6666666666666666,
              "#ed7953"
             ],
             [
              0.7777777777777778,
              "#fb9f3a"
             ],
             [
              0.8888888888888888,
              "#fdca26"
             ],
             [
              1,
              "#f0f921"
             ]
            ],
            "type": "surface"
           }
          ],
          "table": [
           {
            "cells": {
             "fill": {
              "color": "#EBF0F8"
             },
             "line": {
              "color": "white"
             }
            },
            "header": {
             "fill": {
              "color": "#C8D4E3"
             },
             "line": {
              "color": "white"
             }
            },
            "type": "table"
           }
          ]
         },
         "layout": {
          "annotationdefaults": {
           "arrowcolor": "#2a3f5f",
           "arrowhead": 0,
           "arrowwidth": 1
          },
          "autotypenumbers": "strict",
          "coloraxis": {
           "colorbar": {
            "outlinewidth": 0,
            "ticks": ""
           }
          },
          "colorscale": {
           "diverging": [
            [
             0,
             "#8e0152"
            ],
            [
             0.1,
             "#c51b7d"
            ],
            [
             0.2,
             "#de77ae"
            ],
            [
             0.3,
             "#f1b6da"
            ],
            [
             0.4,
             "#fde0ef"
            ],
            [
             0.5,
             "#f7f7f7"
            ],
            [
             0.6,
             "#e6f5d0"
            ],
            [
             0.7,
             "#b8e186"
            ],
            [
             0.8,
             "#7fbc41"
            ],
            [
             0.9,
             "#4d9221"
            ],
            [
             1,
             "#276419"
            ]
           ],
           "sequential": [
            [
             0,
             "#0d0887"
            ],
            [
             0.1111111111111111,
             "#46039f"
            ],
            [
             0.2222222222222222,
             "#7201a8"
            ],
            [
             0.3333333333333333,
             "#9c179e"
            ],
            [
             0.4444444444444444,
             "#bd3786"
            ],
            [
             0.5555555555555556,
             "#d8576b"
            ],
            [
             0.6666666666666666,
             "#ed7953"
            ],
            [
             0.7777777777777778,
             "#fb9f3a"
            ],
            [
             0.8888888888888888,
             "#fdca26"
            ],
            [
             1,
             "#f0f921"
            ]
           ],
           "sequentialminus": [
            [
             0,
             "#0d0887"
            ],
            [
             0.1111111111111111,
             "#46039f"
            ],
            [
             0.2222222222222222,
             "#7201a8"
            ],
            [
             0.3333333333333333,
             "#9c179e"
            ],
            [
             0.4444444444444444,
             "#bd3786"
            ],
            [
             0.5555555555555556,
             "#d8576b"
            ],
            [
             0.6666666666666666,
             "#ed7953"
            ],
            [
             0.7777777777777778,
             "#fb9f3a"
            ],
            [
             0.8888888888888888,
             "#fdca26"
            ],
            [
             1,
             "#f0f921"
            ]
           ]
          },
          "colorway": [
           "#636efa",
           "#EF553B",
           "#00cc96",
           "#ab63fa",
           "#FFA15A",
           "#19d3f3",
           "#FF6692",
           "#B6E880",
           "#FF97FF",
           "#FECB52"
          ],
          "font": {
           "color": "#2a3f5f"
          },
          "geo": {
           "bgcolor": "white",
           "lakecolor": "white",
           "landcolor": "#E5ECF6",
           "showlakes": true,
           "showland": true,
           "subunitcolor": "white"
          },
          "hoverlabel": {
           "align": "left"
          },
          "hovermode": "closest",
          "mapbox": {
           "style": "light"
          },
          "paper_bgcolor": "white",
          "plot_bgcolor": "#E5ECF6",
          "polar": {
           "angularaxis": {
            "gridcolor": "white",
            "linecolor": "white",
            "ticks": ""
           },
           "bgcolor": "#E5ECF6",
           "radialaxis": {
            "gridcolor": "white",
            "linecolor": "white",
            "ticks": ""
           }
          },
          "scene": {
           "xaxis": {
            "backgroundcolor": "#E5ECF6",
            "gridcolor": "white",
            "gridwidth": 2,
            "linecolor": "white",
            "showbackground": true,
            "ticks": "",
            "zerolinecolor": "white"
           },
           "yaxis": {
            "backgroundcolor": "#E5ECF6",
            "gridcolor": "white",
            "gridwidth": 2,
            "linecolor": "white",
            "showbackground": true,
            "ticks": "",
            "zerolinecolor": "white"
           },
           "zaxis": {
            "backgroundcolor": "#E5ECF6",
            "gridcolor": "white",
            "gridwidth": 2,
            "linecolor": "white",
            "showbackground": true,
            "ticks": "",
            "zerolinecolor": "white"
           }
          },
          "shapedefaults": {
           "line": {
            "color": "#2a3f5f"
           }
          },
          "ternary": {
           "aaxis": {
            "gridcolor": "white",
            "linecolor": "white",
            "ticks": ""
           },
           "baxis": {
            "gridcolor": "white",
            "linecolor": "white",
            "ticks": ""
           },
           "bgcolor": "#E5ECF6",
           "caxis": {
            "gridcolor": "white",
            "linecolor": "white",
            "ticks": ""
           }
          },
          "title": {
           "x": 0.05
          },
          "xaxis": {
           "automargin": true,
           "gridcolor": "white",
           "linecolor": "white",
           "ticks": "",
           "title": {
            "standoff": 15
           },
           "zerolinecolor": "white",
           "zerolinewidth": 2
          },
          "yaxis": {
           "automargin": true,
           "gridcolor": "white",
           "linecolor": "white",
           "ticks": "",
           "title": {
            "standoff": 15
           },
           "zerolinecolor": "white",
           "zerolinewidth": 2
          }
         }
        }
       }
      }
     },
     "metadata": {},
     "output_type": "display_data"
    }
   ],
   "source": [
    "# 7) Pruned regression tree Sankey plot for California housing\n",
    "\n",
    "calif_dt_viz = VisTree(\n",
    "    model=calif_dt,\n",
    "    X=calif_X,\n",
    "    class_names=bc_class_names\n",
    ")\n",
    "\n",
    "pruned_calif_viz = calif_dt_viz.prune(max_depth=4)\n",
    "calif_sankey = SankeyTreePlot(pruned_calif_viz, show_text=False)\n",
    "calif_sankey.show()\n"
   ]
  },
  {
   "cell_type": "markdown",
   "id": "fbe224f9",
   "metadata": {},
   "source": [
    "*Explanation:*  \n",
    "We prune a `VisTree` built on the California‐housing regression tree (`calif_dt_viz`) down to depth 4,  \n",
    "then visualize it as a Sankey diagram (without node‐text labels) to focus on numeric flows.\n"
   ]
  },
  {
   "cell_type": "code",
   "execution_count": 17,
   "id": "f529813b",
   "metadata": {},
   "outputs": [
    {
     "data": {
      "text/html": [
       "\n",
       "        <iframe\n",
       "            width=\"100%\"\n",
       "            height=\"650\"\n",
       "            src=\"http://127.0.0.1:8064/\"\n",
       "            frameborder=\"0\"\n",
       "            allowfullscreen\n",
       "            \n",
       "        ></iframe>\n",
       "        "
      ],
      "text/plain": [
       "<IPython.lib.display.IFrame at 0x7f208bcdd810>"
      ]
     },
     "metadata": {},
     "output_type": "display_data"
    }
   ],
   "source": [
    "# 8) Combined FBT + RF dashboard for California housing\n",
    "\n",
    "calif_fbt_viz = VisTree(calif_fbt, calif_X)\n",
    "\n",
    "combined_calif_dash = CombinedDashboard(\n",
    "    calif_fbt_viz,       # the VisTree wrapper around the California FBT\n",
    "    calif_X_test,        # test‐set features\n",
    "    calif_y_test,        # test‐set labels\n",
    "    calif_X,             # full California data (train)\n",
    "    calif_rf,            # the RandomForestRegressor on California\n",
    "    calif_feature_names  # feature‐name list\n",
    ")\n",
    "combined_calif_dash.run(port=8064)\n"
   ]
  },
  {
   "cell_type": "markdown",
   "id": "05bc77c8",
   "metadata": {},
   "source": [
    "*Explanation:*  \n",
    "Finally, we build a `CombinedDashboard` for the California‐housing FBT and RF.  \n",
    "Visit http://localhost:8064 to interactively compare how the ForestBasedTree approximates the RandomForestRegressor on numeric targets (e.g., median house value).\n",
    "\n",
    "\n"
   ]
  }
 ],
 "metadata": {
  "kernelspec": {
   "display_name": "venv",
   "language": "python",
   "name": "python3"
  },
  "language_info": {
   "codemirror_mode": {
    "name": "ipython",
    "version": 3
   },
   "file_extension": ".py",
   "mimetype": "text/x-python",
   "name": "python",
   "nbconvert_exporter": "python",
   "pygments_lexer": "ipython3",
   "version": "3.10.12"
  }
 },
 "nbformat": 4,
 "nbformat_minor": 5
}
