{
 "cells": [
  {
   "cell_type": "markdown",
   "metadata": {},
   "source": [
    "# Experiment tool with open dataset"
   ]
  },
  {
   "cell_type": "code",
   "execution_count": 1,
   "metadata": {},
   "outputs": [],
   "source": [
    "import pandas as pd\n",
    "\n",
    "from src.xtrees.TreeDash import *\n",
    "from src.xtrees.TreePlot import *\n",
    "from src.xtrees.VizTree import *\n",
    "from src.xtrees.ForestBasedTree import *\n",
    "\n",
    "from jupyter_dash import JupyterDash\n",
    "\n",
    "from sklearn.tree import DecisionTreeClassifier\n",
    "from sklearn.ensemble import RandomForestClassifier\n",
    "from sklearn.ensemble import RandomForestRegressor\n",
    "from sklearn.model_selection import train_test_split\n",
    "from sklearn.preprocessing import LabelEncoder\n",
    "\n",
    "seed = 42"
   ]
  },
  {
   "cell_type": "code",
   "execution_count": 2,
   "metadata": {},
   "outputs": [],
   "source": [
    "# Cleaning functions\n",
    "\n",
    "def dummies(df):\n",
    "    categorical_columns = df.select_dtypes(include=['category']).columns\n",
    "    df_dummies = pd.DataFrame()\n",
    "    for col in categorical_columns:\n",
    "        dummies = pd.get_dummies(df[col], prefix=col, prefix_sep='_is_', dtype=int)\n",
    "        dummies.columns = [\n",
    "            f\"{col}_is_{str(value).lower().replace(' ', '-').replace('_', '-')}\"\n",
    "            for value in dummies.columns.str.split('_is_').str[-1]\n",
    "        ]\n",
    "        df_dummies = pd.concat([df_dummies, dummies], axis=1)\n",
    "    df = df.drop(columns=categorical_columns)\n",
    "    df_final = pd.concat([df, df_dummies], axis=1)\n",
    "    return df_final\n",
    "\n",
    "def clean_feature_names(df):\n",
    "    df.columns = df.columns.str.lower()\n",
    "    df.columns = df.columns.str.replace(' ', '-')\n",
    "    df.columns = df.columns.str.replace('_', '-')\n",
    "    df.columns = df.columns.str.replace('--', '-')\n",
    "    return df\n",
    "\n"
   ]
  },
  {
   "cell_type": "markdown",
   "metadata": {},
   "source": [
    "## Sleep Health and Lifestyle Dataset\n",
    "[source](https://www.kaggle.com/datasets/uom190346a/sleep-health-and-lifestyle-dataset)\n",
    "\n",
    "To properly run this script, you should download the CSV file from kaggle and add it to:\n",
    "`data/Sleep_health_and_lifestyle_dataset.csv`"
   ]
  },
  {
   "cell_type": "markdown",
   "metadata": {},
   "source": [
    "## Cleaning"
   ]
  },
  {
   "cell_type": "code",
   "execution_count": 3,
   "metadata": {},
   "outputs": [],
   "source": [
    "sleep = pd.read_csv(\"data/Sleep_health_and_lifestyle_dataset.csv\", index_col=\"Person ID\")\n",
    "\n",
    "sleep['Gender'] = sleep['Gender'].astype('category')\n",
    "sleep['Age'] = sleep['Age'].astype(int)\n",
    "sleep['Occupation'] = sleep['Occupation'].astype('category')\n",
    "sleep['Sleep Duration'] = sleep['Sleep Duration'].astype(float)\n",
    "sleep['Quality of Sleep'] = sleep['Quality of Sleep'].astype(int)\n",
    "sleep['Physical Activity Level'] = sleep['Physical Activity Level'].astype(int)\n",
    "sleep['Stress Level'] = sleep['Stress Level'].astype(int)\n",
    "sleep['BMI Category'] = sleep['BMI Category'].astype('category')\n",
    "sleep['Heart Rate'] = sleep['Heart Rate'].astype(int)\n",
    "sleep['Daily Steps'] = sleep['Daily Steps'].astype(int)\n",
    "sleep['Sleep Disorder'] = sleep['Sleep Disorder'].astype('category')\n",
    "\n",
    "sleep[['systolic', 'diastolic']] = sleep['Blood Pressure'].str.split('/', expand=True)\n",
    "sleep['systolic'] = sleep['systolic'].astype(int)\n",
    "sleep['diastolic'] = sleep['diastolic'].astype(int)\n",
    "sleep = sleep.drop(columns='Blood Pressure')\n",
    "\n",
    "sleep = clean_feature_names(sleep)\n",
    "sleep = dummies(sleep)\n"
   ]
  },
  {
   "cell_type": "code",
   "execution_count": 4,
   "metadata": {},
   "outputs": [
    {
     "name": "stdout",
     "output_type": "stream",
     "text": [
      "           age  sleep-duration  quality-of-sleep  physical-activity-level  \\\n",
      "Person ID                                                                   \n",
      "1           27             6.1                 6                       42   \n",
      "2           28             6.2                 6                       60   \n",
      "3           28             6.2                 6                       60   \n",
      "4           28             5.9                 4                       30   \n",
      "5           28             5.9                 4                       30   \n",
      "\n",
      "           stress-level  heart-rate  daily-steps  systolic  diastolic  \\\n",
      "Person ID                                                               \n",
      "1                     6          77         4200       126         83   \n",
      "2                     8          75        10000       125         80   \n",
      "3                     8          75        10000       125         80   \n",
      "4                     8          85         3000       140         90   \n",
      "5                     8          85         3000       140         90   \n",
      "\n",
      "           gender_is_female  ...  occupation_is_salesperson  \\\n",
      "Person ID                    ...                              \n",
      "1                         0  ...                          0   \n",
      "2                         0  ...                          0   \n",
      "3                         0  ...                          0   \n",
      "4                         0  ...                          0   \n",
      "5                         0  ...                          0   \n",
      "\n",
      "           occupation_is_scientist  occupation_is_software-engineer  \\\n",
      "Person ID                                                             \n",
      "1                                0                                1   \n",
      "2                                0                                0   \n",
      "3                                0                                0   \n",
      "4                                0                                0   \n",
      "5                                0                                0   \n",
      "\n",
      "           occupation_is_teacher  bmi-category_is_normal  \\\n",
      "Person ID                                                  \n",
      "1                              0                       0   \n",
      "2                              0                       1   \n",
      "3                              0                       1   \n",
      "4                              0                       0   \n",
      "5                              0                       0   \n",
      "\n",
      "           bmi-category_is_normal-weight  bmi-category_is_obese  \\\n",
      "Person ID                                                         \n",
      "1                                      0                      0   \n",
      "2                                      0                      0   \n",
      "3                                      0                      0   \n",
      "4                                      0                      1   \n",
      "5                                      0                      1   \n",
      "\n",
      "           bmi-category_is_overweight  sleep-disorder_is_insomnia  \\\n",
      "Person ID                                                           \n",
      "1                                   1                           0   \n",
      "2                                   0                           0   \n",
      "3                                   0                           0   \n",
      "4                                   0                           0   \n",
      "5                                   0                           0   \n",
      "\n",
      "           sleep-disorder_is_sleep-apnea  \n",
      "Person ID                                 \n",
      "1                                      0  \n",
      "2                                      0  \n",
      "3                                      0  \n",
      "4                                      1  \n",
      "5                                      1  \n",
      "\n",
      "[5 rows x 28 columns]\n"
     ]
    }
   ],
   "source": [
    "print(sleep.head())"
   ]
  },
  {
   "cell_type": "markdown",
   "metadata": {},
   "source": [
    "## Regression"
   ]
  },
  {
   "cell_type": "code",
   "execution_count": 5,
   "metadata": {},
   "outputs": [],
   "source": [
    "target = \"sleep-duration\"\n",
    "sleep_X_reg = sleep.drop(columns=[target, 'quality-of-sleep'])\n",
    "\n",
    "sleep_feature_names = sleep_X_reg.columns\n",
    "sleep_feature_types = sleep_X_reg.dtypes\n",
    "\n",
    "sleep_y = sleep[target]\n",
    "\n",
    "sleep_X_train, sleep_X_test, sleep_y_train, sleep_y_test = train_test_split(sleep_X_reg, sleep_y, test_size=0.3, random_state=seed)"
   ]
  },
  {
   "cell_type": "code",
   "execution_count": 6,
   "metadata": {},
   "outputs": [],
   "source": [
    "X = sleep_X_reg\n",
    "y = sleep_y\n",
    "feature_names = sleep_feature_names\n",
    "feature_types = sleep_feature_types\n",
    "\n",
    "X_train = sleep_X_train\n",
    "X_test = sleep_X_test\n",
    "y_train = sleep_y_train\n",
    "y_test = sleep_y_test"
   ]
  },
  {
   "cell_type": "code",
   "execution_count": 7,
   "metadata": {},
   "outputs": [
    {
     "name": "stdout",
     "output_type": "stream",
     "text": [
      "   0_upper  0_lower  1_upper  1_lower  2_upper  2_lower  3_upper  3_lower  \\\n",
      "0     48.0     -inf     65.0     -inf      6.5     -inf      inf     -inf   \n",
      "1     48.0     -inf     70.0     65.0      6.5     -inf      inf     -inf   \n",
      "2     48.0     -inf     70.0     -inf      6.5     -inf      inf     -inf   \n",
      "3     48.0     -inf     70.0     -inf      6.5     -inf      inf     -inf   \n",
      "4     30.5     -inf      inf     72.5      6.5     -inf      inf     -inf   \n",
      "\n",
      "   4_upper  4_lower  ...  22_lower  23_upper  23_lower  24_upper  24_lower  \\\n",
      "0      inf     -inf  ...      -inf       0.5      -inf       inf      -inf   \n",
      "1      inf     -inf  ...      -inf       0.5      -inf       inf      -inf   \n",
      "2      inf     -inf  ...      -inf       inf       0.5       inf      -inf   \n",
      "3      inf     -inf  ...      -inf       inf       0.5       inf      -inf   \n",
      "4      inf     -inf  ...      -inf       0.5      -inf       inf      -inf   \n",
      "\n",
      "   25_upper  25_lower  number_of_samples  branch_probability  regressions  \n",
      "0       inf      -inf           31.69997             0.18096      7.21818  \n",
      "1       inf      -inf           29.57436             0.00229      7.31715  \n",
      "2       inf      -inf           12.60815             0.05349      6.63813  \n",
      "3       inf      -inf           16.30951             0.06790      6.60527  \n",
      "4       inf      -inf           13.60892             0.01244      7.75200  \n",
      "\n",
      "[5 rows x 55 columns]\n"
     ]
    }
   ],
   "source": [
    "\n",
    "# rf parameters\n",
    "num_of_estimators = 20\n",
    "max_depth = 4\n",
    "min_sample_leaf = max(1, int(0.02 * len(X_train)))\n",
    "\n",
    "sleep_rf = RandomForestRegressor(n_estimators=num_of_estimators, max_depth=max_depth, min_samples_leaf=min_sample_leaf, random_state=seed)\n",
    "sleep_rf.fit(X_train, y_train)\n",
    "\n",
    "\n",
    "minimal_forest_size=10\n",
    "max_number_of_branches=50\n",
    "exclusion_threshold=0.8\n",
    "\n",
    "sleep_fbt = ForestBasedTree(random_state=seed)\n",
    "\n",
    "sleep_fbt.fit(sleep_rf, X_train, y_train, feature_types, feature_names, \n",
    "        minimal_forest_size=minimal_forest_size, amount_of_branches_threshold=max_number_of_branches, exclusion_threshold=exclusion_threshold)\n",
    "\n",
    "print(sleep_fbt.cs_df.head())\n"
   ]
  },
  {
   "cell_type": "code",
   "execution_count": 8,
   "metadata": {},
   "outputs": [
    {
     "data": {
      "text/html": [
       "\n",
       "        <iframe\n",
       "            width=\"100%\"\n",
       "            height=\"650\"\n",
       "            src=\"http://127.0.0.1:8070/\"\n",
       "            frameborder=\"0\"\n",
       "            allowfullscreen\n",
       "            \n",
       "        ></iframe>\n",
       "        "
      ],
      "text/plain": [
       "<IPython.lib.display.IFrame at 0x7f2e71310910>"
      ]
     },
     "metadata": {},
     "output_type": "display_data"
    }
   ],
   "source": [
    "\n",
    "sleep_fbt_viz = VizTree(sleep_fbt, sleep_X_reg)\n",
    "\n",
    "combined_dashboard = CombinedDashboard(sleep_fbt_viz, X_test, y_test, X, sleep_rf)\n",
    "combined_dashboard.run(port=8070)\n"
   ]
  },
  {
   "cell_type": "code",
   "execution_count": 9,
   "metadata": {},
   "outputs": [
    {
     "data": {
      "application/vnd.plotly.v1+json": {
       "config": {
        "plotlyServerURL": "https://plot.ly"
       },
       "data": [
        {
         "link": {
          "hovertemplate": "<b style \"font-size:14px;\">n_train:</b> %{value}<extra></extra>",
          "label": [
           "254",
           "184",
           "115",
           "79",
           "36",
           "69",
           "68",
           "1",
           "70",
           "32",
           "38",
           "16",
           "22",
           "120",
           "50",
           "18",
           "10",
           "8",
           "32",
           "70",
           "33",
           "32",
           "1",
           "37",
           "4",
           "33"
          ],
          "source": [
           0,
           1,
           2,
           3,
           3,
           2,
           6,
           6,
           1,
           9,
           9,
           11,
           11,
           0,
           14,
           15,
           16,
           16,
           15,
           14,
           20,
           21,
           21,
           20,
           24,
           24
          ],
          "target": [
           1,
           2,
           3,
           4,
           5,
           6,
           7,
           8,
           9,
           10,
           11,
           12,
           13,
           14,
           15,
           16,
           17,
           18,
           19,
           20,
           21,
           22,
           23,
           24,
           25,
           26
          ],
          "value": [
           254,
           184,
           115,
           79,
           36,
           69,
           68,
           1,
           70,
           32,
           38,
           16,
           22,
           120,
           50,
           18,
           10,
           8,
           32,
           70,
           33,
           32,
           1,
           37,
           4,
           33
          ]
         },
         "node": {
          "color": [
           "rgba(37, 133, 142, 0.8)",
           "rgba(45, 174, 127, 0.8)",
           "rgba(33, 150, 138, 0.8)",
           "rgba(41, 123, 142, 0.8)",
           "rgba(35, 143, 140, 0.8)",
           "rgba(60, 79, 138, 0.8)",
           "rgba(74, 191, 109, 0.8)",
           "rgba(74, 191, 109, 0.8)",
           "rgba(58, 185, 118, 0.8)",
           "rgba(188, 223, 42, 0.8)",
           "rgba(246, 230, 38, 0.8)",
           "rgba(136, 212, 72, 0.8)",
           "rgba(129, 210, 76, 0.8)",
           "rgba(142, 213, 68, 0.8)",
           "rgba(71, 29, 110, 0.8)",
           "rgba(66, 61, 131, 0.8)",
           "rgba(61, 76, 137, 0.8)",
           "rgba(61, 76, 137, 0.8)",
           "rgba(60, 79, 138, 0.8)",
           "rgba(68, 52, 126, 0.8)",
           "rgba(68, 5, 87, 0.8)",
           "rgba(69, 8, 91, 0.8)",
           "rgba(69, 8, 91, 0.8)",
           "rgba(68, 5, 87, 0.8)",
           "rgba(68, 5, 87, 0.8)",
           "rgba(68, 5, 87, 0.8)",
           "rgba(68, 5, 87, 0.8)"
          ],
          "customdata": [
           [
            "stress-level<br>≤ 6.50",
            "7.1274"
           ],
           [
            "age<br>≤ 48.00",
            "7.5507"
           ],
           [
            "physical-activity-level<br>≤ 72.50",
            "7.2957"
           ],
           [
            "bmi-category_is_overweight<br>≤ 0.50",
            "7.0309"
           ],
           [
            "",
            "7.2219"
           ],
           [
            "",
            "6.6117"
           ],
           [
            "bmi-category_is_overweight<br>≤ 0.50",
            "7.7370"
           ],
           [
            "",
            "7.7380"
           ],
           [
            "",
            "7.6694"
           ],
           [
            "physical-activity-level<br>≤ 42.50",
            "8.2210"
           ],
           [
            "",
            "8.4491"
           ],
           [
            "age<br>≤ 57.50",
            "8.0289"
           ],
           [
            "",
            "7.9940"
           ],
           [
            "",
            "8.0542"
           ],
           [
            "stress-level<br>≤ 7.50",
            "6.2315"
           ],
           [
            "occupation_is_salesperson<br>≤ 0.50",
            "6.4726"
           ],
           [
            "age<br>≤ 42.50",
            "6.6016"
           ],
           [
            "",
            "6.5810"
           ],
           [
            "",
            "6.6274"
           ],
           [
            "",
            "6.4000"
           ],
           [
            "systolic<br>≤ 128.00",
            "6.0592"
           ],
           [
            "sleep-disorder_is_sleep-apnea<br>≤ 0.50",
            "6.0817"
           ],
           [
            "",
            "6.0825"
           ],
           [
            "",
            "6.0544"
           ],
           [
            "sleep-disorder_is_sleep-apnea<br>≤ 0.50",
            "6.0392"
           ],
           [
            "",
            "6.0400"
           ],
           [
            "",
            "6.0391"
           ]
          ],
          "hovertemplate": "<b style=\"font-size:14px;\">%{customdata[0]}</b><br><b style=\"font-size:14px;\">n_train:</b> %{value}<br><b style=\"font-size:14px;\">Value:</b> %{customdata[1]}<extra></extra>",
          "label": [
           "",
           "",
           "",
           "",
           "",
           "",
           "",
           "",
           "",
           "",
           "",
           "",
           "",
           "",
           "",
           "",
           "",
           "",
           "",
           "",
           "",
           "",
           "",
           "",
           "",
           "",
           ""
          ],
          "line": {
           "color": "black",
           "width": 0.5
          },
          "pad": 15,
          "thickness": 20,
          "x": [
           0,
           0.25,
           0.5,
           0.75,
           1,
           1,
           0.75,
           1,
           1,
           0.5,
           0.75,
           0.75,
           1,
           1,
           0.25,
           0.5,
           0.75,
           1,
           1,
           0.75,
           0.5,
           0.75,
           1,
           1,
           0.75,
           1,
           1
          ],
          "y": [
           0.5,
           0.6944758816872113,
           0.8244119536292173,
           0.921466368947481,
           1,
           0.8429327378949623,
           0.7273575383109534,
           0.8030771113082311,
           0.6516379653136758,
           0.5645398097452055,
           0.6546202551004802,
           0.4744593643899305,
           0.5482825069586762,
           0.40063622182118497,
           0.30552411831278864,
           0.4272627167895268,
           0.5161196586425228,
           0.5887192977089897,
           0.443520019576056,
           0.3384057749365308,
           0.18378551983605054,
           0.2738659651913254,
           0.34738323188450126,
           0.2003486984981495,
           0.09370507448077571,
           0.16746704187440734,
           0.019943107087144085
          ]
         },
         "type": "sankey"
        },
        {
         "colorscale": [
          [
           0,
           "rgba(68, 1, 84, 0.8)"
          ],
          [
           0.010101010101010102,
           "rgba(68, 5, 87, 0.8)"
          ],
          [
           0.020202020202020204,
           "rgba(69, 8, 91, 0.8)"
          ],
          [
           0.030303030303030304,
           "rgba(69, 12, 94, 0.8)"
          ],
          [
           0.04040404040404041,
           "rgba(69, 15, 97, 0.8)"
          ],
          [
           0.050505050505050504,
           "rgba(70, 19, 100, 0.8)"
          ],
          [
           0.06060606060606061,
           "rgba(70, 22, 104, 0.8)"
          ],
          [
           0.0707070707070707,
           "rgba(71, 26, 107, 0.8)"
          ],
          [
           0.08080808080808081,
           "rgba(71, 29, 110, 0.8)"
          ],
          [
           0.09090909090909091,
           "rgba(71, 33, 113, 0.8)"
          ],
          [
           0.10101010101010101,
           "rgba(72, 36, 117, 0.8)"
          ],
          [
           0.1111111111111111,
           "rgba(72, 40, 120, 0.8)"
          ],
          [
           0.12121212121212122,
           "rgba(71, 43, 122, 0.8)"
          ],
          [
           0.13131313131313133,
           "rgba(70, 46, 123, 0.8)"
          ],
          [
           0.1414141414141414,
           "rgba(69, 49, 125, 0.8)"
          ],
          [
           0.15151515151515152,
           "rgba(68, 52, 126, 0.8)"
          ],
          [
           0.16161616161616163,
           "rgba(67, 55, 128, 0.8)"
          ],
          [
           0.1717171717171717,
           "rgba(67, 58, 129, 0.8)"
          ],
          [
           0.18181818181818182,
           "rgba(66, 61, 131, 0.8)"
          ],
          [
           0.1919191919191919,
           "rgba(65, 64, 132, 0.8)"
          ],
          [
           0.20202020202020202,
           "rgba(64, 67, 134, 0.8)"
          ],
          [
           0.21212121212121213,
           "rgba(63, 70, 135, 0.8)"
          ],
          [
           0.2222222222222222,
           "rgba(62, 73, 137, 0.8)"
          ],
          [
           0.23232323232323232,
           "rgba(61, 76, 137, 0.8)"
          ],
          [
           0.24242424242424243,
           "rgba(60, 79, 138, 0.8)"
          ],
          [
           0.25252525252525254,
           "rgba(58, 81, 138, 0.8)"
          ],
          [
           0.26262626262626265,
           "rgba(57, 84, 139, 0.8)"
          ],
          [
           0.2727272727272727,
           "rgba(56, 87, 139, 0.8)"
          ],
          [
           0.2828282828282828,
           "rgba(55, 90, 140, 0.8)"
          ],
          [
           0.29292929292929293,
           "rgba(54, 93, 140, 0.8)"
          ],
          [
           0.30303030303030304,
           "rgba(53, 96, 141, 0.8)"
          ],
          [
           0.31313131313131315,
           "rgba(51, 98, 141, 0.8)"
          ],
          [
           0.32323232323232326,
           "rgba(50, 101, 142, 0.8)"
          ],
          [
           0.3333333333333333,
           "rgba(49, 104, 142, 0.8)"
          ],
          [
           0.3434343434343434,
           "rgba(48, 106, 142, 0.8)"
          ],
          [
           0.35353535353535354,
           "rgba(47, 109, 142, 0.8)"
          ],
          [
           0.36363636363636365,
           "rgba(46, 111, 142, 0.8)"
          ],
          [
           0.37373737373737376,
           "rgba(45, 113, 142, 0.8)"
          ],
          [
           0.3838383838383838,
           "rgba(44, 116, 142, 0.8)"
          ],
          [
           0.3939393939393939,
           "rgba(43, 118, 142, 0.8)"
          ],
          [
           0.40404040404040403,
           "rgba(42, 121, 142, 0.8)"
          ],
          [
           0.41414141414141414,
           "rgba(41, 123, 142, 0.8)"
          ],
          [
           0.42424242424242425,
           "rgba(40, 125, 142, 0.8)"
          ],
          [
           0.43434343434343436,
           "rgba(39, 128, 142, 0.8)"
          ],
          [
           0.4444444444444444,
           "rgba(38, 130, 142, 0.8)"
          ],
          [
           0.45454545454545453,
           "rgba(37, 133, 142, 0.8)"
          ],
          [
           0.46464646464646464,
           "rgba(37, 135, 141, 0.8)"
          ],
          [
           0.47474747474747475,
           "rgba(36, 138, 141, 0.8)"
          ],
          [
           0.48484848484848486,
           "rgba(35, 140, 140, 0.8)"
          ],
          [
           0.494949494949495,
           "rgba(35, 143, 140, 0.8)"
          ],
          [
           0.5050505050505051,
           "rgba(34, 145, 139, 0.8)"
          ],
          [
           0.5151515151515151,
           "rgba(34, 148, 139, 0.8)"
          ],
          [
           0.5252525252525253,
           "rgba(33, 150, 138, 0.8)"
          ],
          [
           0.5353535353535354,
           "rgba(32, 153, 138, 0.8)"
          ],
          [
           0.5454545454545454,
           "rgba(32, 155, 137, 0.8)"
          ],
          [
           0.5555555555555556,
           "rgba(31, 158, 137, 0.8)"
          ],
          [
           0.5656565656565656,
           "rgba(33, 160, 136, 0.8)"
          ],
          [
           0.5757575757575758,
           "rgba(35, 163, 134, 0.8)"
          ],
          [
           0.5858585858585859,
           "rgba(37, 165, 133, 0.8)"
          ],
          [
           0.5959595959595959,
           "rgba(39, 167, 131, 0.8)"
          ],
          [
           0.6060606060606061,
           "rgba(41, 169, 130, 0.8)"
          ],
          [
           0.6161616161616161,
           "rgba(43, 172, 128, 0.8)"
          ],
          [
           0.6262626262626263,
           "rgba(45, 174, 127, 0.8)"
          ],
          [
           0.6363636363636364,
           "rgba(47, 176, 125, 0.8)"
          ],
          [
           0.6464646464646465,
           "rgba(49, 178, 124, 0.8)"
          ],
          [
           0.6565656565656566,
           "rgba(51, 181, 122, 0.8)"
          ],
          [
           0.6666666666666666,
           "rgba(53, 183, 121, 0.8)"
          ],
          [
           0.6767676767676768,
           "rgba(58, 185, 118, 0.8)"
          ],
          [
           0.6868686868686869,
           "rgba(63, 187, 115, 0.8)"
          ],
          [
           0.696969696969697,
           "rgba(69, 189, 112, 0.8)"
          ],
          [
           0.7070707070707071,
           "rgba(74, 191, 109, 0.8)"
          ],
          [
           0.7171717171717171,
           "rgba(79, 193, 106, 0.8)"
          ],
          [
           0.7272727272727273,
           "rgba(84, 196, 103, 0.8)"
          ],
          [
           0.7373737373737373,
           "rgba(89, 198, 100, 0.8)"
          ],
          [
           0.7474747474747475,
           "rgba(94, 200, 97, 0.8)"
          ],
          [
           0.7575757575757576,
           "rgba(100, 202, 94, 0.8)"
          ],
          [
           0.7676767676767676,
           "rgba(105, 204, 91, 0.8)"
          ],
          [
           0.7777777777777778,
           "rgba(110, 206, 88, 0.8)"
          ],
          [
           0.7878787878787878,
           "rgba(116, 207, 84, 0.8)"
          ],
          [
           0.797979797979798,
           "rgba(123, 209, 80, 0.8)"
          ],
          [
           0.8080808080808081,
           "rgba(129, 210, 76, 0.8)"
          ],
          [
           0.8181818181818182,
           "rgba(136, 212, 72, 0.8)"
          ],
          [
           0.8282828282828283,
           "rgba(142, 213, 68, 0.8)"
          ],
          [
           0.8383838383838383,
           "rgba(149, 215, 63, 0.8)"
          ],
          [
           0.8484848484848485,
           "rgba(155, 216, 59, 0.8)"
          ],
          [
           0.8585858585858586,
           "rgba(162, 218, 55, 0.8)"
          ],
          [
           0.8686868686868687,
           "rgba(168, 219, 51, 0.8)"
          ],
          [
           0.8787878787878788,
           "rgba(175, 221, 47, 0.8)"
          ],
          [
           0.8888888888888888,
           "rgba(181, 222, 43, 0.8)"
          ],
          [
           0.898989898989899,
           "rgba(188, 223, 42, 0.8)"
          ],
          [
           0.9090909090909091,
           "rgba(194, 224, 42, 0.8)"
          ],
          [
           0.9191919191919192,
           "rgba(201, 224, 41, 0.8)"
          ],
          [
           0.9292929292929293,
           "rgba(207, 225, 41, 0.8)"
          ],
          [
           0.9393939393939394,
           "rgba(214, 226, 40, 0.8)"
          ],
          [
           0.9494949494949495,
           "rgba(220, 227, 40, 0.8)"
          ],
          [
           0.9595959595959596,
           "rgba(227, 228, 39, 0.8)"
          ],
          [
           0.9696969696969697,
           "rgba(233, 229, 39, 0.8)"
          ],
          [
           0.9797979797979798,
           "rgba(240, 229, 38, 0.8)"
          ],
          [
           0.98989898989899,
           "rgba(246, 230, 38, 0.8)"
          ],
          [
           1,
           "rgba(253, 231, 37, 0.8)"
          ]
         ],
         "showscale": false,
         "type": "heatmap",
         "x": [
          0.98
         ],
         "xaxis": "x2",
         "y": [
          6.0115,
          6.03614505050505,
          6.060790101010101,
          6.085435151515151,
          6.110080202020201,
          6.134725252525253,
          6.159370303030303,
          6.1840153535353535,
          6.208660404040404,
          6.233305454545454,
          6.257950505050505,
          6.282595555555555,
          6.307240606060605,
          6.331885656565657,
          6.356530707070707,
          6.3811757575757575,
          6.405820808080808,
          6.430465858585858,
          6.455110909090909,
          6.479755959595959,
          6.5044010101010095,
          6.52904606060606,
          6.553691111111111,
          6.5783361616161615,
          6.602981212121212,
          6.627626262626262,
          6.652271313131313,
          6.676916363636363,
          6.7015614141414135,
          6.726206464646465,
          6.750851515151515,
          6.7754965656565656,
          6.800141616161616,
          6.824786666666666,
          6.849431717171717,
          6.874076767676767,
          6.8987218181818175,
          6.923366868686868,
          6.948011919191919,
          6.97265696969697,
          6.99730202020202,
          7.02194707070707,
          7.046592121212121,
          7.071237171717171,
          7.0958822222222215,
          7.120527272727273,
          7.145172323232323,
          7.169817373737374,
          7.194462424242424,
          7.219107474747474,
          7.243752525252525,
          7.268397575757575,
          7.293042626262626,
          7.317687676767676,
          7.342332727272726,
          7.366977777777778,
          7.391622828282828,
          7.416267878787878,
          7.440912929292929,
          7.465557979797979,
          7.49020303030303,
          7.514848080808081,
          7.539493131313131,
          7.564138181818182,
          7.588783232323232,
          7.613428282828282,
          7.638073333333333,
          7.662718383838383,
          7.687363434343434,
          7.712008484848484,
          7.736653535353534,
          7.761298585858585,
          7.785943636363636,
          7.8105886868686865,
          7.835233737373737,
          7.859878787878787,
          7.884523838383838,
          7.909168888888888,
          7.933813939393939,
          7.95845898989899,
          7.98310404040404,
          8.00774909090909,
          8.03239414141414,
          8.057039191919191,
          8.081684242424242,
          8.106329292929292,
          8.130974343434342,
          8.155619393939393,
          8.180264444444443,
          8.204909494949494,
          8.229554545454544,
          8.254199595959594,
          8.278844646464645,
          8.303489696969697,
          8.328134747474747,
          8.352779797979798,
          8.377424848484848,
          8.402069898989899,
          8.426714949494949,
          8.45136
         ],
         "yaxis": "y2",
         "z": [
          [
           6.0115
          ],
          [
           6.03614505050505
          ],
          [
           6.060790101010101
          ],
          [
           6.085435151515151
          ],
          [
           6.110080202020201
          ],
          [
           6.134725252525253
          ],
          [
           6.159370303030303
          ],
          [
           6.1840153535353535
          ],
          [
           6.208660404040404
          ],
          [
           6.233305454545454
          ],
          [
           6.257950505050505
          ],
          [
           6.282595555555555
          ],
          [
           6.307240606060605
          ],
          [
           6.331885656565657
          ],
          [
           6.356530707070707
          ],
          [
           6.3811757575757575
          ],
          [
           6.405820808080808
          ],
          [
           6.430465858585858
          ],
          [
           6.455110909090909
          ],
          [
           6.479755959595959
          ],
          [
           6.5044010101010095
          ],
          [
           6.52904606060606
          ],
          [
           6.553691111111111
          ],
          [
           6.5783361616161615
          ],
          [
           6.602981212121212
          ],
          [
           6.627626262626262
          ],
          [
           6.652271313131313
          ],
          [
           6.676916363636363
          ],
          [
           6.7015614141414135
          ],
          [
           6.726206464646465
          ],
          [
           6.750851515151515
          ],
          [
           6.7754965656565656
          ],
          [
           6.800141616161616
          ],
          [
           6.824786666666666
          ],
          [
           6.849431717171717
          ],
          [
           6.874076767676767
          ],
          [
           6.8987218181818175
          ],
          [
           6.923366868686868
          ],
          [
           6.948011919191919
          ],
          [
           6.97265696969697
          ],
          [
           6.99730202020202
          ],
          [
           7.02194707070707
          ],
          [
           7.046592121212121
          ],
          [
           7.071237171717171
          ],
          [
           7.0958822222222215
          ],
          [
           7.120527272727273
          ],
          [
           7.145172323232323
          ],
          [
           7.169817373737374
          ],
          [
           7.194462424242424
          ],
          [
           7.219107474747474
          ],
          [
           7.243752525252525
          ],
          [
           7.268397575757575
          ],
          [
           7.293042626262626
          ],
          [
           7.317687676767676
          ],
          [
           7.342332727272726
          ],
          [
           7.366977777777778
          ],
          [
           7.391622828282828
          ],
          [
           7.416267878787878
          ],
          [
           7.440912929292929
          ],
          [
           7.465557979797979
          ],
          [
           7.49020303030303
          ],
          [
           7.514848080808081
          ],
          [
           7.539493131313131
          ],
          [
           7.564138181818182
          ],
          [
           7.588783232323232
          ],
          [
           7.613428282828282
          ],
          [
           7.638073333333333
          ],
          [
           7.662718383838383
          ],
          [
           7.687363434343434
          ],
          [
           7.712008484848484
          ],
          [
           7.736653535353534
          ],
          [
           7.761298585858585
          ],
          [
           7.785943636363636
          ],
          [
           7.8105886868686865
          ],
          [
           7.835233737373737
          ],
          [
           7.859878787878787
          ],
          [
           7.884523838383838
          ],
          [
           7.909168888888888
          ],
          [
           7.933813939393939
          ],
          [
           7.95845898989899
          ],
          [
           7.98310404040404
          ],
          [
           8.00774909090909
          ],
          [
           8.03239414141414
          ],
          [
           8.057039191919191
          ],
          [
           8.081684242424242
          ],
          [
           8.106329292929292
          ],
          [
           8.130974343434342
          ],
          [
           8.155619393939393
          ],
          [
           8.180264444444443
          ],
          [
           8.204909494949494
          ],
          [
           8.229554545454544
          ],
          [
           8.254199595959594
          ],
          [
           8.278844646464645
          ],
          [
           8.303489696969697
          ],
          [
           8.328134747474747
          ],
          [
           8.352779797979798
          ],
          [
           8.377424848484848
          ],
          [
           8.402069898989899
          ],
          [
           8.426714949494949
          ],
          [
           8.45136
          ]
         ]
        }
       ],
       "layout": {
        "font": {
         "color": "black",
         "family": "Courier New",
         "size": 14
        },
        "plot_bgcolor": "rgba(0,0,0,0)",
        "template": {
         "data": {
          "bar": [
           {
            "error_x": {
             "color": "#2a3f5f"
            },
            "error_y": {
             "color": "#2a3f5f"
            },
            "marker": {
             "line": {
              "color": "#E5ECF6",
              "width": 0.5
             },
             "pattern": {
              "fillmode": "overlay",
              "size": 10,
              "solidity": 0.2
             }
            },
            "type": "bar"
           }
          ],
          "barpolar": [
           {
            "marker": {
             "line": {
              "color": "#E5ECF6",
              "width": 0.5
             },
             "pattern": {
              "fillmode": "overlay",
              "size": 10,
              "solidity": 0.2
             }
            },
            "type": "barpolar"
           }
          ],
          "carpet": [
           {
            "aaxis": {
             "endlinecolor": "#2a3f5f",
             "gridcolor": "white",
             "linecolor": "white",
             "minorgridcolor": "white",
             "startlinecolor": "#2a3f5f"
            },
            "baxis": {
             "endlinecolor": "#2a3f5f",
             "gridcolor": "white",
             "linecolor": "white",
             "minorgridcolor": "white",
             "startlinecolor": "#2a3f5f"
            },
            "type": "carpet"
           }
          ],
          "choropleth": [
           {
            "colorbar": {
             "outlinewidth": 0,
             "ticks": ""
            },
            "type": "choropleth"
           }
          ],
          "contour": [
           {
            "colorbar": {
             "outlinewidth": 0,
             "ticks": ""
            },
            "colorscale": [
             [
              0,
              "#0d0887"
             ],
             [
              0.1111111111111111,
              "#46039f"
             ],
             [
              0.2222222222222222,
              "#7201a8"
             ],
             [
              0.3333333333333333,
              "#9c179e"
             ],
             [
              0.4444444444444444,
              "#bd3786"
             ],
             [
              0.5555555555555556,
              "#d8576b"
             ],
             [
              0.6666666666666666,
              "#ed7953"
             ],
             [
              0.7777777777777778,
              "#fb9f3a"
             ],
             [
              0.8888888888888888,
              "#fdca26"
             ],
             [
              1,
              "#f0f921"
             ]
            ],
            "type": "contour"
           }
          ],
          "contourcarpet": [
           {
            "colorbar": {
             "outlinewidth": 0,
             "ticks": ""
            },
            "type": "contourcarpet"
           }
          ],
          "heatmap": [
           {
            "colorbar": {
             "outlinewidth": 0,
             "ticks": ""
            },
            "colorscale": [
             [
              0,
              "#0d0887"
             ],
             [
              0.1111111111111111,
              "#46039f"
             ],
             [
              0.2222222222222222,
              "#7201a8"
             ],
             [
              0.3333333333333333,
              "#9c179e"
             ],
             [
              0.4444444444444444,
              "#bd3786"
             ],
             [
              0.5555555555555556,
              "#d8576b"
             ],
             [
              0.6666666666666666,
              "#ed7953"
             ],
             [
              0.7777777777777778,
              "#fb9f3a"
             ],
             [
              0.8888888888888888,
              "#fdca26"
             ],
             [
              1,
              "#f0f921"
             ]
            ],
            "type": "heatmap"
           }
          ],
          "heatmapgl": [
           {
            "colorbar": {
             "outlinewidth": 0,
             "ticks": ""
            },
            "colorscale": [
             [
              0,
              "#0d0887"
             ],
             [
              0.1111111111111111,
              "#46039f"
             ],
             [
              0.2222222222222222,
              "#7201a8"
             ],
             [
              0.3333333333333333,
              "#9c179e"
             ],
             [
              0.4444444444444444,
              "#bd3786"
             ],
             [
              0.5555555555555556,
              "#d8576b"
             ],
             [
              0.6666666666666666,
              "#ed7953"
             ],
             [
              0.7777777777777778,
              "#fb9f3a"
             ],
             [
              0.8888888888888888,
              "#fdca26"
             ],
             [
              1,
              "#f0f921"
             ]
            ],
            "type": "heatmapgl"
           }
          ],
          "histogram": [
           {
            "marker": {
             "pattern": {
              "fillmode": "overlay",
              "size": 10,
              "solidity": 0.2
             }
            },
            "type": "histogram"
           }
          ],
          "histogram2d": [
           {
            "colorbar": {
             "outlinewidth": 0,
             "ticks": ""
            },
            "colorscale": [
             [
              0,
              "#0d0887"
             ],
             [
              0.1111111111111111,
              "#46039f"
             ],
             [
              0.2222222222222222,
              "#7201a8"
             ],
             [
              0.3333333333333333,
              "#9c179e"
             ],
             [
              0.4444444444444444,
              "#bd3786"
             ],
             [
              0.5555555555555556,
              "#d8576b"
             ],
             [
              0.6666666666666666,
              "#ed7953"
             ],
             [
              0.7777777777777778,
              "#fb9f3a"
             ],
             [
              0.8888888888888888,
              "#fdca26"
             ],
             [
              1,
              "#f0f921"
             ]
            ],
            "type": "histogram2d"
           }
          ],
          "histogram2dcontour": [
           {
            "colorbar": {
             "outlinewidth": 0,
             "ticks": ""
            },
            "colorscale": [
             [
              0,
              "#0d0887"
             ],
             [
              0.1111111111111111,
              "#46039f"
             ],
             [
              0.2222222222222222,
              "#7201a8"
             ],
             [
              0.3333333333333333,
              "#9c179e"
             ],
             [
              0.4444444444444444,
              "#bd3786"
             ],
             [
              0.5555555555555556,
              "#d8576b"
             ],
             [
              0.6666666666666666,
              "#ed7953"
             ],
             [
              0.7777777777777778,
              "#fb9f3a"
             ],
             [
              0.8888888888888888,
              "#fdca26"
             ],
             [
              1,
              "#f0f921"
             ]
            ],
            "type": "histogram2dcontour"
           }
          ],
          "mesh3d": [
           {
            "colorbar": {
             "outlinewidth": 0,
             "ticks": ""
            },
            "type": "mesh3d"
           }
          ],
          "parcoords": [
           {
            "line": {
             "colorbar": {
              "outlinewidth": 0,
              "ticks": ""
             }
            },
            "type": "parcoords"
           }
          ],
          "pie": [
           {
            "automargin": true,
            "type": "pie"
           }
          ],
          "scatter": [
           {
            "fillpattern": {
             "fillmode": "overlay",
             "size": 10,
             "solidity": 0.2
            },
            "type": "scatter"
           }
          ],
          "scatter3d": [
           {
            "line": {
             "colorbar": {
              "outlinewidth": 0,
              "ticks": ""
             }
            },
            "marker": {
             "colorbar": {
              "outlinewidth": 0,
              "ticks": ""
             }
            },
            "type": "scatter3d"
           }
          ],
          "scattercarpet": [
           {
            "marker": {
             "colorbar": {
              "outlinewidth": 0,
              "ticks": ""
             }
            },
            "type": "scattercarpet"
           }
          ],
          "scattergeo": [
           {
            "marker": {
             "colorbar": {
              "outlinewidth": 0,
              "ticks": ""
             }
            },
            "type": "scattergeo"
           }
          ],
          "scattergl": [
           {
            "marker": {
             "colorbar": {
              "outlinewidth": 0,
              "ticks": ""
             }
            },
            "type": "scattergl"
           }
          ],
          "scattermapbox": [
           {
            "marker": {
             "colorbar": {
              "outlinewidth": 0,
              "ticks": ""
             }
            },
            "type": "scattermapbox"
           }
          ],
          "scatterpolar": [
           {
            "marker": {
             "colorbar": {
              "outlinewidth": 0,
              "ticks": ""
             }
            },
            "type": "scatterpolar"
           }
          ],
          "scatterpolargl": [
           {
            "marker": {
             "colorbar": {
              "outlinewidth": 0,
              "ticks": ""
             }
            },
            "type": "scatterpolargl"
           }
          ],
          "scatterternary": [
           {
            "marker": {
             "colorbar": {
              "outlinewidth": 0,
              "ticks": ""
             }
            },
            "type": "scatterternary"
           }
          ],
          "surface": [
           {
            "colorbar": {
             "outlinewidth": 0,
             "ticks": ""
            },
            "colorscale": [
             [
              0,
              "#0d0887"
             ],
             [
              0.1111111111111111,
              "#46039f"
             ],
             [
              0.2222222222222222,
              "#7201a8"
             ],
             [
              0.3333333333333333,
              "#9c179e"
             ],
             [
              0.4444444444444444,
              "#bd3786"
             ],
             [
              0.5555555555555556,
              "#d8576b"
             ],
             [
              0.6666666666666666,
              "#ed7953"
             ],
             [
              0.7777777777777778,
              "#fb9f3a"
             ],
             [
              0.8888888888888888,
              "#fdca26"
             ],
             [
              1,
              "#f0f921"
             ]
            ],
            "type": "surface"
           }
          ],
          "table": [
           {
            "cells": {
             "fill": {
              "color": "#EBF0F8"
             },
             "line": {
              "color": "white"
             }
            },
            "header": {
             "fill": {
              "color": "#C8D4E3"
             },
             "line": {
              "color": "white"
             }
            },
            "type": "table"
           }
          ]
         },
         "layout": {
          "annotationdefaults": {
           "arrowcolor": "#2a3f5f",
           "arrowhead": 0,
           "arrowwidth": 1
          },
          "autotypenumbers": "strict",
          "coloraxis": {
           "colorbar": {
            "outlinewidth": 0,
            "ticks": ""
           }
          },
          "colorscale": {
           "diverging": [
            [
             0,
             "#8e0152"
            ],
            [
             0.1,
             "#c51b7d"
            ],
            [
             0.2,
             "#de77ae"
            ],
            [
             0.3,
             "#f1b6da"
            ],
            [
             0.4,
             "#fde0ef"
            ],
            [
             0.5,
             "#f7f7f7"
            ],
            [
             0.6,
             "#e6f5d0"
            ],
            [
             0.7,
             "#b8e186"
            ],
            [
             0.8,
             "#7fbc41"
            ],
            [
             0.9,
             "#4d9221"
            ],
            [
             1,
             "#276419"
            ]
           ],
           "sequential": [
            [
             0,
             "#0d0887"
            ],
            [
             0.1111111111111111,
             "#46039f"
            ],
            [
             0.2222222222222222,
             "#7201a8"
            ],
            [
             0.3333333333333333,
             "#9c179e"
            ],
            [
             0.4444444444444444,
             "#bd3786"
            ],
            [
             0.5555555555555556,
             "#d8576b"
            ],
            [
             0.6666666666666666,
             "#ed7953"
            ],
            [
             0.7777777777777778,
             "#fb9f3a"
            ],
            [
             0.8888888888888888,
             "#fdca26"
            ],
            [
             1,
             "#f0f921"
            ]
           ],
           "sequentialminus": [
            [
             0,
             "#0d0887"
            ],
            [
             0.1111111111111111,
             "#46039f"
            ],
            [
             0.2222222222222222,
             "#7201a8"
            ],
            [
             0.3333333333333333,
             "#9c179e"
            ],
            [
             0.4444444444444444,
             "#bd3786"
            ],
            [
             0.5555555555555556,
             "#d8576b"
            ],
            [
             0.6666666666666666,
             "#ed7953"
            ],
            [
             0.7777777777777778,
             "#fb9f3a"
            ],
            [
             0.8888888888888888,
             "#fdca26"
            ],
            [
             1,
             "#f0f921"
            ]
           ]
          },
          "colorway": [
           "#636efa",
           "#EF553B",
           "#00cc96",
           "#ab63fa",
           "#FFA15A",
           "#19d3f3",
           "#FF6692",
           "#B6E880",
           "#FF97FF",
           "#FECB52"
          ],
          "font": {
           "color": "#2a3f5f"
          },
          "geo": {
           "bgcolor": "white",
           "lakecolor": "white",
           "landcolor": "#E5ECF6",
           "showlakes": true,
           "showland": true,
           "subunitcolor": "white"
          },
          "hoverlabel": {
           "align": "left"
          },
          "hovermode": "closest",
          "mapbox": {
           "style": "light"
          },
          "paper_bgcolor": "white",
          "plot_bgcolor": "#E5ECF6",
          "polar": {
           "angularaxis": {
            "gridcolor": "white",
            "linecolor": "white",
            "ticks": ""
           },
           "bgcolor": "#E5ECF6",
           "radialaxis": {
            "gridcolor": "white",
            "linecolor": "white",
            "ticks": ""
           }
          },
          "scene": {
           "xaxis": {
            "backgroundcolor": "#E5ECF6",
            "gridcolor": "white",
            "gridwidth": 2,
            "linecolor": "white",
            "showbackground": true,
            "ticks": "",
            "zerolinecolor": "white"
           },
           "yaxis": {
            "backgroundcolor": "#E5ECF6",
            "gridcolor": "white",
            "gridwidth": 2,
            "linecolor": "white",
            "showbackground": true,
            "ticks": "",
            "zerolinecolor": "white"
           },
           "zaxis": {
            "backgroundcolor": "#E5ECF6",
            "gridcolor": "white",
            "gridwidth": 2,
            "linecolor": "white",
            "showbackground": true,
            "ticks": "",
            "zerolinecolor": "white"
           }
          },
          "shapedefaults": {
           "line": {
            "color": "#2a3f5f"
           }
          },
          "ternary": {
           "aaxis": {
            "gridcolor": "white",
            "linecolor": "white",
            "ticks": ""
           },
           "baxis": {
            "gridcolor": "white",
            "linecolor": "white",
            "ticks": ""
           },
           "bgcolor": "#E5ECF6",
           "caxis": {
            "gridcolor": "white",
            "linecolor": "white",
            "ticks": ""
           }
          },
          "title": {
           "x": 0.05
          },
          "xaxis": {
           "automargin": true,
           "gridcolor": "white",
           "linecolor": "white",
           "ticks": "",
           "title": {
            "standoff": 15
           },
           "zerolinecolor": "white",
           "zerolinewidth": 2
          },
          "yaxis": {
           "automargin": true,
           "gridcolor": "white",
           "linecolor": "white",
           "ticks": "",
           "title": {
            "standoff": 15
           },
           "zerolinecolor": "white",
           "zerolinewidth": 2
          }
         }
        },
        "xaxis2": {
         "anchor": "free",
         "domain": [
          0.75,
          1
         ],
         "overlaying": "x",
         "position": 0.95,
         "range": [
          0,
          0.5
         ],
         "side": "right",
         "visible": false
        },
        "yaxis2": {
         "anchor": "free",
         "domain": [
          0.4,
          0.9
         ],
         "overlaying": "y",
         "position": 1,
         "range": [
          6.0115,
          8.45136
         ],
         "showgrid": false,
         "side": "right"
        }
       }
      }
     },
     "metadata": {},
     "output_type": "display_data"
    }
   ],
   "source": [
    "sleep_fbt_viz = VizTree(sleep_fbt, sleep_X_reg)\n",
    "sleep_fbt_viz = sleep_fbt_viz.prune(4)\n",
    "sankey_plot = SankeyTreePlot(sleep_fbt_viz, show_text=False, show_label=True)\n",
    "sankey_plot.show()"
   ]
  },
  {
   "cell_type": "code",
   "execution_count": 10,
   "metadata": {},
   "outputs": [
    {
     "data": {
      "text/html": [
       "\n",
       "        <iframe\n",
       "            width=\"100%\"\n",
       "            height=\"650\"\n",
       "            src=\"http://127.0.0.1:8071/\"\n",
       "            frameborder=\"0\"\n",
       "            allowfullscreen\n",
       "            \n",
       "        ></iframe>\n",
       "        "
      ],
      "text/plain": [
       "<IPython.lib.display.IFrame at 0x7f2e6b61a7a0>"
      ]
     },
     "metadata": {},
     "output_type": "display_data"
    }
   ],
   "source": [
    "\n",
    "fbt_dash = VizTreeDashboard(sleep_fbt_viz, X_test, y_test, show_text=True)\n",
    "fbt_dash.run(port=8071)\n"
   ]
  },
  {
   "cell_type": "markdown",
   "metadata": {},
   "source": [
    "## Classification"
   ]
  },
  {
   "cell_type": "code",
   "execution_count": 11,
   "metadata": {},
   "outputs": [],
   "source": [
    "target = \"quality-of-sleep\"\n",
    "sleep_X_class = sleep.drop(columns=[target, 'sleep-duration'])\n",
    "\n",
    "sleep_feature_names = sleep_X_class.columns\n",
    "sleep_feature_types = sleep_X_class.dtypes\n",
    "\n",
    "sleep_y = sleep[target]\n",
    "\n",
    "le = LabelEncoder()\n",
    "sleep_y = le.fit_transform(sleep_y)\n",
    "sleep_class_names = [str(i) for i in le.classes_]\n",
    "\n",
    "sleep_X_train, sleep_X_test, sleep_y_train, sleep_y_test = train_test_split(sleep_X_class, sleep_y, test_size=0.3, random_state=seed)\n",
    "\n",
    "X = sleep_X_class\n",
    "y = sleep_y\n",
    "feature_names = sleep_feature_names\n",
    "feature_types = sleep_feature_types\n",
    "\n",
    "X_train = sleep_X_train\n",
    "X_test = sleep_X_test\n",
    "y_train = sleep_y_train\n",
    "y_test = sleep_y_test"
   ]
  },
  {
   "cell_type": "code",
   "execution_count": 12,
   "metadata": {},
   "outputs": [
    {
     "data": {
      "text/html": [
       "<style>#sk-container-id-1 {\n",
       "  /* Definition of color scheme common for light and dark mode */\n",
       "  --sklearn-color-text: black;\n",
       "  --sklearn-color-line: gray;\n",
       "  /* Definition of color scheme for unfitted estimators */\n",
       "  --sklearn-color-unfitted-level-0: #fff5e6;\n",
       "  --sklearn-color-unfitted-level-1: #f6e4d2;\n",
       "  --sklearn-color-unfitted-level-2: #ffe0b3;\n",
       "  --sklearn-color-unfitted-level-3: chocolate;\n",
       "  /* Definition of color scheme for fitted estimators */\n",
       "  --sklearn-color-fitted-level-0: #f0f8ff;\n",
       "  --sklearn-color-fitted-level-1: #d4ebff;\n",
       "  --sklearn-color-fitted-level-2: #b3dbfd;\n",
       "  --sklearn-color-fitted-level-3: cornflowerblue;\n",
       "\n",
       "  /* Specific color for light theme */\n",
       "  --sklearn-color-text-on-default-background: var(--sg-text-color, var(--theme-code-foreground, var(--jp-content-font-color1, black)));\n",
       "  --sklearn-color-background: var(--sg-background-color, var(--theme-background, var(--jp-layout-color0, white)));\n",
       "  --sklearn-color-border-box: var(--sg-text-color, var(--theme-code-foreground, var(--jp-content-font-color1, black)));\n",
       "  --sklearn-color-icon: #696969;\n",
       "\n",
       "  @media (prefers-color-scheme: dark) {\n",
       "    /* Redefinition of color scheme for dark theme */\n",
       "    --sklearn-color-text-on-default-background: var(--sg-text-color, var(--theme-code-foreground, var(--jp-content-font-color1, white)));\n",
       "    --sklearn-color-background: var(--sg-background-color, var(--theme-background, var(--jp-layout-color0, #111)));\n",
       "    --sklearn-color-border-box: var(--sg-text-color, var(--theme-code-foreground, var(--jp-content-font-color1, white)));\n",
       "    --sklearn-color-icon: #878787;\n",
       "  }\n",
       "}\n",
       "\n",
       "#sk-container-id-1 {\n",
       "  color: var(--sklearn-color-text);\n",
       "}\n",
       "\n",
       "#sk-container-id-1 pre {\n",
       "  padding: 0;\n",
       "}\n",
       "\n",
       "#sk-container-id-1 input.sk-hidden--visually {\n",
       "  border: 0;\n",
       "  clip: rect(1px 1px 1px 1px);\n",
       "  clip: rect(1px, 1px, 1px, 1px);\n",
       "  height: 1px;\n",
       "  margin: -1px;\n",
       "  overflow: hidden;\n",
       "  padding: 0;\n",
       "  position: absolute;\n",
       "  width: 1px;\n",
       "}\n",
       "\n",
       "#sk-container-id-1 div.sk-dashed-wrapped {\n",
       "  border: 1px dashed var(--sklearn-color-line);\n",
       "  margin: 0 0.4em 0.5em 0.4em;\n",
       "  box-sizing: border-box;\n",
       "  padding-bottom: 0.4em;\n",
       "  background-color: var(--sklearn-color-background);\n",
       "}\n",
       "\n",
       "#sk-container-id-1 div.sk-container {\n",
       "  /* jupyter's `normalize.less` sets `[hidden] { display: none; }`\n",
       "     but bootstrap.min.css set `[hidden] { display: none !important; }`\n",
       "     so we also need the `!important` here to be able to override the\n",
       "     default hidden behavior on the sphinx rendered scikit-learn.org.\n",
       "     See: https://github.com/scikit-learn/scikit-learn/issues/21755 */\n",
       "  display: inline-block !important;\n",
       "  position: relative;\n",
       "}\n",
       "\n",
       "#sk-container-id-1 div.sk-text-repr-fallback {\n",
       "  display: none;\n",
       "}\n",
       "\n",
       "div.sk-parallel-item,\n",
       "div.sk-serial,\n",
       "div.sk-item {\n",
       "  /* draw centered vertical line to link estimators */\n",
       "  background-image: linear-gradient(var(--sklearn-color-text-on-default-background), var(--sklearn-color-text-on-default-background));\n",
       "  background-size: 2px 100%;\n",
       "  background-repeat: no-repeat;\n",
       "  background-position: center center;\n",
       "}\n",
       "\n",
       "/* Parallel-specific style estimator block */\n",
       "\n",
       "#sk-container-id-1 div.sk-parallel-item::after {\n",
       "  content: \"\";\n",
       "  width: 100%;\n",
       "  border-bottom: 2px solid var(--sklearn-color-text-on-default-background);\n",
       "  flex-grow: 1;\n",
       "}\n",
       "\n",
       "#sk-container-id-1 div.sk-parallel {\n",
       "  display: flex;\n",
       "  align-items: stretch;\n",
       "  justify-content: center;\n",
       "  background-color: var(--sklearn-color-background);\n",
       "  position: relative;\n",
       "}\n",
       "\n",
       "#sk-container-id-1 div.sk-parallel-item {\n",
       "  display: flex;\n",
       "  flex-direction: column;\n",
       "}\n",
       "\n",
       "#sk-container-id-1 div.sk-parallel-item:first-child::after {\n",
       "  align-self: flex-end;\n",
       "  width: 50%;\n",
       "}\n",
       "\n",
       "#sk-container-id-1 div.sk-parallel-item:last-child::after {\n",
       "  align-self: flex-start;\n",
       "  width: 50%;\n",
       "}\n",
       "\n",
       "#sk-container-id-1 div.sk-parallel-item:only-child::after {\n",
       "  width: 0;\n",
       "}\n",
       "\n",
       "/* Serial-specific style estimator block */\n",
       "\n",
       "#sk-container-id-1 div.sk-serial {\n",
       "  display: flex;\n",
       "  flex-direction: column;\n",
       "  align-items: center;\n",
       "  background-color: var(--sklearn-color-background);\n",
       "  padding-right: 1em;\n",
       "  padding-left: 1em;\n",
       "}\n",
       "\n",
       "\n",
       "/* Toggleable style: style used for estimator/Pipeline/ColumnTransformer box that is\n",
       "clickable and can be expanded/collapsed.\n",
       "- Pipeline and ColumnTransformer use this feature and define the default style\n",
       "- Estimators will overwrite some part of the style using the `sk-estimator` class\n",
       "*/\n",
       "\n",
       "/* Pipeline and ColumnTransformer style (default) */\n",
       "\n",
       "#sk-container-id-1 div.sk-toggleable {\n",
       "  /* Default theme specific background. It is overwritten whether we have a\n",
       "  specific estimator or a Pipeline/ColumnTransformer */\n",
       "  background-color: var(--sklearn-color-background);\n",
       "}\n",
       "\n",
       "/* Toggleable label */\n",
       "#sk-container-id-1 label.sk-toggleable__label {\n",
       "  cursor: pointer;\n",
       "  display: block;\n",
       "  width: 100%;\n",
       "  margin-bottom: 0;\n",
       "  padding: 0.5em;\n",
       "  box-sizing: border-box;\n",
       "  text-align: center;\n",
       "}\n",
       "\n",
       "#sk-container-id-1 label.sk-toggleable__label-arrow:before {\n",
       "  /* Arrow on the left of the label */\n",
       "  content: \"▸\";\n",
       "  float: left;\n",
       "  margin-right: 0.25em;\n",
       "  color: var(--sklearn-color-icon);\n",
       "}\n",
       "\n",
       "#sk-container-id-1 label.sk-toggleable__label-arrow:hover:before {\n",
       "  color: var(--sklearn-color-text);\n",
       "}\n",
       "\n",
       "/* Toggleable content - dropdown */\n",
       "\n",
       "#sk-container-id-1 div.sk-toggleable__content {\n",
       "  max-height: 0;\n",
       "  max-width: 0;\n",
       "  overflow: hidden;\n",
       "  text-align: left;\n",
       "  /* unfitted */\n",
       "  background-color: var(--sklearn-color-unfitted-level-0);\n",
       "}\n",
       "\n",
       "#sk-container-id-1 div.sk-toggleable__content.fitted {\n",
       "  /* fitted */\n",
       "  background-color: var(--sklearn-color-fitted-level-0);\n",
       "}\n",
       "\n",
       "#sk-container-id-1 div.sk-toggleable__content pre {\n",
       "  margin: 0.2em;\n",
       "  border-radius: 0.25em;\n",
       "  color: var(--sklearn-color-text);\n",
       "  /* unfitted */\n",
       "  background-color: var(--sklearn-color-unfitted-level-0);\n",
       "}\n",
       "\n",
       "#sk-container-id-1 div.sk-toggleable__content.fitted pre {\n",
       "  /* unfitted */\n",
       "  background-color: var(--sklearn-color-fitted-level-0);\n",
       "}\n",
       "\n",
       "#sk-container-id-1 input.sk-toggleable__control:checked~div.sk-toggleable__content {\n",
       "  /* Expand drop-down */\n",
       "  max-height: 200px;\n",
       "  max-width: 100%;\n",
       "  overflow: auto;\n",
       "}\n",
       "\n",
       "#sk-container-id-1 input.sk-toggleable__control:checked~label.sk-toggleable__label-arrow:before {\n",
       "  content: \"▾\";\n",
       "}\n",
       "\n",
       "/* Pipeline/ColumnTransformer-specific style */\n",
       "\n",
       "#sk-container-id-1 div.sk-label input.sk-toggleable__control:checked~label.sk-toggleable__label {\n",
       "  color: var(--sklearn-color-text);\n",
       "  background-color: var(--sklearn-color-unfitted-level-2);\n",
       "}\n",
       "\n",
       "#sk-container-id-1 div.sk-label.fitted input.sk-toggleable__control:checked~label.sk-toggleable__label {\n",
       "  background-color: var(--sklearn-color-fitted-level-2);\n",
       "}\n",
       "\n",
       "/* Estimator-specific style */\n",
       "\n",
       "/* Colorize estimator box */\n",
       "#sk-container-id-1 div.sk-estimator input.sk-toggleable__control:checked~label.sk-toggleable__label {\n",
       "  /* unfitted */\n",
       "  background-color: var(--sklearn-color-unfitted-level-2);\n",
       "}\n",
       "\n",
       "#sk-container-id-1 div.sk-estimator.fitted input.sk-toggleable__control:checked~label.sk-toggleable__label {\n",
       "  /* fitted */\n",
       "  background-color: var(--sklearn-color-fitted-level-2);\n",
       "}\n",
       "\n",
       "#sk-container-id-1 div.sk-label label.sk-toggleable__label,\n",
       "#sk-container-id-1 div.sk-label label {\n",
       "  /* The background is the default theme color */\n",
       "  color: var(--sklearn-color-text-on-default-background);\n",
       "}\n",
       "\n",
       "/* On hover, darken the color of the background */\n",
       "#sk-container-id-1 div.sk-label:hover label.sk-toggleable__label {\n",
       "  color: var(--sklearn-color-text);\n",
       "  background-color: var(--sklearn-color-unfitted-level-2);\n",
       "}\n",
       "\n",
       "/* Label box, darken color on hover, fitted */\n",
       "#sk-container-id-1 div.sk-label.fitted:hover label.sk-toggleable__label.fitted {\n",
       "  color: var(--sklearn-color-text);\n",
       "  background-color: var(--sklearn-color-fitted-level-2);\n",
       "}\n",
       "\n",
       "/* Estimator label */\n",
       "\n",
       "#sk-container-id-1 div.sk-label label {\n",
       "  font-family: monospace;\n",
       "  font-weight: bold;\n",
       "  display: inline-block;\n",
       "  line-height: 1.2em;\n",
       "}\n",
       "\n",
       "#sk-container-id-1 div.sk-label-container {\n",
       "  text-align: center;\n",
       "}\n",
       "\n",
       "/* Estimator-specific */\n",
       "#sk-container-id-1 div.sk-estimator {\n",
       "  font-family: monospace;\n",
       "  border: 1px dotted var(--sklearn-color-border-box);\n",
       "  border-radius: 0.25em;\n",
       "  box-sizing: border-box;\n",
       "  margin-bottom: 0.5em;\n",
       "  /* unfitted */\n",
       "  background-color: var(--sklearn-color-unfitted-level-0);\n",
       "}\n",
       "\n",
       "#sk-container-id-1 div.sk-estimator.fitted {\n",
       "  /* fitted */\n",
       "  background-color: var(--sklearn-color-fitted-level-0);\n",
       "}\n",
       "\n",
       "/* on hover */\n",
       "#sk-container-id-1 div.sk-estimator:hover {\n",
       "  /* unfitted */\n",
       "  background-color: var(--sklearn-color-unfitted-level-2);\n",
       "}\n",
       "\n",
       "#sk-container-id-1 div.sk-estimator.fitted:hover {\n",
       "  /* fitted */\n",
       "  background-color: var(--sklearn-color-fitted-level-2);\n",
       "}\n",
       "\n",
       "/* Specification for estimator info (e.g. \"i\" and \"?\") */\n",
       "\n",
       "/* Common style for \"i\" and \"?\" */\n",
       "\n",
       ".sk-estimator-doc-link,\n",
       "a:link.sk-estimator-doc-link,\n",
       "a:visited.sk-estimator-doc-link {\n",
       "  float: right;\n",
       "  font-size: smaller;\n",
       "  line-height: 1em;\n",
       "  font-family: monospace;\n",
       "  background-color: var(--sklearn-color-background);\n",
       "  border-radius: 1em;\n",
       "  height: 1em;\n",
       "  width: 1em;\n",
       "  text-decoration: none !important;\n",
       "  margin-left: 1ex;\n",
       "  /* unfitted */\n",
       "  border: var(--sklearn-color-unfitted-level-1) 1pt solid;\n",
       "  color: var(--sklearn-color-unfitted-level-1);\n",
       "}\n",
       "\n",
       ".sk-estimator-doc-link.fitted,\n",
       "a:link.sk-estimator-doc-link.fitted,\n",
       "a:visited.sk-estimator-doc-link.fitted {\n",
       "  /* fitted */\n",
       "  border: var(--sklearn-color-fitted-level-1) 1pt solid;\n",
       "  color: var(--sklearn-color-fitted-level-1);\n",
       "}\n",
       "\n",
       "/* On hover */\n",
       "div.sk-estimator:hover .sk-estimator-doc-link:hover,\n",
       ".sk-estimator-doc-link:hover,\n",
       "div.sk-label-container:hover .sk-estimator-doc-link:hover,\n",
       ".sk-estimator-doc-link:hover {\n",
       "  /* unfitted */\n",
       "  background-color: var(--sklearn-color-unfitted-level-3);\n",
       "  color: var(--sklearn-color-background);\n",
       "  text-decoration: none;\n",
       "}\n",
       "\n",
       "div.sk-estimator.fitted:hover .sk-estimator-doc-link.fitted:hover,\n",
       ".sk-estimator-doc-link.fitted:hover,\n",
       "div.sk-label-container:hover .sk-estimator-doc-link.fitted:hover,\n",
       ".sk-estimator-doc-link.fitted:hover {\n",
       "  /* fitted */\n",
       "  background-color: var(--sklearn-color-fitted-level-3);\n",
       "  color: var(--sklearn-color-background);\n",
       "  text-decoration: none;\n",
       "}\n",
       "\n",
       "/* Span, style for the box shown on hovering the info icon */\n",
       ".sk-estimator-doc-link span {\n",
       "  display: none;\n",
       "  z-index: 9999;\n",
       "  position: relative;\n",
       "  font-weight: normal;\n",
       "  right: .2ex;\n",
       "  padding: .5ex;\n",
       "  margin: .5ex;\n",
       "  width: min-content;\n",
       "  min-width: 20ex;\n",
       "  max-width: 50ex;\n",
       "  color: var(--sklearn-color-text);\n",
       "  box-shadow: 2pt 2pt 4pt #999;\n",
       "  /* unfitted */\n",
       "  background: var(--sklearn-color-unfitted-level-0);\n",
       "  border: .5pt solid var(--sklearn-color-unfitted-level-3);\n",
       "}\n",
       "\n",
       ".sk-estimator-doc-link.fitted span {\n",
       "  /* fitted */\n",
       "  background: var(--sklearn-color-fitted-level-0);\n",
       "  border: var(--sklearn-color-fitted-level-3);\n",
       "}\n",
       "\n",
       ".sk-estimator-doc-link:hover span {\n",
       "  display: block;\n",
       "}\n",
       "\n",
       "/* \"?\"-specific style due to the `<a>` HTML tag */\n",
       "\n",
       "#sk-container-id-1 a.estimator_doc_link {\n",
       "  float: right;\n",
       "  font-size: 1rem;\n",
       "  line-height: 1em;\n",
       "  font-family: monospace;\n",
       "  background-color: var(--sklearn-color-background);\n",
       "  border-radius: 1rem;\n",
       "  height: 1rem;\n",
       "  width: 1rem;\n",
       "  text-decoration: none;\n",
       "  /* unfitted */\n",
       "  color: var(--sklearn-color-unfitted-level-1);\n",
       "  border: var(--sklearn-color-unfitted-level-1) 1pt solid;\n",
       "}\n",
       "\n",
       "#sk-container-id-1 a.estimator_doc_link.fitted {\n",
       "  /* fitted */\n",
       "  border: var(--sklearn-color-fitted-level-1) 1pt solid;\n",
       "  color: var(--sklearn-color-fitted-level-1);\n",
       "}\n",
       "\n",
       "/* On hover */\n",
       "#sk-container-id-1 a.estimator_doc_link:hover {\n",
       "  /* unfitted */\n",
       "  background-color: var(--sklearn-color-unfitted-level-3);\n",
       "  color: var(--sklearn-color-background);\n",
       "  text-decoration: none;\n",
       "}\n",
       "\n",
       "#sk-container-id-1 a.estimator_doc_link.fitted:hover {\n",
       "  /* fitted */\n",
       "  background-color: var(--sklearn-color-fitted-level-3);\n",
       "}\n",
       "</style><div id=\"sk-container-id-1\" class=\"sk-top-container\"><div class=\"sk-text-repr-fallback\"><pre>DecisionTreeClassifier(max_depth=10, random_state=42)</pre><b>In a Jupyter environment, please rerun this cell to show the HTML representation or trust the notebook. <br />On GitHub, the HTML representation is unable to render, please try loading this page with nbviewer.org.</b></div><div class=\"sk-container\" hidden><div class=\"sk-item\"><div class=\"sk-estimator fitted sk-toggleable\"><input class=\"sk-toggleable__control sk-hidden--visually\" id=\"sk-estimator-id-1\" type=\"checkbox\" checked><label for=\"sk-estimator-id-1\" class=\"sk-toggleable__label fitted sk-toggleable__label-arrow fitted\">&nbsp;&nbsp;DecisionTreeClassifier<a class=\"sk-estimator-doc-link fitted\" rel=\"noreferrer\" target=\"_blank\" href=\"https://scikit-learn.org/1.5/modules/generated/sklearn.tree.DecisionTreeClassifier.html\">?<span>Documentation for DecisionTreeClassifier</span></a><span class=\"sk-estimator-doc-link fitted\">i<span>Fitted</span></span></label><div class=\"sk-toggleable__content fitted\"><pre>DecisionTreeClassifier(max_depth=10, random_state=42)</pre></div> </div></div></div></div>"
      ],
      "text/plain": [
       "DecisionTreeClassifier(max_depth=10, random_state=42)"
      ]
     },
     "execution_count": 12,
     "metadata": {},
     "output_type": "execute_result"
    }
   ],
   "source": [
    "# rf parameters\n",
    "sleep_dt = DecisionTreeClassifier(max_depth=10,random_state=seed)\n",
    "sleep_dt.fit(X_train, y_train)"
   ]
  },
  {
   "cell_type": "code",
   "execution_count": 13,
   "metadata": {},
   "outputs": [
    {
     "data": {
      "application/vnd.plotly.v1+json": {
       "config": {
        "plotlyServerURL": "https://plot.ly"
       },
       "data": [
        {
         "link": {
          "hovertemplate": "<b style \"font-size:14px;\">n_train:</b> %{value}<extra></extra>",
          "label": [
           "254",
           "184",
           "150",
           "113",
           "110",
           "3",
           "37",
           "33",
           "4",
           "34",
           "70",
           "69",
           "1",
           "120",
           "114",
           "11",
           "7",
           "4",
           "2",
           "2",
           "103",
           "101",
           "2",
           "6"
          ],
          "source": [
           0,
           1,
           2,
           3,
           4,
           4,
           3,
           7,
           7,
           2,
           1,
           11,
           11,
           0,
           14,
           15,
           16,
           16,
           18,
           18,
           15,
           21,
           21,
           14
          ],
          "target": [
           1,
           2,
           3,
           4,
           5,
           6,
           7,
           8,
           9,
           10,
           11,
           12,
           13,
           14,
           15,
           16,
           17,
           18,
           19,
           20,
           21,
           22,
           23,
           24
          ],
          "value": [
           254,
           184,
           150,
           113,
           110,
           3,
           37,
           33,
           4,
           34,
           70,
           69,
           1,
           120,
           114,
           11,
           7,
           4,
           2,
           2,
           103,
           101,
           2,
           6
          ]
         },
         "node": {
          "color": [
           "#FFA15A",
           "#FFA15A",
           "#FFA15A",
           "#FFA15A",
           "#FFA15A",
           "#FFA15A",
           "#AB63FA",
           "#AB63FA",
           "#AB63FA",
           "#00CC96",
           "#AB63FA",
           "#19D3F3",
           "#19D3F3",
           "#AB63FA",
           "#00CC96",
           "#00CC96",
           "#EF553B",
           "#EF553B",
           "#636EFA",
           "#00CC96",
           "#636EFA",
           "#00CC96",
           "#00CC96",
           "#636EFA",
           "#AB63FA"
          ],
          "customdata": [
           [
            "stress-level<br>≤ 6.50",
            "[0.01 0.02 0.28 0.21 0.29 0.19]"
           ],
           [
            "age<br>≤ 48.50",
            "[0.   0.   0.02 0.28 0.43 0.28]"
           ],
           [
            "occupation_is_doctor<br>≤ 0.50",
            "[0.   0.   0.02 0.38 0.59 0.01]"
           ],
           [
            "bmi-category_is_overweight<br>≤ 0.50",
            "[0.   0.   0.03 0.23 0.73 0.01]"
           ],
           [
            "heart-rate<br>≤ 74.00",
            "[0.   0.   0.   0.03 0.96 0.02]"
           ],
           [
            "",
            "[0.   0.   0.   0.   0.98 0.02]"
           ],
           [
            "",
            "[0. 0. 0. 1. 0. 0.]"
           ],
           [
            "heart-rate<br>≤ 75.50",
            "[0.   0.   0.11 0.86 0.03 0.  ]"
           ],
           [
            "",
            "[0.   0.   0.   0.97 0.03 0.  ]"
           ],
           [
            "",
            "[0. 0. 1. 0. 0. 0.]"
           ],
           [
            "",
            "[0. 0. 0. 1. 0. 0.]"
           ],
           [
            "stress-level<br>≤ 5.00",
            "[0.   0.   0.   0.01 0.   0.99]"
           ],
           [
            "",
            "[0. 0. 0. 0. 0. 1.]"
           ],
           [
            "",
            "[0. 0. 0. 1. 0. 0.]"
           ],
           [
            "age<br>≤ 51.50",
            "[0.03 0.06 0.85 0.06 0.   0.  ]"
           ],
           [
            "daily-steps<br>≤ 4900.00",
            "[0.04 0.06 0.89 0.01 0.   0.  ]"
           ],
           [
            "systolic<br>≤ 136.00",
            "[0.18 0.64 0.18 0.   0.   0.  ]"
           ],
           [
            "",
            "[0. 1. 0. 0. 0. 0.]"
           ],
           [
            "sleep-disorder_is_sleep-apnea<br>≤ 0.50",
            "[0.5 0.  0.5 0.  0.  0. ]"
           ],
           [
            "",
            "[0. 0. 1. 0. 0. 0.]"
           ],
           [
            "",
            "[1. 0. 0. 0. 0. 0.]"
           ],
           [
            "heart-rate<br>≤ 79.50",
            "[0.02 0.   0.97 0.01 0.   0.  ]"
           ],
           [
            "",
            "[0.   0.   0.99 0.01 0.   0.  ]"
           ],
           [
            "",
            "[1. 0. 0. 0. 0. 0.]"
           ],
           [
            "",
            "[0. 0. 0. 1. 0. 0.]"
           ]
          ],
          "hovertemplate": "<b style=\"font-size:14px;\">%{customdata[0]}</b><br><b style=\"font-size:14px;\">n_train:</b> %{value}<br><b style=\"font-size:14px;\">Value:</b> %{customdata[1]}<extra></extra>",
          "label": [
           "stress<br>≤ 6.50",
           "age<br>≤ 48.50",
           "occupa<br>≤ 0.50",
           "bmi-ca<br>≤ 0.50",
           "heart-<br>≤ 74.00",
           "8",
           "7",
           "heart-<br>≤ 75.50",
           "7",
           "6",
           "7",
           "stress<br>≤ 5.00",
           "9",
           "7",
           "age<br>≤ 51.50",
           "daily-<br>≤ 4900.00",
           "systol<br>≤ 136.00",
           "5",
           "sleep-<br>≤ 0.50",
           "6",
           "4",
           "heart-<br>≤ 79.50",
           "6",
           "4",
           "7"
          ],
          "line": {
           "color": "black",
           "width": 0.5
          },
          "pad": 15,
          "thickness": 20,
          "x": [
           0,
           0.2,
           0.4,
           0.6,
           0.8,
           1,
           1,
           0.8,
           1,
           1,
           0.6,
           0.4,
           0.6,
           0.6,
           0.2,
           0.4,
           0.6,
           0.8,
           0.8,
           1,
           1,
           0.6,
           0.8,
           0.8,
           0.4
          ],
          "y": [
           0.5,
           0.681792611456874,
           0.7972661779244122,
           0.8791204041098344,
           0.9442109419329435,
           1,
           0.8884218838658873,
           0.8140298662867254,
           0.8663243091691761,
           0.7617354234042745,
           0.7154119517389899,
           0.5663190449893356,
           0.6429313483978496,
           0.4897067415808217,
           0.3182073885431261,
           0.4275193966588597,
           0.5061548983321453,
           0.5648539689097257,
           0.44745582775456477,
           0.49823287193843685,
           0.3966787835706928,
           0.3488838949855741,
           0.4118132892076772,
           0.28595450076347106,
           0.20889538042739242
          ]
         },
         "type": "sankey"
        }
       ],
       "layout": {
        "annotations": [
         {
          "align": "left",
          "showarrow": false,
          "text": "4: <span style=\"color:#636EFA;\">&#9608;</span><br>5: <span style=\"color:#EF553B;\">&#9608;</span><br>6: <span style=\"color:#00CC96;\">&#9608;</span><br>7: <span style=\"color:#AB63FA;\">&#9608;</span><br>8: <span style=\"color:#FFA15A;\">&#9608;</span><br>9: <span style=\"color:#19D3F3;\">&#9608;</span>",
          "x": 1.05,
          "xref": "paper",
          "y": 1,
          "yref": "paper"
         }
        ],
        "font": {
         "color": "black",
         "family": "Courier New",
         "size": 14
        },
        "template": {
         "data": {
          "bar": [
           {
            "error_x": {
             "color": "#2a3f5f"
            },
            "error_y": {
             "color": "#2a3f5f"
            },
            "marker": {
             "line": {
              "color": "#E5ECF6",
              "width": 0.5
             },
             "pattern": {
              "fillmode": "overlay",
              "size": 10,
              "solidity": 0.2
             }
            },
            "type": "bar"
           }
          ],
          "barpolar": [
           {
            "marker": {
             "line": {
              "color": "#E5ECF6",
              "width": 0.5
             },
             "pattern": {
              "fillmode": "overlay",
              "size": 10,
              "solidity": 0.2
             }
            },
            "type": "barpolar"
           }
          ],
          "carpet": [
           {
            "aaxis": {
             "endlinecolor": "#2a3f5f",
             "gridcolor": "white",
             "linecolor": "white",
             "minorgridcolor": "white",
             "startlinecolor": "#2a3f5f"
            },
            "baxis": {
             "endlinecolor": "#2a3f5f",
             "gridcolor": "white",
             "linecolor": "white",
             "minorgridcolor": "white",
             "startlinecolor": "#2a3f5f"
            },
            "type": "carpet"
           }
          ],
          "choropleth": [
           {
            "colorbar": {
             "outlinewidth": 0,
             "ticks": ""
            },
            "type": "choropleth"
           }
          ],
          "contour": [
           {
            "colorbar": {
             "outlinewidth": 0,
             "ticks": ""
            },
            "colorscale": [
             [
              0,
              "#0d0887"
             ],
             [
              0.1111111111111111,
              "#46039f"
             ],
             [
              0.2222222222222222,
              "#7201a8"
             ],
             [
              0.3333333333333333,
              "#9c179e"
             ],
             [
              0.4444444444444444,
              "#bd3786"
             ],
             [
              0.5555555555555556,
              "#d8576b"
             ],
             [
              0.6666666666666666,
              "#ed7953"
             ],
             [
              0.7777777777777778,
              "#fb9f3a"
             ],
             [
              0.8888888888888888,
              "#fdca26"
             ],
             [
              1,
              "#f0f921"
             ]
            ],
            "type": "contour"
           }
          ],
          "contourcarpet": [
           {
            "colorbar": {
             "outlinewidth": 0,
             "ticks": ""
            },
            "type": "contourcarpet"
           }
          ],
          "heatmap": [
           {
            "colorbar": {
             "outlinewidth": 0,
             "ticks": ""
            },
            "colorscale": [
             [
              0,
              "#0d0887"
             ],
             [
              0.1111111111111111,
              "#46039f"
             ],
             [
              0.2222222222222222,
              "#7201a8"
             ],
             [
              0.3333333333333333,
              "#9c179e"
             ],
             [
              0.4444444444444444,
              "#bd3786"
             ],
             [
              0.5555555555555556,
              "#d8576b"
             ],
             [
              0.6666666666666666,
              "#ed7953"
             ],
             [
              0.7777777777777778,
              "#fb9f3a"
             ],
             [
              0.8888888888888888,
              "#fdca26"
             ],
             [
              1,
              "#f0f921"
             ]
            ],
            "type": "heatmap"
           }
          ],
          "heatmapgl": [
           {
            "colorbar": {
             "outlinewidth": 0,
             "ticks": ""
            },
            "colorscale": [
             [
              0,
              "#0d0887"
             ],
             [
              0.1111111111111111,
              "#46039f"
             ],
             [
              0.2222222222222222,
              "#7201a8"
             ],
             [
              0.3333333333333333,
              "#9c179e"
             ],
             [
              0.4444444444444444,
              "#bd3786"
             ],
             [
              0.5555555555555556,
              "#d8576b"
             ],
             [
              0.6666666666666666,
              "#ed7953"
             ],
             [
              0.7777777777777778,
              "#fb9f3a"
             ],
             [
              0.8888888888888888,
              "#fdca26"
             ],
             [
              1,
              "#f0f921"
             ]
            ],
            "type": "heatmapgl"
           }
          ],
          "histogram": [
           {
            "marker": {
             "pattern": {
              "fillmode": "overlay",
              "size": 10,
              "solidity": 0.2
             }
            },
            "type": "histogram"
           }
          ],
          "histogram2d": [
           {
            "colorbar": {
             "outlinewidth": 0,
             "ticks": ""
            },
            "colorscale": [
             [
              0,
              "#0d0887"
             ],
             [
              0.1111111111111111,
              "#46039f"
             ],
             [
              0.2222222222222222,
              "#7201a8"
             ],
             [
              0.3333333333333333,
              "#9c179e"
             ],
             [
              0.4444444444444444,
              "#bd3786"
             ],
             [
              0.5555555555555556,
              "#d8576b"
             ],
             [
              0.6666666666666666,
              "#ed7953"
             ],
             [
              0.7777777777777778,
              "#fb9f3a"
             ],
             [
              0.8888888888888888,
              "#fdca26"
             ],
             [
              1,
              "#f0f921"
             ]
            ],
            "type": "histogram2d"
           }
          ],
          "histogram2dcontour": [
           {
            "colorbar": {
             "outlinewidth": 0,
             "ticks": ""
            },
            "colorscale": [
             [
              0,
              "#0d0887"
             ],
             [
              0.1111111111111111,
              "#46039f"
             ],
             [
              0.2222222222222222,
              "#7201a8"
             ],
             [
              0.3333333333333333,
              "#9c179e"
             ],
             [
              0.4444444444444444,
              "#bd3786"
             ],
             [
              0.5555555555555556,
              "#d8576b"
             ],
             [
              0.6666666666666666,
              "#ed7953"
             ],
             [
              0.7777777777777778,
              "#fb9f3a"
             ],
             [
              0.8888888888888888,
              "#fdca26"
             ],
             [
              1,
              "#f0f921"
             ]
            ],
            "type": "histogram2dcontour"
           }
          ],
          "mesh3d": [
           {
            "colorbar": {
             "outlinewidth": 0,
             "ticks": ""
            },
            "type": "mesh3d"
           }
          ],
          "parcoords": [
           {
            "line": {
             "colorbar": {
              "outlinewidth": 0,
              "ticks": ""
             }
            },
            "type": "parcoords"
           }
          ],
          "pie": [
           {
            "automargin": true,
            "type": "pie"
           }
          ],
          "scatter": [
           {
            "fillpattern": {
             "fillmode": "overlay",
             "size": 10,
             "solidity": 0.2
            },
            "type": "scatter"
           }
          ],
          "scatter3d": [
           {
            "line": {
             "colorbar": {
              "outlinewidth": 0,
              "ticks": ""
             }
            },
            "marker": {
             "colorbar": {
              "outlinewidth": 0,
              "ticks": ""
             }
            },
            "type": "scatter3d"
           }
          ],
          "scattercarpet": [
           {
            "marker": {
             "colorbar": {
              "outlinewidth": 0,
              "ticks": ""
             }
            },
            "type": "scattercarpet"
           }
          ],
          "scattergeo": [
           {
            "marker": {
             "colorbar": {
              "outlinewidth": 0,
              "ticks": ""
             }
            },
            "type": "scattergeo"
           }
          ],
          "scattergl": [
           {
            "marker": {
             "colorbar": {
              "outlinewidth": 0,
              "ticks": ""
             }
            },
            "type": "scattergl"
           }
          ],
          "scattermapbox": [
           {
            "marker": {
             "colorbar": {
              "outlinewidth": 0,
              "ticks": ""
             }
            },
            "type": "scattermapbox"
           }
          ],
          "scatterpolar": [
           {
            "marker": {
             "colorbar": {
              "outlinewidth": 0,
              "ticks": ""
             }
            },
            "type": "scatterpolar"
           }
          ],
          "scatterpolargl": [
           {
            "marker": {
             "colorbar": {
              "outlinewidth": 0,
              "ticks": ""
             }
            },
            "type": "scatterpolargl"
           }
          ],
          "scatterternary": [
           {
            "marker": {
             "colorbar": {
              "outlinewidth": 0,
              "ticks": ""
             }
            },
            "type": "scatterternary"
           }
          ],
          "surface": [
           {
            "colorbar": {
             "outlinewidth": 0,
             "ticks": ""
            },
            "colorscale": [
             [
              0,
              "#0d0887"
             ],
             [
              0.1111111111111111,
              "#46039f"
             ],
             [
              0.2222222222222222,
              "#7201a8"
             ],
             [
              0.3333333333333333,
              "#9c179e"
             ],
             [
              0.4444444444444444,
              "#bd3786"
             ],
             [
              0.5555555555555556,
              "#d8576b"
             ],
             [
              0.6666666666666666,
              "#ed7953"
             ],
             [
              0.7777777777777778,
              "#fb9f3a"
             ],
             [
              0.8888888888888888,
              "#fdca26"
             ],
             [
              1,
              "#f0f921"
             ]
            ],
            "type": "surface"
           }
          ],
          "table": [
           {
            "cells": {
             "fill": {
              "color": "#EBF0F8"
             },
             "line": {
              "color": "white"
             }
            },
            "header": {
             "fill": {
              "color": "#C8D4E3"
             },
             "line": {
              "color": "white"
             }
            },
            "type": "table"
           }
          ]
         },
         "layout": {
          "annotationdefaults": {
           "arrowcolor": "#2a3f5f",
           "arrowhead": 0,
           "arrowwidth": 1
          },
          "autotypenumbers": "strict",
          "coloraxis": {
           "colorbar": {
            "outlinewidth": 0,
            "ticks": ""
           }
          },
          "colorscale": {
           "diverging": [
            [
             0,
             "#8e0152"
            ],
            [
             0.1,
             "#c51b7d"
            ],
            [
             0.2,
             "#de77ae"
            ],
            [
             0.3,
             "#f1b6da"
            ],
            [
             0.4,
             "#fde0ef"
            ],
            [
             0.5,
             "#f7f7f7"
            ],
            [
             0.6,
             "#e6f5d0"
            ],
            [
             0.7,
             "#b8e186"
            ],
            [
             0.8,
             "#7fbc41"
            ],
            [
             0.9,
             "#4d9221"
            ],
            [
             1,
             "#276419"
            ]
           ],
           "sequential": [
            [
             0,
             "#0d0887"
            ],
            [
             0.1111111111111111,
             "#46039f"
            ],
            [
             0.2222222222222222,
             "#7201a8"
            ],
            [
             0.3333333333333333,
             "#9c179e"
            ],
            [
             0.4444444444444444,
             "#bd3786"
            ],
            [
             0.5555555555555556,
             "#d8576b"
            ],
            [
             0.6666666666666666,
             "#ed7953"
            ],
            [
             0.7777777777777778,
             "#fb9f3a"
            ],
            [
             0.8888888888888888,
             "#fdca26"
            ],
            [
             1,
             "#f0f921"
            ]
           ],
           "sequentialminus": [
            [
             0,
             "#0d0887"
            ],
            [
             0.1111111111111111,
             "#46039f"
            ],
            [
             0.2222222222222222,
             "#7201a8"
            ],
            [
             0.3333333333333333,
             "#9c179e"
            ],
            [
             0.4444444444444444,
             "#bd3786"
            ],
            [
             0.5555555555555556,
             "#d8576b"
            ],
            [
             0.6666666666666666,
             "#ed7953"
            ],
            [
             0.7777777777777778,
             "#fb9f3a"
            ],
            [
             0.8888888888888888,
             "#fdca26"
            ],
            [
             1,
             "#f0f921"
            ]
           ]
          },
          "colorway": [
           "#636efa",
           "#EF553B",
           "#00cc96",
           "#ab63fa",
           "#FFA15A",
           "#19d3f3",
           "#FF6692",
           "#B6E880",
           "#FF97FF",
           "#FECB52"
          ],
          "font": {
           "color": "#2a3f5f"
          },
          "geo": {
           "bgcolor": "white",
           "lakecolor": "white",
           "landcolor": "#E5ECF6",
           "showlakes": true,
           "showland": true,
           "subunitcolor": "white"
          },
          "hoverlabel": {
           "align": "left"
          },
          "hovermode": "closest",
          "mapbox": {
           "style": "light"
          },
          "paper_bgcolor": "white",
          "plot_bgcolor": "#E5ECF6",
          "polar": {
           "angularaxis": {
            "gridcolor": "white",
            "linecolor": "white",
            "ticks": ""
           },
           "bgcolor": "#E5ECF6",
           "radialaxis": {
            "gridcolor": "white",
            "linecolor": "white",
            "ticks": ""
           }
          },
          "scene": {
           "xaxis": {
            "backgroundcolor": "#E5ECF6",
            "gridcolor": "white",
            "gridwidth": 2,
            "linecolor": "white",
            "showbackground": true,
            "ticks": "",
            "zerolinecolor": "white"
           },
           "yaxis": {
            "backgroundcolor": "#E5ECF6",
            "gridcolor": "white",
            "gridwidth": 2,
            "linecolor": "white",
            "showbackground": true,
            "ticks": "",
            "zerolinecolor": "white"
           },
           "zaxis": {
            "backgroundcolor": "#E5ECF6",
            "gridcolor": "white",
            "gridwidth": 2,
            "linecolor": "white",
            "showbackground": true,
            "ticks": "",
            "zerolinecolor": "white"
           }
          },
          "shapedefaults": {
           "line": {
            "color": "#2a3f5f"
           }
          },
          "ternary": {
           "aaxis": {
            "gridcolor": "white",
            "linecolor": "white",
            "ticks": ""
           },
           "baxis": {
            "gridcolor": "white",
            "linecolor": "white",
            "ticks": ""
           },
           "bgcolor": "#E5ECF6",
           "caxis": {
            "gridcolor": "white",
            "linecolor": "white",
            "ticks": ""
           }
          },
          "title": {
           "x": 0.05
          },
          "xaxis": {
           "automargin": true,
           "gridcolor": "white",
           "linecolor": "white",
           "ticks": "",
           "title": {
            "standoff": 15
           },
           "zerolinecolor": "white",
           "zerolinewidth": 2
          },
          "yaxis": {
           "automargin": true,
           "gridcolor": "white",
           "linecolor": "white",
           "ticks": "",
           "title": {
            "standoff": 15
           },
           "zerolinecolor": "white",
           "zerolinewidth": 2
          }
         }
        }
       }
      }
     },
     "metadata": {},
     "output_type": "display_data"
    }
   ],
   "source": [
    "\n",
    "viz_dt = VizTree(sleep_dt, X=sleep_X_class, class_names=sleep_class_names)\n",
    "\n",
    "prune = viz_dt.prune(5)\n",
    "sankey_plot = SankeyTreePlot(prune, show_text=True, show_label=True)\n",
    "sankey_plot.show()\n"
   ]
  },
  {
   "cell_type": "code",
   "execution_count": 14,
   "metadata": {},
   "outputs": [
    {
     "data": {
      "text/html": [
       "\n",
       "        <iframe\n",
       "            width=\"100%\"\n",
       "            height=\"650\"\n",
       "            src=\"http://127.0.0.1:8075/\"\n",
       "            frameborder=\"0\"\n",
       "            allowfullscreen\n",
       "            \n",
       "        ></iframe>\n",
       "        "
      ],
      "text/plain": [
       "<IPython.lib.display.IFrame at 0x7f2e6a495390>"
      ]
     },
     "metadata": {},
     "output_type": "display_data"
    }
   ],
   "source": [
    "\n",
    "viz_dt = VizTree(sleep_dt, X=sleep_X_class, class_names=sleep_class_names)\n",
    "dt_dashboard = VizTreeDashboard(viz_dt, X_test, y_test)\n",
    "dt_dashboard.run(port=8075)\n"
   ]
  }
 ],
 "metadata": {
  "kernelspec": {
   "display_name": "venv",
   "language": "python",
   "name": "python3"
  },
  "language_info": {
   "codemirror_mode": {
    "name": "ipython",
    "version": 3
   },
   "file_extension": ".py",
   "mimetype": "text/x-python",
   "name": "python",
   "nbconvert_exporter": "python",
   "pygments_lexer": "ipython3",
   "version": "3.10.12"
  }
 },
 "nbformat": 4,
 "nbformat_minor": 2
}
