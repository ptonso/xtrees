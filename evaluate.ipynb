{
 "cells": [
  {
   "cell_type": "code",
   "execution_count": 1,
   "metadata": {},
   "outputs": [],
   "source": [
    "import glob\n",
    "import pandas as pd\n",
    "import re\n",
    "import ast\n",
    "\n",
    "from src.experiments.experiment import *"
   ]
  },
  {
   "cell_type": "code",
   "execution_count": 2,
   "metadata": {},
   "outputs": [],
   "source": [
    "reg_df = read_result_csv('reg')\n",
    "class_df = read_result_csv('class')\n",
    "\n",
    "reg_avg = average_reg_metrics(reg_df)\n",
    "class_avg = average_class_metrics(class_df)\n",
    "\n",
    "reg_df_extract = extract_reg(reg_df)\n",
    "class_df_extract = extract_class(class_df)"
   ]
  },
  {
   "cell_type": "code",
   "execution_count": 3,
   "metadata": {},
   "outputs": [
    {
     "data": {
      "text/html": [
       "<div>\n",
       "<style scoped>\n",
       "    .dataframe tbody tr th:only-of-type {\n",
       "        vertical-align: middle;\n",
       "    }\n",
       "\n",
       "    .dataframe tbody tr th {\n",
       "        vertical-align: top;\n",
       "    }\n",
       "\n",
       "    .dataframe thead th {\n",
       "        text-align: right;\n",
       "    }\n",
       "</style>\n",
       "<table border=\"1\" class=\"dataframe\">\n",
       "  <thead>\n",
       "    <tr style=\"text-align: right;\">\n",
       "      <th></th>\n",
       "      <th>model_name</th>\n",
       "      <th>train_time</th>\n",
       "      <th>pred_time</th>\n",
       "      <th>norm_mse</th>\n",
       "      <th>r2</th>\n",
       "    </tr>\n",
       "  </thead>\n",
       "  <tbody>\n",
       "    <tr>\n",
       "      <th>0</th>\n",
       "      <td>DecisionTreeRegressor</td>\n",
       "      <td>0.4844 ± 0.77</td>\n",
       "      <td>0.0004 ± 0.0</td>\n",
       "      <td>0.7269 ± 0.45</td>\n",
       "      <td>0.2591 ± 0.46</td>\n",
       "    </tr>\n",
       "    <tr>\n",
       "      <th>1</th>\n",
       "      <td>ForestBasedTree</td>\n",
       "      <td>41.6762 ± 42.44</td>\n",
       "      <td>0.0849 ± 0.09</td>\n",
       "      <td>0.6945 ± 0.4</td>\n",
       "      <td>0.2984 ± 0.39</td>\n",
       "    </tr>\n",
       "    <tr>\n",
       "      <th>2</th>\n",
       "      <td>RandomForestRegressor</td>\n",
       "      <td>1.1142 ± 2.1</td>\n",
       "      <td>0.0013 ± 0.0</td>\n",
       "      <td>0.5111 ± 0.34</td>\n",
       "      <td>0.4818 ± 0.34</td>\n",
       "    </tr>\n",
       "  </tbody>\n",
       "</table>\n",
       "</div>"
      ],
      "text/plain": [
       "              model_name       train_time      pred_time       norm_mse  \\\n",
       "0  DecisionTreeRegressor    0.4844 ± 0.77   0.0004 ± 0.0  0.7269 ± 0.45   \n",
       "1        ForestBasedTree  41.6762 ± 42.44  0.0849 ± 0.09   0.6945 ± 0.4   \n",
       "2  RandomForestRegressor     1.1142 ± 2.1   0.0013 ± 0.0  0.5111 ± 0.34   \n",
       "\n",
       "              r2  \n",
       "0  0.2591 ± 0.46  \n",
       "1  0.2984 ± 0.39  \n",
       "2  0.4818 ± 0.34  "
      ]
     },
     "execution_count": 3,
     "metadata": {},
     "output_type": "execute_result"
    }
   ],
   "source": [
    "reg_avg.head()\n"
   ]
  },
  {
   "cell_type": "code",
   "execution_count": 4,
   "metadata": {},
   "outputs": [
    {
     "data": {
      "text/html": [
       "<div>\n",
       "<style scoped>\n",
       "    .dataframe tbody tr th:only-of-type {\n",
       "        vertical-align: middle;\n",
       "    }\n",
       "\n",
       "    .dataframe tbody tr th {\n",
       "        vertical-align: top;\n",
       "    }\n",
       "\n",
       "    .dataframe thead th {\n",
       "        text-align: right;\n",
       "    }\n",
       "</style>\n",
       "<table border=\"1\" class=\"dataframe\">\n",
       "  <thead>\n",
       "    <tr style=\"text-align: right;\">\n",
       "      <th></th>\n",
       "      <th>model_name</th>\n",
       "      <th>train_time</th>\n",
       "      <th>pred_time</th>\n",
       "      <th>accuracy</th>\n",
       "    </tr>\n",
       "  </thead>\n",
       "  <tbody>\n",
       "    <tr>\n",
       "      <th>0</th>\n",
       "      <td>DecisionTreeClassifier</td>\n",
       "      <td>2.2256 ± 0.83</td>\n",
       "      <td>0.0006 ± 0.0</td>\n",
       "      <td>0.4899 ± 0.16</td>\n",
       "    </tr>\n",
       "    <tr>\n",
       "      <th>1</th>\n",
       "      <td>ForestBasedTree</td>\n",
       "      <td>131.5652 ± 100.05</td>\n",
       "      <td>0.1411 ± 0.16</td>\n",
       "      <td>0.3054 ± 0.14</td>\n",
       "    </tr>\n",
       "    <tr>\n",
       "      <th>2</th>\n",
       "      <td>PrevPaperClassifier</td>\n",
       "      <td>22942.2068 ± 21754.72</td>\n",
       "      <td>28.7225 ± 26.08</td>\n",
       "      <td>0.2948 ± 0.15</td>\n",
       "    </tr>\n",
       "    <tr>\n",
       "      <th>3</th>\n",
       "      <td>RandomForestClassifier</td>\n",
       "      <td>0.193 ± 0.14</td>\n",
       "      <td>0.0017 ± 0.0</td>\n",
       "      <td>0.5616 ± 0.16</td>\n",
       "    </tr>\n",
       "  </tbody>\n",
       "</table>\n",
       "</div>"
      ],
      "text/plain": [
       "               model_name             train_time        pred_time  \\\n",
       "0  DecisionTreeClassifier          2.2256 ± 0.83     0.0006 ± 0.0   \n",
       "1         ForestBasedTree      131.5652 ± 100.05    0.1411 ± 0.16   \n",
       "2     PrevPaperClassifier  22942.2068 ± 21754.72  28.7225 ± 26.08   \n",
       "3  RandomForestClassifier           0.193 ± 0.14     0.0017 ± 0.0   \n",
       "\n",
       "        accuracy  \n",
       "0  0.4899 ± 0.16  \n",
       "1  0.3054 ± 0.14  \n",
       "2  0.2948 ± 0.15  \n",
       "3  0.5616 ± 0.16  "
      ]
     },
     "execution_count": 4,
     "metadata": {},
     "output_type": "execute_result"
    }
   ],
   "source": [
    "class_avg.head()"
   ]
  }
 ],
 "metadata": {
  "kernelspec": {
   "display_name": "venv",
   "language": "python",
   "name": "python3"
  },
  "language_info": {
   "codemirror_mode": {
    "name": "ipython",
    "version": 3
   },
   "file_extension": ".py",
   "mimetype": "text/x-python",
   "name": "python",
   "nbconvert_exporter": "python",
   "pygments_lexer": "ipython3",
   "version": "3.10.12"
  }
 },
 "nbformat": 4,
 "nbformat_minor": 2
}
