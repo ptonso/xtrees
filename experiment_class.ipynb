{
 "cells": [
  {
   "cell_type": "code",
   "execution_count": 1,
   "metadata": {},
   "outputs": [],
   "source": [
    "from sklearn.ensemble import RandomForestClassifier\n",
    "from sklearn.tree import DecisionTreeClassifier\n",
    "\n",
    "from src.experiments.experiment import *\n",
    "from src.experiments.ExperimentSupervised import *\n",
    "from src.xtrees.ForestBasedTree import *\n",
    "from src.experiments.exact_paper import PrevPaperClassifier, fit_paper_fbt\n",
    "\n",
    "SEED = 2"
   ]
  },
  {
   "cell_type": "code",
   "execution_count": 2,
   "metadata": {},
   "outputs": [
    {
     "name": "stdout",
     "output_type": "stream",
     "text": [
      "Populated data-params with 1 datasets of overall size mixed, information level mixed, and prediction level mixed.\n",
      "\n",
      "Dataset ID: 1\n",
      "n_samples     | n_features    | n_informative | n_classes     | n_redundant   | n_repeated    | random_state \n",
      "=============================================================================================================\n",
      "13000         | 15            | 8             | 3             | 1             | 2             | 2            \n",
      "\n",
      "RandomForestClassifier\n",
      "DecisionTreeClassifier\n",
      "ForestBasedTree\n",
      "PrevPaperClassifier\n",
      "0.8934705736871302 [65, 94]\n",
      "0.9087620955066569 [65, 94, 27]\n",
      "0.9157831037352072 [65, 94, 27, 21]\n",
      "0.9212392150517751 [65, 94, 27, 21, 52]\n",
      "0.9248299602440828 [65, 94, 27, 21, 52, 91]\n",
      "0.927160646264793 [65, 94, 27, 21, 52, 91, 69]\n",
      "0.9291821606878699 [65, 94, 27, 21, 52, 91, 69, 79]\n",
      "0.9305395848742604 [65, 94, 27, 21, 52, 91, 69, 79, 53]\n",
      "0.9319392427884616 [65, 94, 27, 21, 52, 91, 69, 79, 53, 96]\n",
      "0.9330978735207102 [65, 94, 27, 21, 52, 91, 69, 79, 53, 96, 1]\n",
      "0.9340570682322484 [65, 94, 27, 21, 52, 91, 69, 79, 53, 96, 1, 75]\n",
      "0.9349031619822484 [65, 94, 27, 21, 52, 91, 69, 79, 53, 96, 1, 75, 76]\n",
      "0.9355331499630178 [65, 94, 27, 21, 52, 91, 69, 79, 53, 96, 1, 75, 76, 92]\n",
      "0.9360762527736687 [65, 94, 27, 21, 52, 91, 69, 79, 53, 96, 1, 75, 76, 92, 47]\n",
      "0.9365665680473374 [65, 94, 27, 21, 52, 91, 69, 79, 53, 96, 1, 75, 76, 92, 47, 87]\n",
      "0.9367478088017751 [65, 94, 27, 21, 52, 91, 69, 79, 53, 96, 1, 75, 76, 92, 47, 87, 63]\n",
      "0.9370320728550297 [65, 94, 27, 21, 52, 91, 69, 79, 53, 96, 1, 75, 76, 92, 47, 87, 63, 84]\n",
      "0.9371751433062131 [65, 94, 27, 21, 52, 91, 69, 79, 53, 96, 1, 75, 76, 92, 47, 87, 63, 84, 80]\n",
      "0.9373302422337279 [65, 94, 27, 21, 52, 91, 69, 79, 53, 96, 1, 75, 76, 92, 47, 87, 63, 84, 80, 19]\n",
      "0.9374796181582841 [65, 94, 27, 21, 52, 91, 69, 79, 53, 96, 1, 75, 76, 92, 47, 87, 63, 84, 80, 19, 7]\n",
      "0.9376582886464497 [65, 94, 27, 21, 52, 91, 69, 79, 53, 96, 1, 75, 76, 92, 47, 87, 63, 84, 80, 19, 7, 6]\n",
      "0.9377781065088757 [65, 94, 27, 21, 52, 91, 69, 79, 53, 96, 1, 75, 76, 92, 47, 87, 63, 84, 80, 19, 7, 6, 54]\n",
      "0.9378115338387575 [65, 94, 27, 21, 52, 91, 69, 79, 53, 96, 1, 75, 76, 92, 47, 87, 63, 84, 80, 19, 7, 6, 54, 93]\n",
      "0.9378835660133136 [65, 94, 27, 21, 52, 91, 69, 79, 53, 96, 1, 75, 76, 92, 47, 87, 63, 84, 80, 19, 7, 6, 54, 93, 81]\n",
      "0.9379022651627219 [65, 94, 27, 21, 52, 91, 69, 79, 53, 96, 1, 75, 76, 92, 47, 87, 63, 84, 80, 19, 7, 6, 54, 93, 81, 32]\n",
      "Finish pruning\n",
      "Iteration 1: 32 conjunctions\n",
      "Iteration 2: 50 conjunctions\n"
     ]
    },
    {
     "name": "stderr",
     "output_type": "stream",
     "text": [
      "/home/tonso/code/00_active/xtrees_experiment/src/experiments/exact_paper.py:51: FutureWarning: Series.__getitem__ treating keys as positions is deprecated. In a future version, integer keys will always be treated as labels (consistent with DataFrame behavior). To access a value by position, use `ser.iloc[pos]`\n",
      "  if self.feature_types[i]=='int' and min(self.features_upper[i],other_branch.features_upper[i])%1>0 and \\\n"
     ]
    },
    {
     "name": "stdout",
     "output_type": "stream",
     "text": [
      "Iteration 3: 50 conjunctions\n",
      "Iteration 4: 50 conjunctions\n",
      "Iteration 5: 50 conjunctions\n",
      "Iteration 6: 50 conjunctions\n",
      "Iteration 7: 50 conjunctions\n",
      "Iteration 8: 50 conjunctions\n",
      "Iteration 9: 50 conjunctions\n",
      "Iteration 10: 50 conjunctions\n",
      "Iteration 11: 50 conjunctions\n",
      "Iteration 12: 50 conjunctions\n",
      "Iteration 13: 50 conjunctions\n",
      "Iteration 14: 50 conjunctions\n",
      "Iteration 15: 50 conjunctions\n",
      "Iteration 16: 50 conjunctions\n",
      "Iteration 17: 50 conjunctions\n",
      "Iteration 18: 50 conjunctions\n",
      "Iteration 19: 50 conjunctions\n",
      "Iteration 20: 50 conjunctions\n",
      "Iteration 21: 50 conjunctions\n",
      "Iteration 22: 50 conjunctions\n",
      "Iteration 23: 50 conjunctions\n",
      "Iteration 24: 50 conjunctions\n",
      "Iteration 25: 50 conjunctions\n",
      "Final CS size: 50\n",
      "Metric         RandomForestClassifier           | DecisionTreeClassifier           | ForestBasedTree                  | PrevPaperClassifier             \n",
      "========================================================================================================================================================\n",
      "accuracy        | 0.7438                           | 0.7427                           | 0.4535                           | 0.5119                          \n",
      "experiment_id   | 1                                | 2                                | 3                                | 4                               \n",
      "pred_time       | 0.002                            | 0.0006                           | 0.2073                           | 8.426                           \n",
      "train_time      | 0.1122                           | 1.2462                           | 107.9908                         | 19114.1096                      \n",
      "\n",
      "\n",
      "\n",
      "Performed 1 experiments with overall size mixed, information level mixed, and prediction level mixed.\n"
     ]
    }
   ],
   "source": [
    "params = {\n",
    "    'meta-params': {\n",
    "        'is_classification': True,\n",
    "        'train_test_split': 0.2,\n",
    "        'random_state': SEED\n",
    "    },\n",
    "    'data-params': [],\n",
    "    'model-params': {}\n",
    "}\n",
    "\n",
    "rf_class = RandomForestClassifier(random_state=params['meta-params']['random_state'], n_estimators=10, max_depth=5)\n",
    "dtrand_class = DecisionTreeClassifier(random_state=params['meta-params']['random_state'])\n",
    "fbt_class = ForestBasedTree(random_state=params['meta-params']['random_state'], verbose=False)\n",
    "paper_class = PrevPaperClassifier()\n",
    "\n",
    "\n",
    "fitclass = FitClass(SEED)\n",
    "\n",
    "model_instances = [rf_class, dtrand_class, fbt_class, paper_class]\n",
    "fit_functions = [fitclass.fit_rf_class, \n",
    "                 fitclass.fit_dtrand_class, \n",
    "                 fitclass.fit_fbt_class,\n",
    "                 fit_paper_fbt]\n",
    "\n",
    "exp2 = Experiment(params)\n",
    "exp2.perform_experiments(num_datasets=1, \n",
    "                        overall_size='mixed', \n",
    "                        information='mixed', \n",
    "                        prediction='mixed', \n",
    "                        model_instances=model_instances, \n",
    "                        fit_functions=fit_functions)\n",
    "\n",
    "results_class_df = exp2.assemble_results_dataframe()\n",
    "\n",
    "results_class_df.to_csv(f'data/results/class_experiment{SEED}.csv')"
   ]
  },
  {
   "cell_type": "code",
   "execution_count": 3,
   "metadata": {},
   "outputs": [
    {
     "name": "stdout",
     "output_type": "stream",
     "text": [
      "|    | model_name             | train_time       | pred_time    | accuracy     |\n",
      "|---:|:-----------------------|:-----------------|:-------------|:-------------|\n",
      "|  0 | DecisionTreeClassifier | 1.2462 ± nan     | 0.0006 ± nan | 0.7427 ± nan |\n",
      "|  1 | ForestBasedTree        | 107.9908 ± nan   | 0.2073 ± nan | 0.4535 ± nan |\n",
      "|  2 | PrevPaperClassifier    | 19114.1096 ± nan | 8.426 ± nan  | 0.5119 ± nan |\n",
      "|  3 | RandomForestClassifier | 0.1122 ± nan     | 0.002 ± nan  | 0.7438 ± nan |\n"
     ]
    }
   ],
   "source": [
    "\n",
    "avg_df = average_class_metrics(results_class_df)\n",
    "print(avg_df.to_markdown())"
   ]
  }
 ],
 "metadata": {
  "kernelspec": {
   "display_name": "venv",
   "language": "python",
   "name": "python3"
  },
  "language_info": {
   "codemirror_mode": {
    "name": "ipython",
    "version": 3
   },
   "file_extension": ".py",
   "mimetype": "text/x-python",
   "name": "python",
   "nbconvert_exporter": "python",
   "pygments_lexer": "ipython3",
   "version": "3.10.12"
  }
 },
 "nbformat": 4,
 "nbformat_minor": 2
}
