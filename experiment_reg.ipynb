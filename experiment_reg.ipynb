{
 "cells": [
  {
   "cell_type": "code",
   "execution_count": 1,
   "metadata": {},
   "outputs": [],
   "source": [
    "from sklearn.ensemble import RandomForestRegressor\n",
    "from sklearn.tree import DecisionTreeRegressor\n",
    "\n",
    "from src.experiments.experiment import *\n",
    "from src.experiments.ExperimentSupervised import *\n",
    "from src.xtrees.ForestBasedTree import *\n",
    "\n",
    "SEED = 1"
   ]
  },
  {
   "cell_type": "code",
   "execution_count": 2,
   "metadata": {},
   "outputs": [
    {
     "name": "stdout",
     "output_type": "stream",
     "text": [
      "Populated data-params with 1 datasets of overall size mixed, information level mixed, and prediction level mixed.\n",
      "\n",
      "Dataset ID: 1\n",
      "n_samples     | n_features    | n_informative | tail_strength | random_state \n",
      "=============================================================================\n",
      "1000          | 50            | 25            | 0.1000        | 1            \n",
      "\n",
      "RandomForestRegressor\n",
      "Running cross-validation with 5 folds...\n",
      "DecisionTreeRegressor\n",
      "Running cross-validation with 5 folds...\n",
      "ForestBasedTree\n",
      "Running cross-validation with 5 folds...\n",
      "Metric          RandomForestRegressor           | DecisionTreeRegressor           | ForestBasedTree                \n",
      "===================================================================================================================\n",
      "experiment_id    | 1                               | 2                               | 3                              \n",
      "mae              | 159.0783                        | 196.4309                        | 192.9844                       \n",
      "mse              | 40180.5514                      | 61639.2726                      | 60098.2458                     \n",
      "pred_time (s)    | 0.0008                          | 0.0002                          | 0.0146                         \n",
      "r2               | 0.4575                          | 0.1717                          | 0.1875                         \n",
      "target_avg       | -5.4517                         | -5.4517                         | -5.4517                        \n",
      "target_mad       | 214.9795                        | 214.9795                        | 214.9795                       \n",
      "target_var       | 74416.9058                      | 74416.9058                      | 74416.9058                     \n",
      "train_time (s)   | 0.1022                          | 0.2286                          | 6.7096                         \n",
      "\n",
      "\n",
      "\n",
      "Performed 1 experiments with overall size mixed, information level mixed, and prediction level mixed.\n"
     ]
    }
   ],
   "source": [
    "params = {\n",
    "    'meta-params': {\n",
    "        'is_classification': False,\n",
    "        'use_cross_validation': True,\n",
    "        'cv_folds': 5,\n",
    "        'random_state': SEED\n",
    "    },\n",
    "    'data-params': [],\n",
    "    'model-params': {}\n",
    "}\n",
    "\n",
    "rf_reg = RandomForestRegressor(random_state=params['meta-params']['random_state'], n_estimators=10, max_depth=5)\n",
    "dtrand_reg = DecisionTreeRegressor(random_state=params['meta-params']['random_state'])\n",
    "fbt_reg = ForestBasedTree(random_state=params['meta-params']['random_state'], verbose=False)\n",
    "\n",
    "fitreg = FitReg(SEED)\n",
    "\n",
    "model_instances = [rf_reg, \n",
    "                   dtrand_reg, \n",
    "                   fbt_reg]\n",
    "fit_functions = [fitreg.fit_rf_reg, \n",
    "                 fitreg.fit_dtrand_reg, \n",
    "                 fitreg.fit_fbt_reg]\n",
    "\n",
    "exp = Experiment(params)\n",
    "exp.perform_experiments(num_datasets=1, \n",
    "                        overall_size='mixed', \n",
    "                        information='mixed', \n",
    "                        prediction='mixed', \n",
    "                        model_instances=model_instances, \n",
    "                        fit_functions=fit_functions)\n",
    "\n",
    "results_reg_df = exp.assemble_results_dataframe()\n",
    "\n",
    "results_reg_df.to_csv(f'data/results/reg_experiment{SEED}.csv')"
   ]
  },
  {
   "cell_type": "code",
   "execution_count": 3,
   "metadata": {},
   "outputs": [
    {
     "name": "stdout",
     "output_type": "stream",
     "text": [
      "|    | model_name            | train_time (s)   | pred_time (s)   | norm_mse     | r2           |\n",
      "|---:|:----------------------|:-----------------|:----------------|:-------------|:-------------|\n",
      "|  0 | DecisionTreeRegressor | 0.2286 ± nan     | 0.0002 ± nan    | 0.8283 ± nan | 0.1717 ± nan |\n",
      "|  1 | ForestBasedTree       | 6.7096 ± nan     | 0.0146 ± nan    | 0.8076 ± nan | 0.1875 ± nan |\n",
      "|  2 | RandomForestRegressor | 0.1022 ± nan     | 0.0008 ± nan    | 0.5399 ± nan | 0.4575 ± nan |\n"
     ]
    }
   ],
   "source": [
    "avg_df = average_reg_metrics(results_reg_df)\n",
    "print(avg_df.to_markdown())"
   ]
  }
 ],
 "metadata": {
  "kernelspec": {
   "display_name": "venv",
   "language": "python",
   "name": "python3"
  },
  "language_info": {
   "codemirror_mode": {
    "name": "ipython",
    "version": 3
   },
   "file_extension": ".py",
   "mimetype": "text/x-python",
   "name": "python",
   "nbconvert_exporter": "python",
   "pygments_lexer": "ipython3",
   "version": "3.10.12"
  }
 },
 "nbformat": 4,
 "nbformat_minor": 2
}
