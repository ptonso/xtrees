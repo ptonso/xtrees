{
 "cells": [
  {
   "cell_type": "code",
   "execution_count": 1,
   "metadata": {},
   "outputs": [],
   "source": [
    "from sklearn.ensemble import RandomForestClassifier\n",
    "from sklearn.tree import DecisionTreeClassifier\n",
    "\n",
    "from src.experiments.experiment import *\n",
    "from src.experiments.ExperimentSupervised import *\n",
    "from src.xtrees.ForestBasedTree import *\n",
    "from src.experiments.exact_paper import PrevPaperClassifier, fit_paper_fbt\n",
    "\n",
    "SEED = 5"
   ]
  },
  {
   "cell_type": "code",
   "execution_count": null,
   "metadata": {},
   "outputs": [
    {
     "name": "stdout",
     "output_type": "stream",
     "text": [
      "Populated data-params with 1 datasets of overall size medium, information level mixed, and prediction level mixed.\n",
      "\n",
      "Dataset ID: 1\n",
      "n_samples     | n_features    | n_informative | n_classes     | n_redundant   | n_repeated    | random_state \n",
      "=============================================================================================================\n",
      "1300          | 100           | 10            | 5             | 30            | 10            | 5            \n",
      "\n",
      "RandomForestClassifier\n",
      "Running cross-validation with 3 folds...\n",
      "DecisionTreeClassifier\n",
      "Running cross-validation with 3 folds...\n"
     ]
    },
    {
     "name": "stderr",
     "output_type": "stream",
     "text": [
      "/home/tonso/code/00_active/xtrees_experiment/venv/lib/python3.10/site-packages/numpy/ma/core.py:2846: RuntimeWarning: invalid value encountered in cast\n",
      "  _data = np.array(data, dtype=dtype, copy=copy,\n"
     ]
    },
    {
     "name": "stdout",
     "output_type": "stream",
     "text": [
      "ForestBasedTree\n",
      "Running cross-validation with 3 folds...\n",
      "PrevPaperClassifier\n",
      "Running cross-validation with 3 folds...\n",
      "0.9196079503330863 [10, 19]\n",
      "0.9395867890916267 [10, 19, 88]\n",
      "0.9519958504232249 [10, 19, 88, 77]\n",
      "0.9592797777469613 [10, 19, 88, 77, 1]\n",
      "0.9644899167417822 [10, 19, 88, 77, 1, 87]\n",
      "0.9685263202107857 [10, 19, 88, 77, 1, 87, 60]\n",
      "0.9714733264351508 [10, 19, 88, 77, 1, 87, 60, 62]\n",
      "0.9738162972227704 [10, 19, 88, 77, 1, 87, 60, 62, 53]\n",
      "0.9758930857276961 [10, 19, 88, 77, 1, 87, 60, 62, 53, 94]\n",
      "0.9773315034482023 [10, 19, 88, 77, 1, 87, 60, 62, 53, 94, 18]\n",
      "0.9787504200246414 [10, 19, 88, 77, 1, 87, 60, 62, 53, 94, 18, 25]\n",
      "0.9796534730037496 [10, 19, 88, 77, 1, 87, 60, 62, 53, 94, 18, 25, 14]\n",
      "0.9803381798398838 [10, 19, 88, 77, 1, 87, 60, 62, 53, 94, 18, 25, 14, 23]\n",
      "0.9809948850332553 [10, 19, 88, 77, 1, 87, 60, 62, 53, 94, 18, 25, 14, 23, 44]\n",
      "0.9815199158350623 [10, 19, 88, 77, 1, 87, 60, 62, 53, 94, 18, 25, 14, 23, 44, 24]\n",
      "0.982032612579938 [10, 19, 88, 77, 1, 87, 60, 62, 53, 94, 18, 25, 14, 23, 44, 24, 74]\n",
      "0.9824943063326381 [10, 19, 88, 77, 1, 87, 60, 62, 53, 94, 18, 25, 14, 23, 44, 24, 74, 49]\n",
      "0.9829713343182801 [10, 19, 88, 77, 1, 87, 60, 62, 53, 94, 18, 25, 14, 23, 44, 24, 74, 49, 3]\n",
      "0.9832630180970617 [10, 19, 88, 77, 1, 87, 60, 62, 53, 94, 18, 25, 14, 23, 44, 24, 74, 49, 3, 96]\n",
      "0.9834906981209564 [10, 19, 88, 77, 1, 87, 60, 62, 53, 94, 18, 25, 14, 23, 44, 24, 74, 49, 3, 96, 64]\n",
      "0.9837193782035214 [10, 19, 88, 77, 1, 87, 60, 62, 53, 94, 18, 25, 14, 23, 44, 24, 74, 49, 3, 96, 64, 95]\n",
      "0.9839350575233746 [10, 19, 88, 77, 1, 87, 60, 62, 53, 94, 18, 25, 14, 23, 44, 24, 74, 49, 3, 96, 64, 95, 6]\n",
      "0.9842197408914657 [10, 19, 88, 77, 1, 87, 60, 62, 53, 94, 18, 25, 14, 23, 44, 24, 74, 49, 3, 96, 64, 95, 6, 12]\n",
      "0.984398084687635 [10, 19, 88, 77, 1, 87, 60, 62, 53, 94, 18, 25, 14, 23, 44, 24, 74, 49, 3, 96, 64, 95, 6, 12, 65]\n",
      "0.984489756732395 [10, 19, 88, 77, 1, 87, 60, 62, 53, 94, 18, 25, 14, 23, 44, 24, 74, 49, 3, 96, 64, 95, 6, 12, 65, 48]\n",
      "0.9846174308892788 [10, 19, 88, 77, 1, 87, 60, 62, 53, 94, 18, 25, 14, 23, 44, 24, 74, 49, 3, 96, 64, 95, 6, 12, 65, 48, 59]\n",
      "0.9847054360522484 [10, 19, 88, 77, 1, 87, 60, 62, 53, 94, 18, 25, 14, 23, 44, 24, 74, 49, 3, 96, 64, 95, 6, 12, 65, 48, 59, 79]\n",
      "0.9847637728080045 [10, 19, 88, 77, 1, 87, 60, 62, 53, 94, 18, 25, 14, 23, 44, 24, 74, 49, 3, 96, 64, 95, 6, 12, 65, 48, 59, 79, 9]\n",
      "0.9848497778536341 [10, 19, 88, 77, 1, 87, 60, 62, 53, 94, 18, 25, 14, 23, 44, 24, 74, 49, 3, 96, 64, 95, 6, 12, 65, 48, 59, 79, 9, 20]\n",
      "0.9849154483729713 [10, 19, 88, 77, 1, 87, 60, 62, 53, 94, 18, 25, 14, 23, 44, 24, 74, 49, 3, 96, 64, 95, 6, 12, 65, 48, 59, 79, 9, 20, 82]\n",
      "0.9849624511304664 [10, 19, 88, 77, 1, 87, 60, 62, 53, 94, 18, 25, 14, 23, 44, 24, 74, 49, 3, 96, 64, 95, 6, 12, 65, 48, 59, 79, 9, 20, 82, 47]\n",
      "0.985013787475532 [10, 19, 88, 77, 1, 87, 60, 62, 53, 94, 18, 25, 14, 23, 44, 24, 74, 49, 3, 96, 64, 95, 6, 12, 65, 48, 59, 79, 9, 20, 82, 47, 26]\n",
      "0.9850727909370682 [10, 19, 88, 77, 1, 87, 60, 62, 53, 94, 18, 25, 14, 23, 44, 24, 74, 49, 3, 96, 64, 95, 6, 12, 65, 48, 59, 79, 9, 20, 82, 47, 26, 63]\n",
      "0.9850901252873502 [10, 19, 88, 77, 1, 87, 60, 62, 53, 94, 18, 25, 14, 23, 44, 24, 74, 49, 3, 96, 64, 95, 6, 12, 65, 48, 59, 79, 9, 20, 82, 47, 26, 63, 15]\n"
     ]
    }
   ],
   "source": [
    "params = {\n",
    "    'meta-params': {\n",
    "        'is_classification': True,\n",
    "        'random_state': SEED,\n",
    "        'use_cross_validation': True,\n",
    "        'cv_folds': 3\n",
    "    },\n",
    "    'data-params': [],\n",
    "    'model-params': {}\n",
    "}\n",
    "\n",
    "rf_class = RandomForestClassifier(random_state=params['meta-params']['random_state'], n_estimators=10, max_depth=5)\n",
    "dtrand_class = DecisionTreeClassifier(random_state=params['meta-params']['random_state'])\n",
    "fbt_class = ForestBasedTree(random_state=params['meta-params']['random_state'], verbose=False)\n",
    "paper_class = PrevPaperClassifier()\n",
    "\n",
    "\n",
    "fitclass = FitClass(SEED)\n",
    "\n",
    "model_instances = [rf_class, dtrand_class, fbt_class, paper_class]\n",
    "fit_functions = [fitclass.fit_rf_class, \n",
    "                 fitclass.fit_dtrand_class, \n",
    "                 fitclass.fit_fbt_class,\n",
    "                 fit_paper_fbt]\n",
    "\n",
    "exp2 = Experiment(params)\n",
    "exp2.perform_experiments(num_datasets=1, \n",
    "                        overall_size='medium', \n",
    "                        information='mixed', \n",
    "                        prediction='mixed', \n",
    "                        model_instances=model_instances, \n",
    "                        fit_functions=fit_functions)\n",
    "\n",
    "results_class_df = exp2.assemble_results_dataframe()\n",
    "\n",
    "results_class_df.to_csv(f'data/results/class_experiment{SEED}.csv')"
   ]
  },
  {
   "cell_type": "code",
   "execution_count": 2,
   "metadata": {},
   "outputs": [
    {
     "ename": "NameError",
     "evalue": "name 'results_class_df' is not defined",
     "output_type": "error",
     "traceback": [
      "\u001b[0;31m---------------------------------------------------------------------------\u001b[0m",
      "\u001b[0;31mNameError\u001b[0m                                 Traceback (most recent call last)",
      "Cell \u001b[0;32mIn[2], line 1\u001b[0m\n\u001b[0;32m----> 1\u001b[0m avg_df \u001b[38;5;241m=\u001b[39m average_class_metrics(\u001b[43mresults_class_df\u001b[49m)\n\u001b[1;32m      2\u001b[0m \u001b[38;5;28mprint\u001b[39m(avg_df\u001b[38;5;241m.\u001b[39mto_markdown())\n",
      "\u001b[0;31mNameError\u001b[0m: name 'results_class_df' is not defined"
     ]
    }
   ],
   "source": [
    "\n",
    "avg_df = average_class_metrics(results_class_df)\n",
    "print(avg_df.to_markdown())"
   ]
  },
  {
   "cell_type": "code",
   "execution_count": null,
   "metadata": {},
   "outputs": [],
   "source": []
  }
 ],
 "metadata": {
  "kernelspec": {
   "display_name": "venv",
   "language": "python",
   "name": "python3"
  },
  "language_info": {
   "codemirror_mode": {
    "name": "ipython",
    "version": 3
   },
   "file_extension": ".py",
   "mimetype": "text/x-python",
   "name": "python",
   "nbconvert_exporter": "python",
   "pygments_lexer": "ipython3",
   "version": "3.10.12"
  }
 },
 "nbformat": 4,
 "nbformat_minor": 2
}
